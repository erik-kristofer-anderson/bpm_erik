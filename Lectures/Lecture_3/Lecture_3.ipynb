{
 "cells": [
  {
   "cell_type": "markdown",
   "metadata": {},
   "source": [
    "# Beginner Python and Math for Data Science\n",
    "## Lecture 3\n",
    "### If Statements, Loops, Functions and Code Management "
   ]
  },
  {
   "cell_type": "markdown",
   "metadata": {},
   "source": [
    "__Purpose:__\n",
    "The purpose of this lecture is to expand your knowledge of programming from basic and conceptual to intermediate and practical - you will be an operational programmer at the end of this lecture. We will accomplish this by exploring practical concepts that you will use every day as Data Scientist including if statements, loops and functions. With this new knowledge, comes responsibility and you will have to learn how to manage these programs. To help you with this, in the last part of this lecture we will cover general principles on debugging, error types, and time profiling. \n",
    "\n",
    "__At the end of this lecture you will be able to:__\n",
    "1. Understand if statements and program them in Python \n",
    "2. Understand for and while loops and program them in Python\n",
    "3. Understand functions and program them in Python \n",
    "4. Use debugging techniques to manager your programs in Python \n",
    "5. Understand the different types of errors that you may come across and how to mitigate them \n",
    "6. Appreciate the time complexity of programs and write more efficient (less time-consuming) programs "
   ]
  },
  {
   "cell_type": "markdown",
   "metadata": {},
   "source": [
    "## 3.1 If Statements"
   ]
  },
  {
   "cell_type": "markdown",
   "metadata": {},
   "source": [
    "### 3.1.1 What are If Statements?"
   ]
  },
  {
   "cell_type": "markdown",
   "metadata": {},
   "source": [
    "__Overview:__ \n",
    "- __[If Statements](https://docs.python.org/3/reference/compound_stmts.html#if):__ If statements are a cornerstone of any programming language and allow programmers to replicate decision making in a computer program\n",
    "- If Statements are one type of __[Control Flow](https://en.wikipedia.org/wiki/Control_flow)__ tool in Python \n",
    "\n",
    "__Helpful Points:__ \n",
    "1. If Statements work by evaluating a condition (i.e. `5 > 6`) and then based on whether this condition evaluates as `True` or `False`, performs some action \n",
    "2. The condition that is evaluated must return `True` or `False` (we will see below the various ways that `True` and `False` can be represented in Python)"
   ]
  },
  {
   "cell_type": "markdown",
   "metadata": {},
   "source": [
    "### 3.1.2 General Format of If Statements"
   ]
  },
  {
   "cell_type": "markdown",
   "metadata": {},
   "source": [
    "__Overview:__\n",
    "- The general form of ANY If Statement is the following: `if <condition>`:\n",
    "- If statements in Python do not have parantheses and the statement ends with a colon (this colon is absolutely mandatory for Python's interpreter and you will get an error if it is ommited)\n",
    "- If statements require a 4-space indent within the statement, otherwise it will not get executed (identation indicates the __scope__ of the block of code - which lines are affected by statements)\n",
    "\n",
    "__Helpful Points:__\n",
    "1. If there are more than one if statements, the program will select exactly one statement by evaluating the expressions one by one until one is found to be true\n",
    "2. If you have programmed in other languages before, be careful with the syntax of if statements in Python since they are different than other languages "
   ]
  },
  {
   "cell_type": "markdown",
   "metadata": {},
   "source": [
    "### 3.1.3 Types of If Statements"
   ]
  },
  {
   "cell_type": "markdown",
   "metadata": {},
   "source": [
    "__Overview:__\n",
    "- If Statements can be described as one of the following 4 types:\n",
    "> 1. __Simple If Statement:__ If Statements evaluating one condition and performing one possible action \n",
    "> 2. __If-Else Statement (1 condition):__ If Statements evaluating one condition and performing different actions depending on the result \n",
    "> 3. __If-Else Statement (> 1 condition):__ If Statements evaluating more than one condition and performing different actions depending on the result \n",
    "> 4. __Nested If-Else Statement:__  If Statements evaluating more than one condition in a nested fashion and performing different actions depending on the result\n",
    "\n",
    "__Helpful Points:__\n",
    "1. We will explore each type of If Statement below\n",
    "\n",
    "__Practice:__ Examples of If Statements in Python"
   ]
  },
  {
   "cell_type": "markdown",
   "metadata": {},
   "source": [
    "### 3.1.3.1 Type 1 - Simple If Statement "
   ]
  },
  {
   "cell_type": "markdown",
   "metadata": {},
   "source": [
    "__Overview:__\n",
    "- The general format is described as:<br>\n",
    "\n",
    "`if condition is true`<br>\n",
    ">    `block of code to execute if condition is true`\n",
    "\n",
    "__Helpful Points:__\n",
    "1. It will soon become clear why this simple statement is limiting (Hint: there is no \"otherwise, do this\" clause. If a condition is evaluated as `False`, the program simply ends) \n",
    "2. The control flow is described in the following picture:  \n",
    "\n",
    "![alt text](img11.gif)\n",
    "\n",
    "\n",
    "__Practice:__ Examples of Type 1 - Simple if statement "
   ]
  },
  {
   "cell_type": "markdown",
   "metadata": {},
   "source": [
    "### Example 1.1 (Checking Values of Strings):"
   ]
  },
  {
   "cell_type": "code",
   "execution_count": 1,
   "metadata": {},
   "outputs": [],
   "source": [
    "person = \"Gordon\"\n",
    "if person == \"Roberto\":\n",
    "    print(\"Roberto is the best\")"
   ]
  },
  {
   "cell_type": "markdown",
   "metadata": {},
   "source": [
    "### Example 1.2 (Checking Values of Ints):"
   ]
  },
  {
   "cell_type": "code",
   "execution_count": 2,
   "metadata": {},
   "outputs": [
    {
     "name": "stdout",
     "output_type": "stream",
     "text": [
      "a is even\n"
     ]
    }
   ],
   "source": [
    "a = 2\n",
    "if a % 2 == 0:\n",
    "    print(\"a is even\")"
   ]
  },
  {
   "cell_type": "markdown",
   "metadata": {},
   "source": [
    "### 3.1.3.2 Type 2 - If-Else Statement (1 Condition):"
   ]
  },
  {
   "cell_type": "markdown",
   "metadata": {},
   "source": [
    "__Overview:__\n",
    "- The general format is described as:<br>\n",
    "\n",
    "`if condition is true`<br>\n",
    ">    `block of code to execute if condition is true`<br>\n",
    "\n",
    "`else`:<br>\n",
    ">    `block of code to execute if condition is false`<br>  \n",
    "\n",
    "__Helpful Points:__\n",
    "1. Introducing the `else` condition provides more clarity in the program \n",
    "2. The control flow is described in the following picture:\n",
    "\n",
    "![alt text](img12.png)\n",
    "\n",
    "__Practice:__ Examples of Type 2 - If-else statement (1 condition)  "
   ]
  },
  {
   "cell_type": "markdown",
   "metadata": {},
   "source": [
    "### Example 2.1 (Checking Values of Strings):"
   ]
  },
  {
   "cell_type": "code",
   "execution_count": 3,
   "metadata": {},
   "outputs": [
    {
     "name": "stdout",
     "output_type": "stream",
     "text": [
      "Gordon is the best\n"
     ]
    }
   ],
   "source": [
    "person = \"Gordon\"\n",
    "if person == \"Roberto\":\n",
    "    print(\"Roberto is the best\")\n",
    "else:\n",
    "    print(\"Gordon is the best\")"
   ]
  },
  {
   "cell_type": "markdown",
   "metadata": {},
   "source": [
    "### Example 2.2 (Checking Values of Ints):"
   ]
  },
  {
   "cell_type": "code",
   "execution_count": 4,
   "metadata": {},
   "outputs": [
    {
     "name": "stdout",
     "output_type": "stream",
     "text": [
      "a is odd\n"
     ]
    }
   ],
   "source": [
    "a = 3\n",
    "if a % 2 == 0:\n",
    "    print(\"a is even\")\n",
    "else:\n",
    "    print(\"a is odd\")"
   ]
  },
  {
   "cell_type": "markdown",
   "metadata": {},
   "source": [
    "### 3.1.3.3 Type 3 - If-Else Statement (>1 Condition):"
   ]
  },
  {
   "cell_type": "markdown",
   "metadata": {},
   "source": [
    "__Overview:__\n",
    "- The general format is described as:<br>\n",
    "\n",
    "`if condition_1 is true`<br>\n",
    ">    `block of code to execute if condition_1 is true`<br>\n",
    "\n",
    "`elif condition_2 is true`:<br>\n",
    ">    `block of code to execute if condition_1 is false AND condition_2 is true`<br>\n",
    "\n",
    "`else`:<br>\n",
    ">    `block of code to execute if condition_1 is false AND condition_2 is false`<br>\n",
    "\n",
    "__Helpful Points:__\n",
    "1. Introducing the `elif` condition provides more flexibility in the program \n",
    "2. The control flow is described in the following picture (the example is not as important to understand as the control flow structure):  \n",
    "![alt text](img13.gif)\n",
    "\n",
    "__Practice:__ Examples of Type 3 - If-else statement (>1 condition)  "
   ]
  },
  {
   "cell_type": "markdown",
   "metadata": {},
   "source": [
    "### Example 3.1 (Checking Values of Strings):"
   ]
  },
  {
   "cell_type": "code",
   "execution_count": 5,
   "metadata": {},
   "outputs": [
    {
     "name": "stdout",
     "output_type": "stream",
     "text": [
      "No one is the best\n"
     ]
    }
   ],
   "source": [
    "person = \"Gordon\"\n",
    "day = \"Thursday\"\n",
    "if person == \"Roberto\":\n",
    "    print(\"Roberto is the best\")\n",
    "elif day == \"Wednesday\":\n",
    "    print(\"Gordon is the best\")\n",
    "else:\n",
    "    print(\"No one is the best\")"
   ]
  },
  {
   "cell_type": "markdown",
   "metadata": {},
   "source": [
    "### Example 3.2 (Checking Values of Ints):"
   ]
  },
  {
   "cell_type": "code",
   "execution_count": 6,
   "metadata": {},
   "outputs": [
    {
     "name": "stdout",
     "output_type": "stream",
     "text": [
      "a is less than or equal to 2\n"
     ]
    }
   ],
   "source": [
    "a = 2\n",
    "if a >= 3:\n",
    "    print(\"a is greater than or equal to 3\")\n",
    "elif a > 2:\n",
    "    print(\"a is greater than 2 but not greater than or equal to 3\")\n",
    "else:\n",
    "    print(\"a is less than or equal to 2\")"
   ]
  },
  {
   "cell_type": "markdown",
   "metadata": {},
   "source": [
    "### Problem 1:\n",
    "\n",
    "Write a program to check if a value is positive, zero, or negative. \n",
    "\n",
    "- The program should print the result (i.e. \"Value is positive\")\n",
    "- Check your program works by creating a positive, zero, and negative variable and ensure the program outputs the correct response every time\n",
    "- Use if statements"
   ]
  },
  {
   "cell_type": "code",
   "execution_count": 9,
   "metadata": {},
   "outputs": [
    {
     "name": "stdout",
     "output_type": "stream",
     "text": [
      "Value is zero\n"
     ]
    }
   ],
   "source": [
    "### problem 1\n",
    "\n",
    "a = 0\n",
    "\n",
    "if a > 0:\n",
    "    print('Value is positive')\n",
    "elif a < 0:\n",
    "    print('Value is negative')\n",
    "else:\n",
    "    print('Value is zero')\n",
    "    \n",
    "\n",
    "\n"
   ]
  },
  {
   "cell_type": "markdown",
   "metadata": {},
   "source": [
    "### 3.1.3.4 Type 4 - Nested If-Else Statement:"
   ]
  },
  {
   "cell_type": "markdown",
   "metadata": {},
   "source": [
    "__Overview:__\n",
    "- The general format is described as:<br>\n",
    "\n",
    "`if condition_1 is true`:<br>\n",
    ">    `if condition_2 is true`:<br>\n",
    ">>        `block of code to execute if condition_1 is true AND condition_2 is true`\n",
    "\n",
    ">    `else`:<br>\n",
    ">>        `block of code to execute if condition_1 is true AND condition_2 is false`\n",
    "\n",
    "`else`:<br>\n",
    ">    `if condition_3 is true`:<br>\n",
    ">>        `block of code to execute if condition_1 is false AND condition_3 is true`\n",
    "\n",
    ">    `else`:<br>\n",
    ">>        `block of code to execute if condition_1 is false AND condition_3 is false`\n",
    "\n",
    "__Helpful Points:__\n",
    "1. Be careful when using nested if-else statements as they can often get messy and hard to read\n",
    "2. Always ensure you are using the 4-space indent \n",
    "3. The control flow is described in the following picture (this control flow does not include any additional tests if condition 1 is false, unlike the example above):  \n",
    "![alt text](img14.jpg)\n",
    "\n",
    "__Practice:__ Examples of Type 4 - Nested If-else statements  "
   ]
  },
  {
   "cell_type": "markdown",
   "metadata": {},
   "source": [
    "### Example 4.1 (Checking Values of Strings):"
   ]
  },
  {
   "cell_type": "code",
   "execution_count": 10,
   "metadata": {},
   "outputs": [
    {
     "name": "stdout",
     "output_type": "stream",
     "text": [
      "No one is the best\n"
     ]
    }
   ],
   "source": [
    "person = \"Gordon\"\n",
    "day = \"Sunday\"\n",
    "if person == \"Roberto\":\n",
    "    if day in [\"Monday\", \"Tuesday\", \"Wednesday\", \"Friday\", \"Saturday\"]:\n",
    "        print(\"Roberto is the best\")\n",
    "    elif day == \"Thursday\":\n",
    "        print(\"Only Gordon is the best on Thursday\")\n",
    "    else:\n",
    "        print(\"No one is the best on Sunday\")\n",
    "else:\n",
    "    if day == \"Thursday\":\n",
    "        print(\"Gordon is the best\")\n",
    "    else:\n",
    "        print(\"No one is the best\")"
   ]
  },
  {
   "cell_type": "markdown",
   "metadata": {},
   "source": [
    "### Example 4.2 (Checking Values of Ints):"
   ]
  },
  {
   "cell_type": "code",
   "execution_count": null,
   "metadata": {},
   "outputs": [],
   "source": [
    "a = 2\n",
    "if a >= 3:\n",
    "    if a <= 5:\n",
    "        print(\"a is greater than or equal to 3 and less than or equal to 5\")\n",
    "    else:\n",
    "        print(\"a is greater than 5\")\n",
    "else:\n",
    "    if a >= 1:\n",
    "        print(\"a is greater or equal to 1 and less than 3\")\n",
    "    else:\n",
    "        print(\"a is less than 1\")"
   ]
  },
  {
   "cell_type": "markdown",
   "metadata": {},
   "source": [
    "### Problem 2:\n",
    "\n",
    "Write a program to check if a year is a leap year (see below for the method to determine if a year is a leap year):\n",
    "\n",
    "1. If the year is evenly divisible by 4, go to step 2. Otherwise, go to step 5.\n",
    "2. If the year is evenly divisible by 100, go to step 3. Otherwise, go to step 4.\n",
    "3. If the year is evenly divisible by 400, go to step 4. Otherwise, go to step 5.\n",
    "4. The year is a leap year (it has 366 days).\n",
    "5. The year is not a leap year (it has 365 days).\n",
    "\n",
    "Notes:\n",
    "1. Use nested if-else statements in your answer \n",
    "2. Test your program using the year 2018"
   ]
  },
  {
   "cell_type": "code",
   "execution_count": 13,
   "metadata": {},
   "outputs": [
    {
     "name": "stdout",
     "output_type": "stream",
     "text": [
      "normal year\n"
     ]
    }
   ],
   "source": [
    "### problem 2\n",
    "\n",
    "year = 2100\n",
    "if year % 4 == 0: # step 1, if True go to step 2, Else go to step 5\n",
    "    if year % 100 == 0: # step 2, if true go to step 3, else go to step 4\n",
    "        if year % 400 == 0: # step 3, if true go to step 4, else go to step 5\n",
    "            print('leap year') # step 4, done\n",
    "        else:\n",
    "            print('normal year') # step 5, done\n",
    "    else:\n",
    "        print('leap year') # step 4. done\n",
    "else:\n",
    "    print('normal year') # step 5, done\n",
    "\n",
    "### lol, I thought I got it wrong, but actually I was right\n",
    "### optionally write another version of this which isn't such a mess\n"
   ]
  },
  {
   "cell_type": "markdown",
   "metadata": {},
   "source": [
    "### 3.1.4 Conditional Execution in If Statements"
   ]
  },
  {
   "cell_type": "markdown",
   "metadata": {},
   "source": [
    "### 3.1.4.1 Truth Value Testing"
   ]
  },
  {
   "cell_type": "markdown",
   "metadata": {},
   "source": [
    "__Overview:__\n",
    "- The \"condition\" component of if statements are tested for TRUE (otherwise known as __[Truth Value Testing](https://docs.python.org/3/library/stdtypes.html#truth-value-testing)__)\n",
    "- In Python, there are a number of built-in objects that are considered FALSE (and by virtue of that, the opposite would be TRUE):\n",
    "> 1. Constants defined to be false (`None` and `False`)\n",
    "> 2. Zero of any numeric type (`0`, `0.0`, `0j`, `Decimal(0)`, `Fraction(0, 1)`\n",
    "> 3. Empty sequences and collections (`\"\"`, `()`, `[]`, `{}`, `set()`, `range(0)`\n",
    "\n",
    "__Helpful Points:__\n",
    "1. Use these built-in ojbects to represent FALSE to achieve more efficient and clean programs\n",
    "\n",
    "__Practice:__ Examples of Truth Value Testing in Python "
   ]
  },
  {
   "cell_type": "code",
   "execution_count": 17,
   "metadata": {},
   "outputs": [],
   "source": [
    "### ? what are Decimal and Fraction ?"
   ]
  },
  {
   "cell_type": "markdown",
   "metadata": {},
   "source": [
    "### Example 1 (Constants):"
   ]
  },
  {
   "cell_type": "code",
   "execution_count": 18,
   "metadata": {},
   "outputs": [
    {
     "name": "stdout",
     "output_type": "stream",
     "text": [
      "Gordon has no weaknesses\n"
     ]
    }
   ],
   "source": [
    "gordons_weaknesses = None\n",
    "\n",
    "if (gordons_weaknesses):\n",
    "    print(\"Gordon has weaknesses\")\n",
    "else:\n",
    "    print(\"Gordon has no weaknesses\")"
   ]
  },
  {
   "cell_type": "code",
   "execution_count": 19,
   "metadata": {},
   "outputs": [
    {
     "name": "stdout",
     "output_type": "stream",
     "text": [
      "Gordon has weaknesses\n"
     ]
    }
   ],
   "source": [
    "gordons_weaknesses = \"volleyball\"\n",
    "\n",
    "if (gordons_weaknesses):\n",
    "    print(\"Gordon has weaknesses\")\n",
    "else:\n",
    "    print(\"Gordon has no weaknesses\")"
   ]
  },
  {
   "cell_type": "markdown",
   "metadata": {},
   "source": [
    "### Example 2 (Zero):"
   ]
  },
  {
   "cell_type": "code",
   "execution_count": 20,
   "metadata": {
    "scrolled": true
   },
   "outputs": [
    {
     "name": "stdout",
     "output_type": "stream",
     "text": [
      "Gordon is poor\n"
     ]
    }
   ],
   "source": [
    "gordons_salary = 0.0\n",
    "\n",
    "if (gordons_salary):\n",
    "    print(\"Gordon is rich\")\n",
    "else:\n",
    "    print(\"Gordon is poor\")"
   ]
  },
  {
   "cell_type": "code",
   "execution_count": 21,
   "metadata": {},
   "outputs": [
    {
     "name": "stdout",
     "output_type": "stream",
     "text": [
      "Gordon is rich\n"
     ]
    }
   ],
   "source": [
    "gordons_salary = 0.1\n",
    "\n",
    "if (gordons_salary):\n",
    "    print(\"Gordon is rich\")\n",
    "else:\n",
    "    print(\"Gordon is poor\")"
   ]
  },
  {
   "cell_type": "markdown",
   "metadata": {},
   "source": [
    "### Example 3 (Empty Sequences and Collections)"
   ]
  },
  {
   "cell_type": "code",
   "execution_count": 22,
   "metadata": {},
   "outputs": [
    {
     "name": "stdout",
     "output_type": "stream",
     "text": [
      "Gordon has no friends\n"
     ]
    }
   ],
   "source": [
    "gordons_friends = []\n",
    "\n",
    "if (gordons_friends):\n",
    "    print(\"Gordon has friends!\")\n",
    "else:\n",
    "    print(\"Gordon has no friends\")"
   ]
  },
  {
   "cell_type": "code",
   "execution_count": 23,
   "metadata": {},
   "outputs": [
    {
     "name": "stdout",
     "output_type": "stream",
     "text": [
      "Gordon has friends!\n"
     ]
    }
   ],
   "source": [
    "gordons_friends = [\"Roberto\", \"You?\"]\n",
    "\n",
    "if (gordons_friends):\n",
    "    print(\"Gordon has friends!\")\n",
    "else:\n",
    "    print(\"Gordon has no friends\")"
   ]
  },
  {
   "cell_type": "markdown",
   "metadata": {},
   "source": [
    "### 3.1.4.2 Types of Conditions in If Statements:"
   ]
  },
  {
   "cell_type": "markdown",
   "metadata": {},
   "source": [
    "__Overview:__ \n",
    "- Recall section 1.10 from lecture 1 which discussed boolean logic in Python \n",
    "- Each of the following expressions yield a Boolean Value which allows the if statement to determine if the condition is TRUE or FALSE:\n",
    "> 1. Explicit Boolean Values \n",
    "> 2. Value Comparisons \n",
    "> 3. Membership Test Operations \n",
    "> 4. Identity Comparisons\n",
    "> 5. Boolean Operations\n",
    "\n",
    "__Helpful Points:__\n",
    "1. It is possible to use any of these expressions in the \"condition\" component of the if statement \n",
    "2. Recall that these expressions are not the ONLY expressions to yield a TRUE or FALSE in Python (the built-in objects above are also valid)\n",
    "\n",
    "__Practice:__ Examples of Types of Conditions in If Statements in Python "
   ]
  },
  {
   "cell_type": "markdown",
   "metadata": {},
   "source": [
    "### Example 1 (Explicit Boolean Values):"
   ]
  },
  {
   "cell_type": "code",
   "execution_count": 24,
   "metadata": {},
   "outputs": [
    {
     "name": "stdout",
     "output_type": "stream",
     "text": [
      "gordon is the best\n"
     ]
    }
   ],
   "source": [
    "gordon_best = True\n",
    "if gordon_best:\n",
    "    print(\"gordon is the best\")"
   ]
  },
  {
   "cell_type": "markdown",
   "metadata": {},
   "source": [
    "### Example 2 (Value Comparisons):"
   ]
  },
  {
   "cell_type": "code",
   "execution_count": 25,
   "metadata": {},
   "outputs": [],
   "source": [
    "a = 1\n",
    "b = 2"
   ]
  },
  {
   "cell_type": "code",
   "execution_count": 26,
   "metadata": {},
   "outputs": [
    {
     "name": "stdout",
     "output_type": "stream",
     "text": [
      "a is less than or equal to b\n"
     ]
    }
   ],
   "source": [
    "if (a <= b):\n",
    "    print(\"a is less than or equal to b\")\n",
    "else:\n",
    "    print(\"a is greater than b\")"
   ]
  },
  {
   "cell_type": "code",
   "execution_count": 27,
   "metadata": {},
   "outputs": [
    {
     "name": "stdout",
     "output_type": "stream",
     "text": [
      "a is not equal to b\n"
     ]
    }
   ],
   "source": [
    "if (a == b):\n",
    "    print(\"a is equal to b\")\n",
    "else:\n",
    "    print(\"a is not equal to b\")"
   ]
  },
  {
   "cell_type": "code",
   "execution_count": 28,
   "metadata": {},
   "outputs": [
    {
     "name": "stdout",
     "output_type": "stream",
     "text": [
      "a is not equal to b\n"
     ]
    }
   ],
   "source": [
    "if (a != b):\n",
    "    print(\"a is not equal to b\")\n",
    "else:\n",
    "    print(\"a is equal to be\")"
   ]
  },
  {
   "cell_type": "markdown",
   "metadata": {},
   "source": [
    "### Example 3 (Membership Test Operations):"
   ]
  },
  {
   "cell_type": "markdown",
   "metadata": {},
   "source": [
    "### Using `in`"
   ]
  },
  {
   "cell_type": "code",
   "execution_count": 29,
   "metadata": {},
   "outputs": [],
   "source": [
    "course_name = \"Beginner Python and Math for Data Science\""
   ]
  },
  {
   "cell_type": "code",
   "execution_count": 30,
   "metadata": {},
   "outputs": [
    {
     "name": "stdout",
     "output_type": "stream",
     "text": [
      "Python is in the course name\n"
     ]
    }
   ],
   "source": [
    "if \"Python\" in course_name:\n",
    "    print(\"Python is in the course name\")\n",
    "else:\n",
    "    print(\"Python is not in the course name\")"
   ]
  },
  {
   "cell_type": "markdown",
   "metadata": {},
   "source": [
    "### Using `not in`"
   ]
  },
  {
   "cell_type": "code",
   "execution_count": 31,
   "metadata": {},
   "outputs": [],
   "source": [
    "co_designers = [\"Gordon\", \"Roberto\"]"
   ]
  },
  {
   "cell_type": "code",
   "execution_count": 32,
   "metadata": {},
   "outputs": [
    {
     "name": "stdout",
     "output_type": "stream",
     "text": [
      "Jerod is not a co-designer\n"
     ]
    }
   ],
   "source": [
    "if \"Jerod\" not in co_designers:\n",
    "    print(\"Jerod is not a co-designer\")\n",
    "else:\n",
    "    print(\"Jerod is a co-designer\")"
   ]
  },
  {
   "cell_type": "markdown",
   "metadata": {},
   "source": [
    "### Example 4 (Identity Comparisons):"
   ]
  },
  {
   "cell_type": "markdown",
   "metadata": {},
   "source": [
    "### Using `is`"
   ]
  },
  {
   "cell_type": "code",
   "execution_count": 33,
   "metadata": {},
   "outputs": [],
   "source": [
    "num_1 = 5.0\n",
    "num_2 = 5\n",
    "num_3 = \"5\""
   ]
  },
  {
   "cell_type": "code",
   "execution_count": 34,
   "metadata": {},
   "outputs": [
    {
     "name": "stdout",
     "output_type": "stream",
     "text": [
      "numbers are not the same object\n"
     ]
    }
   ],
   "source": [
    "if num_1 is num_2:\n",
    "    print(\"numbers are the same object\")\n",
    "else:\n",
    "    print(\"numbers are not the same object\")"
   ]
  },
  {
   "cell_type": "markdown",
   "metadata": {},
   "source": [
    "### Using `is not`"
   ]
  },
  {
   "cell_type": "code",
   "execution_count": 35,
   "metadata": {},
   "outputs": [
    {
     "name": "stdout",
     "output_type": "stream",
     "text": [
      "numbers are not the same object\n"
     ]
    }
   ],
   "source": [
    "if num_1 is not num_3:\n",
    "    print(\"numbers are not the same object\")\n",
    "else:\n",
    "    print(\"numbers are the same object\")"
   ]
  },
  {
   "cell_type": "markdown",
   "metadata": {},
   "source": [
    "### Example 5 (Boolean Operations):"
   ]
  },
  {
   "cell_type": "markdown",
   "metadata": {},
   "source": [
    "### Using `or`"
   ]
  },
  {
   "cell_type": "code",
   "execution_count": 36,
   "metadata": {},
   "outputs": [],
   "source": [
    "grade_1 = 90"
   ]
  },
  {
   "cell_type": "code",
   "execution_count": 37,
   "metadata": {},
   "outputs": [
    {
     "name": "stdout",
     "output_type": "stream",
     "text": [
      "Valid grade\n"
     ]
    }
   ],
   "source": [
    "if grade_1 > 100 or grade_1 < 0: # returns True if x or y is True (see section 1.10.5 in lecture 1)\n",
    "    print(\"Error in grade number\")\n",
    "else:\n",
    "    print(\"Valid grade\")"
   ]
  },
  {
   "cell_type": "code",
   "execution_count": 38,
   "metadata": {},
   "outputs": [
    {
     "name": "stdout",
     "output_type": "stream",
     "text": [
      "Valid grade\n"
     ]
    }
   ],
   "source": [
    "# less efficient way of above code \n",
    "if grade_1 > 100:\n",
    "    print(\"Error in grade number\")\n",
    "elif grade_1 < 0:\n",
    "    print(\"Error in grade number\")\n",
    "else:\n",
    "    print(\"Valid grade\")"
   ]
  },
  {
   "cell_type": "markdown",
   "metadata": {},
   "source": [
    "### Using `and`"
   ]
  },
  {
   "cell_type": "code",
   "execution_count": 39,
   "metadata": {},
   "outputs": [],
   "source": [
    "person = \"Gordon\"\n",
    "day = \"Wednesday\""
   ]
  },
  {
   "cell_type": "code",
   "execution_count": 40,
   "metadata": {},
   "outputs": [
    {
     "name": "stdout",
     "output_type": "stream",
     "text": [
      "today is not Gordon's special day\n"
     ]
    }
   ],
   "source": [
    "if person == \"Gordon\" and day == \"Thursday\":\n",
    "    print(\"today is Gordon's special day\")\n",
    "else:\n",
    "    print(\"today is not Gordon's special day\")"
   ]
  },
  {
   "cell_type": "markdown",
   "metadata": {},
   "source": [
    "### Using `not`"
   ]
  },
  {
   "cell_type": "code",
   "execution_count": 41,
   "metadata": {},
   "outputs": [],
   "source": [
    "x = True\n",
    "y = False"
   ]
  },
  {
   "cell_type": "code",
   "execution_count": 42,
   "metadata": {},
   "outputs": [
    {
     "name": "stdout",
     "output_type": "stream",
     "text": [
      "True\n"
     ]
    }
   ],
   "source": [
    "if (x or y and not y):\n",
    "    print(True)\n",
    "else:\n",
    "    print(False)"
   ]
  },
  {
   "cell_type": "markdown",
   "metadata": {},
   "source": [
    "### 3.1.4.3 Conditional Expressions in If Statements:"
   ]
  },
  {
   "cell_type": "markdown",
   "metadata": {},
   "source": [
    "__Overview:__\n",
    "- __[Conditional Expressions](https://docs.python.org/3/reference/expressions.html#conditional-expressions):__ Conditional Expressions are a very useful and efficient way of writing if statements in Python \n",
    "- Conditional Expressions take a regular if statement and transalte it to a one line equivalent \n",
    "- The general syntax is as follows: `(<expression1> if <condition> else <expression2>)` which can be compared to a traditional if statement syntax as follows:"
   ]
  },
  {
   "cell_type": "markdown",
   "metadata": {},
   "source": [
    "`if <condition>:`\n",
    ">    `<expression1>`<br>\n",
    "\n",
    "`else`:<br>\n",
    ">    `<expression2>`"
   ]
  },
  {
   "cell_type": "markdown",
   "metadata": {},
   "source": [
    "__Helpful Points:__\n",
    "1. The conditional expression is evaluated in the following order:\n",
    "> - `<condition>` is evaluated\n",
    "> - if `<condition>` is true, `<expression1>` is evaluated and is the result of the entire expression \n",
    "> - if `<condition>` is false, `<expression2>` is evaluated and is the result of the entire expression\n",
    "2.  See [here](https://www.python.org/dev/peps/pep-0308/) for more detailed information on conditional expressions by Guido van Rossum himself  \n",
    "\n",
    "__Practice:__ Examples of Conditional Expressions in If Statements in Python "
   ]
  },
  {
   "cell_type": "markdown",
   "metadata": {},
   "source": [
    "### Example 1 (Standard If Statement):"
   ]
  },
  {
   "cell_type": "code",
   "execution_count": 14,
   "metadata": {},
   "outputs": [
    {
     "name": "stdout",
     "output_type": "stream",
     "text": [
      "Roberto\n"
     ]
    }
   ],
   "source": [
    "gordon_age = 40\n",
    "roberto_age =20\n",
    "\n",
    "if gordon_age > roberto_age:\n",
    "    youngest = \"Roberto\"\n",
    "else:\n",
    "    youngest = \"Gordon\"\n",
    "\n",
    "print(youngest)"
   ]
  },
  {
   "cell_type": "markdown",
   "metadata": {},
   "source": [
    "### Example 2 (Conditional Expression Equivalent):"
   ]
  },
  {
   "cell_type": "code",
   "execution_count": 46,
   "metadata": {},
   "outputs": [
    {
     "name": "stdout",
     "output_type": "stream",
     "text": [
      "Gordon\n"
     ]
    }
   ],
   "source": [
    "# conditional expression give us one-line equivalents\n",
    "youngest = \"Roberto\" if gordon_age > roberto_age else \"Gordon\"\n",
    "print(youngest)"
   ]
  },
  {
   "cell_type": "markdown",
   "metadata": {},
   "source": [
    "### Problem 3:\n",
    "\n",
    "Create the variable `is_today_weekday` that contains the string `\"today is a weekday\"` if today is a weekday or `\"today is not a weekday\"` if it is not:\n",
    "\n",
    "1. create a variable called `weekdays` which is a list containing the weekdays.\n",
    "2. define a variable called `today` with today's weekday\n",
    "3. define the variable `is_today_weekday` using membership test opperations\n",
    "\n",
    "Notes:\n",
    "1. Use condition expressions\n",
    "2. Print your answer"
   ]
  },
  {
   "cell_type": "code",
   "execution_count": 52,
   "metadata": {},
   "outputs": [
    {
     "name": "stdout",
     "output_type": "stream",
     "text": [
      "today is a weekday\n"
     ]
    }
   ],
   "source": [
    "### problem 3\n",
    "today = 'Tuesday'\n",
    "weekdays = ['Monday', 'Tuesday', 'Wednesday', 'Thursday', 'Friday']\n",
    "is_today_weekday = 'today is a weekday' if today in weekdays else 'today is not a weekday'\n",
    "print(is_today_weekday)\n",
    "\n"
   ]
  },
  {
   "cell_type": "markdown",
   "metadata": {},
   "source": [
    "### 3.1.4.4 Switch Statements in Python: "
   ]
  },
  {
   "cell_type": "markdown",
   "metadata": {},
   "source": [
    "__Overview:__\n",
    "- __[Switch Statements](https://en.wikipedia.org/wiki/Switch_statement):__ Switch Statements appear in most programming languages and provide users the ability to perform multiple selections with __case__ statements (i.e. if we are in \"case 1\", then do this. If we are in \"case 2\", then do this. If we are in \"case 3\", then do this, etc.)\n",
    "- Typical Switch Statements operate similar to if statements\n",
    "- However, Switch Statements do not exist in Python in their traditional form\n",
    "\n",
    "__Helpful Points:__\n",
    "1. It is common to use dictionaries as a mechanism to perform \"switch-like\" statements\n",
    "\n",
    "__Practice:__ Examples of using dictionaries to perform switch statements "
   ]
  },
  {
   "cell_type": "markdown",
   "metadata": {},
   "source": [
    "### Example 1 (Switch Statement using If Statement in Python)"
   ]
  },
  {
   "cell_type": "code",
   "execution_count": 54,
   "metadata": {},
   "outputs": [],
   "source": [
    "employee = \"Gordon\""
   ]
  },
  {
   "cell_type": "code",
   "execution_count": 55,
   "metadata": {},
   "outputs": [
    {
     "name": "stdout",
     "output_type": "stream",
     "text": [
      "Gordon works in Chicago\n"
     ]
    }
   ],
   "source": [
    "# each condition is like the \"case\" part of a switch statement \n",
    "if employee == \"Gordon\":\n",
    "    city = \"Gordon works in Chicago\"\n",
    "elif employee == \"Roberto\":\n",
    "    city = \"Roberto works in Seattle\"\n",
    "elif employee == \"Paul\":\n",
    "    city = \"Paul works in New York\"\n",
    "else:\n",
    "    print(\"Unknown employee\")\n",
    "\n",
    "print(city)"
   ]
  },
  {
   "cell_type": "markdown",
   "metadata": {},
   "source": [
    "### Example 2 (Switch Statement using Dictionaries in Python)"
   ]
  },
  {
   "cell_type": "code",
   "execution_count": 15,
   "metadata": {},
   "outputs": [
    {
     "name": "stdout",
     "output_type": "stream",
     "text": [
      "{'Gordon': 'Chicago', 'Roberto': 'Seattle', 'Paul': 'New York'}\n"
     ]
    }
   ],
   "source": [
    "# each key is like the \"case\" part of the switch statement\n",
    "employee_city = {\"Gordon\":\"Chicago\", \"Roberto\":\"Seattle\", \"Paul\":\"New York\"}\n",
    "print(employee_city)"
   ]
  },
  {
   "cell_type": "code",
   "execution_count": 16,
   "metadata": {},
   "outputs": [
    {
     "name": "stdout",
     "output_type": "stream",
     "text": [
      "Gordon works in Chicago\n"
     ]
    }
   ],
   "source": [
    "employee = \"Gordon\"\n",
    "print(\"{0} works in {1}\".format(employee, employee_city[employee]))"
   ]
  },
  {
   "cell_type": "code",
   "execution_count": 17,
   "metadata": {},
   "outputs": [
    {
     "name": "stdout",
     "output_type": "stream",
     "text": [
      "Roberto works in Seattle\n"
     ]
    }
   ],
   "source": [
    "employee = \"Roberto\"\n",
    "print(\"{0} works in {1}\".format(employee, employee_city[employee]))"
   ]
  },
  {
   "cell_type": "markdown",
   "metadata": {},
   "source": [
    "## 3.2 Loops "
   ]
  },
  {
   "cell_type": "code",
   "execution_count": null,
   "metadata": {},
   "outputs": [],
   "source": [
    "### #loops"
   ]
  },
  {
   "cell_type": "markdown",
   "metadata": {},
   "source": [
    "### 3.2.1 What are Loops?"
   ]
  },
  {
   "cell_type": "markdown",
   "metadata": {},
   "source": [
    "__Overview:__\n",
    "- __Loops__: Loops are another cornerstone of programming and allow programmers to repeat steps multiple times until some condition is met or the condition has reached the pre-specified number of iterations \n",
    "- The condition in a loop is important as it determines how long the loop will run for \n",
    "- After each __[iteration](https://en.wikipedia.org/wiki/Iteration)__, the loop checks the condition. If the condition tells the loop to continue, another iteration will commence. If the condition tells the loop to stop, the loop will end. \n",
    "- For example, if you wanted to print \"Hello World\" 10 times, you can easily write 10 statements that look like this: `print(\"Hello World\")`, but this would not be the most efficient way of performing this task\n",
    "- Instead, you can leverage a loop to repeat the statement `print(\"Hello World\")` by enclosing the statemenet in a loop and telling the loop to repeat this task 10 times \n",
    "\n",
    "__Helpful Points:__\n",
    "1. Any time you find yourself having to repeat a step more than once, you should consider using a loop\n",
    "2. Common uses of loops are cycling through the rows and columns of tables, summing numbers, counting items, etc. \n",
    "3. Recall the fourth sequence type shown in Lecture 2 (the range type) which is represented as `range()`\n",
    "\n",
    "__Practice:__ Examples of where loops are necessary in Python "
   ]
  },
  {
   "cell_type": "markdown",
   "metadata": {},
   "source": [
    "### Example 1 (Printing Statements):"
   ]
  },
  {
   "cell_type": "code",
   "execution_count": 61,
   "metadata": {
    "scrolled": true
   },
   "outputs": [
    {
     "name": "stdout",
     "output_type": "stream",
     "text": [
      "Hello World\n",
      "Hello World\n",
      "Hello World\n",
      "Hello World\n",
      "Hello World\n",
      "Hello World\n",
      "Hello World\n",
      "Hello World\n",
      "Hello World\n",
      "Hello World\n"
     ]
    }
   ],
   "source": [
    "# print \"Hello World\" 10 times without using a loop\n",
    "print(\"Hello World\")\n",
    "print(\"Hello World\")\n",
    "print(\"Hello World\")\n",
    "print(\"Hello World\")\n",
    "print(\"Hello World\")\n",
    "print(\"Hello World\")\n",
    "print(\"Hello World\")\n",
    "print(\"Hello World\")\n",
    "print(\"Hello World\")\n",
    "print(\"Hello World\")"
   ]
  },
  {
   "cell_type": "code",
   "execution_count": 62,
   "metadata": {},
   "outputs": [
    {
     "name": "stdout",
     "output_type": "stream",
     "text": [
      "Hello World\n",
      "Hello World\n",
      "Hello World\n",
      "Hello World\n",
      "Hello World\n",
      "Hello World\n",
      "Hello World\n",
      "Hello World\n",
      "Hello World\n",
      "Hello World\n"
     ]
    }
   ],
   "source": [
    "# print \"Hello World\" 10 times with using a loop\n",
    "for i in range(10):\n",
    "    print(\"Hello World\")"
   ]
  },
  {
   "cell_type": "markdown",
   "metadata": {},
   "source": [
    "### Example 2 (Summing Numbers):"
   ]
  },
  {
   "cell_type": "code",
   "execution_count": 63,
   "metadata": {},
   "outputs": [
    {
     "name": "stdout",
     "output_type": "stream",
     "text": [
      "6\n"
     ]
    }
   ],
   "source": [
    "# sum the numbers in a list without using a loop\n",
    "my_list = [1, 2, 3]\n",
    "sum_list = 0\n",
    "sum_list += my_list[0]\n",
    "sum_list += my_list[1]\n",
    "sum_list += my_list[2]\n",
    "\n",
    "print(sum_list)"
   ]
  },
  {
   "cell_type": "code",
   "execution_count": 64,
   "metadata": {},
   "outputs": [
    {
     "name": "stdout",
     "output_type": "stream",
     "text": [
      "6\n"
     ]
    }
   ],
   "source": [
    "# sum the numbers in a list with using a loop\n",
    "my_list = [1, 2, 3]\n",
    "sum_list = 0\n",
    "for num in my_list:\n",
    "    sum_list += num\n",
    "\n",
    "print(sum_list)"
   ]
  },
  {
   "cell_type": "markdown",
   "metadata": {},
   "source": [
    "Don't worry about the specific syntax in these 2 examples above, instead observe the use cases of loops and understand why they are beneficial and how they simplify programs substantially "
   ]
  },
  {
   "cell_type": "markdown",
   "metadata": {},
   "source": [
    "### 3.2.2 Types of Loops in Python "
   ]
  },
  {
   "cell_type": "markdown",
   "metadata": {},
   "source": [
    "__Overview:__\n",
    "- Depending on the programming language, there may be different tpes of supported loops (i.e. for, while, do while, for each, etc.) \n",
    "- However, in Python, there are 2 main types of loops that are used: the `for` loop and the `while` loop\n",
    "- Similar to If Statements, Python does not require parantheses `(` and `)` to enclose the sequence\n",
    "- However, Python does require a colon (`:`) similar to If Statements as well as 4-space indentation to denote the code block \n",
    "\n",
    "__Helpful Points:__\n",
    "1. `for` loops are typically used to iterate over a sequence of data \n",
    "2. `while` loop are typically used to repeat a task until the condition is evaluated as `False` \n",
    "3. In most cases, `for` and `while` loops can be used interchangeably, although there is usually a \"better\" choice to make"
   ]
  },
  {
   "cell_type": "markdown",
   "metadata": {},
   "source": [
    "### 3.2.3 Iterable Definition in Python "
   ]
  },
  {
   "cell_type": "markdown",
   "metadata": {},
   "source": [
    "__Overview:__\n",
    "- Before we get into `for` loops, we have to explore the concept of an `iterable` to understand what types of objects can be used in loops to iterate over \n",
    "- __[Iterable](https://docs.python.org/3/glossary.html#term-iterable):__ An Iterable is an object capable of returning its members one at a time\n",
    "- Examples of Iterable objects in Python:\n",
    "> 1. All Sequence Types (`list`, `str`, `tuple`, and `range`)\n",
    "> 2. Some Non-Sequence Types (`dict`)"
   ]
  },
  {
   "cell_type": "markdown",
   "metadata": {},
   "source": [
    "__Helpful Points:__\n",
    "1. Iterables are used in any situation where a sequence is needed such as `for` loops but also `zip()` (see below in lecture 3) and `map()` (see lecture 4)\n",
    "2. To be used in a `for` loop, the `iterable` has to be passed into the built-in function `iter()`, which returns an iterator for the object (which allows you to pass over the object once)\n",
    "3. However, the `for` loop will take care of making an `iterator` for you and you can just pass in the `iterable` object without calling the `iter()` function "
   ]
  },
  {
   "cell_type": "markdown",
   "metadata": {},
   "source": [
    "### 3.2.4 Iterator Definition in Python "
   ]
  },
  {
   "cell_type": "markdown",
   "metadata": {},
   "source": [
    "__Overview:__\n",
    "- We are almost ready to look at `for` loops, however there is one last concept to cover so we can understand what is happening \"behind the scenes\" in a `for` loop when we pass an `iterable` object and somehow the object is \"magically\" iterated over\n",
    "- The reason this \"magic\" happens is because of the concept of an __[Iterator](https://docs.python.org/3/tutorial/classes.html#iterators)__ \n",
    "- An Iterator is an object as well that has a very special and important method (or capability) - that is, to execute the \"[next](https://docs.python.org/3/library/stdtypes.html#iterator.__next__)\" function \n",
    "- This \"next\" function accesses elements in a sequence, one at a time and when there are no more elements, the function tells the `for` loop to terminate \n",
    "\n",
    "__Helpful Points:__\n",
    "1. The reason why we don't have to worry about the conversion from an `iterable` object into an `iterator`, is because the `for` loop inner structure performs this conversion for us \n",
    "\n",
    "__Practice:__ Examples of Iterable, Iterator and Next Concepts in Python "
   ]
  },
  {
   "cell_type": "markdown",
   "metadata": {},
   "source": [
    "### Example 1 (Iterable Objects):"
   ]
  },
  {
   "cell_type": "code",
   "execution_count": 18,
   "metadata": {},
   "outputs": [],
   "source": [
    "# this will allow us to check if an object is iterable (don't worry about this for now - we will cover modules later in lecture 3)\n",
    "from collections import Iterable"
   ]
  },
  {
   "cell_type": "code",
   "execution_count": 34,
   "metadata": {},
   "outputs": [
    {
     "name": "stdout",
     "output_type": "stream",
     "text": [
      "True\n"
     ]
    }
   ],
   "source": [
    "# check if list is iterable\n",
    "my_list = [1, 2, 3]\n",
    "print(isinstance(my_list, Iterable))"
   ]
  },
  {
   "cell_type": "code",
   "execution_count": 20,
   "metadata": {},
   "outputs": [
    {
     "name": "stdout",
     "output_type": "stream",
     "text": [
      "True\n"
     ]
    }
   ],
   "source": [
    "# check if string is iterable\n",
    "my_str = \"Gordon\"\n",
    "print(isinstance(my_str, Iterable))"
   ]
  },
  {
   "cell_type": "code",
   "execution_count": 21,
   "metadata": {},
   "outputs": [
    {
     "name": "stdout",
     "output_type": "stream",
     "text": [
      "True\n"
     ]
    }
   ],
   "source": [
    "# check if tuple is iterable\n",
    "my_tuple = (1, 2, 3)\n",
    "print(isinstance(my_tuple, Iterable))"
   ]
  },
  {
   "cell_type": "code",
   "execution_count": 22,
   "metadata": {},
   "outputs": [
    {
     "name": "stdout",
     "output_type": "stream",
     "text": [
      "True\n"
     ]
    }
   ],
   "source": [
    "# check if range is iterable\n",
    "my_range = range(10)\n",
    "print(isinstance(my_range, Iterable))"
   ]
  },
  {
   "cell_type": "code",
   "execution_count": 23,
   "metadata": {},
   "outputs": [
    {
     "name": "stdout",
     "output_type": "stream",
     "text": [
      "True\n"
     ]
    }
   ],
   "source": [
    "# check if dict is iterable\n",
    "my_dict = {\"name\":\"Gordon\", \"title\":\"Co-Designer\"}\n",
    "print(isinstance(my_dict, Iterable))"
   ]
  },
  {
   "cell_type": "code",
   "execution_count": 24,
   "metadata": {},
   "outputs": [
    {
     "name": "stdout",
     "output_type": "stream",
     "text": [
      "True\n"
     ]
    }
   ],
   "source": [
    "# check if set is iterable\n",
    "my_set = {1, 2, 3}\n",
    "print(isinstance(my_set, Iterable))"
   ]
  },
  {
   "cell_type": "markdown",
   "metadata": {},
   "source": [
    "### Example 2 (Iterator Object):"
   ]
  },
  {
   "cell_type": "code",
   "execution_count": 37,
   "metadata": {},
   "outputs": [
    {
     "name": "stdout",
     "output_type": "stream",
     "text": [
      "<str_iterator object at 0x000001E4E9151F28>\n"
     ]
    }
   ],
   "source": [
    "my_str = \"Gordon\"\n",
    "my_str_iter = iter(my_str)\n",
    "print(my_str_iter)"
   ]
  },
  {
   "cell_type": "markdown",
   "metadata": {},
   "source": [
    "### Example 3 (Using Next Method on Iterator Object):"
   ]
  },
  {
   "cell_type": "code",
   "execution_count": 38,
   "metadata": {},
   "outputs": [
    {
     "name": "stdout",
     "output_type": "stream",
     "text": [
      "G\n"
     ]
    }
   ],
   "source": [
    "# access first element\n",
    "print(next(my_str_iter))"
   ]
  },
  {
   "cell_type": "code",
   "execution_count": 39,
   "metadata": {},
   "outputs": [
    {
     "name": "stdout",
     "output_type": "stream",
     "text": [
      "o\n"
     ]
    }
   ],
   "source": [
    "# access second element\n",
    "print(next(my_str_iter))"
   ]
  },
  {
   "cell_type": "code",
   "execution_count": 40,
   "metadata": {},
   "outputs": [
    {
     "name": "stdout",
     "output_type": "stream",
     "text": [
      "r\n"
     ]
    }
   ],
   "source": [
    "# access third element\n",
    "print(next(my_str_iter))"
   ]
  },
  {
   "cell_type": "code",
   "execution_count": 41,
   "metadata": {},
   "outputs": [
    {
     "name": "stdout",
     "output_type": "stream",
     "text": [
      "d\n"
     ]
    }
   ],
   "source": [
    "# access fourth element\n",
    "print(next(my_str_iter))"
   ]
  },
  {
   "cell_type": "code",
   "execution_count": 42,
   "metadata": {},
   "outputs": [
    {
     "name": "stdout",
     "output_type": "stream",
     "text": [
      "o\n"
     ]
    }
   ],
   "source": [
    "# access fifth element\n",
    "print(next(my_str_iter))"
   ]
  },
  {
   "cell_type": "code",
   "execution_count": 43,
   "metadata": {},
   "outputs": [
    {
     "name": "stdout",
     "output_type": "stream",
     "text": [
      "n\n"
     ]
    }
   ],
   "source": [
    "# access last element\n",
    "print(next(my_str_iter))"
   ]
  },
  {
   "cell_type": "code",
   "execution_count": 45,
   "metadata": {},
   "outputs": [
    {
     "ename": "StopIteration",
     "evalue": "",
     "output_type": "error",
     "traceback": [
      "\u001b[1;31m---------------------------------------------------------------------------\u001b[0m",
      "\u001b[1;31mStopIteration\u001b[0m                             Traceback (most recent call last)",
      "\u001b[1;32m<ipython-input-45-111a28010838>\u001b[0m in \u001b[0;36m<module>\u001b[1;34m\u001b[0m\n\u001b[0;32m      1\u001b[0m \u001b[1;31m# end of sequence is reached\u001b[0m\u001b[1;33m\u001b[0m\u001b[1;33m\u001b[0m\u001b[1;33m\u001b[0m\u001b[0m\n\u001b[1;32m----> 2\u001b[1;33m \u001b[0mprint\u001b[0m\u001b[1;33m(\u001b[0m\u001b[0mnext\u001b[0m\u001b[1;33m(\u001b[0m\u001b[0mmy_str_iter\u001b[0m\u001b[1;33m)\u001b[0m\u001b[1;33m)\u001b[0m\u001b[1;33m\u001b[0m\u001b[1;33m\u001b[0m\u001b[0m\n\u001b[0m",
      "\u001b[1;31mStopIteration\u001b[0m: "
     ]
    }
   ],
   "source": [
    "# end of sequence is reached\n",
    "print(next(my_str_iter))"
   ]
  },
  {
   "cell_type": "code",
   "execution_count": null,
   "metadata": {},
   "outputs": [],
   "source": [
    "### as of 2019-08-01 I don't think we're here yet"
   ]
  },
  {
   "cell_type": "markdown",
   "metadata": {},
   "source": [
    "We can see that by making the `str` object into an `iterator` object, we can perform the `next` method on it which accesses the elements (letter) of the string one at a time. "
   ]
  },
  {
   "cell_type": "markdown",
   "metadata": {},
   "source": [
    "### 3.2.4 For Loop in Detail"
   ]
  },
  {
   "cell_type": "markdown",
   "metadata": {},
   "source": [
    "__Overview:__\n",
    "- __[For Loop](https://en.wikipedia.org/wiki/For_loop):__ For loops are the most common type of loop used in Python and is used for repeating a task `n` number of times \n",
    "- The general format of a `for` loop is as follows:\n",
    "\n",
    "`for i in <sequence>:`<br>\n",
    " >    `<statement>` \n",
    " \n",
    "- The `for` loop can be expressed simply as: \"for each element in the sequence, execute this statement. Once the last item of the sequence is reached, exit the loop\"\n",
    "- For loops can also be expressed visually:  \n",
    "![alt text](img15.jpg)"
   ]
  },
  {
   "cell_type": "markdown",
   "metadata": {},
   "source": [
    "- The `i` variable is assigned each element of the sequence, therefore it changes at each iteration\n",
    "- The `i` variables can be called any name you like, however by convention it is used for iterations like this (see [this](https://softwareengineering.stackexchange.com/questions/86904/why-do-most-of-us-use-i-as-a-loop-counter-variable) post for an interesting discussions of the reasons behind using variables like `i` and `j` in loops \n",
    "- The `i` variable DOES NOT need to be assigned outside the loop and it also exists after the loop is complete as whatever the last element of the sequence was (see examples below) \n",
    "- Recall that the `<sequence>` should be an `iterable` object\n",
    "\n",
    "__Helpful Points:__\n",
    "1. The `for` loop will continue iterating until the \"next\" method realizes that all the elements in the object have been accessed\n",
    "2. Therefore, the number of iterations of a `for` loop is known ahead of time and is equal to the number of elements in the sequence (or the output of the `len()` function)\n",
    "3. It is also possible (and common) to have a `for` loop inside another `for` loop - known as a __Nested Loop__\n",
    "\n",
    "__Practice:__ Examples of For Loops in Python "
   ]
  },
  {
   "cell_type": "markdown",
   "metadata": {},
   "source": [
    "### Example 1 (Loops with Strings):"
   ]
  },
  {
   "cell_type": "code",
   "execution_count": null,
   "metadata": {
    "scrolled": true
   },
   "outputs": [],
   "source": [
    "my_str = \"Gordon\"\n",
    "num_letters = 0\n",
    "\n",
    "# for loop to print every letter in the string \n",
    "for letter in my_str:\n",
    "    print(letter)\n",
    "    # increment the counter to track the number of iterations\n",
    "    num_letters += 1\n",
    "    \n",
    "print(\"There are {} letters in {}\".format(num_letters, my_str))"
   ]
  },
  {
   "cell_type": "markdown",
   "metadata": {},
   "source": [
    "Interpretation:\n",
    "- The `for` loop in Example 1 can be interpreted as follows:\n",
    "> 1. Begin at the __0th__ element of the string __(\"G\")__, print this letter\n",
    "> 2. Increment `num_letters` by 1 (now, __`num_letters` = 1__)\n",
    "> 3. Return to the top of the `for` loop to check if all the elements have been accessed, they have not, so continue to the __1st__ element of the string __(\"o\")__, print this ltter\n",
    "> 4. Increment `num_letters` by 1 (now, __`num_letters` = 2__)\n",
    "> 5. Return to the top of the `for` loop to check if all the elements have been accessed, they have not, so continue to the __2nd__ element of the string __(\"r\")__, print this ltter\n",
    "> 6. Increment `num_letters` by 1 (now, __`num_letters` = 3__)\n",
    "> 7. Return to the top of the `for` loop to check if all the elements have been accessed, they have not, so continue to the __3rd__ element of the string __(\"d\")__, print this ltter\n",
    "> 8. Increment `num_letters` by 1 (now, __`num_letters` = 4__)\n",
    "> 9. Return to the top of the `for` loop to check if all the elements have been accessed, they have not, so continue to the __4th__ element of the string __(\"o\")__, print this ltter\n",
    "> 10. Increment `num_letters` by 1 (now, __`num_letters` = 5__)\n",
    "> 11. Return to the top of the `for` loop to check if all the elements have been accessed, they have not, so continue to the __5th__ element of the string __(\"n\")__, print this ltter\n",
    "> 12. Increment `num_letters` by 1 (now, __`num_letters` = 6__)\n",
    "> 13. Return to the top of the `for` loop to check if all the elements have been accessed, they have , so exit the loop"
   ]
  },
  {
   "cell_type": "markdown",
   "metadata": {},
   "source": [
    "Notes:\n",
    "1. Recall that the `letter` variable can be defined with any name \n",
    "2. The `letter` variable is assigned a different value after each iteration (i.e. after the first iteration, it is assigned \"G\", after the second iteration, it is assigned \"o\", etc.) \n",
    "3. The `num_letters` was used as a __counter__ variable to keep track of the number of iterations. After each iteration, it is incremented by 1 "
   ]
  },
  {
   "cell_type": "code",
   "execution_count": null,
   "metadata": {},
   "outputs": [],
   "source": [
    "my_str_1 = \"Gordon and Roberto are co-designers of the BPM course\"\n",
    "\n",
    "# for loop to print every word in a sentence\n",
    "for word in my_str_1.split():\n",
    "    print(word)"
   ]
  },
  {
   "cell_type": "markdown",
   "metadata": {},
   "source": [
    "### Example 2 (Loops with Lists):"
   ]
  },
  {
   "cell_type": "code",
   "execution_count": null,
   "metadata": {},
   "outputs": [],
   "source": [
    "my_list = [1, 54, 2, 500]\n",
    "my_sum = 0\n",
    "\n",
    "# for loop to calculate the sum of all numbers in a list \n",
    "for num in my_list:\n",
    "    my_sum += num\n",
    "    \n",
    "print(my_sum)"
   ]
  },
  {
   "cell_type": "code",
   "execution_count": null,
   "metadata": {},
   "outputs": [],
   "source": [
    "my_list_1 = [2, 4, 5, 6, 8, 9, 10]\n",
    "even_nums = 0\n",
    "odd_nums = 0\n",
    "\n",
    "# for loop to calculate the number of even and odd numbers in a list\n",
    "for num in my_list_1:\n",
    "    if num % 2: # recall the ways that Python interprets False (in this case, if the remainder is 0, this is considered false)\n",
    "        odd_nums += 1\n",
    "    else:\n",
    "        even_nums += 1\n",
    "\n",
    "print(\"The number of even numbers are {} and the number of odd numbers are {}\".format(even_nums, odd_nums))"
   ]
  },
  {
   "cell_type": "markdown",
   "metadata": {},
   "source": [
    "### Example 3 (Loops with Ranges):"
   ]
  },
  {
   "cell_type": "code",
   "execution_count": null,
   "metadata": {},
   "outputs": [],
   "source": [
    "# for loop to print all the even numbers from 0 to 20\n",
    "for i in range(0, 21, 2):\n",
    "    print(i)"
   ]
  },
  {
   "cell_type": "code",
   "execution_count": null,
   "metadata": {},
   "outputs": [],
   "source": [
    "int_sum = 0\n",
    "\n",
    "# for loop to calculate the sum of integers from 1 to 999\n",
    "for i in range(1, 1000):\n",
    "    int_sum += i\n",
    "\n",
    "print(int_sum)"
   ]
  },
  {
   "cell_type": "markdown",
   "metadata": {},
   "source": [
    "### Example 4 (Loops with Dictionaries):\n",
    "\n",
    "- Recall that although dictionaries are unordered (they are not sequences), we can still access their keys, values and items\n",
    "- Therefore, we can easily loop through dictionaries keys, values and items "
   ]
  },
  {
   "cell_type": "code",
   "execution_count": null,
   "metadata": {},
   "outputs": [],
   "source": [
    "my_dict = {\"First_Name\":\"Gordon\", \"Last_Name\":\"Dri\", \"City\":\"Chicago\", \"Country\":\"United States\"}"
   ]
  },
  {
   "cell_type": "markdown",
   "metadata": {},
   "source": [
    "### Example 4.1 (Loops with Dictionary Keys):"
   ]
  },
  {
   "cell_type": "code",
   "execution_count": null,
   "metadata": {},
   "outputs": [],
   "source": [
    "# using the keys method directly \n",
    "for key in my_dict.keys():\n",
    "    print(key)"
   ]
  },
  {
   "cell_type": "code",
   "execution_count": null,
   "metadata": {},
   "outputs": [],
   "source": [
    "# using the keys method indirectly \n",
    "for key in my_dict:\n",
    "    print(key)"
   ]
  },
  {
   "cell_type": "markdown",
   "metadata": {},
   "source": [
    "### Example 4.2 (Loops with Dictionary Values):"
   ]
  },
  {
   "cell_type": "code",
   "execution_count": null,
   "metadata": {},
   "outputs": [],
   "source": [
    "for value in my_dict.values():\n",
    "    print(value)"
   ]
  },
  {
   "cell_type": "markdown",
   "metadata": {},
   "source": [
    "### Example 4.3 (Loops with Dictionary Items):"
   ]
  },
  {
   "cell_type": "code",
   "execution_count": null,
   "metadata": {},
   "outputs": [],
   "source": [
    "for item in my_dict.items():\n",
    "    print(item)"
   ]
  },
  {
   "cell_type": "code",
   "execution_count": null,
   "metadata": {},
   "outputs": [],
   "source": [
    "# We can use unpacking of items into two variables (key, value) to iterate over the items and extract the keys and values at every iteration\n",
    "for key, value in my_dict.items():\n",
    "    print(\"{} : {}\".format(key, value))"
   ]
  },
  {
   "cell_type": "markdown",
   "metadata": {},
   "source": [
    "### Example 5 (Nested For Loop):"
   ]
  },
  {
   "cell_type": "code",
   "execution_count": null,
   "metadata": {},
   "outputs": [],
   "source": [
    "# use a nested for loop to extract every element of a nested list \n",
    "my_nested_list = [[\"a\", \"b\", \"c\"], [1, 2, 3], [\"d\", \"e\", \"f\"]]\n",
    "for interior_list in my_nested_list:\n",
    "    for element in interior_list:\n",
    "        print(element)"
   ]
  },
  {
   "cell_type": "markdown",
   "metadata": {},
   "source": [
    "### Problem 4\n",
    "\n",
    "Write a program to calculate the maximum value of a list: `[3, 36, 154, 2, 145]` \n",
    "\n",
    "- You should used a `for` loop in your answer\n",
    "- You should use an `if` statement in your answer\n",
    "- Do not use any built-in Python functions\n",
    "- Print the maximum value of the list at the end of your program"
   ]
  },
  {
   "cell_type": "code",
   "execution_count": 65,
   "metadata": {},
   "outputs": [
    {
     "name": "stdout",
     "output_type": "stream",
     "text": [
      "154\n"
     ]
    }
   ],
   "source": [
    "### problem 4\n",
    "list = [3, 36, 154, 2, 145]\n",
    "max_value  = 0\n",
    "for value in list:\n",
    "    if value > max_value:\n",
    "        max_value = value\n",
    "\n",
    "print(max_value)\n",
    "\n",
    "\n",
    "\n"
   ]
  },
  {
   "cell_type": "markdown",
   "metadata": {},
   "source": [
    "### 3.2.5 While Loop in Detail "
   ]
  },
  {
   "cell_type": "code",
   "execution_count": null,
   "metadata": {},
   "outputs": [],
   "source": [
    "### #note class day 4 started here ###"
   ]
  },
  {
   "cell_type": "markdown",
   "metadata": {},
   "source": [
    "__Overview:__\n",
    "- __[While Loop](https://en.wikipedia.org/wiki/While_loop):__ While loops are not quite as common as `for` loops but are still helpful for executing a task repeatedly until the condition is evaluated as `False` \n",
    "- The general format of a `while` loop is as follows:\n",
    "\n",
    "`while <condition is True>:`<br>\n",
    " >    `<statement>` \n",
    " \n",
    "- The `while` loop can be expressed simply as: \"while the condition is TRUE, execute the statement. If the condition is evaluated as FALSE, exit the loop\"\n",
    "- Unlike `for` loops, a sequence is not required to iterate over (making `while` loops more general and less restrictive than `for` loops)\n",
    "- In `while` loops, you wish to repeat a task until an exit condition is met \n",
    "- While loops can also be expressed visually: \n",
    "\n",
    "![text](img16.jpg)"
   ]
  },
  {
   "cell_type": "markdown",
   "metadata": {},
   "source": [
    "- Any condition in Python that can be interpreted as Boolean Value can be used in the `<condition>` part of the statement \n",
    "- Recall in section 3.1.4.1 the possible objects that Python interprets as `False` and therefore, the converse being interpreted as `True`\n",
    "\n",
    "__Helpful Points:__\n",
    "1. The `while` loop will continue iterating until the `<condition>` is evaluated as `False` \n",
    "2. Therefore, the number of iterations of a `while` loop is not always known ahead of time, but it is equal to the number of iterations until the exit condition was met \n",
    "3. Be careful of an __[Infinite Loop](https://en.wikipedia.org/wiki/Infinite_loop)__ which is a loop that never reaches its stopping condition (see example 4 below)\n",
    "\n",
    "__Practice:__ Examples of While Loops in Python "
   ]
  },
  {
   "cell_type": "markdown",
   "metadata": {},
   "source": [
    "### Example 1 (Illustrative Example of While Loop in Python)\n",
    "\n",
    "- Suppose you were living in Chicago and getting ready to brace the cold winter. One would say: \"While the internal body temperature is \"low\", add a layer to incresae internal temperature.\"\n",
    "- We can express this scenario in the `while` loop fashion:\n",
    "\n",
    "`while internal temperature is low`:\n",
    ">    `add a layer to increse internal temperature`\n",
    "\n",
    "- We can make this example concrete and numerical and assume that internal temperature should be maintained at 98 degrees F and every layer we add, we increase our body temperature by 1 degree "
   ]
  },
  {
   "cell_type": "code",
   "execution_count": null,
   "metadata": {},
   "outputs": [],
   "source": [
    "### garrett: beware infinite loop"
   ]
  },
  {
   "cell_type": "code",
   "execution_count": 1,
   "metadata": {},
   "outputs": [
    {
     "name": "stdout",
     "output_type": "stream",
     "text": [
      "internal temperature is at 93, so add a layer\n",
      "internal temperature is at 94, so add a layer\n",
      "internal temperature is at 95, so add a layer\n",
      "internal temperature is at 96, so add a layer\n",
      "internal temperature is at 97, so add a layer\n",
      "internal temperature is now at 98 and we added 5 layers\n"
     ]
    }
   ],
   "source": [
    "internal_temperature = 93\n",
    "layers = 0\n",
    "while internal_temperature < 98:\n",
    "    print(\"internal temperature is at {}, so add a layer\".format(internal_temperature))\n",
    "    internal_temperature += 1\n",
    "    layers += 1\n",
    "\n",
    "print(\"internal temperature is now at {} and we added {} layers\".format(internal_temperature, layers))"
   ]
  },
  {
   "cell_type": "markdown",
   "metadata": {},
   "source": [
    "Interpretation:\n",
    "- The `while` loop in Example 1 can be interpreted as follows:\n",
    "> 1. Check if `internal_temperature` is < 98. This is true, so print statement, increment `internal_temperature` (now, `internal_temperature` = __94__, increment layers (now, `layers` = __1__)\n",
    "> 2. Check if `internal_temperature` is < 98. This is true, so print statement, increment `internal_temperature` (now, `internal_temperature` = __95__, increment layers (now, `layers` = __2__)\n",
    "> 3. Check if `internal_temperature` is < 98. This is true, so print statement, increment `internal_temperature` (now, `internal_temperature` = __96__, increment layers (now, `layers` = __3__)\n",
    "> 4. Check if `internal_temperature` is < 98. This is true, so print statement, increment `internal_temperature` (now, `internal_temperature` = __97__, increment layers (now, `layers` = __4__)\n",
    "> 5. Check if `internal_temperature` is < 98. This is true, so print statement, increment `internal_temperature` (now, `internal_temperature` = __98__, increment layers (now, `layers` = __5__)\n",
    "> 6. Check if `internal_temperature` is < 98. This is false, so exit the loop."
   ]
  },
  {
   "cell_type": "markdown",
   "metadata": {},
   "source": [
    "Notes:\n",
    "1. Unlike `for` loops, `while` loops do not increment variables for you\n",
    "2. If you would like to increment a variable, you must do it manually like the example above "
   ]
  },
  {
   "cell_type": "markdown",
   "metadata": {},
   "source": [
    "### Example 2 (While Loop - Known Iterations):"
   ]
  },
  {
   "cell_type": "code",
   "execution_count": 3,
   "metadata": {},
   "outputs": [
    {
     "name": "stdout",
     "output_type": "stream",
     "text": [
      "['G', 'o', 'r', 'd', 'o']\n",
      "['G', 'o', 'r', 'd']\n",
      "['G', 'o', 'r']\n",
      "['G', 'o']\n",
      "['G']\n",
      "[]\n"
     ]
    }
   ],
   "source": [
    "# using an empty list to define the stopping condition\n",
    "my_list = [\"G\", \"o\", \"r\", \"d\", \"o\", \"n\"]\n",
    "while my_list:\n",
    "    list_len = len(my_list)\n",
    "    del my_list[list_len-1:]\n",
    "    print(my_list)"
   ]
  },
  {
   "cell_type": "code",
   "execution_count": null,
   "metadata": {},
   "outputs": [],
   "source": [
    "### this is rare because it's kind of an inefficient way to do a for loop   (does get used, but more advanced)"
   ]
  },
  {
   "cell_type": "code",
   "execution_count": 4,
   "metadata": {},
   "outputs": [
    {
     "name": "stdout",
     "output_type": "stream",
     "text": [
      "9\n",
      "8\n",
      "7\n",
      "6\n",
      "5\n",
      "4\n",
      "3\n",
      "2\n",
      "1\n",
      "0\n"
     ]
    }
   ],
   "source": [
    "# using a zero to define the stopping condition\n",
    "start = 10\n",
    "while start:\n",
    "    start -= 1\n",
    "    print(start)"
   ]
  },
  {
   "cell_type": "markdown",
   "metadata": {},
   "source": [
    "### Example 3 (While Loop - Unknown Iterations):"
   ]
  },
  {
   "cell_type": "code",
   "execution_count": 5,
   "metadata": {},
   "outputs": [],
   "source": [
    "# ignore this for now, we will explore modules below. We are just loading some additional capabilities in that is not built in Python\n",
    "import random"
   ]
  },
  {
   "cell_type": "code",
   "execution_count": 13,
   "metadata": {},
   "outputs": [
    {
     "name": "stdout",
     "output_type": "stream",
     "text": [
      "5\n",
      "9\n",
      "9\n",
      "5\n",
      "7\n",
      "2\n",
      "It took 6 iteration(s) to get a 2\n"
     ]
    }
   ],
   "source": [
    "# keep choosing a number randomly from a range of 0 - 9 until you get a 2\n",
    "num_save = int()\n",
    "num_iter = 0\n",
    "goal = 2\n",
    "\n",
    "while num_save != goal:\n",
    "    num_save = random.sample(range(10), 1)[0] # randomly select a number and save as int \n",
    "    print(num_save)\n",
    "    num_iter += 1\n",
    "\n",
    "print(\"It took {} iteration(s) to get a {}\".format(num_iter, goal))"
   ]
  },
  {
   "cell_type": "markdown",
   "metadata": {},
   "source": [
    "Interpretation:\n",
    "- At each iteration, we check if the number chosen is equal to a 2\n",
    "- If the number randomly chosen is not equal to a 2, print the number and increment the number of iterations\n",
    "- If the number randomly chosen is equal to a 2, exit the loop"
   ]
  },
  {
   "cell_type": "markdown",
   "metadata": {},
   "source": [
    "Notes:\n",
    "1. Try running the cell above multiple times and you will notice you get a different number of iterations every time. Therefore, we don't know ahead of time how many iterations this `while` loop will have "
   ]
  },
  {
   "cell_type": "markdown",
   "metadata": {},
   "source": [
    "### Example 4 (Infinite Loop):"
   ]
  },
  {
   "cell_type": "code",
   "execution_count": null,
   "metadata": {},
   "outputs": [],
   "source": [
    "# if you run this, it will never end \n",
    "#a = 1\n",
    "#while a > 0:\n",
    "#    print(\"a is still greater than 0\")"
   ]
  },
  {
   "cell_type": "markdown",
   "metadata": {},
   "source": [
    "In the above example, the stopping condition (`a > 0`) is never met since `a = 1`. Therefore, the `while` loop will continue iterating forever...\n",
    "\n",
    "- Run this cell above, but stop it after a few seconds by clicking the \"stop\" button which interrupts the Kernel"
   ]
  },
  {
   "cell_type": "markdown",
   "metadata": {},
   "source": [
    "### 3.2.6 Other Concepts in Loops:"
   ]
  },
  {
   "cell_type": "markdown",
   "metadata": {},
   "source": [
    "__Overview:__\n",
    "- The last concept required to program loops in Python are the built-in statements that allow more advanced control of loops (both `for` and `while` loops)\n",
    "- There are 4 \"advanced control statements\" in Python:\n",
    "> 1. __[break](https://docs.python.org/2/reference/simple_stmts.html#break):__ Break statements allow you to \"exit\" the loop before the condition is actually met. The `break` statement will break out of the innermost enclosing `for` or `while` loop, skipping the optional `else` clause (if present)\n",
    "> 2. __[continue](https://docs.python.org/2/reference/simple_stmts.html#continue):__ Continue statements continues to the next iteration of the loop \n",
    "> 3. __[pass](https://docs.python.org/2/reference/simple_stmts.html#pass):__ Pass statements don't do anything, but are used when a statement is used syntactically (required for the program to run), but the program requires no action. Pass statements are also used as placeholders \n",
    "> 4. __[else](https://docs.python.org/2/reference/compound_stmts.html#else):__ Else statements can be used in loops in a slightly similar fashion as they are used in If Statements. A loop's `else` clause runs when no `break` occurs. Therefore, an `else` clause actually resembles more of a `try` and `except` clause which will be discussed later in Lecture 3. \n",
    "\n",
    "__Helpful Points:__\n",
    "1. These statements allow you to have more control over the body of your loops (i.e. stop the loop pre-maturely, skip over an iteration, etc.)\n",
    "2. These statements work in both `for` and `while` loops\n",
    "\n",
    "__Practice:__ Examples of using Advanced Control Statements in Python "
   ]
  },
  {
   "cell_type": "markdown",
   "metadata": {},
   "source": [
    "### Example 1 (Using `break` statements):\n",
    "\n",
    "- See a visual representation of a `break` statement\n",
    "\n",
    "![text](img17.jpg)"
   ]
  },
  {
   "cell_type": "code",
   "execution_count": 16,
   "metadata": {},
   "outputs": [
    {
     "name": "stdout",
     "output_type": "stream",
     "text": [
      "First even number is: 10\n",
      "The first even number occurred at the index 5\n"
     ]
    }
   ],
   "source": [
    "# loop to find the first even number in a list \n",
    "my_list = [1,3,5,7,9,10,11,12]\n",
    "i = 0\n",
    "for num in my_list:\n",
    "    if num % 2 == 0:\n",
    "        print(\"First even number is: {}\".format(num))\n",
    "        break # exits the entire for loop and prints the statement outside the loop\n",
    "    i += 1\n",
    "print(\"The first even number occurred at the index {}\".format(i)) "
   ]
  },
  {
   "cell_type": "markdown",
   "metadata": {},
   "source": [
    "In the above example, the loop terminates as soon as it finds an even number, which happens to be at the 5th index. Therefore, the remaining elements of the list are not reached (i.e. 6th and 7th elements) "
   ]
  },
  {
   "cell_type": "code",
   "execution_count": 28,
   "metadata": {},
   "outputs": [
    {
     "name": "stdout",
     "output_type": "stream",
     "text": [
      "4 is non-prime since it is divisible by 2 (i.e. 4 equals 2 * 2.0)\n",
      "6 is non-prime since it is divisible by 2 (i.e. 6 equals 2 * 3.0)\n",
      "8 is non-prime since it is divisible by 2 (i.e. 8 equals 2 * 4.0)\n",
      "9 is non-prime since it is divisible by 3 (i.e. 9 equals 3 * 3.0)\n"
     ]
    }
   ],
   "source": [
    "# loop to find the non-prime numbers and print their first divisible number \n",
    "for i in range(2, 10):\n",
    "    for x in range(2, i):\n",
    "        if i % x == 0:\n",
    "            print(\"{} is non-prime since it is divisible by {} (i.e. {} equals {} * {})\".format(i, x, i, x, i/x))\n",
    "            break # exits the innermost loop and continues the next iteration of the outermost loop"
   ]
  },
  {
   "cell_type": "markdown",
   "metadata": {},
   "source": [
    "In the above example, the `break` is executed when a number is divisible by another number. However, it only exits the innermost loop and does not exit the outermost loop. Therefore, the outer loop (`for i in range(2,10)`) is still executed for the remaining iterations. "
   ]
  },
  {
   "cell_type": "markdown",
   "metadata": {},
   "source": [
    "### Example 2 (Using `continue` statements):\n",
    "\n",
    "- See a visual representation of a `continue` statement \n",
    "\n",
    "![text](img18.jpg)"
   ]
  },
  {
   "cell_type": "code",
   "execution_count": null,
   "metadata": {},
   "outputs": [],
   "source": [
    "### it seems like it could be called skip ###"
   ]
  },
  {
   "cell_type": "code",
   "execution_count": 19,
   "metadata": {},
   "outputs": [
    {
     "name": "stdout",
     "output_type": "stream",
     "text": [
      "2 was found at iteration 1\n",
      "2 was found at iteration 2\n",
      "2 was not found at iteration 3\n",
      "2 was not found at iteration 4\n",
      "2 was found at iteration 5\n",
      "2 was found at iteration 6\n",
      "2 was found at iteration 7\n",
      "2 was not found at iteration 8\n",
      "2 was not found at iteration 9\n",
      "2 was not found at iteration 10\n",
      "\n",
      "\n",
      "In total, there were 5 2's found\n"
     ]
    }
   ],
   "source": [
    "# loop to count the number of 2's in a list \n",
    "my_list = [2,2,4,4,2,2,2,4,5,5]\n",
    "counter = 0\n",
    "i = 0\n",
    "for num in my_list:\n",
    "    i += 1\n",
    "    if num == 2:\n",
    "        counter += 1\n",
    "        print(\"2 was found at iteration {}\".format(i))\n",
    "        continue # continue to the next iteration\n",
    "    print(\"2 was not found at iteration {}\".format(i))\n",
    "\n",
    "print(\"\\n\")\n",
    "print(\"In total, there were {} 2's found\".format(counter))"
   ]
  },
  {
   "cell_type": "code",
   "execution_count": null,
   "metadata": {},
   "outputs": [],
   "source": [
    "### seems to me it'd be the same to do an if - else situation"
   ]
  },
  {
   "cell_type": "markdown",
   "metadata": {},
   "source": [
    "In the above example, the `continue` statement is executed which forces the program to immediately return to the top of the loop and peform the next iteration without executing any additional statements below it. "
   ]
  },
  {
   "cell_type": "code",
   "execution_count": 20,
   "metadata": {},
   "outputs": [
    {
     "name": "stdout",
     "output_type": "stream",
     "text": [
      "10 is even\n",
      "9\n",
      "8 is even\n",
      "7\n",
      "6 is even\n",
      "5\n",
      "4 is even\n",
      "3\n",
      "2 is even\n",
      "1\n",
      "0 is even\n"
     ]
    }
   ],
   "source": [
    "# loop to decrement and print all numbers, indicating if the number is even or not \n",
    "start = 11\n",
    "while start:\n",
    "    start -= 1\n",
    "    if start % 2 == 0:\n",
    "        print(\"{} is even\".format(start))\n",
    "        continue # continue to the next iteration \n",
    "    print(start)"
   ]
  },
  {
   "cell_type": "markdown",
   "metadata": {},
   "source": [
    "### Example 3 (Using `pass` statements):"
   ]
  },
  {
   "cell_type": "code",
   "execution_count": 21,
   "metadata": {},
   "outputs": [],
   "source": [
    "a = 2\n",
    "while a > 3:\n",
    "    pass # does nothing "
   ]
  },
  {
   "cell_type": "markdown",
   "metadata": {},
   "source": [
    "In the above example, the `pass` statement does nothing, but is syntactically required, otherwise the program can not be interpreted. "
   ]
  },
  {
   "cell_type": "code",
   "execution_count": 22,
   "metadata": {},
   "outputs": [],
   "source": [
    "a = 2\n",
    "while a > 3:\n",
    "    # write code here!\n",
    "    pass # acts as a placeholder"
   ]
  },
  {
   "cell_type": "markdown",
   "metadata": {},
   "source": [
    "In the above example, the `pass` statement does nothing. Instead, it is acting as a placeholder for the programmer to return to the program at a later time and implement some code. "
   ]
  },
  {
   "cell_type": "markdown",
   "metadata": {},
   "source": [
    "### Example 4 (Using `else` statements):"
   ]
  },
  {
   "cell_type": "code",
   "execution_count": null,
   "metadata": {},
   "outputs": [],
   "source": [
    "# loop to find the prime and non-prime numbers \n",
    "for i in range(2, 10):\n",
    "    for x in range(2, i):\n",
    "        if i % x == 0:\n",
    "            print(\"{} is non-prime since it is divisible by {} (i.e. {} equals {} * {})\".format(i, x, i, x, i/x))\n",
    "            break # exits the innermost loop and continues the next iteration of the outermost loop\n",
    "    else:\n",
    "        print(\"{} is a prime number\".format(i))"
   ]
  },
  {
   "cell_type": "markdown",
   "metadata": {},
   "source": [
    "In the above example, the `else` clause of the innermost `for` loop is only executed if the `break` statement is NOT executed in the `if i % x == 0` statement. Since the `break` statement is only NOT executed (and consequently, the else statement IS executed) if the innermost loop completes the sequence without any number from `2` to `i` being divisible by, we know the number `i` has to be a prime number. "
   ]
  },
  {
   "cell_type": "code",
   "execution_count": null,
   "metadata": {},
   "outputs": [],
   "source": [
    "### gararett: this is kind of a weird thing, but we wanted to show it to you\n",
    "# this IS a point to this"
   ]
  },
  {
   "cell_type": "markdown",
   "metadata": {},
   "source": [
    "### Problem 5\n",
    "\n",
    "Write a program to find and print the duplicates in the following list `[1,3,3,4,5,6,6]`. Store the duplicate values in a new list and print this new list. \n",
    "- You may need to use an \"If-Else Statement\" in your answer\n",
    "- You may want to leverage the `set()` type (recall its purpose from Lecture 2)\n",
    "- Ensure your program works properly by changing the list with one that has only unique elements"
   ]
  },
  {
   "cell_type": "code",
   "execution_count": null,
   "metadata": {},
   "outputs": [],
   "source": [
    "### #[did fup] copy this down to understand it and remember it better (I used a different method on first attempt)\n",
    "### wait... copy what down?"
   ]
  },
  {
   "cell_type": "code",
   "execution_count": 2,
   "metadata": {},
   "outputs": [
    {
     "name": "stdout",
     "output_type": "stream",
     "text": [
      "3\n",
      "6\n"
     ]
    }
   ],
   "source": [
    "my_list = [1,3,3,4,5,6,6]\n",
    "my_dict = {}\n",
    "for item in my_list:\n",
    "    if item not in my_dict.keys():\n",
    "        my_dict[item] = 1\n",
    "    else:\n",
    "        my_dict[item] += 1\n",
    "for item in my_dict:\n",
    "    if my_dict[item] > 1:\n",
    "        print(item)\n",
    "\n",
    "\n",
    "### oops didn't read the directions right do it again ###\n",
    "### did fup and do it again"
   ]
  },
  {
   "cell_type": "code",
   "execution_count": null,
   "metadata": {},
   "outputs": [],
   "source": [
    "my_list = [1, 2, 3, 4, 5, 6]\n",
    "new_list = set()\n",
    "\n",
    "for i in my_list"
   ]
  },
  {
   "cell_type": "code",
   "execution_count": 30,
   "metadata": {},
   "outputs": [
    {
     "name": "stdout",
     "output_type": "stream",
     "text": [
      "1 is not a duplicate\n",
      "3 is a duplicate\n",
      "3 is a duplicate\n",
      "4 is not a duplicate\n",
      "5 is not a duplicate\n",
      "6 is a duplicate\n",
      "6 is a duplicate\n",
      "[3, 6]\n"
     ]
    }
   ],
   "source": [
    "### the solution given below in solutions section\n",
    "# test 1 \n",
    "my_list = [1,3,3,4,5,6,6]\n",
    "new_list = set()\n",
    "\n",
    "for i in my_list:\n",
    "    if my_list.count(i) >= 2:\n",
    "        print(\"{} is a duplicate\".format(i))\n",
    "        new_list.add(i)\n",
    "    else:\n",
    "        print(\"{} is not a duplicate\".format(i))\n",
    "\n",
    "print(list(new_list))"
   ]
  },
  {
   "cell_type": "code",
   "execution_count": 29,
   "metadata": {},
   "outputs": [
    {
     "name": "stdout",
     "output_type": "stream",
     "text": [
      "1 is not a duplicate\n",
      "3 is a duplicate\n",
      "3 is a duplicate\n",
      "4 is not a duplicate\n",
      "5 is not a duplicate\n",
      "6 is a duplicate\n",
      "6 is a duplicate\n",
      "[1, 3, 4, 5, 6]\n"
     ]
    }
   ],
   "source": [
    "### copying down that solution to learn it.f\n",
    "\n",
    "my_list = [1,3,3,4,5,6,6]\n",
    "new_list = set(my_list)\n",
    "\n",
    "for i in my_list:\n",
    "    if my_list.count(i) >= 2:\n",
    "        print(\"{} is a duplicate\".format(i))\n",
    "        new_list.add(i)\n",
    "    else:\n",
    "        print(\"{} is not a duplicate\".format(i))\n",
    "        \n",
    "print(list(new_list))"
   ]
  },
  {
   "cell_type": "markdown",
   "metadata": {},
   "source": [
    "### 3.2.7 Advanced Mechanisms for Loops in Python:"
   ]
  },
  {
   "cell_type": "code",
   "execution_count": null,
   "metadata": {},
   "outputs": [],
   "source": [
    "### #fup garret only briefly went over this"
   ]
  },
  {
   "cell_type": "markdown",
   "metadata": {},
   "source": [
    "__Overview:__\n",
    "- You now know everything you need to in order to perform all looping tasks in Python \n",
    "- However, there exists some additional functionality in Python that allows loops to be written in a cleaner and more efficient fashion\n",
    "- Python has 2 additional ways to perform loops:\n",
    "> 1. Using the built-in function `enumerate`\n",
    "> 2. Using the external set of functions `itertools`\n",
    "\n",
    "__Helpful Points:__\n",
    "1. These methods are not required and are advanced, so they are by no means necessary to understand and use on Day 1, so don't worry if you are still just getting used to the basic mechanisms for loops in Python explained above "
   ]
  },
  {
   "cell_type": "markdown",
   "metadata": {},
   "source": [
    "### 3.2.7.1 Using Built-In Functions (`enumerate`)"
   ]
  },
  {
   "cell_type": "markdown",
   "metadata": {},
   "source": [
    "__Overview:__\n",
    "- The __[`enumerate`](https://docs.python.org/3/library/functions.html#enumerate)__ function's main benefit is that it allows you to loop over a sequence and have an automatic counter\n",
    "- Recall all the times in the above examples when we had to manually define counters outside the loop and then increment the counter in the loop. Enumerate function aims to fix this \n",
    "\n",
    "__Helpful Points:__\n",
    "1. The function accepts two parameters: `enumerate(iterable, start=0)`, therfore the first argument is required to be an `iterable` object (see section 3.2.3) and the second argument indicates what the counter should begin at \n",
    "2. The `enumerate` function outputs a `tuple` object which contains 2 elements: 1. the `count` and 2. the value \n",
    "\n",
    "__Practice:__ Examples of using Enumerate function in Python "
   ]
  },
  {
   "cell_type": "markdown",
   "metadata": {},
   "source": [
    "### Example 1 (Perform Similar Action without Enumerate):\n",
    "\n",
    "- Without using `enumerate`, we have choose one of two options: \n",
    "> 1. Iterate based on contents of the sequence -> returns the contents \n",
    "> 2. Iterate based on an integer and index the sequence by the integer to access the contents -> returns the index \n",
    "\n",
    "- BUT, if we wanted to iterate and return BOTH 1 (the contents) and 2 (index), we would need to MANUALLY return both (see example 1.3)"
   ]
  },
  {
   "cell_type": "markdown",
   "metadata": {},
   "source": [
    "### Example 1.1 (Iterate based on Contents):"
   ]
  },
  {
   "cell_type": "code",
   "execution_count": null,
   "metadata": {},
   "outputs": [],
   "source": [
    "our_list = ['Gordon', 'Dri', 'Roberto', 'Reif', 'BPM']\n",
    "for content in our_list:\n",
    "    print(content)"
   ]
  },
  {
   "cell_type": "markdown",
   "metadata": {},
   "source": [
    "This method gives us the contents BUT does not return the index (0, 1, 2, 3, 4)"
   ]
  },
  {
   "cell_type": "markdown",
   "metadata": {},
   "source": [
    "### Example 1.2 (Iterate based on Index):"
   ]
  },
  {
   "cell_type": "code",
   "execution_count": null,
   "metadata": {},
   "outputs": [],
   "source": [
    "our_list = ['Gordon', 'Dri', 'Roberto', 'Reif', 'BPM']\n",
    "for i in range(len(our_list)):\n",
    "    print(i)"
   ]
  },
  {
   "cell_type": "markdown",
   "metadata": {},
   "source": [
    "### Example 1.3 (Return both Contents and Index):"
   ]
  },
  {
   "cell_type": "code",
   "execution_count": null,
   "metadata": {},
   "outputs": [],
   "source": [
    "our_list = ['Gordon', 'Dri', 'Roberto', 'Reif', 'BPM']\n",
    "for i in range(len(our_list)):\n",
    "    print(i, our_list[i])"
   ]
  },
  {
   "cell_type": "markdown",
   "metadata": {},
   "source": [
    "### Example 2 (Perform Action with Enumerate):\n",
    "\n",
    "- By using `enumerate`, we are able to return BOTH the contents and the index "
   ]
  },
  {
   "cell_type": "code",
   "execution_count": 5,
   "metadata": {},
   "outputs": [
    {
     "name": "stdout",
     "output_type": "stream",
     "text": [
      "The counter is 0 and the value is Gordon\n",
      "The counter is 1 and the value is Dri\n",
      "The counter is 2 and the value is Roberto\n",
      "The counter is 3 and the value is Reif\n",
      "The counter is 4 and the value is BPM\n",
      "[(0, 'Gordon'), (1, 'Dri'), (2, 'Roberto'), (3, 'Reif'), (4, 'BPM')]\n"
     ]
    }
   ],
   "source": [
    "our_list = ['Gordon', 'Dri', 'Roberto', 'Reif', 'BPM']\n",
    "for counter, value in enumerate(our_list): # start counter at default value of 0\n",
    "    print(\"The counter is {} and the value is {}\".format(counter, value))\n",
    "    \n",
    "### playing around\n",
    "print(list(enumerate(our_list)))\n",
    "### enumerate(our_list) appears to give us a collection of tuples"
   ]
  },
  {
   "cell_type": "code",
   "execution_count": null,
   "metadata": {},
   "outputs": [],
   "source": [
    "our_list = ['Gordon', 'Dri', 'Roberto', 'Reif', 'BPM']\n",
    "for counter, value in enumerate(our_list, 10): # start counter at value of 10\n",
    "    print(\"The counter is {} and the value is {}\".format(counter, value))"
   ]
  },
  {
   "cell_type": "markdown",
   "metadata": {},
   "source": [
    "### 3.2.7.2 Using External Functions (`itertools` Module) (BONUS)"
   ]
  },
  {
   "cell_type": "code",
   "execution_count": null,
   "metadata": {},
   "outputs": [],
   "source": [
    "### #fup optionally study this later"
   ]
  },
  {
   "cell_type": "markdown",
   "metadata": {},
   "source": [
    "__Overview:__\n",
    "- The [`itertools`](https://docs.python.org/3/library/itertools.html) suite of functions allows us to perform advanced iteration in an efficient manner\n",
    "- The `itertools` suite does not come built-into Python, so we have to \"load\" in the suite of functions using an `import` command (explained later in Lecture 3)\n",
    "- The function implements a number of `iterators` for our use (recall the definition in section 3.2.4\n",
    "- The `iterators` can be broken down into 3 categories:\n",
    "> 1. __Infinite Iterators__ (`count()`, `cycle()`, `repeat()`). Infinite iterators refer to iterators that when you use them, you will need to manually exit them using a `break` statement, otherwise you will end up in an __infinite loop__ \n",
    "> 2. __Finite Iterators__ (`accumulate()`, `groupby()`, `chain()`, `islice()`, etc.) Finite iterators refer to iterators that when you use them, you will not need to manually exit them using a `break` statement. They will terminate on the shortest input sequence\n",
    "> 3. __Combinatoric Iterators__ (`combinations()`, `permutations()`, etc.) \n",
    "\n",
    "__Helpful Points:__\n",
    "1. These tools are intended for advanced iteration so ensure you understand the basic concepts of loops first \n",
    "2. See [this](https://www.blog.pythonlibrary.org/2016/04/20/python-201-an-intro-to-itertools/) helpful post which covers many examples of using `itertools()` functions in practice\n",
    "\n",
    "__Practice:__ Examples of using functions in `itertools()` module in Python "
   ]
  },
  {
   "cell_type": "markdown",
   "metadata": {},
   "source": [
    "### Part 1 (Infinite Iterators):"
   ]
  },
  {
   "cell_type": "markdown",
   "metadata": {},
   "source": [
    "### Example 1.1 (Using [`count()`](https://docs.python.org/3/library/itertools.html#itertools.count)):\n",
    "- `count` iterator will return evenly spaced values starting with the number you pass in as the `start` parameter\n",
    "- Operates very similar to `range()`, but without the `stop` parameter\n",
    "- The general format is `count(start=0, step=1)`"
   ]
  },
  {
   "cell_type": "code",
   "execution_count": null,
   "metadata": {},
   "outputs": [],
   "source": [
    "# since the suite of functions are external, we have to \"load\" them in \n",
    "from itertools import count \n",
    "for i in count(10): # iterator starts at 10 with no end point (infinite iterator)\n",
    "    # manual stopping condition\n",
    "    if i == 20:\n",
    "        break\n",
    "    else:\n",
    "        print(i)"
   ]
  },
  {
   "cell_type": "markdown",
   "metadata": {},
   "source": [
    "### Example 1.2 (Using [`cycle()`](https://docs.python.org/3/library/itertools.html#itertools.cycle)):\n",
    "- `cycle` iterator cycles through a series of values indefinitely\n",
    "- The `cycle` iterator operates on an `iterable`"
   ]
  },
  {
   "cell_type": "code",
   "execution_count": null,
   "metadata": {},
   "outputs": [],
   "source": [
    "# since the suite of functions are external, we have to \"load\" them in \n",
    "from itertools import cycle\n",
    "num_iter = 0\n",
    "for sign in cycle([-1,1]): # iterator will cycle between -1 and 1 \n",
    "    # manual stopping condition \n",
    "    if num_iter > 10:\n",
    "        break\n",
    "    print(2 * sign)\n",
    "    num_iter += 1"
   ]
  },
  {
   "cell_type": "markdown",
   "metadata": {},
   "source": [
    "### Example 1.3 (Using [`repeat()`](https://docs.python.org/3/library/itertools.html#itertools.repeat)):\n",
    "- `repeat` iterator will return an object over and over again unless you specify the number of times to repeat for\n",
    "- The general format is `repeat(object, times)`"
   ]
  },
  {
   "cell_type": "code",
   "execution_count": null,
   "metadata": {},
   "outputs": [],
   "source": [
    "# since the suite of functions are external, we have to \"load\" them in \n",
    "from itertools import repeat\n",
    "num_iter = 0\n",
    "for num in repeat(5):\n",
    "    # manual stopping condition \n",
    "    if num_iter == 5:\n",
    "        break\n",
    "    print(num)\n",
    "    num_iter += 1"
   ]
  },
  {
   "cell_type": "code",
   "execution_count": null,
   "metadata": {},
   "outputs": [],
   "source": [
    "for num in repeat(5,5):\n",
    "    print(num)"
   ]
  },
  {
   "cell_type": "markdown",
   "metadata": {},
   "source": [
    "### Part 2 (Finite Iterators):"
   ]
  },
  {
   "cell_type": "markdown",
   "metadata": {},
   "source": [
    "### Example 2.1 (Using [`accumulate()`](https://docs.python.org/3/library/itertools.html#itertools.accumulate)):\n",
    "- `accumulate` iterator returns accumulated sums or whatever the function that is passed in \n",
    "- Functions that can be used include `min()`, `max()`, `mul()`, `sum()`, etc. "
   ]
  },
  {
   "cell_type": "code",
   "execution_count": null,
   "metadata": {},
   "outputs": [],
   "source": [
    "# since the suite of functions are external, we have to \"load\" them in \n",
    "from itertools import accumulate\n",
    "import operator\n",
    "data = [5,6,1,2,3,0]"
   ]
  },
  {
   "cell_type": "code",
   "execution_count": null,
   "metadata": {},
   "outputs": [],
   "source": [
    "# accumulated sum (5, 5+6=11, 11+1=12, 12+2=14, 14+3=17, 17+0=17)\n",
    "list(accumulate(data))"
   ]
  },
  {
   "cell_type": "code",
   "execution_count": null,
   "metadata": {},
   "outputs": [],
   "source": [
    "# accumulated product (5, 5*6=30, 30*1=30, 30*2=60, 60*3=180, 180*0=0)\n",
    "list(accumulate(data, operator.mul))"
   ]
  },
  {
   "cell_type": "code",
   "execution_count": null,
   "metadata": {},
   "outputs": [],
   "source": [
    "# accumulated max\n",
    "list(accumulate(data, max))"
   ]
  },
  {
   "cell_type": "code",
   "execution_count": null,
   "metadata": {},
   "outputs": [],
   "source": [
    "# accumulated min\n",
    "list(accumulate(data, min))"
   ]
  },
  {
   "cell_type": "markdown",
   "metadata": {},
   "source": [
    "### Example 2.2 (Using [`chain`](https://docs.python.org/3/library/itertools.html#itertools.chain)):\n",
    "- `chain` iterator returns elements from the first iterable until it is exhausted, then proceeds to the next iterable, until all of the iterables are exhausted \n",
    "- `chain` is used to trest consecutive sequences as a single sequence "
   ]
  },
  {
   "cell_type": "code",
   "execution_count": null,
   "metadata": {},
   "outputs": [],
   "source": [
    "# since the suite of functions are external, we have to \"load\" them in \n",
    "from itertools import chain"
   ]
  },
  {
   "cell_type": "code",
   "execution_count": null,
   "metadata": {},
   "outputs": [],
   "source": [
    "list(chain([1,2,3], [\"a\", \"b\", \"c\"]))"
   ]
  },
  {
   "cell_type": "markdown",
   "metadata": {},
   "source": [
    "The `chain` function essentially \"flattened\" the sequence of sequences that was passed in. Fist, it returned elements from the first iterable (a list containing `[1,2,3]`), then proceeded to the next iterable (a list containing `[\"a\", \"b\", \"c\"]`). It then stopped there since all of the iterables were exhausted. "
   ]
  },
  {
   "cell_type": "markdown",
   "metadata": {},
   "source": [
    "### Example 2.3 (Using [`islice`](https://docs.python.org/3/library/itertools.html#itertools.islice)):\n",
    "- `slice` iterator returns selected elements from the iterable that is passed in \n",
    "- The general form is `islice(iterable, start, stop, step)`\n",
    "- Notice, similar to slicing with sequences in Python (see Lecture 2), some of the arguments can be ommitted and Python will infer what to do\n",
    "- Notice, similar to slicing with sequences in Python, `start` is set to default 0 and `step` is set to default 1)\n",
    "- If no `stop` is given, the __next__ method will continue until the end of the sequence "
   ]
  },
  {
   "cell_type": "code",
   "execution_count": null,
   "metadata": {},
   "outputs": [],
   "source": [
    "# since the suite of functions are external, we have to \"load\" them in \n",
    "from itertools import islice\n",
    "my_string = \"Gordon\""
   ]
  },
  {
   "cell_type": "code",
   "execution_count": null,
   "metadata": {},
   "outputs": [],
   "source": [
    "for i in islice(my_string, 3): # start = 0, stop = 3, step = 1\n",
    "    print(i)"
   ]
  },
  {
   "cell_type": "code",
   "execution_count": null,
   "metadata": {},
   "outputs": [],
   "source": [
    "for i in islice(my_string, 0, None, 2): # start = 0, stop = None, step = 2\n",
    "    print(i)"
   ]
  },
  {
   "cell_type": "code",
   "execution_count": null,
   "metadata": {},
   "outputs": [],
   "source": [
    "for i in islice(my_string, 2, 4): # start = 2, stop = 4, step = 1\n",
    "    print(i)"
   ]
  },
  {
   "cell_type": "markdown",
   "metadata": {},
   "source": [
    "### Part 3 (Combinatoric Iterators):"
   ]
  },
  {
   "cell_type": "markdown",
   "metadata": {},
   "source": [
    "### Example 3.1 (Using [`combinations`](https://docs.python.org/3/library/itertools.html#itertools.combinations)):\n",
    "- `combinations` iterator allows you to generate all the possible __[combinations](https://en.wikipedia.org/wiki/Combination)__ of `n` sequences of the iterable that is passed in \n",
    "- The output of the `combinations` iterator is a `tuple`"
   ]
  },
  {
   "cell_type": "code",
   "execution_count": null,
   "metadata": {},
   "outputs": [],
   "source": [
    "# since the suite of functions are external, we have to \"load\" them in \n",
    "from itertools import combinations"
   ]
  },
  {
   "cell_type": "code",
   "execution_count": null,
   "metadata": {},
   "outputs": [],
   "source": [
    "for combo in combinations(\"DRI\", 2):\n",
    "    print(combo)"
   ]
  },
  {
   "cell_type": "markdown",
   "metadata": {},
   "source": [
    "### Example 3.2 (Using [`permutations`](https://docs.python.org/3/library/itertools.html#itertools.permutations)):\n",
    "- `permutations` iterator allows you to generate all the possible __[permutations](https://en.wikipedia.org/wiki/Permutation)__ of `n` sequences of the iterable that is passed in \n",
    "- The output of the `permutation` iterator is a tuple "
   ]
  },
  {
   "cell_type": "code",
   "execution_count": null,
   "metadata": {},
   "outputs": [],
   "source": [
    "# since the suite of functions are external, we have to \"load\" them in \n",
    "from itertools import permutations"
   ]
  },
  {
   "cell_type": "code",
   "execution_count": null,
   "metadata": {},
   "outputs": [],
   "source": [
    "for combo in permutations(\"DRI\", 2):\n",
    "    print(combo)"
   ]
  },
  {
   "cell_type": "markdown",
   "metadata": {},
   "source": [
    "## 3.3 Zipping and Unzipping"
   ]
  },
  {
   "cell_type": "markdown",
   "metadata": {},
   "source": [
    "__Overview:__\n",
    "- __[Zipping](http://python-reference.readthedocs.io/en/latest/docs/functions/zip.html)__: Zipping is a convenient feature in Python that allows you to combine 2 or more sequences, into a single sequence\n",
    "- The new sequence consists of a list of `n-tuples` (where the i-th tuple contains the i-th element from each of the argument sequences) and `n` is the number of sequences which corresponds to the length of the list\n",
    "- For example, 2 objects that are of type `list`, can be \"zipped\" together and the resulting list will be a `tuple` looking like this: `[(element 0 of list 1, element 0 of list 2), (element 1 of list 1, element 1 of list 2), ...]`\n",
    "- __Unzipping:__ Unzipping is the opposite of the __Zipping__ feature and is performed by using the `*` operator \n",
    "\n",
    "__Helpful Points:__\n",
    "1. The term \"zipping\" is most commonly used to __[\"zip\"](https://en.wikipedia.org/wiki/Zip_(file_format)__ files which means to \"compress\" a series of files. In Python, the interpretation is the same (but we are compressing sequences, not files)\n",
    "2. If the sequences that are passed in are not of equal length, the returned list is truncated to the length of the shortest sequence\n",
    "3. When using the `zip()` function directly, the result will not automatically be a `list`, this is something you need to force by using the `list()` function\n",
    "4. Zipping is very useful (and common) for iterating over multiple sequences at once (see Part 3 in examples below)\n",
    "\n",
    "__Practice:__ Examples of Zipping and Unzipping in Python "
   ]
  },
  {
   "cell_type": "code",
   "execution_count": 1,
   "metadata": {},
   "outputs": [],
   "source": [
    "### # garrett if one list is shorter the longer one will be truncataed"
   ]
  },
  {
   "cell_type": "markdown",
   "metadata": {},
   "source": [
    "### Part 1 (Zipping):"
   ]
  },
  {
   "cell_type": "markdown",
   "metadata": {},
   "source": [
    "### Example 1.1 (Zip With No Arguments):"
   ]
  },
  {
   "cell_type": "code",
   "execution_count": 1,
   "metadata": {},
   "outputs": [
    {
     "data": {
      "text/plain": [
       "<zip at 0x225d186a608>"
      ]
     },
     "execution_count": 1,
     "metadata": {},
     "output_type": "execute_result"
    }
   ],
   "source": [
    "zip()"
   ]
  },
  {
   "cell_type": "code",
   "execution_count": 2,
   "metadata": {},
   "outputs": [
    {
     "data": {
      "text/plain": [
       "[]"
      ]
     },
     "execution_count": 2,
     "metadata": {},
     "output_type": "execute_result"
    }
   ],
   "source": [
    "list(zip())"
   ]
  },
  {
   "cell_type": "markdown",
   "metadata": {},
   "source": [
    "With no arguments, the `zip()` function returns an empty list (after converting to a list, of course)"
   ]
  },
  {
   "cell_type": "markdown",
   "metadata": {},
   "source": [
    "### Example 1.2 (Zip with One Argument):"
   ]
  },
  {
   "cell_type": "code",
   "execution_count": 1,
   "metadata": {},
   "outputs": [],
   "source": [
    "my_list = [1,2,3]"
   ]
  },
  {
   "cell_type": "code",
   "execution_count": 2,
   "metadata": {},
   "outputs": [
    {
     "data": {
      "text/plain": [
       "<zip at 0x1a453fdca88>"
      ]
     },
     "execution_count": 2,
     "metadata": {},
     "output_type": "execute_result"
    }
   ],
   "source": [
    "zip(my_list)"
   ]
  },
  {
   "cell_type": "code",
   "execution_count": 3,
   "metadata": {},
   "outputs": [
    {
     "data": {
      "text/plain": [
       "[(1,), (2,), (3,)]"
      ]
     },
     "execution_count": 3,
     "metadata": {},
     "output_type": "execute_result"
    }
   ],
   "source": [
    "list(zip(my_list))"
   ]
  },
  {
   "cell_type": "markdown",
   "metadata": {},
   "source": [
    "With 1 argument, the `zip()` function returns a list of `1-tuples` (after converting to a list, of course)"
   ]
  },
  {
   "cell_type": "markdown",
   "metadata": {},
   "source": [
    "### Example 1.3 (Zip with Multiple Arguments of the Same Length):"
   ]
  },
  {
   "cell_type": "code",
   "execution_count": 4,
   "metadata": {},
   "outputs": [],
   "source": [
    "my_list_1 = [1,2,3]\n",
    "my_list_2 = [4,5,6]"
   ]
  },
  {
   "cell_type": "code",
   "execution_count": 5,
   "metadata": {},
   "outputs": [
    {
     "data": {
      "text/plain": [
       "<zip at 0x1a453fdc2c8>"
      ]
     },
     "execution_count": 5,
     "metadata": {},
     "output_type": "execute_result"
    }
   ],
   "source": [
    "zip(my_list_1, my_list_2)"
   ]
  },
  {
   "cell_type": "code",
   "execution_count": 6,
   "metadata": {},
   "outputs": [
    {
     "data": {
      "text/plain": [
       "[(1, 4), (2, 5), (3, 6)]"
      ]
     },
     "execution_count": 6,
     "metadata": {},
     "output_type": "execute_result"
    }
   ],
   "source": [
    "list(zip(my_list_1, my_list_2))"
   ]
  },
  {
   "cell_type": "markdown",
   "metadata": {},
   "source": [
    "- With 2 arguments, the `zip()` function returns a list of `2-tuples` (after converting to a list, of course)\n",
    "- Notice the `2-tuple` at position `0` contains the 0th element of `my_list_1` and the 0th element of `my_list_2` \n",
    "- Notice the `2-tuple` at position `1` contains the 1st element of `my_list_1` and the 1st element of `my_list_2` \n",
    "- Notice the `2-tuple` at position `2` contains the 2nd element of `my_list_1` and the 2nd element of `my_list_2` "
   ]
  },
  {
   "cell_type": "markdown",
   "metadata": {},
   "source": [
    "### Example 1.4 (Zip with Multiple Argument of Different Lengths):"
   ]
  },
  {
   "cell_type": "code",
   "execution_count": 7,
   "metadata": {},
   "outputs": [],
   "source": [
    "my_list_1 = [1,2,3]\n",
    "my_list_2 = [4,5,6]\n",
    "my_list_3 = [7,8,9,10]"
   ]
  },
  {
   "cell_type": "code",
   "execution_count": 8,
   "metadata": {},
   "outputs": [
    {
     "data": {
      "text/plain": [
       "<zip at 0x1a453fdcfc8>"
      ]
     },
     "execution_count": 8,
     "metadata": {},
     "output_type": "execute_result"
    }
   ],
   "source": [
    "zip(my_list_1, my_list_2, my_list_3)"
   ]
  },
  {
   "cell_type": "code",
   "execution_count": 9,
   "metadata": {},
   "outputs": [
    {
     "data": {
      "text/plain": [
       "[(1, 4, 7), (2, 5, 8), (3, 6, 9)]"
      ]
     },
     "execution_count": 9,
     "metadata": {},
     "output_type": "execute_result"
    }
   ],
   "source": [
    "list(zip(my_list_1, my_list_2, my_list_3))"
   ]
  },
  {
   "cell_type": "code",
   "execution_count": 10,
   "metadata": {},
   "outputs": [
    {
     "data": {
      "text/plain": [
       "3"
      ]
     },
     "execution_count": 10,
     "metadata": {},
     "output_type": "execute_result"
    }
   ],
   "source": [
    "len(list(zip(my_list_1, my_list_2, my_list_3)))"
   ]
  },
  {
   "cell_type": "markdown",
   "metadata": {},
   "source": [
    "- With 3 arguments, the `zip()` function returns a list of `3-tuples` (after converting to a list, of course)\n",
    "- Notice the `3-tuple` at position `0` contains the 0th element of `my_list_1`, 0th element of `my_list_2` and the 0th element of `my_list_3`\n",
    "- Notice the `3-tuple` at position `1` contains the 1st element of `my_list_1`, 1st element of `my_list_2` and the 1st element of `my_list_3` \n",
    "- Notice the `3-tuple` at position `2` contains the 2nd element of `my_list_1`, 2nd element of `my_list_2` and the 2nd element of `my_list_3` \n",
    "- Notice the resulting `list` is of length 3 since that is the length of the shortest sequence that was passed in and the 3rd element of `my_list_3` gets truncated "
   ]
  },
  {
   "cell_type": "markdown",
   "metadata": {},
   "source": [
    "### Part 2 (Unzipping)"
   ]
  },
  {
   "cell_type": "markdown",
   "metadata": {},
   "source": [
    "### Example 2.1 (Unzipping Example 1.2 above):"
   ]
  },
  {
   "cell_type": "code",
   "execution_count": 11,
   "metadata": {},
   "outputs": [
    {
     "name": "stdout",
     "output_type": "stream",
     "text": [
      "[(1,), (2,), (3,)]\n"
     ]
    }
   ],
   "source": [
    "my_list = [1,2,3]\n",
    "my_list_zip = list(zip(my_list))\n",
    "print(my_list_zip)"
   ]
  },
  {
   "cell_type": "code",
   "execution_count": 12,
   "metadata": {},
   "outputs": [
    {
     "name": "stdout",
     "output_type": "stream",
     "text": [
      "[(1, 2, 3)]\n"
     ]
    }
   ],
   "source": [
    "a = list(zip(*my_list_zip)) # this is actually unpacking at work (see lecture 2)\n",
    "### the star (*) means we are unzipping\n",
    "print(a)"
   ]
  },
  {
   "cell_type": "markdown",
   "metadata": {},
   "source": [
    "### Example 2.2 (Unzipping Example 1.3 above):"
   ]
  },
  {
   "cell_type": "code",
   "execution_count": 19,
   "metadata": {},
   "outputs": [
    {
     "name": "stdout",
     "output_type": "stream",
     "text": [
      "[(1, 4), (2, 5), (3, 6)]\n"
     ]
    }
   ],
   "source": [
    "my_list_1 = [1,2,3]\n",
    "my_list_2 = [4,5,6]\n",
    "my_list_zip = list(zip(my_list_1, my_list_2))\n",
    "print(my_list_zip)"
   ]
  },
  {
   "cell_type": "code",
   "execution_count": 23,
   "metadata": {},
   "outputs": [
    {
     "name": "stdout",
     "output_type": "stream",
     "text": [
      "(1, 2, 3)\n",
      "(4, 5, 6)\n",
      "<class 'tuple'>\n",
      "The unzipped tuple is (1, 2, 3) and the original list was [1, 2, 3], therefore the equality with original list is True\n",
      "The unzipped tuple is (4, 5, 6) and the original list was [4, 5, 6], therefore the equality with original list is True\n"
     ]
    }
   ],
   "source": [
    "a, b = list(zip(*my_list_zip))\n",
    "#a, b = zip(*my_list_zip)\n",
    "print(a)\n",
    "print(b)\n",
    "print(type(a))\n",
    "print(\"The unzipped tuple is {} and the original list was {}, therefore the equality with original list is {}\".format(a, my_list_1, my_list_1 == list(a)))\n",
    "print(\"The unzipped tuple is {} and the original list was {}, therefore the equality with original list is {}\".format(b, my_list_2, my_list_2 == list(b)))"
   ]
  },
  {
   "cell_type": "code",
   "execution_count": null,
   "metadata": {},
   "outputs": [],
   "source": [
    "###  why doesn't it return list? [did fup] \n",
    "### it's right there that we are taking list(zip(*my_list_zip)). so why no return list?"
   ]
  },
  {
   "cell_type": "markdown",
   "metadata": {},
   "source": [
    "### Example 2.3 (Unzipping Example 1.4 above):"
   ]
  },
  {
   "cell_type": "code",
   "execution_count": 18,
   "metadata": {},
   "outputs": [
    {
     "name": "stdout",
     "output_type": "stream",
     "text": [
      "[(1, 4, 7), (2, 5, 8), (3, 6, 9)]\n"
     ]
    }
   ],
   "source": [
    "my_list_1 = [1,2,3]\n",
    "my_list_2 = [4,5,6]\n",
    "my_list_3 = [7,8,9,10]\n",
    "my_list_zip = list(zip(my_list_1, my_list_2, my_list_3))\n",
    "print(my_list_zip)"
   ]
  },
  {
   "cell_type": "code",
   "execution_count": 19,
   "metadata": {},
   "outputs": [
    {
     "name": "stdout",
     "output_type": "stream",
     "text": [
      "The unzipped tuple is (1, 2, 3) and the original list was [1, 2, 3], therefore the equality with original list is True\n",
      "The unzipped tuple is (4, 5, 6) and the original list was [4, 5, 6], therefore the equality with original list is True\n",
      "The unzipped tuple is (7, 8, 9) and the original list was [7, 8, 9, 10], therefore the equality with original list is False\n"
     ]
    }
   ],
   "source": [
    "a, b, c = list(zip(*my_list_zip))\n",
    "print(\"The unzipped tuple is {} and the original list was {}, therefore the equality with original list is {}\".format(a, my_list_1, my_list_1 == list(a)))\n",
    "print(\"The unzipped tuple is {} and the original list was {}, therefore the equality with original list is {}\".format(b, my_list_2, my_list_2 == list(b)))\n",
    "print(\"The unzipped tuple is {} and the original list was {}, therefore the equality with original list is {}\".format(c, my_list_3, my_list_3 == list(c)))"
   ]
  },
  {
   "cell_type": "markdown",
   "metadata": {},
   "source": [
    "The last check for the third unzipped tuple is `False` since the list was truncated when zipping due to the inequality of lengths "
   ]
  },
  {
   "cell_type": "markdown",
   "metadata": {},
   "source": [
    "### Part 3 (Zipping in `for` loops):\n",
    "\n",
    "- If we need to iterate over multiple sequences, there is a way (albeit, messy) way to do it using the skills learned up to this point\n",
    "- However, zipping makes this much cleaner and concise "
   ]
  },
  {
   "cell_type": "markdown",
   "metadata": {},
   "source": [
    "### Example 3.1 (Iterating Multiple Sequence - Method 1):"
   ]
  },
  {
   "cell_type": "code",
   "execution_count": 20,
   "metadata": {},
   "outputs": [],
   "source": [
    "city = [\"Chicago\", \"Seattle\", \"New York City\"]\n",
    "state = [\"Illinois\", \"Washington\", \"New York\"]\n",
    "employee = [\"Gordon\", \"Roberto\", \"Paul\"]"
   ]
  },
  {
   "cell_type": "code",
   "execution_count": 21,
   "metadata": {},
   "outputs": [
    {
     "name": "stdout",
     "output_type": "stream",
     "text": [
      "Gordon works in Chicago, Illinois\n",
      "Roberto works in Seattle, Washington\n",
      "Paul works in New York City, New York\n"
     ]
    }
   ],
   "source": [
    "# loop through multiple sequences without zipping\n",
    "for i in range(len(city)):\n",
    "    print(\"{} works in {}, {}\".format(employee[i], city[i], state[i]))"
   ]
  },
  {
   "cell_type": "markdown",
   "metadata": {},
   "source": [
    "### Example 3.2 (Iterating Multiple Sequnces - Method 2):"
   ]
  },
  {
   "cell_type": "code",
   "execution_count": 36,
   "metadata": {},
   "outputs": [],
   "source": [
    "employee = [\"Gordon\", \"Roberto\", \"Paul\"]\n",
    "city = [\"Chicago\", \"Seattle\", \"New York City\"]\n",
    "state = [\"Illinois\", \"Washington\", \"New York\"]"
   ]
  },
  {
   "cell_type": "code",
   "execution_count": 37,
   "metadata": {},
   "outputs": [
    {
     "name": "stdout",
     "output_type": "stream",
     "text": [
      "Gordon works in Chicago, Illinois\n",
      "Roberto works in Seattle, Washington\n",
      "Paul works in New York City, New York\n"
     ]
    }
   ],
   "source": [
    "# loop through multiple sequences with zipping \n",
    "for employee, city, state in zip(employee, city, state):\n",
    "    print(\"{} works in {}, {}\".format(employee, city, state))"
   ]
  },
  {
   "cell_type": "code",
   "execution_count": 25,
   "metadata": {},
   "outputs": [],
   "source": [
    "### #fup ? why does this work / what exactly is happening?"
   ]
  },
  {
   "cell_type": "markdown",
   "metadata": {},
   "source": [
    "Why does this work in the way we want? See below"
   ]
  },
  {
   "cell_type": "code",
   "execution_count": 46,
   "metadata": {},
   "outputs": [],
   "source": [
    "city = [\"Chicago\", \"Seattle\", \"New York City\"]\n",
    "state = [\"Illinois\", \"Washington\", \"New York\"]\n",
    "employee = [\"Gordon\", \"Roberto\", \"Paul\"]"
   ]
  },
  {
   "cell_type": "code",
   "execution_count": 47,
   "metadata": {},
   "outputs": [
    {
     "name": "stdout",
     "output_type": "stream",
     "text": [
      "('Gordon', 'Chicago', 'Illinois')\n",
      "('Roberto', 'Seattle', 'Washington')\n",
      "('Paul', 'New York City', 'New York')\n"
     ]
    }
   ],
   "source": [
    "tuple_1, tuple_2, tuple_3 = zip(employee, city, state)\n",
    "print(tuple_1)\n",
    "print(tuple_2)\n",
    "print(tuple_3)"
   ]
  },
  {
   "cell_type": "code",
   "execution_count": 48,
   "metadata": {},
   "outputs": [
    {
     "name": "stdout",
     "output_type": "stream",
     "text": [
      "('Gordon', 'Roberto', 'Paul')\n",
      "('Chicago', 'Seattle', 'New York City')\n",
      "('Illinois', 'Washington', 'New York')\n"
     ]
    }
   ],
   "source": [
    "# NOTE: run the above lines, without re-initializing the variables city, state and employee \n",
    "employee, city, state = zip(tuple_1, tuple_2, tuple_3)\n",
    "print(employee)\n",
    "print(city)\n",
    "print(state)"
   ]
  },
  {
   "cell_type": "markdown",
   "metadata": {},
   "source": [
    "We see that by zipping twice is basically like unzipping (we get back the original sequences, albeit not in `list` form)"
   ]
  },
  {
   "cell_type": "code",
   "execution_count": null,
   "metadata": {},
   "outputs": [],
   "source": [
    "### This is my example to try and understand this"
   ]
  },
  {
   "cell_type": "code",
   "execution_count": 65,
   "metadata": {},
   "outputs": [
    {
     "name": "stdout",
     "output_type": "stream",
     "text": [
      "[1, 2, 3, 4, 5]\n",
      "[6, 7, 8, 9, 10]\n"
     ]
    }
   ],
   "source": [
    "### try this with two things\n",
    "a = [1, 2, 3, 4, 5]\n",
    "b = [6, 7, 8, 9, 10]\n",
    "print(a)\n",
    "print(b)"
   ]
  },
  {
   "cell_type": "code",
   "execution_count": 66,
   "metadata": {},
   "outputs": [
    {
     "name": "stdout",
     "output_type": "stream",
     "text": [
      "[(1, 6), (2, 7), (3, 8), (4, 9), (5, 10)]\n"
     ]
    }
   ],
   "source": [
    "print(list(zip(a, b)))"
   ]
  },
  {
   "cell_type": "code",
   "execution_count": null,
   "metadata": {},
   "outputs": [],
   "source": [
    "### so we got a list of tuples"
   ]
  },
  {
   "cell_type": "code",
   "execution_count": 62,
   "metadata": {},
   "outputs": [
    {
     "name": "stdout",
     "output_type": "stream",
     "text": [
      "(1, 4)\n",
      "(2, 5)\n",
      "(3, 6)\n"
     ]
    }
   ],
   "source": [
    "### which we unpack into the variables tuple_1, tuple_2, etc...\n",
    "tuple_1, tuple_2, tuple_3, tuple_4, tuple_5 = zip(a, b)\n",
    "print(tuple_1)\n",
    "print(tuple_2)\n",
    "print(tuple_3)"
   ]
  },
  {
   "cell_type": "code",
   "execution_count": 64,
   "metadata": {},
   "outputs": [
    {
     "name": "stdout",
     "output_type": "stream",
     "text": [
      "(1, 2, 3)\n",
      "(4, 5, 6)\n"
     ]
    }
   ],
   "source": [
    "aa, bb = zip(tuple_1, tuple_2, tuple_3)\n",
    "print(aa)\n",
    "print(bb)"
   ]
  },
  {
   "cell_type": "code",
   "execution_count": null,
   "metadata": {},
   "outputs": [],
   "source": [
    "### #fup I'm still not really getting this. Hopefully a look later today will help"
   ]
  },
  {
   "cell_type": "markdown",
   "metadata": {},
   "source": [
    "## 3.4 Functions"
   ]
  },
  {
   "cell_type": "markdown",
   "metadata": {},
   "source": [
    "### 3.4.1 What is a Function? "
   ]
  },
  {
   "cell_type": "markdown",
   "metadata": {},
   "source": [
    "__Overview:__\n",
    "- Functions are the last cornerstone topic in programming that we will cover in this beginner course. After acquiring the knowledge to write your own functions, you will transition from being a \"beginner programmer\" to an \"intermediate programmer\"\n",
    "- Functions in programming resemble that of __[mathematical functions](https://en.wikipedia.org/wiki/Function_(mathematics)__ in that they take some \"input\", do something to that input, and return some \"output\"\n",
    "- Here is a helpful visualization to understand the general principle behind a function:  \n",
    "![image](img19.png)"
   ]
  },
  {
   "cell_type": "markdown",
   "metadata": {},
   "source": [
    "- __Functions__:__ Functions allow you to enclose a block of code within the \"FUNCTION f:\" box above such that you only write this block of code ONCE and it can be used with ANY input (that you allow, of course) and will generate a NEW output every time \n",
    "- Functions are usful for a few reasons:\n",
    "> 1. __Maintainability:__ Functions allow you to write programs ONCE which only requires ONE place to change, update and modify the code in the future\n",
    "> 2. __Reusability:__ Functions allow you to to write programs ONCE and use them in multiple places so you don't have to write additional, unncessary code \n",
    "> 3. __[Abstraction](https://en.wikipedia.org/wiki/Abstraction_(software_engineering):__ Functions \"abstract\" the complicated parts of their inner workings - you don't have to understand how the function ACTUALLY does its job \"on the inside\" if you want to just use a function. Instead, you only need to know the following: \n",
    ">> a) __Function Name:__ the name of the function<br>\n",
    ">> b) __Function Purpose:__ what the function does<br>\n",
    ">> c) __Function Inputs:__ what arguments the function requires<br>\n",
    ">> d) __Function Outputs:__ what result the function returns<br>\n",
    "<br>\n",
    ">> __Do you know how your car engine works? Do you know how your cell phone receives incoming calls? Probably not, but you still use your car and cellphone every day. However, if you want to build a car engine OR new cellphone network, you DO need to know how these work (same with functions)!!!__\n",
    "\n",
    "__Helpful Points:__\n",
    "1. In this beginner course, we will not cover the __[Object-Oriented Programming](https://en.wikipedia.org/wiki/Object-oriented_programming)__ paradigm/style of programming and instead focus on __[Functional Programming](https://en.wikipedia.org/wiki/Functional_programming)__ which is predominantly based on the use of functions to perform computations. Therefore, functions will be increasingly important to your repertoire \n",
    "2. Any time you find yourself using the same block of code more than once, you should consider enclosing this code in a function "
   ]
  },
  {
   "cell_type": "markdown",
   "metadata": {},
   "source": [
    "### 3.4.2 Functions in Python: "
   ]
  },
  {
   "cell_type": "markdown",
   "metadata": {},
   "source": [
    "__Overview:__\n",
    "- Every programming language has a different way of allowing programmers to define and use functions\n",
    "- In Python, the general form of defining a function is the following:\n",
    "\n",
    "`def func_name(input):`  \n",
    ">    `\"\"\"`  \n",
    ">    `this is the docstring`  \n",
    ">    `\"\"\"`  \n",
    ">     \n",
    ">    `<statement>`<br>\n",
    ">    `return output` \n",
    "- The general form of \"calling\" (executing a function) is the following:<br>\n",
    "<br>  \n",
    "`output = func_name(input)`  \n",
    "<br>\n",
    "- In Python, Functions are defined by a few characteristics (similar to loops and if statements that we have seen above) which can be read about [here](https://docs.python.org/3/tutorial/controlflow.html#defining-functions):\n",
    "> 1. `def`: This keyword introduces a functions definition (it basically defines a function) and is always followed by a) the function name and b) the paranthesized list of inputs \n",
    "> 2. function `<func_name>`: Each function requres a name so users can call upon the function when they require its usage \n",
    "> 3. `:` and 4-space identation: Similar to if statements and loops, Python requires the `:` and 4-space indentation to identify the \"scope\" of the code\n",
    "> 4. Input `<(input)>`: This is the value(s) that is passed into the function in the same way that $x$ is passed into the function $x^2$. It is usually referred to as \"input arguments\" or \"input parameters\". For every set of inputs into the function, there is an appropriate output that is \"manufactured\" in the function (see section 3.4.3 for a closer look on input arguments) \n",
    "> 5. <`return`> statement: This is the value you wish to output from the function and consequently, the value the user will receive when calling the function (see section 3.4.4 for a closer look on outputs and return statements)\n",
    "> 6. `<docstring>`: Since one of the requirements of using a function is to know WHAT the function does, each function needs a way to communicate its purpose to users. This is accomplished by the __[docstring](https://www.python.org/dev/peps/pep-0257/)__ (see [here](https://en.wikipedia.org/wiki/Docstring) for a strict definition) which is a one or multi-line string at the top of the function \n",
    "- The above can be summarized in this nice illustration:  \n",
    "\n",
    "![image](img20.png)"
   ]
  },
  {
   "cell_type": "markdown",
   "metadata": {},
   "source": [
    "__Helpful Points:__\n",
    "1. The function has to be initialized (the code has to be run), before you can use the function    \n",
    "2. Python already has [many built-in functions](https://docs.python.org/3/library/functions.html) that we have used extensively up to this point (Do you remember using `bool()`, `complex()`, `dict()`, `enumerate()`, `float()`, `format()`, `help()`, `int()`, `isinstance()`, `len()`, `list()`, `max()`, `min()`, `next()`, `print()`, `set()`, `slice()`, `sorted()`, `str()`, `sum()`, `tuple()`, `type()`, `zip()`, well, __THESE WERE ALL FUNCTIONS!!!__)\n",
    "\n",
    "__Practice:__ Examples of Simple Functions in Python "
   ]
  },
  {
   "cell_type": "markdown",
   "metadata": {},
   "source": [
    "### Part 1 (Built-In Functions):"
   ]
  },
  {
   "cell_type": "markdown",
   "metadata": {},
   "source": [
    "### Example 1.1 ([`len()`](https://docs.python.org/3/library/functions.html#len)):\n",
    "\n",
    "- We have used the `len()` function in the past to calculate the length of sequences. Now we understand:\n",
    "> 1. `len` is the `<name>` of the function\n",
    "> 2. the `<input>` is any sequence\n",
    "> 3. the `<output>` is the length of the sequence"
   ]
  },
  {
   "cell_type": "code",
   "execution_count": 67,
   "metadata": {},
   "outputs": [],
   "source": [
    "# view the docstring of the function\n",
    "?len"
   ]
  },
  {
   "cell_type": "code",
   "execution_count": 68,
   "metadata": {},
   "outputs": [
    {
     "name": "stdout",
     "output_type": "stream",
     "text": [
      "Help on built-in function len in module builtins:\n",
      "\n",
      "len(obj, /)\n",
      "    Return the number of items in a container.\n",
      "\n"
     ]
    }
   ],
   "source": [
    "# view the docstring of the function \n",
    "help(len)"
   ]
  },
  {
   "cell_type": "code",
   "execution_count": 69,
   "metadata": {
    "scrolled": false
   },
   "outputs": [
    {
     "name": "stdout",
     "output_type": "stream",
     "text": [
      "Return the number of items in a container.\n"
     ]
    }
   ],
   "source": [
    "# print the docstring of the function \n",
    "print(len.__doc__)"
   ]
  },
  {
   "cell_type": "code",
   "execution_count": 70,
   "metadata": {},
   "outputs": [
    {
     "name": "stdout",
     "output_type": "stream",
     "text": [
      "3\n"
     ]
    }
   ],
   "source": [
    "my_list = [1,2,3]\n",
    "# execute the function and save its output into a variable \n",
    "output = len(my_list) # my_list is considered the input into the function which is internally operated on in the len() function\n",
    "print(output)"
   ]
  },
  {
   "cell_type": "markdown",
   "metadata": {},
   "source": [
    "### Example 1.2 ([`sum()`](https://docs.python.org/3/library/functions.html#sum)):\n",
    "- We have used the `sum()` function in the past to calculate the sum of an `iterable` object. Now we understand:\n",
    "> 1. `sum` is the `<name>` of the function\n",
    "> 2. the `<input>` is an iterable usually with numbers as elements\n",
    "> 3. the `<output>` is the sum of the `iterable` object "
   ]
  },
  {
   "cell_type": "code",
   "execution_count": null,
   "metadata": {},
   "outputs": [],
   "source": [
    "# view the docstring of the function\n",
    "?sum"
   ]
  },
  {
   "cell_type": "code",
   "execution_count": null,
   "metadata": {},
   "outputs": [],
   "source": [
    "# view the docstring of the function \n",
    "help(sum)"
   ]
  },
  {
   "cell_type": "code",
   "execution_count": null,
   "metadata": {
    "scrolled": false
   },
   "outputs": [],
   "source": [
    "# print the docstring of the function \n",
    "print(sum.__doc__) # __doc__ is actually a method (similar to a function) \"inside\" the object, we will cover this below in the Methods section"
   ]
  },
  {
   "cell_type": "code",
   "execution_count": null,
   "metadata": {},
   "outputs": [],
   "source": [
    "my_list = [1,2,3]\n",
    "# execute the function and save its output into a variable \n",
    "output = sum(my_list) # my_list is considered the input into the function which is internally operated on in the sum() function\n",
    "print(output)"
   ]
  },
  {
   "cell_type": "markdown",
   "metadata": {},
   "source": [
    "### Part 2 (New Functions):"
   ]
  },
  {
   "cell_type": "markdown",
   "metadata": {},
   "source": [
    "### Example 1 (Calculate the Length of a Sequence WITHOUT FUNCTION):"
   ]
  },
  {
   "cell_type": "markdown",
   "metadata": {},
   "source": [
    "Imagine we didn't know how to build functions and we were tasked to calculate the lengths of these 3 objects (and, of course, the `len()` function did not exist):\n",
    "> 1. `[1,2,3]`\n",
    "> 2. `\"Gordon\"`\n",
    "> 3. `{\"Gordon\":\"Dri\", \"Roberto:Reif\"}`\n",
    "\n",
    "How would we do this? "
   ]
  },
  {
   "cell_type": "code",
   "execution_count": 29,
   "metadata": {},
   "outputs": [],
   "source": [
    "obj_1 = [1,2,3]\n",
    "obj_2 = \"Gordon\"\n",
    "obj_3 = {\"Gordon\":\"Dri\", \"Roberto\":\"Reif\"}"
   ]
  },
  {
   "cell_type": "code",
   "execution_count": 30,
   "metadata": {},
   "outputs": [
    {
     "name": "stdout",
     "output_type": "stream",
     "text": [
      "The length of object 1 is 3\n"
     ]
    }
   ],
   "source": [
    "# calculate the length of object 1 \n",
    "obj1_len_count = 0\n",
    "for element in obj_1:\n",
    "    obj1_len_count += 1\n",
    "\n",
    "print(\"The length of object 1 is {}\".format(obj1_len_count))"
   ]
  },
  {
   "cell_type": "code",
   "execution_count": 31,
   "metadata": {},
   "outputs": [
    {
     "name": "stdout",
     "output_type": "stream",
     "text": [
      "The length of object 2 is 6\n"
     ]
    }
   ],
   "source": [
    "# calculate the length of object 2\n",
    "obj2_len_count = 0\n",
    "for element in obj_2:\n",
    "    obj2_len_count += 1\n",
    "\n",
    "print(\"The length of object 2 is {}\".format(obj2_len_count))"
   ]
  },
  {
   "cell_type": "code",
   "execution_count": 32,
   "metadata": {},
   "outputs": [
    {
     "name": "stdout",
     "output_type": "stream",
     "text": [
      "The length of object 3 is 2\n"
     ]
    }
   ],
   "source": [
    "# calculate the length of object 3\n",
    "obj3_len_count = 0\n",
    "for element in obj_3:\n",
    "    obj3_len_count += 1\n",
    "\n",
    "print(\"The length of object 3 is {}\".format(obj3_len_count))"
   ]
  },
  {
   "cell_type": "markdown",
   "metadata": {},
   "source": [
    "To calculate the length of these 3 sequences, we had to write 3 different `for` loops and initialize 3 different variables for the counts. This is incredibly inefficient programming since the essence of the process was identical for each object, but yet we wrote additional code for each. "
   ]
  },
  {
   "cell_type": "markdown",
   "metadata": {},
   "source": [
    "### Example 2.2 (Calculate the Length of a Sequence WITH FUNCTION):"
   ]
  },
  {
   "cell_type": "markdown",
   "metadata": {},
   "source": [
    "How about if we enclose the main computation of calculating the length in a function and then just pass in the sequence and receive the length as the output? This would be MUCH more concise and efficient. "
   ]
  },
  {
   "cell_type": "code",
   "execution_count": 71,
   "metadata": {},
   "outputs": [],
   "source": [
    "# define a new function to calculate the length of a sequence \n",
    "def len_gd(s):\n",
    "    \"\"\"\n",
    "    Find the length of an object\n",
    "    \n",
    "    Input Parameters:\n",
    "    s -- the sequence you want to find the length of\n",
    "    \"\"\"\n",
    "    len_count = 0\n",
    "    for element in s:\n",
    "        len_count += 1\n",
    "    \n",
    "    return len_count"
   ]
  },
  {
   "cell_type": "code",
   "execution_count": 72,
   "metadata": {
    "scrolled": true
   },
   "outputs": [
    {
     "name": "stdout",
     "output_type": "stream",
     "text": [
      "\n",
      "    Find the length of an object\n",
      "    \n",
      "    Input Parameters:\n",
      "    s -- the sequence you want to find the length of\n",
      "    \n"
     ]
    }
   ],
   "source": [
    "# print the function's docstring\n",
    "print(len_gd.__doc__)"
   ]
  },
  {
   "cell_type": "code",
   "execution_count": 73,
   "metadata": {},
   "outputs": [],
   "source": [
    "obj_1 = [1,2,3]\n",
    "obj_2 = \"Gordon\"\n",
    "obj_3 = {\"Gordon\":\"Dri\", \"Roberto\":\"Reif\"}"
   ]
  },
  {
   "cell_type": "code",
   "execution_count": 74,
   "metadata": {},
   "outputs": [
    {
     "name": "stdout",
     "output_type": "stream",
     "text": [
      "3\n"
     ]
    }
   ],
   "source": [
    "# calculate the length of object 1 \n",
    "print(len_gd(obj_1))"
   ]
  },
  {
   "cell_type": "code",
   "execution_count": 75,
   "metadata": {},
   "outputs": [
    {
     "name": "stdout",
     "output_type": "stream",
     "text": [
      "6\n"
     ]
    }
   ],
   "source": [
    "# calculate the length of object 2\n",
    "print(len_gd(obj_2))"
   ]
  },
  {
   "cell_type": "code",
   "execution_count": 76,
   "metadata": {},
   "outputs": [
    {
     "name": "stdout",
     "output_type": "stream",
     "text": [
      "2\n"
     ]
    }
   ],
   "source": [
    "# calculate the length of object 3 \n",
    "print(len_gd(obj_3))"
   ]
  },
  {
   "cell_type": "markdown",
   "metadata": {},
   "source": [
    "It should be clear why functions are advantageous now - you can perform the same task many, many times by simply reusing one block of code. "
   ]
  },
  {
   "cell_type": "markdown",
   "metadata": {},
   "source": [
    "### Example 2.3 (Calculate the Fibonacci Sequence WITH FUNCTION):"
   ]
  },
  {
   "cell_type": "markdown",
   "metadata": {},
   "source": [
    "Imagine we were asked to find the numbers in the __[Fibonacci Sequence](https://en.wikipedia.org/wiki/Fibonacci_number)__ from 0 to n. We can easily write a function to do this and then re-use this function with muliple values of n. "
   ]
  },
  {
   "cell_type": "code",
   "execution_count": 77,
   "metadata": {},
   "outputs": [
    {
     "ename": "NameError",
     "evalue": "name 'fib_func' is not defined",
     "output_type": "error",
     "traceback": [
      "\u001b[1;31m---------------------------------------------------------------------------\u001b[0m",
      "\u001b[1;31mNameError\u001b[0m                                 Traceback (most recent call last)",
      "\u001b[1;32m<ipython-input-77-0617e712b862>\u001b[0m in \u001b[0;36m<module>\u001b[1;34m\u001b[0m\n\u001b[1;32m----> 1\u001b[1;33m \u001b[0mf100\u001b[0m \u001b[1;33m=\u001b[0m \u001b[0mfib_func\u001b[0m\u001b[1;33m(\u001b[0m\u001b[1;36m100\u001b[0m\u001b[1;33m)\u001b[0m\u001b[1;33m\u001b[0m\u001b[1;33m\u001b[0m\u001b[0m\n\u001b[0m\u001b[0;32m      2\u001b[0m \u001b[0mprint\u001b[0m\u001b[1;33m(\u001b[0m\u001b[0mf100\u001b[0m\u001b[1;33m)\u001b[0m\u001b[1;33m\u001b[0m\u001b[1;33m\u001b[0m\u001b[0m\n",
      "\u001b[1;31mNameError\u001b[0m: name 'fib_func' is not defined"
     ]
    }
   ],
   "source": [
    "f100 = fib_func(100)\n",
    "print(f100)"
   ]
  },
  {
   "cell_type": "markdown",
   "metadata": {},
   "source": [
    "We receive an error here since we can't use a function until we define it. "
   ]
  },
  {
   "cell_type": "code",
   "execution_count": 78,
   "metadata": {},
   "outputs": [],
   "source": [
    "# function to return the Fibonacci series up to n\n",
    "def fib_func(n):  \n",
    "    \"\"\"\n",
    "    Return a list containing the Fibonacci series from 0 up to n\n",
    "\n",
    "    Input Parameters:\n",
    "    n -- The desired upper limit of the Fibonacci series \n",
    "    \"\"\"\n",
    "    result = []\n",
    "    # initialize seed values\n",
    "    a, b = 0, 1\n",
    "    while a < n:\n",
    "        result.append(a)\n",
    "        # fn = fn-1 + fn-2\n",
    "        a, b = b, a+b\n",
    "        \n",
    "    return result"
   ]
  },
  {
   "cell_type": "code",
   "execution_count": 79,
   "metadata": {},
   "outputs": [],
   "source": [
    "seq_1 = 100\n",
    "seq_2 = 40"
   ]
  },
  {
   "cell_type": "code",
   "execution_count": 80,
   "metadata": {},
   "outputs": [
    {
     "name": "stdout",
     "output_type": "stream",
     "text": [
      "[0, 1, 1, 2, 3, 5, 8, 13, 21, 34, 55, 89]\n"
     ]
    }
   ],
   "source": [
    "fib_seq_1 = fib_func(seq_1)\n",
    "print(fib_seq_1)"
   ]
  },
  {
   "cell_type": "code",
   "execution_count": 81,
   "metadata": {},
   "outputs": [
    {
     "name": "stdout",
     "output_type": "stream",
     "text": [
      "[0, 1, 1, 2, 3, 5, 8, 13, 21, 34]\n"
     ]
    }
   ],
   "source": [
    "fib_seq_2 = fib_func(seq_2)\n",
    "print(fib_seq_2)"
   ]
  },
  {
   "cell_type": "markdown",
   "metadata": {},
   "source": [
    "### 3.4.3 Closer Look at Input Arguments in Python Functions:"
   ]
  },
  {
   "cell_type": "markdown",
   "metadata": {},
   "source": [
    "### 3.4.3.1 Types of Arguments in Python "
   ]
  },
  {
   "cell_type": "markdown",
   "metadata": {},
   "source": [
    "__Overview:__\n",
    "- __[Input Arguments](https://docs.python.org/3/glossary.html#term-argument) (or just Arguments)__ in Python refer to the value that is passed to a function when calling the function\n",
    "- Arguments in Python fall into one of two categories:\n",
    "> 1. __Keyword Argument (known as \"kwargs\"):__ Keyword Arguments are arguments that are preceded by an equal sign (`name = `) in a function call\n",
    "> 2. __Positional Argument (known as \"args\"):__ Positional Arguments are arguments that are not preceded by an equal sign in a function call (therefore, not a keyword argument) and instead are simply passed in as `int`, for example\n",
    "\n",
    "__Helpful Points:__\n",
    "1. Argument names do not have be defined as the same names as their corresponding value inside the function (for example, in example 2.3 above, the arguments were defined as `seq_1` and `seq_2` and did not have to be the same name as their correspondng value inside the `fib_func` function which was `n`) \n",
    "\n",
    "__Practice:__ Examples of using 2 types of Arguments in Python "
   ]
  },
  {
   "cell_type": "markdown",
   "metadata": {},
   "source": [
    "### Example 1 (Using Keyword Arguments):"
   ]
  },
  {
   "cell_type": "code",
   "execution_count": null,
   "metadata": {},
   "outputs": [],
   "source": [
    "# simple function to print info for any metis course \n",
    "def metis(course_name, co_designer_1, co_designer_2, pm):\n",
    "    print(\"For the course {}, the Co Designer 1 is {}, Co Designer 2 is {}, and the Project Manager is {}\".\n",
    "          format(course_name, co_designer_1, co_designer_2, pm))"
   ]
  },
  {
   "cell_type": "code",
   "execution_count": null,
   "metadata": {
    "scrolled": true
   },
   "outputs": [],
   "source": [
    "metis(course_name = \"BPM\", co_designer_1 = \"Roberto\", co_designer_2 = \"Gordon\", pm = \"Jerod\")"
   ]
  },
  {
   "cell_type": "code",
   "execution_count": null,
   "metadata": {},
   "outputs": [],
   "source": [
    "metis(course_name = \"SDS\", co_designer_1 = \"Greg\", co_designer_2 = None, pm = \"Jerod\")"
   ]
  },
  {
   "cell_type": "markdown",
   "metadata": {},
   "source": [
    "### Example 2 (Using Positional Arguments):"
   ]
  },
  {
   "cell_type": "code",
   "execution_count": null,
   "metadata": {},
   "outputs": [],
   "source": [
    "# simple function to calculate the nth power of any number\n",
    "def nth_power(num, n):\n",
    "    return num ** n "
   ]
  },
  {
   "cell_type": "code",
   "execution_count": null,
   "metadata": {},
   "outputs": [],
   "source": [
    "nth_power(2, 2)"
   ]
  },
  {
   "cell_type": "code",
   "execution_count": null,
   "metadata": {},
   "outputs": [],
   "source": [
    "nth_power(5, 5)"
   ]
  },
  {
   "cell_type": "markdown",
   "metadata": {},
   "source": [
    "### 3.4.3.2 Rules of Argument Usage in Python:"
   ]
  },
  {
   "cell_type": "markdown",
   "metadata": {},
   "source": [
    "__Overview:__ \n",
    "- Keyword and Positional Arguments are subject to the following rules \n",
    "> 1. __Rule 1:__ If a function uses BOTH __Keyword__ and __Positional__ arguments, the __Keyword Arguments__ must follow (i.e. come after) __Positional Arguments__ when calling the function\n",
    "> 2. __Rule 2:__ All the __Keyword Arguments__ passed into the function must match one of the arguments accepted by the function \n",
    "> 3. __Rule 3:__ The order of __Keyword Arguments__ does not matter as long as they are an acceptable argument (see rule 2 above)\n",
    "> 4. __Rule 4:__ No argument allowed in the function can receive a value more than once (i.e. if the function requires an input for the variable `a`, you can't pass in `a=1` AND `a=0`)\n",
    "\n",
    "__Helpful Points:__ \n",
    "1. If the above rules are not followed, you will receive an error (depending on which rule was not followed)\n",
    "\n",
    "__Practice:__ Examples of using Argument Usage Rules in Python "
   ]
  },
  {
   "cell_type": "markdown",
   "metadata": {},
   "source": [
    "### Example 1 (Rule 1):"
   ]
  },
  {
   "cell_type": "code",
   "execution_count": null,
   "metadata": {},
   "outputs": [],
   "source": [
    "# simple function to print info for any metis course \n",
    "def metis(course_name, co_designer_1, co_designer_2, pm):\n",
    "    print(\"For the course {}, the Co Designer 1 is {}, Co Designer 2 is {}, and the Project Manager is {}\".\n",
    "          format(course_name, co_designer_1, co_designer_2, pm))"
   ]
  },
  {
   "cell_type": "code",
   "execution_count": null,
   "metadata": {},
   "outputs": [],
   "source": [
    "# no error since the keyword arguments follow the positional arguments \n",
    "metis(\"BPM\", \"Roberto\", \"Gordon\", pm = \"Jerod\") "
   ]
  },
  {
   "cell_type": "code",
   "execution_count": null,
   "metadata": {},
   "outputs": [],
   "source": [
    "# error since the keyword arguments does not follow the positional arguments \n",
    "metis(course_name = \"BPM\", \"Roberto\", \"Gordon\", \"Jerod\") "
   ]
  },
  {
   "cell_type": "markdown",
   "metadata": {},
   "source": [
    "### Example 2 (Rule 2):"
   ]
  },
  {
   "cell_type": "code",
   "execution_count": null,
   "metadata": {},
   "outputs": [],
   "source": [
    "# no error since all the keywrod arguments passed into the function match one of the arguments accepted by the function\n",
    "metis(course_name = \"BPM\", co_designer_1 = \"Roberto\", co_designer_2 = \"Gordon\", pm = \"Jerod\")"
   ]
  },
  {
   "cell_type": "code",
   "execution_count": null,
   "metadata": {},
   "outputs": [],
   "source": [
    "# error since not all the keywrod arguments passed into the function match one of the arguments accepted by the function\n",
    "metis(course_name = \"BPM\", co_designer_1 = \"Roberto\", co_designer_2 = \"Gordon\", pm = \"Jerod\", extra = \"EXTRA\")"
   ]
  },
  {
   "cell_type": "markdown",
   "metadata": {},
   "source": [
    "### Example 3 (Rule 3):"
   ]
  },
  {
   "cell_type": "code",
   "execution_count": null,
   "metadata": {},
   "outputs": [],
   "source": [
    "# order 1\n",
    "metis(co_designer_1 = \"Roberto\", co_designer_2 = \"Gordon\", pm = \"Jerod\", course_name = \"BPM\")"
   ]
  },
  {
   "cell_type": "code",
   "execution_count": null,
   "metadata": {},
   "outputs": [],
   "source": [
    "# order 2\n",
    "metis(co_designer_2 = \"Gordon\", pm = \"Jerod\", co_designer_1 = \"Roberto\", course_name = \"BPM\")"
   ]
  },
  {
   "cell_type": "code",
   "execution_count": null,
   "metadata": {},
   "outputs": [],
   "source": [
    "# order 3\n",
    "metis(pm = \"Jerod\", co_designer_2 = \"Gordon\", co_designer_1 = \"Roberto\", course_name = \"BPM\")"
   ]
  },
  {
   "cell_type": "markdown",
   "metadata": {},
   "source": [
    "All 3 orders of the keyword arguments yield the same result "
   ]
  },
  {
   "cell_type": "markdown",
   "metadata": {},
   "source": [
    "### Example 4 (Rule 4):"
   ]
  },
  {
   "cell_type": "code",
   "execution_count": null,
   "metadata": {},
   "outputs": [],
   "source": [
    "# no error since all arguments receive only one value \n",
    "metis(course_name = \"BPM\", co_designer_1 = \"Roberto\", co_designer_2 = \"Gordon\", pm = \"Jerod\")"
   ]
  },
  {
   "cell_type": "code",
   "execution_count": null,
   "metadata": {},
   "outputs": [],
   "source": [
    "# error since an argument receives more than one value \n",
    "metis(course_name = \"BPM\", co_designer_1 = \"Roberto\", co_designer_1 = \"Ronald\", co_designer_2 = \"Gordon\", pm = \"Jerod\")"
   ]
  },
  {
   "cell_type": "markdown",
   "metadata": {},
   "source": [
    "### 3.4.3.3 Practical Usage of Arguments in Python:"
   ]
  },
  {
   "cell_type": "markdown",
   "metadata": {},
   "source": [
    "__Overview:__ \n",
    "- Input Arguments can be used in one of four ways which are outlined [here](https://docs.python.org/3/tutorial/controlflow.html#defining-functions) as well as below:\n",
    "> 1. __Keyword Argument Values (Only):__ Shown in section 3.4.3.1 \n",
    "> 2. __Positional Argument Values (Only):__ Shown in section 3.4.3.1 \n",
    "> 3. __Default Argument Values:__  This is the most useful application and involves the \"function creater\" specifying a default value for one or more of the function's arguments. This means that the \"function user\" does NOT need to pass in a value for this argument. If they choose to, they will override the default value. \n",
    "> 4. __Arbitrary Arguments:__ This type refers to the ability of passing in an arbitrary number of arguments into the function call. These arbirtrary arguments are passed into the function as a `list`/`tuple` or `dict` and then unpacked inside the function. Each `type` has a different specification: \n",
    ">> a. Passing in a __List/Tuple__ as an __Arbitrary Positional Argument__. This `type` corresponds to the __Variable Positional Parameter__ which is specified inside the function arguments as (`*args`). The single asterix `*` specifies unpacking for type `tuple` (see lecture 2) and the `args` is just the conventional name used for __Positional Arguments__ (but can be anything - `*gordons`)<br>\n",
    ">> b. Passing in a __Dictionary__ as an __Arbitrary Keyword Argument__. This `type` corresponds to the __Variable Keyword Parameter__ which is specified inside the function arguments as (`**kwargs`). The double asterix `**` specifies unpacking for type `dict` (see lecture 2) and the `kwargs` is just the conventional name used for __Keyword Arguments__ (but can be anything - `**dris`)\n",
    "\n",
    "__Helpful Points:__\n",
    "1. We will explore both Default Argument Values and Arbitrary Arguments in Python functions below\n",
    "\n",
    "__Practice:__ Examples of Default Argument Values and Arbitrary Arguments in Python"
   ]
  },
  {
   "cell_type": "code",
   "execution_count": null,
   "metadata": {},
   "outputs": [],
   "source": [
    "### #fup kinda spaced out here: come back and take a look"
   ]
  },
  {
   "cell_type": "markdown",
   "metadata": {},
   "source": [
    "### Part 1 (Default Argument Values):"
   ]
  },
  {
   "cell_type": "markdown",
   "metadata": {},
   "source": [
    "### Example 1.1 (Simple Function with Default Values):"
   ]
  },
  {
   "cell_type": "code",
   "execution_count": null,
   "metadata": {},
   "outputs": [],
   "source": [
    "# simple function to calculate the 2nd power of any number (unless otherwise specified )\n",
    "def nth_power(num, n=2):\n",
    "    return num ** n "
   ]
  },
  {
   "cell_type": "code",
   "execution_count": null,
   "metadata": {},
   "outputs": [],
   "source": [
    "# specification 1: don't specify the default argument \n",
    "nth_power(20)"
   ]
  },
  {
   "cell_type": "code",
   "execution_count": null,
   "metadata": {},
   "outputs": [],
   "source": [
    "# specification 2: specify (and override) the default argument\n",
    "nth_power(20, 4)"
   ]
  },
  {
   "cell_type": "markdown",
   "metadata": {},
   "source": [
    "### Example 1.2 (Noteworthy Feature of Default Values (1) ):"
   ]
  },
  {
   "cell_type": "code",
   "execution_count": 33,
   "metadata": {},
   "outputs": [],
   "source": [
    "i = 5\n",
    "# at the point that the function is defined i = 5, therefore this gets passed into the default argument \n",
    "def f(arg=i):\n",
    "    print(arg)"
   ]
  },
  {
   "cell_type": "code",
   "execution_count": 34,
   "metadata": {},
   "outputs": [
    {
     "name": "stdout",
     "output_type": "stream",
     "text": [
      "5\n"
     ]
    }
   ],
   "source": [
    "# the function has already been defined at this point, so i = 6 does NOT get passed into the default argument\n",
    "i = 6\n",
    "# call the function and allow the default value to maintain its value \n",
    "f()"
   ]
  },
  {
   "cell_type": "code",
   "execution_count": 35,
   "metadata": {},
   "outputs": [],
   "source": [
    "### the function remembers what i was"
   ]
  },
  {
   "cell_type": "markdown",
   "metadata": {},
   "source": [
    "### Example 1.3 (Noteworthy Feature of Default Values (2) ):"
   ]
  },
  {
   "cell_type": "code",
   "execution_count": 36,
   "metadata": {},
   "outputs": [],
   "source": [
    "# default value is evaluated only once (when the function is defined). If the default value is mutable, this will create problems\n",
    "def f(a, L=[]):\n",
    "    L.append(a)\n",
    "    return L"
   ]
  },
  {
   "cell_type": "code",
   "execution_count": 37,
   "metadata": {},
   "outputs": [
    {
     "name": "stdout",
     "output_type": "stream",
     "text": [
      "['a']\n"
     ]
    }
   ],
   "source": [
    "# L = [] but calling the function changes L \n",
    "print(f(\"a\"))"
   ]
  },
  {
   "cell_type": "code",
   "execution_count": 38,
   "metadata": {},
   "outputs": [
    {
     "name": "stdout",
     "output_type": "stream",
     "text": [
      "['a', 'b']\n"
     ]
    }
   ],
   "source": [
    "# L = [\"a\"] but calling the function changes L \n",
    "print(f(\"b\"))"
   ]
  },
  {
   "cell_type": "code",
   "execution_count": 40,
   "metadata": {},
   "outputs": [
    {
     "name": "stdout",
     "output_type": "stream",
     "text": [
      "['a', 'b', 'c', 'c']\n"
     ]
    }
   ],
   "source": [
    "# L = [\"a\", \"b\"] but calling the function changes L \n",
    "print(f(\"c\"))"
   ]
  },
  {
   "cell_type": "code",
   "execution_count": 42,
   "metadata": {},
   "outputs": [],
   "source": [
    "### But now, function knows the new value of the list ... weird\n",
    "### garett: we usually don't want functions doing stuff like this. we usually want functions\n",
    "### that, given the same inputs, it gives the same output every time\n",
    "\n",
    "### for office hours ask why it's different for int(oh wait I guess int is immutable) \n",
    "### so like he said, avoid mutable types as default function inputs)"
   ]
  },
  {
   "cell_type": "markdown",
   "metadata": {},
   "source": [
    "### Example 1.4 (Noteworthy Feature of Default Values (3) ):"
   ]
  },
  {
   "cell_type": "code",
   "execution_count": null,
   "metadata": {},
   "outputs": [],
   "source": [
    "# corrects the problem above by ensuring the default value is not shared between subsequent calls\n",
    "def f(a, L=None):\n",
    "    if L is None:\n",
    "        L = []\n",
    "    L.append(a)\n",
    "    return L"
   ]
  },
  {
   "cell_type": "code",
   "execution_count": null,
   "metadata": {},
   "outputs": [],
   "source": [
    "print(f(\"a\"))"
   ]
  },
  {
   "cell_type": "code",
   "execution_count": null,
   "metadata": {},
   "outputs": [],
   "source": [
    "print(f(\"b\"))"
   ]
  },
  {
   "cell_type": "code",
   "execution_count": null,
   "metadata": {},
   "outputs": [],
   "source": [
    "print(f(\"c\"))"
   ]
  },
  {
   "cell_type": "markdown",
   "metadata": {},
   "source": [
    "### Part 2 (Arbitrary Arguments):"
   ]
  },
  {
   "cell_type": "markdown",
   "metadata": {},
   "source": [
    "### Example 2.1 (Unpacking in Function Arguments):"
   ]
  },
  {
   "cell_type": "code",
   "execution_count": 82,
   "metadata": {},
   "outputs": [],
   "source": [
    "def metis_staff(gordon = 40, roberto = 20, jerod = 30, paul = 25):\n",
    "    staff_list = []\n",
    "    staff_list.append(gordon)\n",
    "    staff_list.append(roberto)\n",
    "    staff_list.append(jerod)\n",
    "    staff_list.append(paul)\n",
    "    return staff_list"
   ]
  },
  {
   "cell_type": "code",
   "execution_count": 83,
   "metadata": {},
   "outputs": [
    {
     "name": "stdout",
     "output_type": "stream",
     "text": [
      "[30, 21, 31, 21]\n"
     ]
    }
   ],
   "source": [
    "# non-arbitrary arguments and mix of positional and keyword)\n",
    "print(metis_staff(30, roberto = 21, jerod = 31, paul = 21))"
   ]
  },
  {
   "cell_type": "code",
   "execution_count": 12,
   "metadata": {
    "scrolled": false
   },
   "outputs": [
    {
     "name": "stdout",
     "output_type": "stream",
     "text": [
      "[21, 31]\n",
      "21 31\n"
     ]
    }
   ],
   "source": [
    "# recall how the * works for lists (section 2.2.15)\n",
    "### #fup ? ask in office hours: do they mean recall how * works for tuples? (sec 2.2.15 is tuples)\n",
    "staff_list = [21, 31]\n",
    "print(staff_list)\n",
    "print(*staff_list)"
   ]
  },
  {
   "cell_type": "code",
   "execution_count": 46,
   "metadata": {},
   "outputs": [],
   "source": [
    "### #fup ? I don't understand this # office hours / how does this work? What is the     21 31     thing?\n",
    "### garrett: this is not a practical example, but it is an instructive example"
   ]
  },
  {
   "cell_type": "code",
   "execution_count": 47,
   "metadata": {},
   "outputs": [
    {
     "name": "stdout",
     "output_type": "stream",
     "text": [
      "[30, 21, 31, 21]\n"
     ]
    }
   ],
   "source": [
    "# arbitrary argument list \n",
    "staff_list = [21, 31]\n",
    "print(metis_staff(30, *staff_list, paul = 21)) # same function call as metis_staff(30, 21, 31, paul=21) "
   ]
  },
  {
   "cell_type": "code",
   "execution_count": 48,
   "metadata": {
    "scrolled": false
   },
   "outputs": [
    {
     "name": "stdout",
     "output_type": "stream",
     "text": [
      "{'roberto': 21, 'jerod': 31}\n",
      "{'roberto': 21, 'jerod': 31}\n"
     ]
    }
   ],
   "source": [
    "# recall how the ** works for dictionaries (section 2.4.7)\n",
    "staff_list = {\"roberto\":21, \"jerod\":31}\n",
    "print(staff_list)\n",
    "print(dict(**staff_list))"
   ]
  },
  {
   "cell_type": "code",
   "execution_count": null,
   "metadata": {},
   "outputs": [],
   "source": [
    "### #fup go and look at how ** works for dictionaries"
   ]
  },
  {
   "cell_type": "code",
   "execution_count": 50,
   "metadata": {},
   "outputs": [
    {
     "name": "stdout",
     "output_type": "stream",
     "text": [
      "[30, 21, 31, 21]\n"
     ]
    }
   ],
   "source": [
    "# arbitrary argument dictionary \n",
    "staff_list = {\"roberto\":21, \"jerod\":31}\n",
    "print(metis_staff(30, **staff_list, paul = 21)) # same function call as metis_staff(30, roberto=21, jerod=31, paul=21)"
   ]
  },
  {
   "cell_type": "code",
   "execution_count": null,
   "metadata": {},
   "outputs": [],
   "source": [
    "### garrett: the point is, look what **staff_list lets you do"
   ]
  },
  {
   "cell_type": "markdown",
   "metadata": {},
   "source": [
    "### Example 2.2 (Arbitrary Positional Arguments using Variable Positional Parameter `*args`):"
   ]
  },
  {
   "cell_type": "code",
   "execution_count": 51,
   "metadata": {},
   "outputs": [],
   "source": [
    "### looks like a wild card"
   ]
  },
  {
   "cell_type": "code",
   "execution_count": 8,
   "metadata": {},
   "outputs": [],
   "source": [
    "def args(*args):\n",
    "    for arg in args:\n",
    "        print(arg)\n",
    "        pass\n",
    "        \n",
    "    print(args)"
   ]
  },
  {
   "cell_type": "code",
   "execution_count": 9,
   "metadata": {},
   "outputs": [
    {
     "name": "stdout",
     "output_type": "stream",
     "text": [
      "()\n"
     ]
    }
   ],
   "source": [
    "args()"
   ]
  },
  {
   "cell_type": "code",
   "execution_count": 85,
   "metadata": {},
   "outputs": [
    {
     "name": "stdout",
     "output_type": "stream",
     "text": [
      "Gordon\n",
      "('Gordon',)\n"
     ]
    }
   ],
   "source": [
    "# function call 1 (1 argument)\n",
    "args(\"Gordon\")"
   ]
  },
  {
   "cell_type": "code",
   "execution_count": 86,
   "metadata": {},
   "outputs": [
    {
     "name": "stdout",
     "output_type": "stream",
     "text": [
      "Gordon\n",
      "Dri\n",
      "('Gordon', 'Dri')\n"
     ]
    }
   ],
   "source": [
    "# function call 2 (2 arguments)\n",
    "args(\"Gordon\", \"Dri\")"
   ]
  },
  {
   "cell_type": "code",
   "execution_count": 87,
   "metadata": {},
   "outputs": [
    {
     "name": "stdout",
     "output_type": "stream",
     "text": [
      "Gordon\n",
      "Dri\n",
      "[1, 2, 3]\n",
      "('Gordon', 'Dri', [1, 2, 3])\n"
     ]
    }
   ],
   "source": [
    "# function call 3 (3 arguments)\n",
    "args(\"Gordon\", \"Dri\", [1,2,3])"
   ]
  },
  {
   "cell_type": "code",
   "execution_count": 56,
   "metadata": {
    "scrolled": true
   },
   "outputs": [
    {
     "name": "stdout",
     "output_type": "stream",
     "text": [
      "Gordon\n",
      "Dri\n",
      "[1, 2, 3]\n",
      "['Roberto', 'Reif']\n"
     ]
    }
   ],
   "source": [
    "# function call 4 (4 arguments)\n",
    "args(\"Gordon\", \"Dri\", [1,2,3], [\"Roberto\", \"Reif\"])"
   ]
  },
  {
   "cell_type": "markdown",
   "metadata": {},
   "source": [
    "Note in the above examples, we were able to pass in as many or as few arguments as we pleased. Also, remember that the `args` term is used by convention only and can be any variable name. "
   ]
  },
  {
   "cell_type": "code",
   "execution_count": null,
   "metadata": {},
   "outputs": [],
   "source": [
    "### defining function(*bob) lets us put an arbitrary number of arguments in at this position. \n",
    "### if you access the bob in the function body, it will be a tuple containing the item(s) we entered\n",
    "### if we don't enter any thing for *bob, it's just an empty tuple"
   ]
  },
  {
   "cell_type": "markdown",
   "metadata": {},
   "source": [
    "### Example 2.3 (Arbitrary Keyword Arguments using Variable Keyword Parameter `**kwargs`):"
   ]
  },
  {
   "cell_type": "code",
   "execution_count": null,
   "metadata": {},
   "outputs": [],
   "source": [
    "### Garrett: this is a more advanced technique: may show up in major libraries to add in some minor bonus\n",
    "### optional functionality\n",
    "\n",
    "### when **kwargs is in the list of input parameters of a function,  the variable kwargs is availabe as a dictionary"
   ]
  },
  {
   "cell_type": "code",
   "execution_count": 18,
   "metadata": {},
   "outputs": [],
   "source": [
    "def kwargs(**kwargs):\n",
    "    print(kwargs)\n",
    "    for key in kwargs:\n",
    "        print(key, \":\", kwargs[key])"
   ]
  },
  {
   "cell_type": "code",
   "execution_count": 14,
   "metadata": {},
   "outputs": [
    {
     "name": "stdout",
     "output_type": "stream",
     "text": [
      "first_name : Gordon\n",
      "last_name : Dri\n",
      "age : 40\n"
     ]
    }
   ],
   "source": [
    "# function call 1\n",
    "kwargs(first_name = \"Gordon\", last_name = \"Dri\", age = 40)"
   ]
  },
  {
   "cell_type": "code",
   "execution_count": 19,
   "metadata": {
    "scrolled": true
   },
   "outputs": [
    {
     "name": "stdout",
     "output_type": "stream",
     "text": [
      "{'first_name': 'Roberto', 'last_name': 'Reif', 'age': 20}\n",
      "first_name : Roberto\n",
      "last_name : Reif\n",
      "age : 20\n"
     ]
    }
   ],
   "source": [
    "# function call 2\n",
    "kwargs(first_name = \"Roberto\", last_name = \"Reif\", age = 20)"
   ]
  },
  {
   "cell_type": "code",
   "execution_count": 17,
   "metadata": {},
   "outputs": [
    {
     "name": "stdout",
     "output_type": "stream",
     "text": [
      "<function kwargs at 0x0000018C4CBFF9D8>\n"
     ]
    }
   ],
   "source": [
    "print(kwargs)"
   ]
  },
  {
   "cell_type": "markdown",
   "metadata": {},
   "source": [
    "### Example 2.4 (Arbitrary Positional and Kewword Arguments):"
   ]
  },
  {
   "cell_type": "code",
   "execution_count": 20,
   "metadata": {},
   "outputs": [],
   "source": [
    "def args_and_kwargs(var, *args, **kwargs):\n",
    "    for arg in args:\n",
    "        print(\"{} iteration is {}\".format(var, arg))\n",
    "        var += 1\n",
    "    \n",
    "    print(\"\\n\")\n",
    "    var = 0\n",
    "    for key in kwargs:\n",
    "        print(\"{} iteration is {} : {}\".format(var, key, kwargs[key]))\n",
    "        var += 1"
   ]
  },
  {
   "cell_type": "code",
   "execution_count": 21,
   "metadata": {},
   "outputs": [
    {
     "name": "stdout",
     "output_type": "stream",
     "text": [
      "0 iteration is a\n",
      "1 iteration is b\n",
      "2 iteration is c\n",
      "\n",
      "\n",
      "0 iteration is first_name : Gordon\n",
      "1 iteration is last_name : Dri\n",
      "2 iteration is age : 40\n"
     ]
    }
   ],
   "source": [
    "args_and_kwargs(0, \"a\", \"b\", \"c\", first_name = \"Gordon\", last_name = \"Dri\", age = 40) # 4 positional arguments and 3 keyword arguments\n"
   ]
  },
  {
   "cell_type": "markdown",
   "metadata": {},
   "source": [
    "In the above example, the `**kwargs` received a dictionary containing all keyword arguments and the `*args` received a tuple containing the positional arguments. Notice how the arguments for `*args` comes before those for `*kwargs` due to rule 1 above. "
   ]
  },
  {
   "cell_type": "code",
   "execution_count": 31,
   "metadata": {},
   "outputs": [],
   "source": [
    "### #fup ? random note ask garrett about local and global variables \n",
    "### and my uncertainties about what sub functions have access to / how does this work?"
   ]
  },
  {
   "cell_type": "markdown",
   "metadata": {},
   "source": [
    "### 3.4.4 Closer Look at Outputs in Python Functions: "
   ]
  },
  {
   "cell_type": "code",
   "execution_count": 57,
   "metadata": {},
   "outputs": [],
   "source": [
    "### here is a new section"
   ]
  },
  {
   "cell_type": "markdown",
   "metadata": {},
   "source": [
    "__Overview:__\n",
    "- The `return` statement in Python functions declare what needs to be outputted after executing the function\n",
    "- However, technically functions do not need to `<return>` anything and can just manipulate an input (see example 1 below) \n",
    "- The function will end when it hits the `<return>` statement, so if this does not appear on the last line, the function will end prematurely and not execute any additional statements (see example 2 below) \n",
    "- Functions in Python have the ability of returning multiple variables (unlike the R programming language) in the form of a `tuple` (see example 3 below) \n",
    "\n",
    "__Helpful Points:__\n",
    "1. Remember that you do NOT need to encapsulate what you want to return inside parantheses, instead it follows this format: `return result` \n",
    "2. If there is no `return` statement, the function will not output anything \n",
    "\n",
    "__Practice:__ Examples of Different Types of `return` statement in Python "
   ]
  },
  {
   "cell_type": "markdown",
   "metadata": {},
   "source": [
    "### Example 1 (Function with No Return Statement):"
   ]
  },
  {
   "cell_type": "code",
   "execution_count": null,
   "metadata": {},
   "outputs": [],
   "source": [
    "### garrett: this example breaks function oriented programming. (I think it's more object oriented) [did I mean\n",
    "### to type functional?]\n",
    "### #fup ? in office hours: if there a preference in data science for functional oriented programming?"
   ]
  },
  {
   "cell_type": "code",
   "execution_count": null,
   "metadata": {},
   "outputs": [],
   "source": [
    "# function change the ith element of an object \n",
    "def change_element(obj, i):\n",
    "    if i <= len(obj):\n",
    "        obj[i] = \"NEW\" "
   ]
  },
  {
   "cell_type": "code",
   "execution_count": null,
   "metadata": {},
   "outputs": [],
   "source": [
    "obj_1 = [1,2,3]\n",
    "obj_2 = [\"G\", \"o\", \"r\", \"d\", \"o\", \"n\"]"
   ]
  },
  {
   "cell_type": "code",
   "execution_count": null,
   "metadata": {},
   "outputs": [],
   "source": [
    "change_element(obj_1, 2)\n",
    "print(obj_1)"
   ]
  },
  {
   "cell_type": "code",
   "execution_count": null,
   "metadata": {},
   "outputs": [],
   "source": [
    "change_element(obj_2, 4)\n",
    "print(obj_2)"
   ]
  },
  {
   "cell_type": "markdown",
   "metadata": {},
   "source": [
    "### Example 2 (Function with Early Exit Return Statement):"
   ]
  },
  {
   "cell_type": "code",
   "execution_count": 24,
   "metadata": {},
   "outputs": [],
   "source": [
    "def early_exit(obj):\n",
    "    for element in obj:\n",
    "        if element == 1:\n",
    "            return # returns none \n",
    "    obj.append(\"COMPLETED\")\n",
    "    return obj"
   ]
  },
  {
   "cell_type": "code",
   "execution_count": 25,
   "metadata": {},
   "outputs": [],
   "source": [
    "obj_1 = [2,3,4,1,2]\n",
    "obj_2 = [2,2,2,2]"
   ]
  },
  {
   "cell_type": "code",
   "execution_count": 26,
   "metadata": {},
   "outputs": [
    {
     "name": "stdout",
     "output_type": "stream",
     "text": [
      "None\n"
     ]
    }
   ],
   "source": [
    "# early exit \n",
    "obj_1 = early_exit(obj_1)\n",
    "print(obj_1)"
   ]
  },
  {
   "cell_type": "code",
   "execution_count": 27,
   "metadata": {},
   "outputs": [
    {
     "name": "stdout",
     "output_type": "stream",
     "text": [
      "[2, 2, 2, 2, 'COMPLETED']\n"
     ]
    }
   ],
   "source": [
    "# no early exit\n",
    "obj_2 = early_exit(obj_2)\n",
    "print(obj_2)"
   ]
  },
  {
   "cell_type": "markdown",
   "metadata": {},
   "source": [
    "### Example 3 (Function that Outputs Multiple Variables): "
   ]
  },
  {
   "cell_type": "code",
   "execution_count": 28,
   "metadata": {},
   "outputs": [],
   "source": [
    "def nth_power(num, n):\n",
    "    return num ** n, n # return the result AND the power (packing - packs the result and power into a tuple)  "
   ]
  },
  {
   "cell_type": "code",
   "execution_count": 29,
   "metadata": {},
   "outputs": [
    {
     "name": "stdout",
     "output_type": "stream",
     "text": [
      "(4, 2)\n",
      "<class 'tuple'>\n"
     ]
    }
   ],
   "source": [
    "print(nth_power(2, 2))\n",
    "print(type(nth_power(2, 2))) # result is a tuple "
   ]
  },
  {
   "cell_type": "code",
   "execution_count": 30,
   "metadata": {},
   "outputs": [
    {
     "name": "stdout",
     "output_type": "stream",
     "text": [
      "125\n",
      "3\n"
     ]
    }
   ],
   "source": [
    "nth_power_answer, nth_power_value = nth_power(5, 3) # unpacking the tuple \n",
    "print(nth_power_answer)\n",
    "print(nth_power_value)"
   ]
  },
  {
   "cell_type": "markdown",
   "metadata": {},
   "source": [
    "### Problem 6 \n",
    "\n",
    "Write a Function to return the minimum and maximum of a non-empty list. For example, try finding the minimum and maximum of the list `[1,3,5,10,12,2,0]`. Your function should return both values as a `tuple` in the form of (`min`, `max`) as such (0, 10). \n",
    "\n",
    "- Call the function `minimax` and it should accept one argument - the list (call it `x`)\n",
    "- You will need a `for` loop to traverse the list that is passed in \n",
    "- Hint: Set the `min` and `max` as the first value in the list and iterate starting at position `1` to check if you should reassign your `min` and `max` variables. If you don't need to reset them, just move on to the next iteration. If you do need to reset them, reassign them appropriately\n",
    "- Check that your function works by passing in the list above and ensure it returns `(0, 10)`. Try with some other lists \n",
    "- Assume the list passed in is non-empty to make things easier "
   ]
  },
  {
   "cell_type": "code",
   "execution_count": 31,
   "metadata": {},
   "outputs": [
    {
     "name": "stdout",
     "output_type": "stream",
     "text": [
      "(0, 12)\n"
     ]
    }
   ],
   "source": [
    "x = [1,3,5,10,12,2,0]\n",
    "def minmax(x):\n",
    "    min = x[0]\n",
    "    max = x[0]\n",
    "    for item in x:\n",
    "        if item < min:\n",
    "            min = item\n",
    "        if item > max:\n",
    "            max = item\n",
    "            \n",
    "    return min, max\n",
    "\n",
    "print(minmax(x))\n"
   ]
  },
  {
   "cell_type": "code",
   "execution_count": null,
   "metadata": {},
   "outputs": [],
   "source": [
    "### could also use some trick with inf, -inf of float.  but he likes my solution (instantiating with first in x)\n",
    "### oops, used keywords as variables #fup memorize these keywords so I don't use them as variables\n",
    "### for example, min and max"
   ]
  },
  {
   "cell_type": "markdown",
   "metadata": {},
   "source": [
    "### 3.4.5 Scope of Functions:"
   ]
  },
  {
   "cell_type": "markdown",
   "metadata": {},
   "source": [
    "__Overview:__\n",
    "- __[Scope](https://en.wikipedia.org/wiki/Scope_(computer_science):__ Scope in programming refers to the \"region\" where a variable exists and is valid in \n",
    "- In Python, there are 2 main scopes:\n",
    "> 1. __Global Scope:__ The Global Region encompasses any space of a program that is NOT inside a function\n",
    "\n",
    "> 2. __Local Scope:__ The Local Region ecoompasses any space of a program that IS inside a function \n",
    "- Therefore, in Python, there are 2 main variables:\n",
    "> 1. __[Global Variables](https://anh.cs.luc.edu/python/hands-on/3.1/handsonHtml/functions.html#id7):__ All Variables created in __Global Scope__ are considered __Global Variables__\n",
    ">> - Global Variables are defined outside any function definition and at the \"top-level\" of the program \n",
    ">> - Global Variables are visible both INSIDE functions and (of course) OUTSIDE functions\n",
    ">> - You can declare a variable inside a function a Global Variable by typing this command before assigning the variable: `global variable_name` (see Example 3 below) \n",
    ">> - If you need a value for multiple functions (i.e. PI constant), you would declare it at the top of your program as a Global Variable (or more specifically, a Global Constant) (see Example 4 below) \n",
    ">> - Functions are also Global Variables which explains why we can call functions within functions (see Example 4 below)\n",
    "> 2. __[Local Variables](https://anh.cs.luc.edu/python/hands-on/3.1/handsonHtml/functions.html#id6):__ All Variables created in __Local Scope__ are considered __Local Variables__\n",
    ">> - Local Variables are defined inside function definition \n",
    ">> - Local Variables are only visible INSIDE functions and NOT visible OUTSIDE functions\n",
    ">> - Any variable you declare inside a function is a Local Variable, there is no need for explicit designation "
   ]
  },
  {
   "cell_type": "markdown",
   "metadata": {},
   "source": [
    "__Helpful Points:__\n",
    "1. A Local Variable that is defined in Local Scope can be used in that scope only and will refer to whatever value was assigned to it as long as the variable remains in that scope \n",
    "2. If you attempt to call a Local Variable in Global Scope, the variable will not be defined (in other words, it will not still refer to the value that was originally assigned to it in the Local Scope)\n",
    "3. In fact, the same variable name may have different values in Local and Global Scopes (since a brand new object is created in Local Scope) (see Example 2 below)   \n",
    "4. See [here](https://docs.python.org/2/tutorial/classes.html#tut-scopes) for some more information on Python Scopes \n",
    "\n",
    "__Practice:__ Examples of Global and Local Scope in Python "
   ]
  },
  {
   "cell_type": "markdown",
   "metadata": {},
   "source": [
    "### Example 1 (Global Scope and Global Variables):"
   ]
  },
  {
   "cell_type": "code",
   "execution_count": 34,
   "metadata": {},
   "outputs": [],
   "source": [
    "my_str = \"Gordon\" # this is in global scope since we are not within a function, therefore this is a global variable\n",
    "\n",
    "# this begins local scope \n",
    "def name(last):\n",
    "    return my_str + \" \" + last # global variables are visible both inside and outside functions so we can use it here "
   ]
  },
  {
   "cell_type": "code",
   "execution_count": 35,
   "metadata": {
    "scrolled": true
   },
   "outputs": [
    {
     "name": "stdout",
     "output_type": "stream",
     "text": [
      "Gordon Dri\n"
     ]
    }
   ],
   "source": [
    "my_name = name(\"Dri\")\n",
    "print(my_name)"
   ]
  },
  {
   "cell_type": "code",
   "execution_count": null,
   "metadata": {},
   "outputs": [],
   "source": [
    "### #fup ? in office hours ask about defining functions within functions\n",
    "### #fup and also ask whether variables cascade down into sub called functions"
   ]
  },
  {
   "cell_type": "markdown",
   "metadata": {},
   "source": [
    "### Example 2 (Local Scope and Local Variables):"
   ]
  },
  {
   "cell_type": "code",
   "execution_count": 37,
   "metadata": {},
   "outputs": [],
   "source": [
    "my_str = \"Gordon\" # this is in global scope since we are not within a function, therefore this is a global variable\n",
    "\n",
    "# this begins local scope \n",
    "def name(last):\n",
    "    my_str = \"Roberto\" # a new object is created as a local variable and this value is not visible in global scope \n",
    "    return my_str + \" \" + last "
   ]
  },
  {
   "cell_type": "code",
   "execution_count": 38,
   "metadata": {},
   "outputs": [
    {
     "name": "stdout",
     "output_type": "stream",
     "text": [
      "Roberto Reif\n"
     ]
    }
   ],
   "source": [
    "my_name = name(\"Reif\")\n",
    "print(my_name)"
   ]
  },
  {
   "cell_type": "code",
   "execution_count": 39,
   "metadata": {},
   "outputs": [
    {
     "name": "stdout",
     "output_type": "stream",
     "text": [
      "Gordon\n"
     ]
    }
   ],
   "source": [
    "print(my_str) # still the same value (was not re-assigned to \"Roberto\" - this assignment was only valid in local scope)"
   ]
  },
  {
   "cell_type": "markdown",
   "metadata": {},
   "source": [
    "### Example 3 (Making Global Variables in Local Scope):"
   ]
  },
  {
   "cell_type": "code",
   "execution_count": 40,
   "metadata": {},
   "outputs": [],
   "source": [
    "my_str = \"Gordon\" # this is in global scope since we are not within a function, therefore this is a global variable\n",
    "\n",
    "# this begins local scope \n",
    "def name(last):\n",
    "    global my_str # we are declaring the my_str object as a global variable \n",
    "    my_str = \"Roberto\" # will not be visible in the global scope \n",
    "    return my_str + \" \" + last  "
   ]
  },
  {
   "cell_type": "code",
   "execution_count": 41,
   "metadata": {},
   "outputs": [
    {
     "name": "stdout",
     "output_type": "stream",
     "text": [
      "Roberto Reif\n"
     ]
    }
   ],
   "source": [
    "my_name = name(\"Reif\")\n",
    "print(my_name)"
   ]
  },
  {
   "cell_type": "code",
   "execution_count": 42,
   "metadata": {
    "scrolled": true
   },
   "outputs": [
    {
     "name": "stdout",
     "output_type": "stream",
     "text": [
      "Roberto\n"
     ]
    }
   ],
   "source": [
    "print(my_str) # now changed value (re-assigned to \"Roberto\" - this assignment was valid in global scope due to the explicit assignment)"
   ]
  },
  {
   "cell_type": "markdown",
   "metadata": {},
   "source": [
    "### Example 4 (Nested Functions and Global Constants):"
   ]
  },
  {
   "cell_type": "code",
   "execution_count": 43,
   "metadata": {},
   "outputs": [],
   "source": [
    "PI = 3.14159265358979   # global constant - only place the value of PI is set\n",
    "\n",
    "# function calculate the area of a circle \n",
    "def circleArea(radius):\n",
    "    return PI*radius*radius    # use value of global constant PI\n",
    "\n",
    "# function to calculate the circumference of a circle \n",
    "def circleCircumference(radius):\n",
    "    return 2*PI*radius         # use value of global constant PI\n",
    "\n",
    "# function to print out final values \n",
    "def circle_characteristics(radius):\n",
    "    print('circle area with radius 5:', circleArea(radius)) # call the circleArea function which is in global scope\n",
    "    print('circumference with radius 5:', circleCircumference(radius)) # call the circleCircumference function which is in global scope"
   ]
  },
  {
   "cell_type": "code",
   "execution_count": null,
   "metadata": {},
   "outputs": [],
   "source": [
    "### Garrett: PI all caps is a python convention for global variables"
   ]
  },
  {
   "cell_type": "code",
   "execution_count": null,
   "metadata": {},
   "outputs": [],
   "source": [
    "### "
   ]
  },
  {
   "cell_type": "code",
   "execution_count": 44,
   "metadata": {
    "scrolled": true
   },
   "outputs": [
    {
     "name": "stdout",
     "output_type": "stream",
     "text": [
      "circle area with radius 5: 314.159265358979\n",
      "circumference with radius 5: 62.8318530717958\n"
     ]
    }
   ],
   "source": [
    "radius = 10\n",
    "circle_characteristics(10)"
   ]
  },
  {
   "cell_type": "code",
   "execution_count": 5,
   "metadata": {
    "scrolled": false
   },
   "outputs": [
    {
     "name": "stdout",
     "output_type": "stream",
     "text": [
      "5\n"
     ]
    }
   ],
   "source": [
    "### playing around\n",
    "x = 5\n",
    "def my_func(x):\n",
    "    x = x + 1\n",
    "my_func(10)\n",
    "print(x)"
   ]
  },
  {
   "cell_type": "code",
   "execution_count": 57,
   "metadata": {
    "scrolled": false
   },
   "outputs": [
    {
     "name": "stdout",
     "output_type": "stream",
     "text": [
      "6\n"
     ]
    }
   ],
   "source": [
    "### playing around with scope\n",
    "def func_1_a():\n",
    "    a = 5    \n",
    "    func_1_b()\n",
    "\n",
    "def func_1_b():\n",
    "    print(a)\n",
    "    \n",
    "func_1()"
   ]
  },
  {
   "cell_type": "code",
   "execution_count": 58,
   "metadata": {},
   "outputs": [
    {
     "name": "stdout",
     "output_type": "stream",
     "text": [
      "6\n"
     ]
    }
   ],
   "source": []
  },
  {
   "cell_type": "code",
   "execution_count": 4,
   "metadata": {},
   "outputs": [
    {
     "ename": "NameError",
     "evalue": "free variable 'a' referenced before assignment in enclosing scope",
     "output_type": "error",
     "traceback": [
      "\u001b[1;31m---------------------------------------------------------------------------\u001b[0m",
      "\u001b[1;31mNameError\u001b[0m                                 Traceback (most recent call last)",
      "\u001b[1;32m<ipython-input-4-306f9c310fa1>\u001b[0m in \u001b[0;36m<module>\u001b[1;34m\u001b[0m\n\u001b[0;32m      9\u001b[0m     \u001b[0ma\u001b[0m \u001b[1;33m=\u001b[0m \u001b[1;36m5\u001b[0m\u001b[1;33m\u001b[0m\u001b[1;33m\u001b[0m\u001b[0m\n\u001b[0;32m     10\u001b[0m \u001b[1;33m\u001b[0m\u001b[0m\n\u001b[1;32m---> 11\u001b[1;33m \u001b[0mfunc_1\u001b[0m\u001b[1;33m(\u001b[0m\u001b[1;33m)\u001b[0m\u001b[1;33m\u001b[0m\u001b[1;33m\u001b[0m\u001b[0m\n\u001b[0m",
      "\u001b[1;32m<ipython-input-4-306f9c310fa1>\u001b[0m in \u001b[0;36mfunc_1\u001b[1;34m()\u001b[0m\n\u001b[0;32m      6\u001b[0m         \u001b[0mprint\u001b[0m\u001b[1;33m(\u001b[0m\u001b[0ma\u001b[0m\u001b[1;33m)\u001b[0m\u001b[1;33m\u001b[0m\u001b[1;33m\u001b[0m\u001b[0m\n\u001b[0;32m      7\u001b[0m \u001b[1;33m\u001b[0m\u001b[0m\n\u001b[1;32m----> 8\u001b[1;33m     \u001b[0mfunc_2\u001b[0m\u001b[1;33m(\u001b[0m\u001b[1;33m)\u001b[0m\u001b[1;33m\u001b[0m\u001b[1;33m\u001b[0m\u001b[0m\n\u001b[0m\u001b[0;32m      9\u001b[0m     \u001b[0ma\u001b[0m \u001b[1;33m=\u001b[0m \u001b[1;36m5\u001b[0m\u001b[1;33m\u001b[0m\u001b[1;33m\u001b[0m\u001b[0m\n\u001b[0;32m     10\u001b[0m \u001b[1;33m\u001b[0m\u001b[0m\n",
      "\u001b[1;32m<ipython-input-4-306f9c310fa1>\u001b[0m in \u001b[0;36mfunc_2\u001b[1;34m()\u001b[0m\n\u001b[0;32m      4\u001b[0m \u001b[1;33m\u001b[0m\u001b[0m\n\u001b[0;32m      5\u001b[0m     \u001b[1;32mdef\u001b[0m \u001b[0mfunc_2\u001b[0m\u001b[1;33m(\u001b[0m\u001b[1;33m)\u001b[0m\u001b[1;33m:\u001b[0m\u001b[1;33m\u001b[0m\u001b[1;33m\u001b[0m\u001b[0m\n\u001b[1;32m----> 6\u001b[1;33m         \u001b[0mprint\u001b[0m\u001b[1;33m(\u001b[0m\u001b[0ma\u001b[0m\u001b[1;33m)\u001b[0m\u001b[1;33m\u001b[0m\u001b[1;33m\u001b[0m\u001b[0m\n\u001b[0m\u001b[0;32m      7\u001b[0m \u001b[1;33m\u001b[0m\u001b[0m\n\u001b[0;32m      8\u001b[0m     \u001b[0mfunc_2\u001b[0m\u001b[1;33m(\u001b[0m\u001b[1;33m)\u001b[0m\u001b[1;33m\u001b[0m\u001b[1;33m\u001b[0m\u001b[0m\n",
      "\u001b[1;31mNameError\u001b[0m: free variable 'a' referenced before assignment in enclosing scope"
     ]
    }
   ],
   "source": [
    "### playing around with scope\n",
    "a= 10\n",
    "def func_1():\n",
    "\n",
    "    def func_2():\n",
    "        print(a)\n",
    "\n",
    "    func_2()\n",
    "    a = 5\n",
    "    \n",
    "func_1()"
   ]
  },
  {
   "cell_type": "code",
   "execution_count": null,
   "metadata": {},
   "outputs": [],
   "source": [
    "### this result shows that local variables do no"
   ]
  },
  {
   "cell_type": "code",
   "execution_count": null,
   "metadata": {},
   "outputs": [],
   "source": [
    "### #fup Jay had a question about scope. I'd like to pick his brain about it"
   ]
  },
  {
   "cell_type": "markdown",
   "metadata": {},
   "source": [
    "### 3.4.6 Methods:"
   ]
  },
  {
   "cell_type": "code",
   "execution_count": null,
   "metadata": {},
   "outputs": [],
   "source": [
    "### new section"
   ]
  },
  {
   "cell_type": "markdown",
   "metadata": {},
   "source": [
    "__Overview:__\n",
    "- __[Methods](https://docs.python.org/2/tutorial/classes.html#method-objects):__ Methods are a specific type of function that \"belongs\" to an object\n",
    "- Each object (for example, a `list`) has many \"capabilities\" (i.e. a `list` object is capable of the following: `append`, `remove`, `insert`, `count`, `extend`, etc.)\n",
    "- You can think of these \"capabilities\" as functions that ONLY lists are capable of (and therefore, `str` objects are not capable of) \n",
    "- These \"internal\" capabilities (functions) are strictly called __Methods__ since they are not stand-alone functions that you can use with any object, instead they are specific to the object they belong to\n",
    "- The general form of a __Method__ is: `obj.methodname()` where `obj` is some object and `methodname` is the name of a method that belongs to the object (or we can say the name of the function for illustrative purposes) \n",
    "\n",
    "__Helpful Points:__ \n",
    "1. To fully understand Methods, you will have to learn about __[Classes](https://en.wikipedia.org/wiki/Class_(computer_programming)__ and __Objects__ within the __[Object Oriented Programming](https://en.wikipedia.org/wiki/Object-oriented_programming)__ framework. However, this is out of the scope of this course and we will only learn what is necessary at this stage \n",
    "2. We have already seen many Methods for objects that were created as `list` and `str` types \n",
    "3. The parantheses `(` and `)` denote the arguments that are passed into the method in the same way thar arguments were passed into functions above \n",
    "4. It is possible to call a method on an object without any values insde the `(` and `)` because what happens is that the `obj` is actually passed in as an argument by default \n",
    "\n",
    "__Practice:__ Examples of Methods in Python "
   ]
  },
  {
   "cell_type": "markdown",
   "metadata": {},
   "source": [
    "### Part 1 (Methods for Objects of `str` Type):\n",
    "\n",
    "Recall the comprehensive list of functions that worked on Strings. We can now understand these for what they really are: __[String Methods](https://docs.python.org/3/library/stdtypes.html#string-methods)__."
   ]
  },
  {
   "cell_type": "markdown",
   "metadata": {},
   "source": [
    "### Example 1.1 (Methods with No Arguments):"
   ]
  },
  {
   "cell_type": "code",
   "execution_count": 6,
   "metadata": {},
   "outputs": [],
   "source": [
    "my_str = \"Gordon\""
   ]
  },
  {
   "cell_type": "code",
   "execution_count": 7,
   "metadata": {},
   "outputs": [
    {
     "name": "stdout",
     "output_type": "stream",
     "text": [
      "GORDON\n"
     ]
    }
   ],
   "source": [
    "# method to make string upper case \n",
    "my_str = my_str.upper() # my_str is the object and upper is the method name\n",
    "print(my_str)"
   ]
  },
  {
   "cell_type": "code",
   "execution_count": 8,
   "metadata": {},
   "outputs": [
    {
     "name": "stdout",
     "output_type": "stream",
     "text": [
      "gordon\n"
     ]
    }
   ],
   "source": [
    "# method to make string lower case \n",
    "my_str = my_str.lower() # my_str is the object and lower is the method name\n",
    "print(my_str)"
   ]
  },
  {
   "cell_type": "markdown",
   "metadata": {},
   "source": [
    "### Example 1.2 (Methods with Arguments):"
   ]
  },
  {
   "cell_type": "code",
   "execution_count": 9,
   "metadata": {},
   "outputs": [
    {
     "name": "stdout",
     "output_type": "stream",
     "text": [
      "jordon\n"
     ]
    }
   ],
   "source": [
    "# method to replace \"g\" with \"j\"\n",
    "my_str = my_str.replace(\"g\", \"j\") # my_str is the object and replace is the method name \n",
    "print(my_str)"
   ]
  },
  {
   "cell_type": "code",
   "execution_count": 10,
   "metadata": {},
   "outputs": [
    {
     "data": {
      "text/plain": [
       "1"
      ]
     },
     "execution_count": 10,
     "metadata": {},
     "output_type": "execute_result"
    }
   ],
   "source": [
    "# method to find the first occurrence of a character in a string\n",
    "my_str.find(\"o\") # my_str is the object and find is the method name "
   ]
  },
  {
   "cell_type": "markdown",
   "metadata": {},
   "source": [
    "### Part 2 (Methods for Objects of `list` Type):\n",
    "\n",
    "Recall the comprehensive list of functions that worked on Lists. We can now understand these for what they really are: __[List Methods](https://docs.python.org/3/tutorial/datastructures.html)__."
   ]
  },
  {
   "cell_type": "markdown",
   "metadata": {},
   "source": [
    "### Example 2.1 (Methods with No Arguments):"
   ]
  },
  {
   "cell_type": "code",
   "execution_count": 11,
   "metadata": {},
   "outputs": [],
   "source": [
    "my_list = [\"a\", \"G\", 1, 2]"
   ]
  },
  {
   "cell_type": "code",
   "execution_count": 12,
   "metadata": {},
   "outputs": [
    {
     "name": "stdout",
     "output_type": "stream",
     "text": [
      "None\n"
     ]
    }
   ],
   "source": [
    "# method to replace renove all items from the list \n",
    "my_list = my_list.clear() # my_list is the object and clear is the method name \n",
    "print(my_list)"
   ]
  },
  {
   "cell_type": "code",
   "execution_count": 13,
   "metadata": {},
   "outputs": [],
   "source": [
    "my_list = [\"a\", \"G\", 1, 2]"
   ]
  },
  {
   "cell_type": "code",
   "execution_count": 14,
   "metadata": {},
   "outputs": [
    {
     "name": "stdout",
     "output_type": "stream",
     "text": [
      "[2, 1, 'G', 'a']\n"
     ]
    }
   ],
   "source": [
    "# method to replace reverse the elements of the list in place\n",
    "my_list.reverse() # my_list is the object and clear is the method name \n",
    "print(my_list)"
   ]
  },
  {
   "cell_type": "markdown",
   "metadata": {},
   "source": [
    "### Example 2.2 (Methods with Arguments):"
   ]
  },
  {
   "cell_type": "code",
   "execution_count": 15,
   "metadata": {},
   "outputs": [],
   "source": [
    "my_list = [\"a\", \"G\", 1, 2]"
   ]
  },
  {
   "cell_type": "code",
   "execution_count": 16,
   "metadata": {},
   "outputs": [
    {
     "name": "stdout",
     "output_type": "stream",
     "text": [
      "['a', 'G', 1, 2, 'NEW']\n"
     ]
    }
   ],
   "source": [
    "# method to add an item to the end of the list \n",
    "my_list.append(\"NEW\") # my_list is the object and append is the method name \n",
    "print(my_list)"
   ]
  },
  {
   "cell_type": "code",
   "execution_count": 17,
   "metadata": {},
   "outputs": [],
   "source": [
    "my_list = [\"a\", \"G\", 1, 2]"
   ]
  },
  {
   "cell_type": "code",
   "execution_count": 18,
   "metadata": {},
   "outputs": [
    {
     "name": "stdout",
     "output_type": "stream",
     "text": [
      "['a', 'G', 'NEW', 1, 2]\n"
     ]
    }
   ],
   "source": [
    "# method to insert an item at a given position \n",
    "my_list.insert(2, \"NEW\") # my_list is the object and insert is the method name \n",
    "print(my_list)"
   ]
  },
  {
   "cell_type": "markdown",
   "metadata": {},
   "source": [
    "### 3.4.7 Modules:"
   ]
  },
  {
   "cell_type": "markdown",
   "metadata": {},
   "source": [
    "### 3.4.7.1 What is a Module?"
   ]
  },
  {
   "cell_type": "code",
   "execution_count": 74,
   "metadata": {},
   "outputs": [],
   "source": [
    "### what is ipython (which garrett says is what a jupyter notebook runs) is it like python on the command line\n",
    "### it is the stuff under the hood that runs Jupyter notebooks and makes python available there"
   ]
  },
  {
   "cell_type": "markdown",
   "metadata": {},
   "source": [
    "__Overview:__\n",
    "- A [__Module__](https://docs.python.org/3/tutorial/modules.html) is a file containing Python definitions and statements. You can think of a Module as a Python file (file extension `.py`) with a bunch of Python code (variables, functions, etc.) \n",
    "- Each __Jupyter Notebook Document__ is its own \"session\" and when you close a file, you can no longer access its statements (i.e. variables) and definitions (i.e. functions). For example, in this document we can't load in any variables from Lectures 1 or 2\n",
    "- Therefore, we need a way of saving code in a file and importing the file into our current session without having to physically copy and paste all the code again - this would allow us to access the statements and definitions of that file within our current session \n",
    "\n",
    "__Helpful Points:__\n",
    "1. In order to import a module into your current session, the module has to be in the same directory as the file you are trying to import from \n",
    "2. Python already has created an extensive list of modules known as the __[Standard Modules](https://docs.python.org/3/py-modindex.html#cap-s)__ which can be imported into any document \n",
    "\n",
    "__Practice:__ Examples of Creating Modules in Python "
   ]
  },
  {
   "cell_type": "markdown",
   "metadata": {},
   "source": [
    "### Example 1 (Creating Modules):\n",
    "\n",
    "In addition to the Modules that Python has already created, we can also create our own modules and then import them into our session. Steps for creating a module:\n",
    "\n",
    "> 1. Create a Python script (either from a text editor or converting a Jupyter Notebook Document into a `.py` file) with some statements and definitions (see the `fibo.ipynb` file and select File -> Downloas as -> Python (.py)) \n",
    "> 2. Save this Python script into the same directory as your current session's directory (save `fibo.py` in your current directory) "
   ]
  },
  {
   "cell_type": "markdown",
   "metadata": {},
   "source": [
    "### 3.4.7.2 Importing Modules:"
   ]
  },
  {
   "cell_type": "markdown",
   "metadata": {},
   "source": [
    "__Overview:__\n",
    "- There are many ways to actually import modules into Python:\n",
    "> 1. __Method 1:__ Import the entire module all at once: `import module_name` \n",
    "> 2. __Method 2:__ Import specific names from a module: `from module_name import func_1`. If there are additional names in the module other than `func_`, they will not be loaded in \n",
    "> 3. __Method 3:__ Import all names from a module (not encouraged since it may conflict with the names of the existing objects in your current environment): `from module_name import *` \n",
    "> 4. __Method 4:__ Import module with an alias: `import module_name as module_name_new`. Same as Method 1, but the module has to be referred to by its new name. You can also import a name within a module as an alias: `from module_name as func_name_new`.  \n",
    "\n",
    "__Helpful Points:__\n",
    "1. After importing a module, you can always use the `dir(module_name)` function on a module to find out what names are defined by that module (i.e. what functions did you load in when importing the file )\n",
    "2. At any time, you can use the `dir()` function with no input to find out what names you have currently defined in your session (i.e. variables, modules, functions, etc.)\n",
    "3. To access the functions within a module, use the same notation we did with methods (`module_name.func_name()`)\n",
    "\n",
    "__Practice:__ Examples of Importing Modules in Python"
   ]
  },
  {
   "cell_type": "markdown",
   "metadata": {},
   "source": [
    "### Part 1 (Importing the `fibo` module):"
   ]
  },
  {
   "cell_type": "markdown",
   "metadata": {},
   "source": [
    "Note: This is what the `fibo` module actually looks like. You don't have to run the cell below, it is provided only to illustrate the purpose of the file. "
   ]
  },
  {
   "cell_type": "code",
   "execution_count": null,
   "metadata": {},
   "outputs": [],
   "source": [
    "# Fibonacci numbers module\n",
    "\n",
    "#def fib(n):    # write Fibonacci series up to n\n",
    "#    a, b = 0, 1\n",
    "#    while b < n:\n",
    "#        print(b, end=' ')\n",
    "#        a, b = b, a+b\n",
    "#    print()\n",
    "\n",
    "#def fib2(n):   # return Fibonacci series up to n\n",
    "#    result = []\n",
    "#    a, b = 0, 1\n",
    "#    while b < n:\n",
    "#        result.append(b)\n",
    "#        a, b = b, a+b\n",
    "#    return result"
   ]
  },
  {
   "cell_type": "markdown",
   "metadata": {},
   "source": [
    "### Example 1.1 (Importing using Method 1):"
   ]
  },
  {
   "cell_type": "code",
   "execution_count": 19,
   "metadata": {},
   "outputs": [
    {
     "name": "stdout",
     "output_type": "stream",
     "text": [
      "Once deleted, variables cannot be recovered. Proceed (y/[n])? y\n"
     ]
    }
   ],
   "source": [
    "# clear our namespace so we can track variables entering with modules (recall the Magic Commands from Lecture 1)\n",
    "%reset"
   ]
  },
  {
   "cell_type": "code",
   "execution_count": 20,
   "metadata": {
    "scrolled": false
   },
   "outputs": [
    {
     "name": "stdout",
     "output_type": "stream",
     "text": [
      "No variables match your requested type.\n"
     ]
    }
   ],
   "source": [
    "%whos # check what variables are in our namespace "
   ]
  },
  {
   "cell_type": "code",
   "execution_count": 21,
   "metadata": {},
   "outputs": [],
   "source": [
    "import fibo"
   ]
  },
  {
   "cell_type": "code",
   "execution_count": 22,
   "metadata": {},
   "outputs": [
    {
     "name": "stdout",
     "output_type": "stream",
     "text": [
      "Variable   Type      Data/Info\n",
      "------------------------------\n",
      "fibo       module    <module 'fibo' from 'C:\\\\<...>res\\\\Lecture_3\\\\fibo.py'>\n"
     ]
    }
   ],
   "source": [
    "%whos # method 1 does not enter the names of the functions defined in fibo module directly, it only enters the module name"
   ]
  },
  {
   "cell_type": "code",
   "execution_count": 23,
   "metadata": {
    "scrolled": false
   },
   "outputs": [
    {
     "data": {
      "text/plain": [
       "['__builtins__',\n",
       " '__cached__',\n",
       " '__doc__',\n",
       " '__file__',\n",
       " '__loader__',\n",
       " '__name__',\n",
       " '__package__',\n",
       " '__spec__',\n",
       " 'fib',\n",
       " 'fib2']"
      ]
     },
     "execution_count": 23,
     "metadata": {},
     "output_type": "execute_result"
    }
   ],
   "source": [
    "dir(fibo)"
   ]
  },
  {
   "cell_type": "code",
   "execution_count": 24,
   "metadata": {},
   "outputs": [
    {
     "name": "stdout",
     "output_type": "stream",
     "text": [
      "1 1 2 3 5 8 13 21 34 55 89 \n"
     ]
    }
   ],
   "source": [
    "# now we can use the functions inside the fibo module \n",
    "fibo.fib(100) # function writes the Fibonacci series up to n "
   ]
  },
  {
   "cell_type": "code",
   "execution_count": 25,
   "metadata": {
    "scrolled": true
   },
   "outputs": [
    {
     "name": "stdout",
     "output_type": "stream",
     "text": [
      "[1, 1, 2, 3, 5, 8, 13, 21, 34, 55, 89]\n"
     ]
    }
   ],
   "source": [
    "fib_series = fibo.fib2(100) # function returns the Fibonacci series up to n \n",
    "print(fib_series)"
   ]
  },
  {
   "cell_type": "markdown",
   "metadata": {},
   "source": [
    "### Example 1.2 (Importing using Method 2):"
   ]
  },
  {
   "cell_type": "code",
   "execution_count": 27,
   "metadata": {
    "scrolled": false
   },
   "outputs": [
    {
     "name": "stdout",
     "output_type": "stream",
     "text": [
      "Once deleted, variables cannot be recovered. Proceed (y/[n])? y\n"
     ]
    }
   ],
   "source": [
    "%reset"
   ]
  },
  {
   "cell_type": "code",
   "execution_count": 28,
   "metadata": {},
   "outputs": [],
   "source": [
    "from fibo import fib # only the fib function is imported and not the fib2 function "
   ]
  },
  {
   "cell_type": "code",
   "execution_count": 29,
   "metadata": {
    "scrolled": true
   },
   "outputs": [
    {
     "name": "stdout",
     "output_type": "stream",
     "text": [
      "Variable   Type        Data/Info\n",
      "--------------------------------\n",
      "fib        function    <function fib at 0x000001C911D3C8C8>\n"
     ]
    }
   ],
   "source": [
    "%whos # method 2 does not enter the name of the module directly, it only enters the name of the function "
   ]
  },
  {
   "cell_type": "code",
   "execution_count": 30,
   "metadata": {},
   "outputs": [
    {
     "ename": "NameError",
     "evalue": "name 'fibo' is not defined",
     "output_type": "error",
     "traceback": [
      "\u001b[1;31m---------------------------------------------------------------------------\u001b[0m",
      "\u001b[1;31mNameError\u001b[0m                                 Traceback (most recent call last)",
      "\u001b[1;32m<ipython-input-30-d0647c02f311>\u001b[0m in \u001b[0;36m<module>\u001b[1;34m\u001b[0m\n\u001b[1;32m----> 1\u001b[1;33m \u001b[0mdir\u001b[0m\u001b[1;33m(\u001b[0m\u001b[0mfibo\u001b[0m\u001b[1;33m)\u001b[0m \u001b[1;31m# see above, the fibo module is not in our namespace\u001b[0m\u001b[1;33m\u001b[0m\u001b[1;33m\u001b[0m\u001b[0m\n\u001b[0m",
      "\u001b[1;31mNameError\u001b[0m: name 'fibo' is not defined"
     ]
    }
   ],
   "source": [
    "dir(fibo) # see above, the fibo module is not in our namespace "
   ]
  },
  {
   "cell_type": "code",
   "execution_count": 31,
   "metadata": {},
   "outputs": [
    {
     "name": "stdout",
     "output_type": "stream",
     "text": [
      "1 1 2 3 5 8 13 21 34 55 89 \n"
     ]
    }
   ],
   "source": [
    "# now we can use the function as if it was a stand alone function \n",
    "fib(100) # function writes the Fibonacci series up to n "
   ]
  },
  {
   "cell_type": "code",
   "execution_count": 32,
   "metadata": {
    "scrolled": true
   },
   "outputs": [
    {
     "ename": "NameError",
     "evalue": "name 'fib2' is not defined",
     "output_type": "error",
     "traceback": [
      "\u001b[1;31m---------------------------------------------------------------------------\u001b[0m",
      "\u001b[1;31mNameError\u001b[0m                                 Traceback (most recent call last)",
      "\u001b[1;32m<ipython-input-32-affdd321777f>\u001b[0m in \u001b[0;36m<module>\u001b[1;34m\u001b[0m\n\u001b[1;32m----> 1\u001b[1;33m \u001b[0mfib_series\u001b[0m \u001b[1;33m=\u001b[0m \u001b[0mfib2\u001b[0m\u001b[1;33m(\u001b[0m\u001b[1;36m100\u001b[0m\u001b[1;33m)\u001b[0m \u001b[1;31m# function is not in namespace\u001b[0m\u001b[1;33m\u001b[0m\u001b[1;33m\u001b[0m\u001b[0m\n\u001b[0m\u001b[0;32m      2\u001b[0m \u001b[0mprint\u001b[0m\u001b[1;33m(\u001b[0m\u001b[0mfib_series\u001b[0m\u001b[1;33m)\u001b[0m\u001b[1;33m\u001b[0m\u001b[1;33m\u001b[0m\u001b[0m\n",
      "\u001b[1;31mNameError\u001b[0m: name 'fib2' is not defined"
     ]
    }
   ],
   "source": [
    "fib_series = fib2(100) # function is not in namespace \n",
    "print(fib_series)"
   ]
  },
  {
   "cell_type": "markdown",
   "metadata": {},
   "source": [
    "### Example 1.3 (Importing using Method 3):"
   ]
  },
  {
   "cell_type": "code",
   "execution_count": 33,
   "metadata": {
    "scrolled": false
   },
   "outputs": [
    {
     "name": "stdout",
     "output_type": "stream",
     "text": [
      "Once deleted, variables cannot be recovered. Proceed (y/[n])? y\n"
     ]
    }
   ],
   "source": [
    "%reset"
   ]
  },
  {
   "cell_type": "code",
   "execution_count": 34,
   "metadata": {},
   "outputs": [],
   "source": [
    "from fibo import * # all the names from the fibo module are imported "
   ]
  },
  {
   "cell_type": "code",
   "execution_count": 35,
   "metadata": {
    "scrolled": true
   },
   "outputs": [
    {
     "name": "stdout",
     "output_type": "stream",
     "text": [
      "Variable   Type        Data/Info\n",
      "--------------------------------\n",
      "fib        function    <function fib at 0x000001C911D3C8C8>\n",
      "fib2       function    <function fib2 at 0x000001C911E63D08>\n"
     ]
    }
   ],
   "source": [
    "%whos # method 3 also does not enter the name of the module directly, it only enters the names of the function that were laoded in"
   ]
  },
  {
   "cell_type": "code",
   "execution_count": 36,
   "metadata": {
    "scrolled": true
   },
   "outputs": [
    {
     "ename": "NameError",
     "evalue": "name 'fibo' is not defined",
     "output_type": "error",
     "traceback": [
      "\u001b[1;31m---------------------------------------------------------------------------\u001b[0m",
      "\u001b[1;31mNameError\u001b[0m                                 Traceback (most recent call last)",
      "\u001b[1;32m<ipython-input-36-d0647c02f311>\u001b[0m in \u001b[0;36m<module>\u001b[1;34m\u001b[0m\n\u001b[1;32m----> 1\u001b[1;33m \u001b[0mdir\u001b[0m\u001b[1;33m(\u001b[0m\u001b[0mfibo\u001b[0m\u001b[1;33m)\u001b[0m \u001b[1;31m# see above, the fibo module is not in our namespace\u001b[0m\u001b[1;33m\u001b[0m\u001b[1;33m\u001b[0m\u001b[0m\n\u001b[0m",
      "\u001b[1;31mNameError\u001b[0m: name 'fibo' is not defined"
     ]
    }
   ],
   "source": [
    "dir(fibo) # see above, the fibo module is not in our namespace "
   ]
  },
  {
   "cell_type": "code",
   "execution_count": 37,
   "metadata": {},
   "outputs": [
    {
     "name": "stdout",
     "output_type": "stream",
     "text": [
      "1 1 2 3 5 8 13 21 34 55 89 \n"
     ]
    }
   ],
   "source": [
    "fib(100) # function writes the Fibonacci series up to n "
   ]
  },
  {
   "cell_type": "code",
   "execution_count": 38,
   "metadata": {
    "scrolled": false
   },
   "outputs": [
    {
     "name": "stdout",
     "output_type": "stream",
     "text": [
      "[1, 1, 2, 3, 5, 8, 13, 21, 34, 55, 89]\n"
     ]
    }
   ],
   "source": [
    "fib_series = fib2(100) # function returns the Fibonacci series up to n \n",
    "print(fib_series)"
   ]
  },
  {
   "cell_type": "markdown",
   "metadata": {},
   "source": [
    "### Example 1.4 (Importing using Method 4):"
   ]
  },
  {
   "cell_type": "code",
   "execution_count": 39,
   "metadata": {},
   "outputs": [
    {
     "name": "stdout",
     "output_type": "stream",
     "text": [
      "Once deleted, variables cannot be recovered. Proceed (y/[n])? y\n"
     ]
    }
   ],
   "source": [
    "%reset"
   ]
  },
  {
   "cell_type": "code",
   "execution_count": 40,
   "metadata": {},
   "outputs": [],
   "source": [
    "import fibo as fibo_new"
   ]
  },
  {
   "cell_type": "code",
   "execution_count": 41,
   "metadata": {
    "scrolled": true
   },
   "outputs": [
    {
     "name": "stdout",
     "output_type": "stream",
     "text": [
      "Variable   Type      Data/Info\n",
      "------------------------------\n",
      "fibo_new   module    <module 'fibo' from 'C:\\\\<...>res\\\\Lecture_3\\\\fibo.py'>\n"
     ]
    }
   ],
   "source": [
    "%whos # method 4 acts like method 1 but loads in the module by a different name "
   ]
  },
  {
   "cell_type": "code",
   "execution_count": 42,
   "metadata": {
    "scrolled": false
   },
   "outputs": [
    {
     "data": {
      "text/plain": [
       "['__builtins__',\n",
       " '__cached__',\n",
       " '__doc__',\n",
       " '__file__',\n",
       " '__loader__',\n",
       " '__name__',\n",
       " '__package__',\n",
       " '__spec__',\n",
       " 'fib',\n",
       " 'fib2']"
      ]
     },
     "execution_count": 42,
     "metadata": {},
     "output_type": "execute_result"
    }
   ],
   "source": [
    "dir(fibo_new)"
   ]
  },
  {
   "cell_type": "code",
   "execution_count": 43,
   "metadata": {},
   "outputs": [
    {
     "name": "stdout",
     "output_type": "stream",
     "text": [
      "1 1 2 3 5 8 13 21 34 55 89 \n"
     ]
    }
   ],
   "source": [
    "# now we can use the functions inside the fibo_new module \n",
    "fibo_new.fib(100) # function writes the Fibonacci series up to n "
   ]
  },
  {
   "cell_type": "code",
   "execution_count": 44,
   "metadata": {
    "scrolled": true
   },
   "outputs": [
    {
     "name": "stdout",
     "output_type": "stream",
     "text": [
      "[1, 1, 2, 3, 5, 8, 13, 21, 34, 55, 89]\n"
     ]
    }
   ],
   "source": [
    "fib_series = fibo_new.fib2(100) # function returns the Fibonacci series up to n \n",
    "print(fib_series)"
   ]
  },
  {
   "cell_type": "markdown",
   "metadata": {},
   "source": [
    "### Part 2 (Importing Other Modules):\n",
    "\n",
    "Import the `math` module "
   ]
  },
  {
   "cell_type": "markdown",
   "metadata": {},
   "source": [
    "### Example 1 (Importing Using Method 1):"
   ]
  },
  {
   "cell_type": "code",
   "execution_count": 45,
   "metadata": {},
   "outputs": [
    {
     "name": "stdout",
     "output_type": "stream",
     "text": [
      "Once deleted, variables cannot be recovered. Proceed (y/[n])? y\n"
     ]
    }
   ],
   "source": [
    "# clear our namespace so we can track variables entering with modules (recall the Magic Commands from Lecture 1)\n",
    "%reset"
   ]
  },
  {
   "cell_type": "code",
   "execution_count": 46,
   "metadata": {},
   "outputs": [],
   "source": [
    "import math"
   ]
  },
  {
   "cell_type": "code",
   "execution_count": 47,
   "metadata": {},
   "outputs": [
    {
     "name": "stdout",
     "output_type": "stream",
     "text": [
      "Variable   Type      Data/Info\n",
      "------------------------------\n",
      "math       module    <module 'math' (built-in)>\n"
     ]
    }
   ],
   "source": [
    "%whos"
   ]
  },
  {
   "cell_type": "code",
   "execution_count": 48,
   "metadata": {
    "scrolled": false
   },
   "outputs": [
    {
     "name": "stdout",
     "output_type": "stream",
     "text": [
      "['__doc__', '__loader__', '__name__', '__package__', '__spec__', 'acos', 'acosh', 'asin', 'asinh', 'atan', 'atan2', 'atanh', 'ceil', 'copysign', 'cos', 'cosh', 'degrees', 'e', 'erf', 'erfc', 'exp', 'expm1', 'fabs', 'factorial', 'floor', 'fmod', 'frexp', 'fsum', 'gamma', 'gcd', 'hypot', 'inf', 'isclose', 'isfinite', 'isinf', 'isnan', 'ldexp', 'lgamma', 'log', 'log10', 'log1p', 'log2', 'modf', 'nan', 'pi', 'pow', 'radians', 'remainder', 'sin', 'sinh', 'sqrt', 'tan', 'tanh', 'tau', 'trunc']\n"
     ]
    }
   ],
   "source": [
    "print(dir(math))"
   ]
  },
  {
   "cell_type": "code",
   "execution_count": 49,
   "metadata": {},
   "outputs": [
    {
     "data": {
      "text/plain": [
       "3.141592653589793"
      ]
     },
     "execution_count": 49,
     "metadata": {},
     "output_type": "execute_result"
    }
   ],
   "source": [
    "# built-in pi name\n",
    "math.pi"
   ]
  },
  {
   "cell_type": "markdown",
   "metadata": {},
   "source": [
    "### Example 1.2 (Importing using Method 2):"
   ]
  },
  {
   "cell_type": "code",
   "execution_count": 50,
   "metadata": {
    "scrolled": false
   },
   "outputs": [
    {
     "name": "stdout",
     "output_type": "stream",
     "text": [
      "Once deleted, variables cannot be recovered. Proceed (y/[n])? y\n"
     ]
    }
   ],
   "source": [
    "%reset"
   ]
  },
  {
   "cell_type": "code",
   "execution_count": 51,
   "metadata": {},
   "outputs": [],
   "source": [
    "from math import sin"
   ]
  },
  {
   "cell_type": "code",
   "execution_count": 52,
   "metadata": {
    "scrolled": true
   },
   "outputs": [
    {
     "name": "stdout",
     "output_type": "stream",
     "text": [
      "Variable   Type                          Data/Info\n",
      "--------------------------------------------------\n",
      "sin        builtin_function_or_method    <built-in function sin>\n"
     ]
    }
   ],
   "source": [
    "%whos"
   ]
  },
  {
   "cell_type": "code",
   "execution_count": 53,
   "metadata": {},
   "outputs": [
    {
     "data": {
      "text/plain": [
       "0.8414709848078965"
      ]
     },
     "execution_count": 53,
     "metadata": {},
     "output_type": "execute_result"
    }
   ],
   "source": [
    "sin(1)"
   ]
  },
  {
   "cell_type": "markdown",
   "metadata": {},
   "source": [
    "### Example 1.3 (Importing using Method 3):"
   ]
  },
  {
   "cell_type": "code",
   "execution_count": 54,
   "metadata": {
    "scrolled": false
   },
   "outputs": [
    {
     "name": "stdout",
     "output_type": "stream",
     "text": [
      "Once deleted, variables cannot be recovered. Proceed (y/[n])? y\n"
     ]
    }
   ],
   "source": [
    "%reset"
   ]
  },
  {
   "cell_type": "code",
   "execution_count": 55,
   "metadata": {},
   "outputs": [],
   "source": [
    "from math import * "
   ]
  },
  {
   "cell_type": "code",
   "execution_count": 56,
   "metadata": {
    "scrolled": true
   },
   "outputs": [
    {
     "name": "stdout",
     "output_type": "stream",
     "text": [
      "Variable    Type                          Data/Info\n",
      "---------------------------------------------------\n",
      "acos        builtin_function_or_method    <built-in function acos>\n",
      "acosh       builtin_function_or_method    <built-in function acosh>\n",
      "asin        builtin_function_or_method    <built-in function asin>\n",
      "asinh       builtin_function_or_method    <built-in function asinh>\n",
      "atan        builtin_function_or_method    <built-in function atan>\n",
      "atan2       builtin_function_or_method    <built-in function atan2>\n",
      "atanh       builtin_function_or_method    <built-in function atanh>\n",
      "ceil        builtin_function_or_method    <built-in function ceil>\n",
      "copysign    builtin_function_or_method    <built-in function copysign>\n",
      "cos         builtin_function_or_method    <built-in function cos>\n",
      "cosh        builtin_function_or_method    <built-in function cosh>\n",
      "degrees     builtin_function_or_method    <built-in function degrees>\n",
      "e           float                         2.718281828459045\n",
      "erf         builtin_function_or_method    <built-in function erf>\n",
      "erfc        builtin_function_or_method    <built-in function erfc>\n",
      "exp         builtin_function_or_method    <built-in function exp>\n",
      "expm1       builtin_function_or_method    <built-in function expm1>\n",
      "fabs        builtin_function_or_method    <built-in function fabs>\n",
      "factorial   builtin_function_or_method    <built-in function factorial>\n",
      "floor       builtin_function_or_method    <built-in function floor>\n",
      "fmod        builtin_function_or_method    <built-in function fmod>\n",
      "frexp       builtin_function_or_method    <built-in function frexp>\n",
      "fsum        builtin_function_or_method    <built-in function fsum>\n",
      "gamma       builtin_function_or_method    <built-in function gamma>\n",
      "gcd         builtin_function_or_method    <built-in function gcd>\n",
      "hypot       builtin_function_or_method    <built-in function hypot>\n",
      "inf         float                         inf\n",
      "isclose     builtin_function_or_method    <built-in function isclose>\n",
      "isfinite    builtin_function_or_method    <built-in function isfinite>\n",
      "isinf       builtin_function_or_method    <built-in function isinf>\n",
      "isnan       builtin_function_or_method    <built-in function isnan>\n",
      "ldexp       builtin_function_or_method    <built-in function ldexp>\n",
      "lgamma      builtin_function_or_method    <built-in function lgamma>\n",
      "log         builtin_function_or_method    <built-in function log>\n",
      "log10       builtin_function_or_method    <built-in function log10>\n",
      "log1p       builtin_function_or_method    <built-in function log1p>\n",
      "log2        builtin_function_or_method    <built-in function log2>\n",
      "modf        builtin_function_or_method    <built-in function modf>\n",
      "nan         float                         nan\n",
      "pi          float                         3.141592653589793\n",
      "pow         builtin_function_or_method    <built-in function pow>\n",
      "radians     builtin_function_or_method    <built-in function radians>\n",
      "remainder   builtin_function_or_method    <built-in function remainder>\n",
      "sin         builtin_function_or_method    <built-in function sin>\n",
      "sinh        builtin_function_or_method    <built-in function sinh>\n",
      "sqrt        builtin_function_or_method    <built-in function sqrt>\n",
      "tan         builtin_function_or_method    <built-in function tan>\n",
      "tanh        builtin_function_or_method    <built-in function tanh>\n",
      "tau         float                         6.283185307179586\n",
      "trunc       builtin_function_or_method    <built-in function trunc>\n"
     ]
    }
   ],
   "source": [
    "%whos"
   ]
  },
  {
   "cell_type": "code",
   "execution_count": 57,
   "metadata": {},
   "outputs": [
    {
     "data": {
      "text/plain": [
       "20.085536923187668"
      ]
     },
     "execution_count": 57,
     "metadata": {},
     "output_type": "execute_result"
    }
   ],
   "source": [
    "exp(3)"
   ]
  },
  {
   "cell_type": "code",
   "execution_count": 58,
   "metadata": {
    "scrolled": false
   },
   "outputs": [
    {
     "data": {
      "text/plain": [
       "24"
      ]
     },
     "execution_count": 58,
     "metadata": {},
     "output_type": "execute_result"
    }
   ],
   "source": [
    "factorial(4)"
   ]
  },
  {
   "cell_type": "markdown",
   "metadata": {},
   "source": [
    "### Example 1.4 (Importing using Method 4):"
   ]
  },
  {
   "cell_type": "code",
   "execution_count": 59,
   "metadata": {
    "scrolled": true
   },
   "outputs": [
    {
     "name": "stdout",
     "output_type": "stream",
     "text": [
      "Once deleted, variables cannot be recovered. Proceed (y/[n])? y\n"
     ]
    }
   ],
   "source": [
    "%reset"
   ]
  },
  {
   "cell_type": "code",
   "execution_count": 60,
   "metadata": {},
   "outputs": [],
   "source": [
    "import math as math_mod"
   ]
  },
  {
   "cell_type": "code",
   "execution_count": 61,
   "metadata": {
    "scrolled": true
   },
   "outputs": [
    {
     "name": "stdout",
     "output_type": "stream",
     "text": [
      "Variable   Type      Data/Info\n",
      "------------------------------\n",
      "math_mod   module    <module 'math' (built-in)>\n"
     ]
    }
   ],
   "source": [
    "%whos # method 4 acts like method 1 but loads in the module by a different name "
   ]
  },
  {
   "cell_type": "code",
   "execution_count": 62,
   "metadata": {
    "scrolled": true
   },
   "outputs": [
    {
     "data": {
      "text/plain": [
       "3.141592653589793"
      ]
     },
     "execution_count": 62,
     "metadata": {},
     "output_type": "execute_result"
    }
   ],
   "source": [
    "math_mod.pi"
   ]
  },
  {
   "cell_type": "code",
   "execution_count": null,
   "metadata": {},
   "outputs": [],
   "source": [
    "### okay, cool, I understand this material on packages"
   ]
  },
  {
   "cell_type": "markdown",
   "metadata": {},
   "source": [
    "### 3.4.7.3 Packages:"
   ]
  },
  {
   "cell_type": "code",
   "execution_count": null,
   "metadata": {},
   "outputs": [],
   "source": [
    "### a new section"
   ]
  },
  {
   "cell_type": "markdown",
   "metadata": {},
   "source": [
    "__Overview:__ \n",
    "- In the same way that we group together similar functions and names within a file and call it a module, we also need to group together similar modules and we call this a __Package__ \n",
    "- __[Packages](https://docs.python.org/3/tutorial/modules.html#tut-packages):__ Packages are a collection of similar modules that frequently are used together \n",
    "- The hierarchy is the following: Within a __Package__, there are __Sub-Packages__ and within Sub-Packages, there are __Modules__ and within Modules, there are statements and definitions \n",
    "- To access a module from a package, use the following notation: `Package_Name.Module_Name` where the `Module_Name` belongs to the `Package_Name`. Or if there exists sub-packages, access modules within sub-packages using the following notation: `Package_Name.Sub_Package_Name.Module_Name`  \n",
    "\n",
    "__Helpful Points:__ \n",
    "1. In the same way that Modules are helpful as they avoid the issue of multiple programmers calling statements and definitions by the same name, Packages are helpful as they avoid the issue of multiple programmers calling modules by the same name \n",
    "2. Definitions and statements are to Modules as Modules are to Packages \n",
    "3. Importing Packages and Sub-Packages should be treated in the same way that Modules and Statements/Functions are imported (see the 4 methods above)\n",
    "\n",
    "__Practice:__ Exaples of Importing Packages in Python "
   ]
  },
  {
   "cell_type": "code",
   "execution_count": null,
   "metadata": {},
   "outputs": [],
   "source": [
    "### #fup ? how does python know whether you are importing a package or a sub-package or a module?  # office hours"
   ]
  },
  {
   "cell_type": "markdown",
   "metadata": {},
   "source": [
    "### Example 1 (Example of Package Hierarchy):\n",
    "\n",
    "Python's documentation has a very helpful example of understanding Package hierarchy:  \n",
    "![image](img21.png)"
   ]
  },
  {
   "cell_type": "markdown",
   "metadata": {},
   "source": [
    "> 1. __Import a module in a sub-package (1):__ `import sound.effects.echo` Since the sub-module is loaded in, we have to use the following notation to access a function within this sub-module (see Import Method 1 above): `sound.effects.echo.echofilter()`\n",
    "> 2. __Import a module in a sub-package (2):__ `from sound.effects import echo` which would use the following notation to access a function within this sub-module (see Import Method 2 above): `echo.echofilter()`\n",
    "> 3. __Import a function in a module in a sub-package:__ `from sound.effects.echo import echofilter` which would use the following notation to execute the function (see Import Method 2 above): `echoftiler()`  "
   ]
  },
  {
   "cell_type": "code",
   "execution_count": null,
   "metadata": {},
   "outputs": [],
   "source": [
    "### #fup I thik I understand this, but it's too tedius to really dig into right now, so I'll study it later"
   ]
  },
  {
   "cell_type": "markdown",
   "metadata": {},
   "source": [
    "### Example 2 (Frequently Used Packages):"
   ]
  },
  {
   "cell_type": "code",
   "execution_count": 63,
   "metadata": {},
   "outputs": [],
   "source": [
    "# it is customary for data analytics projects to begin with the following imports with the designated aliases \n",
    "import numpy as np\n",
    "import pandas as pd\n",
    "import matplotlib.pyplot as plt"
   ]
  },
  {
   "cell_type": "markdown",
   "metadata": {},
   "source": [
    "`numpy`, `pandas`, and `matplotlib` are 3 very useful packages for Data Scientists and will be covered in Lectures, 4,5, and 6, respectively"
   ]
  },
  {
   "cell_type": "code",
   "execution_count": null,
   "metadata": {},
   "outputs": [],
   "source": [
    "### #fup got atleast this far in class day 4"
   ]
  },
  {
   "cell_type": "markdown",
   "metadata": {},
   "source": [
    "## 3.5 Errors in Python:"
   ]
  },
  {
   "cell_type": "markdown",
   "metadata": {},
   "source": [
    "### 3.5.1 Types of Errors in Python:"
   ]
  },
  {
   "cell_type": "markdown",
   "metadata": {},
   "source": [
    "__Overview:__ \n",
    "- Over the past 3 lectures, we have encountered many errors and this is likely to continue for the rest of your programming careers\n",
    "- However, it is important to understand what type of error occurred so that you can make the appropriate changes in your program to mititage the error \n",
    "- In Python, there are 2 main kinds of errors: \n",
    "> 1. __[Syntax Errors](https://docs.python.org/3/tutorial/errors.html#tut-syntaxerrors):__ Syntax Errors are also known as \"parsing errors\" and it indicates that there was an error in the syntax that was used (i.e. you forgot to include a `:` or perhaps, you forgot to close your parantheses with `)`\n",
    ">> - In Syntax Errors, the error message will tell you the following information:\n",
    ">> >1. The file name in which the error occurred (this is helpful if you are running files other than your current Jupyter Notebook document\n",
    ">> >2. The line the error occurred \n",
    ">> >3. A small error that indicates the earliest point in the line where the error was detected. The error is caused by the token preceding the arrow\n",
    "> 2. __[Exceptions](https://docs.python.org/3/tutorial/errors.html#tut-exceptions):__ Exceptions indicate there was an error when an attempt was made to execute the program. It is possible for some programs to \"handle\" exceptions and not cause them to be fatal (i.e. crash the program) - this will be covered in Error Handling below\n",
    ">> - In Exceptions, the error message will tell you the following information:\n",
    ">> >1. The file name in which the error occurred\n",
    ">> >2. The line the error occurred\n",
    ">> >3. The type of the built-in exception that occurred (shown in red font)\n",
    ">> >4. Information about what caused the exception \n",
    "\n",
    "__Helpful Points:__\n",
    "1. You will know what type of error is produced based on the error message that is shown when the error occurs. The type of error will be shown in red font (for example, <font color='red'>SyntaxError:</font>)\n",
    "2. There is a long list of __[Built-in Exceptions](https://docs.python.org/3/library/exceptions.html#bltin-exceptions)__ that you will encounter throughout your programming career. It is a good idea to become familiar with some of the common exceptions including `IndexError`, `NameError`, `RuntimeError`, `TypeError`, `KeyError`, `ValueError`)\n",
    "\n",
    "__Practice:__ Examples of Errors in Python"
   ]
  },
  {
   "cell_type": "markdown",
   "metadata": {},
   "source": [
    "### Part 1 (Syntax Errors):"
   ]
  },
  {
   "cell_type": "markdown",
   "metadata": {},
   "source": [
    "### Example 1.1 (Missing Parantheses):"
   ]
  },
  {
   "cell_type": "code",
   "execution_count": null,
   "metadata": {},
   "outputs": [],
   "source": [
    "# forget to close paranthese\n",
    "print(\"Hello World\""
   ]
  },
  {
   "cell_type": "code",
   "execution_count": null,
   "metadata": {},
   "outputs": [],
   "source": [
    "list(1,2,3"
   ]
  },
  {
   "cell_type": "code",
   "execution_count": null,
   "metadata": {},
   "outputs": [],
   "source": [
    "print(\"First name is {} and last name is {}\".format(\"Gordon\", \"Dri\")"
   ]
  },
  {
   "cell_type": "markdown",
   "metadata": {},
   "source": [
    "### Example 1.2 (Missing Colon):"
   ]
  },
  {
   "cell_type": "code",
   "execution_count": null,
   "metadata": {},
   "outputs": [],
   "source": [
    "# forgot a colon in if statement\n",
    "i = 5\n",
    "if i > 5\n",
    "    print(\"i is greater than 5\")"
   ]
  },
  {
   "cell_type": "code",
   "execution_count": null,
   "metadata": {},
   "outputs": [],
   "source": [
    "my_list = [1,2,3]\n",
    "i = 1\n",
    "while my_list\n",
    "    my_list.remove(i)\n",
    "    print(my_list)\n",
    "    i += 1"
   ]
  },
  {
   "cell_type": "code",
   "execution_count": null,
   "metadata": {
    "scrolled": true
   },
   "outputs": [],
   "source": [
    "my_list = [1,2,3]\n",
    "for element in my_list\n",
    "    print(element())"
   ]
  },
  {
   "cell_type": "markdown",
   "metadata": {},
   "source": [
    "### Part 2 (Exceptions):"
   ]
  },
  {
   "cell_type": "markdown",
   "metadata": {},
   "source": [
    "### Example 2.1 (NameError):\n",
    "\n",
    "__[NameError](https://docs.python.org/3/library/exceptions.html#NameError):__ NameError is raised when a local or global name is not found. The associated value is an error message that includes the name that could not be found. "
   ]
  },
  {
   "cell_type": "code",
   "execution_count": null,
   "metadata": {},
   "outputs": [],
   "source": [
    "# calling a variable before the variable is defined \n",
    "print(new_list)"
   ]
  },
  {
   "cell_type": "markdown",
   "metadata": {},
   "source": [
    "### Example 2.2 (TypeError):\n",
    "\n",
    "__[TypeError](https://docs.python.org/3/library/exceptions.html#TypeError):__ TypeError is raised when an operation or function is applied to an object of inappropritate type. The associated value is a string giving details about the type mismatch"
   ]
  },
  {
   "cell_type": "code",
   "execution_count": null,
   "metadata": {},
   "outputs": [],
   "source": [
    "# adding a str to an int\n",
    "int_var = 2\n",
    "str_var = \"1\"\n",
    "\n",
    "int_var + str_var"
   ]
  },
  {
   "cell_type": "markdown",
   "metadata": {},
   "source": [
    "### Example 2.3 (KeyError):\n",
    "\n",
    "__[KeyError](https://docs.python.org/3/library/exceptions.html#KeyError):__ KeyError is raised when a dictionary key is not found in the set of existing keys "
   ]
  },
  {
   "cell_type": "code",
   "execution_count": null,
   "metadata": {
    "scrolled": true
   },
   "outputs": [],
   "source": [
    "my_dict = {\"Gordon\":\"Dri\", \"Roberto\":\"Reif\"}\n",
    "# indexing by a key that is not present \n",
    "my_dict[\"Jerod\"]"
   ]
  },
  {
   "cell_type": "markdown",
   "metadata": {},
   "source": [
    "### Example 2.4 (IndexError):\n",
    "\n",
    "__[IndexError](https://docs.python.org/3/library/exceptions.html#IndexError):__ IndexError is raised when a sequence subscript is out of range. "
   ]
  },
  {
   "cell_type": "code",
   "execution_count": null,
   "metadata": {},
   "outputs": [],
   "source": [
    "my_list = [1,2,3,4,5]\n",
    "# loop iterates from 0 to 5 (6 times), but the length of the list is only 5\n",
    "for i in range(6):\n",
    "    print(my_list[i])"
   ]
  },
  {
   "cell_type": "markdown",
   "metadata": {},
   "source": [
    "### Example 2.5 (ValueError):\n",
    "\n",
    "__[ValueError](https://docs.python.org/3/library/exceptions.html#ValueError):__ ValueError is raised when a built-in operation or function receives an argument that has the right type but an inappropritate value."
   ]
  },
  {
   "cell_type": "code",
   "execution_count": null,
   "metadata": {},
   "outputs": [],
   "source": [
    "import math \n",
    "\n",
    "my_list = [1,2,3,-1,0]\n",
    "for element in my_list:\n",
    "    print(math.sqrt(element))"
   ]
  },
  {
   "cell_type": "markdown",
   "metadata": {},
   "source": [
    "### 3.5.2 Exception Handling in Python: "
   ]
  },
  {
   "cell_type": "markdown",
   "metadata": {},
   "source": [
    "__Overview:__\n",
    "__[Exception Handling](https://en.wikipedia.org/wiki/Exception_handling):__ Exception Handling is the process of finding an exception and then responding to the exception explicitly in your program to avoid experiencing fatality of your program (i.e. program crashses and prints an error message)\n",
    "- __[Exception Handling in Python](https://docs.python.org/3/tutorial/errors.html#tut-handling)__ is accomplished by the __[`try`](https://docs.python.org/3/reference/compound_stmts.html#try)__ and associated `except` statement which tries to \"catch\" the exception without it \"killing\" the program \n",
    "- The purpose of the `try` statement is to execute a line of code to see if an error occurs. If an error occurs, the `except` statement will be reached and the statement in the except clause is executed (provided the `except` type matches the type of exception that occurred). If an error does not occur, the statement in the try clause is executed \n",
    "- `try` and `except` clause can occur in the following formats:\n",
    "> 1. __Format 1:__ Catch any exception (not recommended)\n",
    "> 2. __Format 2:__ Catch a specific exception (i.e. `except NameError`)\n",
    "> 3. __Format 3:__ Catch multiple exceptions (i.e. `except (NameError, ValueError)`)\n",
    "> 4. __Format 4:__ Using an `else` clause (optional) for code that must be executed if the `try` clause does not encounter an error \n",
    "\n",
    "__Helpful Points:__\n",
    "1. It is possible for users to display an error message anywhere in their program and dictate the message that is raised (see example 3)\n",
    "2. It is also possible for users to create their own exceptions, however this is out of the scope of this course. See [here](https://docs.python.org/3/tutorial/errors.html#tut-errors) if you are interested\n",
    "\n",
    "__Practice:__ Examples of Exception Handling in Python "
   ]
  },
  {
   "cell_type": "markdown",
   "metadata": {},
   "source": [
    "### Example 1 (Handling IndexError):"
   ]
  },
  {
   "cell_type": "code",
   "execution_count": null,
   "metadata": {
    "scrolled": true
   },
   "outputs": [],
   "source": [
    "my_list = [1,2,3,4,5]\n",
    "# loop iterates from 0 to 5 (6 times), but the length of the list is only 5\n",
    "for i in range(6):\n",
    "    try:\n",
    "        print(my_list[i])\n",
    "    except IndexError:\n",
    "        print(\"You are trying to iterate but you have reached the end of the list\")"
   ]
  },
  {
   "cell_type": "markdown",
   "metadata": {},
   "source": [
    "Interpretation:\n",
    "- For iterations 0,1,2,3,4:\n",
    "> 1. The try clause (the statement between the `try` and `except` keywords) is executed \n",
    "> 2. No exception occurs so the except clause is skipped)\n",
    "- For iteration 5:\n",
    "> 1. An exception occurs during the execution of the try clause so the rest of the clause is skipped (nothing is printed out)\n",
    "> 2. The type of the exception is compared to the exception named after the `except` keyword\n",
    "> 3. The two exception match so the except clause is executed \n",
    "> 4. The program then continues"
   ]
  },
  {
   "cell_type": "markdown",
   "metadata": {},
   "source": [
    "### Example 2 (Handling ZeroDivisionError):"
   ]
  },
  {
   "cell_type": "code",
   "execution_count": null,
   "metadata": {
    "scrolled": false
   },
   "outputs": [],
   "source": [
    "zero_list = [1,3,4,0,2]\n",
    "for i in range(len(zero_list)):\n",
    "    try:\n",
    "        print(5/zero_list[i])\n",
    "    except ZeroDivisionError:\n",
    "        print(\"You are trying to divide by zero at iteration {}\".format(i))"
   ]
  },
  {
   "cell_type": "markdown",
   "metadata": {},
   "source": [
    "### Example 3 (Raising Exceptions):"
   ]
  },
  {
   "cell_type": "code",
   "execution_count": null,
   "metadata": {
    "scrolled": true
   },
   "outputs": [],
   "source": [
    "for i in range(1000):\n",
    "    if i == 100:\n",
    "        raise TimeoutError(\"This number of iterations is good enough for me \")"
   ]
  },
  {
   "cell_type": "code",
   "execution_count": null,
   "metadata": {},
   "outputs": [],
   "source": [
    "### class day 4 got at least to here"
   ]
  },
  {
   "cell_type": "markdown",
   "metadata": {},
   "source": [
    "## 3.6 Debugging:"
   ]
  },
  {
   "cell_type": "markdown",
   "metadata": {},
   "source": [
    "### 3.6.1 What is Debugging? "
   ]
  },
  {
   "cell_type": "markdown",
   "metadata": {},
   "source": [
    "__Overview:__ \n",
    "- Since the beginning of computers and software (and maybe even before), there has been the concept of a __[Software Bug](https://en.wikipedia.org/wiki/Software_bug)__ which refers to some error, flaw or failure in a computer program\n",
    "- The errors (both Syntax Errors and Exceptions) we saw above are examples of Software Bugs \n",
    "- The process of finding and resolving bugs in your program is referred to as __[Debugging](https://en.wikipedia.org/wiki/Debugging)__ which actually was first coined as a result of a moth being stuck in a relay and thereby causing the a software to fail \n",
    "- In a simple case, debugging just refers to reviewing each line of your program for errors. In more complex (and frequent) cases, debugging refers to \"stepping\" through a function and/or loop to observe what is happening after each line/iteration to find where the logic breaks \n",
    "\n",
    "__Helpful Points:__\n",
    "1. Debugging can be a very time consuimg process as you often don't know WHERE the error exists in your program or WHY the error exists\n",
    "2. The common pitfall of a beginner programmer is to say \"I am almost finished writing my program, all I have to do now is debug\"\n",
    "3. Depending on the lanugage and/or IDE that you are using to program, there exists different tools for debugging your programs "
   ]
  },
  {
   "cell_type": "markdown",
   "metadata": {},
   "source": [
    "### 3.6.2 Debugging in Jupyter Notebooks:"
   ]
  },
  {
   "cell_type": "markdown",
   "metadata": {},
   "source": [
    "__Overview:__\n",
    "- In Python, the main method of debugging is using the __[`pdb`](https://docs.python.org/3/library/pdb.html)__ Module\n",
    "- The `pdb` Module is an interactive debugging environment for pausing your program, looking at values of variables, and watching program execution step-by-step\n",
    "- The `pdb` Module can be used in Jupyter Notebooks a few different ways:\n",
    "> 1. Importing and using the `pdb` Module (`import pdb`). This is the \"non-Jupyter Notebook\" way which does not require any Magic Commands\n",
    "> 2. Using the __[`%pdb`](http://ipython.readthedocs.io/en/stable/interactive/magics.html#magic-pdb)__ Magic Command. This Magic Command controls the automatic calling of the `pdb` interactive debugger\n",
    "> 3. Using the __[`%debug`](http://ipython.readthedocs.io/en/stable/interactive/magics.html#magic-debug)__ Magic Command. This Magic Command activates the interactive debugger and can be run before or after (\"post-mortem mode\") executing code and operates differently according to when it is activated \n",
    "\n",
    "__Helpful Points:__ \n",
    "1. See [here](https://docs.python.org/3/library/pdb.html#id2) for a complete list of the commands that are accepted by the `pdb`/`ipdb` modules and also while in the interactive debugger that is activated with the Magic Commands \n",
    "\n",
    "__Practice:__ Examples of Debugging in Jupyter Notebooks"
   ]
  },
  {
   "cell_type": "markdown",
   "metadata": {},
   "source": [
    "### Part 1 (Using `pdb` module):"
   ]
  },
  {
   "cell_type": "code",
   "execution_count": null,
   "metadata": {},
   "outputs": [],
   "source": [
    "# import the pdb module\n",
    "import pdb"
   ]
  },
  {
   "cell_type": "markdown",
   "metadata": {},
   "source": [
    "### Example 1.1 (Post-Mortem Debugging):"
   ]
  },
  {
   "cell_type": "code",
   "execution_count": null,
   "metadata": {},
   "outputs": [],
   "source": [
    "# run a loop that has a known error (our goal is to figure out what is causing the error)\n",
    "zero_list = [1,3,4,0,2]\n",
    "for i in range(len(zero_list)):\n",
    "    print(5/zero_list[i])"
   ]
  },
  {
   "cell_type": "code",
   "execution_count": null,
   "metadata": {
    "scrolled": true
   },
   "outputs": [],
   "source": [
    "# enter post-mortem debugging\n",
    "pdb.pm()"
   ]
  },
  {
   "cell_type": "markdown",
   "metadata": {},
   "source": [
    "By entering the post-mortem debugging, the interactive debugging environment is activated and allows us to view the current state of the variables at the time of the error. "
   ]
  },
  {
   "cell_type": "markdown",
   "metadata": {},
   "source": [
    "### Example 1.2 (Breakpoints):\n",
    "\n",
    "- __[Breakpoint](https://en.wikipedia.org/wiki/Breakpoint):__ A breakpoint is an intentional stopping or pausing place in a program)\n",
    "- Breakpoints are used to for us to run code up until a certain point so that we have the capability of \"stepping-through\" the remainder of the code to see what happens"
   ]
  },
  {
   "cell_type": "code",
   "execution_count": null,
   "metadata": {},
   "outputs": [],
   "source": [
    "zero_list = [1,3,4,0,2]\n",
    "for i in range(len(zero_list)):\n",
    "    # enter a breakpoint here\n",
    "    pdb.set_trace()\n",
    "    print(5/zero_list[i])"
   ]
  },
  {
   "cell_type": "markdown",
   "metadata": {},
   "source": [
    "By setting a brakpoint at the beginning of the loop, we were able to step through the loop starting at that point. This allowed us to perform each iteration live and observe the state of the variable `i` at each iteration by using the `n` command (`next`) - see the list of Debugger Commands. "
   ]
  },
  {
   "cell_type": "markdown",
   "metadata": {},
   "source": [
    "### Example 1.3 (Breakpoints in Function):"
   ]
  },
  {
   "cell_type": "code",
   "execution_count": null,
   "metadata": {},
   "outputs": [],
   "source": [
    "def divide_func(list_arg):\n",
    "    for i in range(len(zero_list)):\n",
    "        # enter a breakpoint here\n",
    "        pdb.set_trace()\n",
    "        print(5/zero_list[i])"
   ]
  },
  {
   "cell_type": "code",
   "execution_count": null,
   "metadata": {},
   "outputs": [],
   "source": [
    "# call the function with the breakpoint\n",
    "zero_list = [1,3,4,0,2]\n",
    "divide_func(zero_list)"
   ]
  },
  {
   "cell_type": "markdown",
   "metadata": {},
   "source": [
    "### Part 2 (Using %pdb):"
   ]
  },
  {
   "cell_type": "markdown",
   "metadata": {},
   "source": [
    "The `%pdb` Magic Commands is used just to control the automatic interactive debugger (i.e. when it is activated or not). You can use it as a toggle for turning on/off the automatic interactive debugger or you can use it with explicit commands for turning on/off the automatic interactive debugger. "
   ]
  },
  {
   "cell_type": "markdown",
   "metadata": {},
   "source": [
    "### Example 2.1 (Toggle Interactive pdb Debugger)):"
   ]
  },
  {
   "cell_type": "code",
   "execution_count": null,
   "metadata": {},
   "outputs": [],
   "source": [
    "# if this command is run without any argument, it toggles the feature of triggering the interactive debugger\n",
    "%pdb"
   ]
  },
  {
   "cell_type": "code",
   "execution_count": null,
   "metadata": {},
   "outputs": [],
   "source": [
    "# now, every time we run a statement that has an error, the interactive debugger will automatically show up\n",
    "zero_list = [1,3,4,0,2]\n",
    "for i in range(len(zero_list)):\n",
    "    print(5/zero_list[i])"
   ]
  },
  {
   "cell_type": "markdown",
   "metadata": {},
   "source": [
    "After executing the previous cell, you are able to see that the same interactive debugger used in Part 1 with `pdb` module was shown again. The textbox here works the same way as it did above and you can enter in any Debugger Command. "
   ]
  },
  {
   "cell_type": "code",
   "execution_count": null,
   "metadata": {},
   "outputs": [],
   "source": [
    "# toggle automatic interactive debugger off \n",
    "%pdb"
   ]
  },
  {
   "cell_type": "markdown",
   "metadata": {},
   "source": [
    "### Example 2.2 (Turn pdb Debugger On/Off Manually):"
   ]
  },
  {
   "cell_type": "code",
   "execution_count": null,
   "metadata": {},
   "outputs": [],
   "source": [
    "# instead of using it as a toggle, we can turn it off and on manually using commands\n",
    "\n",
    "# turn on\n",
    "%pdb 1"
   ]
  },
  {
   "cell_type": "code",
   "execution_count": null,
   "metadata": {},
   "outputs": [],
   "source": [
    "# turn off \n",
    "%pdb 0"
   ]
  },
  {
   "cell_type": "code",
   "execution_count": null,
   "metadata": {},
   "outputs": [],
   "source": [
    "# turn on\n",
    "%pdb on"
   ]
  },
  {
   "cell_type": "code",
   "execution_count": null,
   "metadata": {},
   "outputs": [],
   "source": [
    "# turn off \n",
    "%pdb off"
   ]
  },
  {
   "cell_type": "markdown",
   "metadata": {},
   "source": [
    "### Part 3 (Using `%debug`):"
   ]
  },
  {
   "cell_type": "markdown",
   "metadata": {},
   "source": [
    "### Example 3.1 (Activate Debugger After Code):\n",
    "\n",
    "If an exception has just occurred, this command lets you inspect it interactively. Note that this will always work on the LAST traceback (exception) that occurred, so you should call this quickly after. Otherwise, if another exception occurs, you won't be able to debug the previous exception. \n",
    "\n",
    "- The advantage of the `%debug` command over the `%pdb` command is that it allows you to activate the debugger AFTER an exception has occurred, without having to type `%pdb on` and rerunning the code"
   ]
  },
  {
   "cell_type": "code",
   "execution_count": null,
   "metadata": {
    "scrolled": true
   },
   "outputs": [],
   "source": [
    "# run a loop with a known bug \n",
    "zero_list = [1,3,4,0,2]\n",
    "for i in range(len(zero_list)):\n",
    "    print(5/zero_list[i])"
   ]
  },
  {
   "cell_type": "code",
   "execution_count": null,
   "metadata": {
    "scrolled": true
   },
   "outputs": [],
   "source": [
    "# call the debug Magic Command that will work on the last Traceback (this is the same interactive debugger as above)\n",
    "%debug"
   ]
  },
  {
   "cell_type": "markdown",
   "metadata": {},
   "source": [
    "## 3.7 Profiling Programs:"
   ]
  },
  {
   "cell_type": "markdown",
   "metadata": {},
   "source": [
    "### 3.7.1 What is Profiling? "
   ]
  },
  {
   "cell_type": "markdown",
   "metadata": {},
   "source": [
    "__Overview:__\n",
    "- __[Profiling](https://en.wikipedia.org/wiki/Profiling_(computer_programming):__ Profiling is the practice of measuring the space (memory) or time complexity of a program\n",
    "- Recall that in programming, there is ALWAYS more than one way to do something, where some methods are more efficient (less complex, take less time, etc.) than others \n",
    "- For example:\n",
    "> 1. If you are adding elements to a list and you know ahead of time how large the list has to be, why not pre-allocate memory for the list and then simply add in-place, rather than \"growing\" the list which is inefficient\n",
    "> 2. If you don't need to create a loop and can leverage a \"Pythonic\" way of accomplishing the same task, you should use it since loops take long to run \n",
    "- Profiling allows you to:\n",
    "> 1. Find what parts of your program are causing the entire program to slow down \n",
    "> 2. Evaluate multiple methods of programming a task so you can choose the most efficient way \n",
    "\n",
    "__Helpful Points:__\n",
    "1. You may not find yourself worrying so much about the time complexity of a program yet, as you are just beginning, but soon enough this will become very important \n",
    "2. As you become a more active programmer and spend more time on websites such as [www.stackoverflow.com](https://stackoverflow.com/), you will notice that most answers include an explanation of the time complexity of their solution as well as the time complexitiy of candidate solutions they also evaluated "
   ]
  },
  {
   "cell_type": "markdown",
   "metadata": {},
   "source": [
    "### 3.7.2 Profiling in Python "
   ]
  },
  {
   "cell_type": "markdown",
   "metadata": {},
   "source": [
    "__Overview:__\n",
    "- We will focus primarily on measuring the time it takes to run a program and in order to do this, Python offers a few solutions: \n",
    "> 1. Using the __[`time`](https://docs.python.org/2/library/time.html)__ module: This module uses the `time()` function to track the __[\"wall time\"/\"wall-clock time\"](https://en.wikipedia.org/wiki/Elapsed_real_time)__ of a program (actual time it takes) \n",
    "> 2. Using the __[`timeit`](https://docs.python.org/2/library/timeit.html)__ module: This module uses the `timeit()` function to track small code snippets\n",
    "> 3. Using the __[`time`](http://ipython.readthedocs.io/en/stable/interactive/magics.html#magic-time)__ Magic Command: This Magic Command is similar to the `time` module and will show you the time execution of a program in both __[CPU Time](https://en.wikipedia.org/wiki/CPU_time)__ and __Wall Time__. This command can be used in both:\n",
    ">> a. __Line Mode__: Using the `%time` command next to a statement, you can time a single-line statement<br>\n",
    ">> b. __Cell Mode__: Using the `%time` or `%%time` command at the top of the cell, you can time the entire cell body. Note, you can't have anything above this statement (not even comments) \n",
    "> 4. Using the __[`timeit`](http://ipython.readthedocs.io/en/stable/interactive/magics.html#magic-timeit)__ Magic Command: This Magic Command is similar to the `timeit` module and will show you more information on the time execution of a program. This command can be used in both: \n",
    ">> a. __Line Mode__: Using the `%timeit[-n<N> -r<R> [-t|-C] -q -p<P> -0]` statement<br>\n",
    ">> b. __Cell Mode__: Using the `%%timeit[-n<N> -r<R> [-t|-C] -q -p<P> -0]` statement<br>\n",
    ">> - In both cases, the parameters refer to the following: \n",
    ">> > 1. `-n<N>` says to execute the given statement `<N>` times in a loop (select the value for `N`)\n",
    ">> > 2. `-r<R>` says to repeat the loop iteration `<R>` times and take the best result \n",
    ">> > 3. `-t` says to use `time.time` to measure the time \n",
    ">> > 4. `-C` says to use `time.clock` to measure the time \n",
    ">> > 5. `-p<P>` says to use a precision of `<P>` digits to display the timing result \n",
    ">> > 6. `q` says to be \"quiet\" (do not print result) \n",
    ">> > 7. `o` returns a result that can be stored in a variable to inspect the result in more details \n",
    "\n",
    "__Helpful Points:__\n",
    "1. See examples of both methods below\n",
    "\n",
    "__Practice:__ Examples of Profiling in Python "
   ]
  },
  {
   "cell_type": "markdown",
   "metadata": {},
   "source": [
    "### Part 1 (Using the `time` module):"
   ]
  },
  {
   "cell_type": "code",
   "execution_count": null,
   "metadata": {},
   "outputs": [],
   "source": [
    "# import the module\n",
    "import time"
   ]
  },
  {
   "cell_type": "markdown",
   "metadata": {},
   "source": [
    "### Example 1.1 (Checking Time for a Nested Loop):"
   ]
  },
  {
   "cell_type": "code",
   "execution_count": null,
   "metadata": {},
   "outputs": [],
   "source": [
    "# enter this command before the block of code you want to calculate the time for\n",
    "start_time = time.time() # this clocks the current time\n",
    "\n",
    "# block of code\n",
    "empty_list_i = []\n",
    "empty_list_j = []\n",
    "for i in range(10000):\n",
    "    empty_list_i.append(i)\n",
    "    for j in range(1000):\n",
    "        empty_list_j.append(j)\n",
    "        \n",
    "# enter this command after the block of code you want to calculate the time for\n",
    "stop_time = time.time() # this clocks the current time \n",
    "\n",
    "elapsed_time = stop_time - start_time\n",
    "print(\"The program took {:.5f} seconds\".format(elapsed_time))"
   ]
  },
  {
   "cell_type": "markdown",
   "metadata": {},
   "source": [
    "### Part 2 (Using the `timeit` module):"
   ]
  },
  {
   "cell_type": "code",
   "execution_count": null,
   "metadata": {},
   "outputs": [],
   "source": [
    "# import the module\n",
    "import timeit"
   ]
  },
  {
   "cell_type": "markdown",
   "metadata": {},
   "source": [
    "### Example 2.1 (Checking Time for a Nested Loop):"
   ]
  },
  {
   "cell_type": "code",
   "execution_count": null,
   "metadata": {},
   "outputs": [],
   "source": [
    "# setup string\n",
    "setup = \"\"\"\n",
    "empty_list_i = []\n",
    "empty_list_j = []\n",
    "first = 100\n",
    "second = 10\n",
    "\"\"\"\n",
    "\n",
    "# statement string that you want to test \n",
    "statement = \"\"\"\n",
    "for i in range(10000):\n",
    "    empty_list_i.append(i)\n",
    "    for j in range(1000):\n",
    "        empty_list_j.append(j)\n",
    "\"\"\""
   ]
  },
  {
   "cell_type": "code",
   "execution_count": null,
   "metadata": {},
   "outputs": [],
   "source": [
    "# calculates the time to execute the statement n times \n",
    "timeit.timeit(stmt = statement, setup = setup, number = 10)"
   ]
  },
  {
   "cell_type": "markdown",
   "metadata": {},
   "source": [
    "### Part 3 (Using the `time` Magic Command):"
   ]
  },
  {
   "cell_type": "markdown",
   "metadata": {},
   "source": [
    "### Example 3.1 (Checking Time using `%time` for a Single Statement):"
   ]
  },
  {
   "cell_type": "code",
   "execution_count": null,
   "metadata": {},
   "outputs": [],
   "source": [
    "%time 2**300"
   ]
  },
  {
   "cell_type": "code",
   "execution_count": null,
   "metadata": {},
   "outputs": [],
   "source": [
    "n = 10000\n",
    "%time sum(range(n))"
   ]
  },
  {
   "cell_type": "markdown",
   "metadata": {},
   "source": [
    "### Example 3.2 (Checking Time using `%time` for Multiple Statements):"
   ]
  },
  {
   "cell_type": "code",
   "execution_count": null,
   "metadata": {
    "scrolled": true
   },
   "outputs": [],
   "source": [
    "n = 10000\n",
    "%time 2**300; sum(range(n))"
   ]
  },
  {
   "cell_type": "markdown",
   "metadata": {},
   "source": [
    "### Example 3.3 (Checking Time using `%time` for Cell Body):"
   ]
  },
  {
   "cell_type": "code",
   "execution_count": null,
   "metadata": {},
   "outputs": [],
   "source": [
    "# check time of the entire cell body \n",
    "%time\n",
    "\n",
    "empty_list_i = []\n",
    "empty_list_j = []\n",
    "\n",
    "for i in range(10000):\n",
    "    empty_list_i.append(i)\n",
    "    for j in range(1000):\n",
    "        empty_list_j.append(j)"
   ]
  },
  {
   "cell_type": "markdown",
   "metadata": {},
   "source": [
    "### Example 3.4 (Checking Time using `%%time` for Cell Body):"
   ]
  },
  {
   "cell_type": "code",
   "execution_count": null,
   "metadata": {},
   "outputs": [],
   "source": [
    "%%time\n",
    "\n",
    "empty_list_i = []\n",
    "empty_list_j = []\n",
    "\n",
    "for i in range(10000):\n",
    "    empty_list_i.append(i)\n",
    "    for j in range(1000):\n",
    "        empty_list_j.append(j)"
   ]
  },
  {
   "cell_type": "markdown",
   "metadata": {},
   "source": [
    "### Part 4 (Using the `timeit` Magic Command):"
   ]
  },
  {
   "cell_type": "markdown",
   "metadata": {},
   "source": [
    "### Example 4.1 (Checking Time using `%timeit` for Single Statements):"
   ]
  },
  {
   "cell_type": "code",
   "execution_count": null,
   "metadata": {},
   "outputs": [],
   "source": [
    "%timeit -n2 -r4 -t -p4 (2**300)"
   ]
  },
  {
   "cell_type": "markdown",
   "metadata": {},
   "source": [
    "This is translated as:\n",
    "> 1. Repeat the loop 2 times and take the best result (\"`2 loops each`\")\n",
    "> 2. Repeat the loop iteration 4 times (`\" of 4 runs\"`)\n",
    "> 3. Use the `time.time` measure of time\n",
    "> 4. Use a precision of 4 digits to display the timing result (\"`208.6 ns +- 212.8ns`\")"
   ]
  },
  {
   "cell_type": "code",
   "execution_count": null,
   "metadata": {},
   "outputs": [],
   "source": [
    "n = 10000\n",
    "%timeit -n4 -r5 -c -p5 sum(range(n))"
   ]
  },
  {
   "cell_type": "markdown",
   "metadata": {},
   "source": [
    "This is translated as:\n",
    "> 1. Repeat the loop 4 times and take the best result (\"`4 loops each`\")\n",
    "> 2. Repeat the loop iteration 5 times (`\" of 5 runs\"`)\n",
    "> 3. Use the `time.clock` measure of time\n",
    "> 4. Use a precision of 5 digits to display the timing result (\"`215.55 micro s +- 49.87 micro s`\")"
   ]
  },
  {
   "cell_type": "markdown",
   "metadata": {},
   "source": [
    "### Example 4.2 (Checking Time using `%%timeit`):"
   ]
  },
  {
   "cell_type": "code",
   "execution_count": null,
   "metadata": {},
   "outputs": [],
   "source": [
    "%%timeit -o\n",
    "\n",
    "empty_list_i = []\n",
    "empty_list_j = []\n",
    "\n",
    "for i in range(10000):\n",
    "    empty_list_i.append(i)\n",
    "    for j in range(1000):\n",
    "        empty_list_j.append(j)"
   ]
  },
  {
   "cell_type": "code",
   "execution_count": null,
   "metadata": {},
   "outputs": [],
   "source": [
    "# store thes the result in the _ variable\n",
    "res = _\n",
    "print(res)"
   ]
  },
  {
   "cell_type": "code",
   "execution_count": null,
   "metadata": {},
   "outputs": [],
   "source": [
    "dir(res)"
   ]
  },
  {
   "cell_type": "markdown",
   "metadata": {},
   "source": [
    "### ANSWERS TO LECTURE 3 PROBLEMS:"
   ]
  },
  {
   "cell_type": "markdown",
   "metadata": {},
   "source": [
    "### Problem 1:\n",
    "\n",
    "Write a program to check if a value is positive, zero, or negative. \n",
    "\n",
    "- The program should print the result (i.e. \"Value is positive\")\n",
    "- Check your program works by creating a positive, zero, and negative variable and ensure the program outputs the correct response every time\n",
    "- Use if statements"
   ]
  },
  {
   "cell_type": "code",
   "execution_count": null,
   "metadata": {},
   "outputs": [],
   "source": [
    "# test for positive number \n",
    "value = 10\n",
    "if value < 0:\n",
    "    print('value is negative.')\n",
    "elif value == 0:\n",
    "    print('value is zero')\n",
    "else:\n",
    "    print('value is positive')"
   ]
  },
  {
   "cell_type": "code",
   "execution_count": null,
   "metadata": {},
   "outputs": [],
   "source": [
    "# test for negative number \n",
    "value = -3\n",
    "if value < 0:\n",
    "    print('value is negative.')\n",
    "elif value == 0:\n",
    "    print('value is zero')\n",
    "else:\n",
    "    print('value is positive')"
   ]
  },
  {
   "cell_type": "code",
   "execution_count": null,
   "metadata": {},
   "outputs": [],
   "source": [
    "# test for zero\n",
    "value = 0\n",
    "if value < 0:\n",
    "    print('value is negative.')\n",
    "elif value == 0:\n",
    "    print('value is zero')\n",
    "else:\n",
    "    print('value is positive')"
   ]
  },
  {
   "cell_type": "markdown",
   "metadata": {},
   "source": [
    "### Problem 2:\n",
    "\n",
    "Write a program to check if a year is a leap year (see below for the method to determine if a year is a leap year):\n",
    "\n",
    "1. If the year is evenly divisible by 4, go to step 2. Otherwise, go to step 5.\n",
    "2. If the year is evenly divisible by 100, go to step 3. Otherwise, go to step 4.\n",
    "3. If the year is evenly divisible by 400, go to step 4. Otherwise, go to step 5.\n",
    "4. The year is a leap year (it has 366 days).\n",
    "5. The year is not a leap year (it has 365 days).\n",
    "\n",
    "Notes:\n",
    "1. Use nested if-else statements in your answer \n",
    "2. Test your program using the year 2018"
   ]
  },
  {
   "cell_type": "code",
   "execution_count": null,
   "metadata": {},
   "outputs": [],
   "source": [
    "year = 2018\n",
    "if (year % 4) == 0:\n",
    "    if (year % 100) == 0:\n",
    "        if (year % 400) == 0:\n",
    "            print(\"{0} is a leap year\".format(year))\n",
    "        else:\n",
    "            print(\"{0} is not a leap year\".format(year))\n",
    "    else:\n",
    "        print(\"{0} is not a leap year\".format(year))\n",
    "else:\n",
    "    print(\"{0} is not a leap year\".format(year))"
   ]
  },
  {
   "cell_type": "markdown",
   "metadata": {},
   "source": [
    "### Problem 3:\n",
    "\n",
    "Create the variable `is_today_weekday` that contains the string `\"today is a weekday\"` if today is a weekday or `\"today is not a weekday\"` if it is not:\n",
    "\n",
    "1. create a variable called `weekdays` which is a list containing the weekdays.\n",
    "2. define a variable called `today` with today's weekday\n",
    "3. define the variable `is_today_weekday` using membership test opperations\n",
    "\n",
    "Notes:\n",
    "1. Use condition expressions\n",
    "2. Print your answer"
   ]
  },
  {
   "cell_type": "code",
   "execution_count": null,
   "metadata": {},
   "outputs": [],
   "source": [
    "weeksdays = [\"Monday\", \"Tuesday\", \"Wednesday\", \"Thursday\", \"Friday\"]\n",
    "today = \"Tuesday\"\n",
    "is_today_weekday = \"today is a weekday\" if today in weeksdays else \"today is not a weekday\"\n",
    "print(is_today_weekday)"
   ]
  },
  {
   "cell_type": "markdown",
   "metadata": {},
   "source": [
    "### Problem 4\n",
    "\n",
    "Write a program to calculate the maximum value of a list: `[3, 36, 154, 2, 145]` \n",
    "\n",
    "- You should used a `for` loop in your answer\n",
    "- You should use an `if` statement in your answer\n",
    "- Do not use any built-in Python functions\n",
    "- Print the maximum value of the list at the end of your program"
   ]
  },
  {
   "cell_type": "code",
   "execution_count": null,
   "metadata": {},
   "outputs": [],
   "source": [
    "my_list = [3, 36, 154, 2, 145]\n",
    "\n",
    "max_num = my_list[0]\n",
    "for num in my_list:\n",
    "    if num > max_num:\n",
    "        max_num = num\n",
    "        \n",
    "print(max_num)"
   ]
  },
  {
   "cell_type": "markdown",
   "metadata": {},
   "source": [
    "### Problem 5\n",
    "\n",
    "Write a program to find and print the duplicates in the following list `[1,3,3,4,5,6,6]`. Store the duplicate values in a new list and print this new list. \n",
    "- You may need to use an \"If-Else Statement\" in your answer\n",
    "- You may want to leverage the `set()` type (recall its purpose from Lecture 2)\n",
    "- Ensure your program works properly by changing the list with one that has only unique elements"
   ]
  },
  {
   "cell_type": "code",
   "execution_count": null,
   "metadata": {},
   "outputs": [],
   "source": [
    "# test 1 \n",
    "my_list = [1,3,3,4,5,6,6]\n",
    "new_list = set()\n",
    "\n",
    "for i in my_list:\n",
    "    if my_list.count(i) >= 2:\n",
    "        print(\"{} is a duplicate\".format(i))\n",
    "        new_list.add(i)\n",
    "    else:\n",
    "        print(\"{} is not a duplicate\".format(i))\n",
    "\n",
    "print(list(new_list))"
   ]
  },
  {
   "cell_type": "code",
   "execution_count": null,
   "metadata": {},
   "outputs": [],
   "source": [
    "# test 2\n",
    "my_list = [1,3,4,5,6]\n",
    "new_list = set()\n",
    "\n",
    "for i in my_list:\n",
    "    if my_list.count(i) >= 2:\n",
    "        print(\"{} is a duplicate\".format(i))\n",
    "        new_list.add(i)\n",
    "    else:\n",
    "        print(\"{} is not a duplicate\".format(i))\n",
    "\n",
    "print(list(new_list))"
   ]
  },
  {
   "cell_type": "markdown",
   "metadata": {},
   "source": [
    "### Problem 6 \n",
    "\n",
    "Write a Function to return the minimum and maximum of a non-empty list. For example, try finding the minimum and maximum of the list `[1,3,5,10,12,2,0]`. Your function should return both values as a `tuple` in the form of (`min`, `max`) as such (0, 10). \n",
    "\n",
    "- Call the function `minimax` and it should accept one argument - the list (call it `x`)\n",
    "- You will need a `for` loop to traverse the list that is passed in \n",
    "- Hint: Set the `min` and `max` as the first value in the list and iterate starting at position `1` to check if you should reassign your `min` and `max` variables. If you don't need to reset them, just move on to the next iteration. If you do need to reset them, reassign them appropriately\n",
    "- Check that your function works by passing in the list above and ensure it returns `(0, 10)`. Try with some other lists \n",
    "- Assume the list passed in is non-empty to make things easier "
   ]
  },
  {
   "cell_type": "code",
   "execution_count": null,
   "metadata": {},
   "outputs": [],
   "source": [
    "# minimax function\n",
    "def minimax(x):\n",
    "    minimum = maximum = x[0]\n",
    "    for i in x[1:]:\n",
    "        if i < minimum: \n",
    "            minimum = i \n",
    "        else: \n",
    "            if i > maximum: maximum = i\n",
    "    return (minimum,maximum)"
   ]
  },
  {
   "cell_type": "code",
   "execution_count": null,
   "metadata": {},
   "outputs": [],
   "source": [
    "my_list = [1,3,5,10,12,2,0]\n",
    "minimax(my_list)"
   ]
  }
 ],
 "metadata": {
  "kernelspec": {
   "display_name": "Python 3",
   "language": "python",
   "name": "python3"
  },
  "language_info": {
   "codemirror_mode": {
    "name": "ipython",
    "version": 3
   },
   "file_extension": ".py",
   "mimetype": "text/x-python",
   "name": "python",
   "nbconvert_exporter": "python",
   "pygments_lexer": "ipython3",
   "version": "3.7.3"
  }
 },
 "nbformat": 4,
 "nbformat_minor": 2
}
