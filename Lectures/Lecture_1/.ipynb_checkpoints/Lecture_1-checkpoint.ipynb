{
 "cells": [
  {
   "cell_type": "markdown",
   "metadata": {},
   "source": [
    "# Beginner Python and Math for Data Science\n",
    "## Lecture 1\n",
    "### Python Variables, Assignments, Comparisons and Other Basics"
   ]
  },
  {
   "cell_type": "markdown",
   "metadata": {},
   "source": [
    "__Purpose:__\n",
    "The purpose of this lecture is to first discuss introductory Python and Jupyter Notebook topics and then illustrate some basic, introductory topics in Python programming such as variable, assignments, and comparisons. \n",
    "\n",
    "__At the end of this lecture you will be able to:__\n",
    "1. Understand what the Python language is and why we use it for Data Science\n",
    "2. Understand what Jupyter Notebooks are and how we can use them to program in Python for Data Science \n",
    "3. Write basic Python commands using variable assignments, print statements and comments\n",
    "4. Use various operators in Python such as arithmetic, value comparison, identity comparison, membership tests, boolean and bitwise operators "
   ]
  },
  {
   "cell_type": "markdown",
   "metadata": {},
   "source": [
    "# Part A: Introductory Python and Jupyter Notebook Topics"
   ]
  },
  {
   "cell_type": "markdown",
   "metadata": {},
   "source": [
    "## 1.1 What is Python? "
   ]
  },
  {
   "cell_type": "markdown",
   "metadata": {},
   "source": [
    "[Python](https://en.wikipedia.org/wiki/Python_programming_language) is a [General-Purpose Programming Language](https://en.wikipedia.org/wiki/General-purpose_programming_language) first invented around 1989 by Guido van Rossum. From its inception, Python has been known for its design philosophy to promote readability and therefore is concise, straight-forward and easy to understand especially for beginner programmers. \n",
    "\n",
    "Python has become the programming language of choice for many individuals working in Data Science for many reasons. Some of these reasons include:\n",
    "\n",
    "- Python has a multitude of scientific packages for data analysis, machine learning, data visualization and natural language processing \n",
    "- Python has powerful and useful [IDEs](https://en.wikipedia.org/wiki/Integrated_development_environment) such as Jupyter Notebook \n",
    "- Python is a powerful language that allows scalability \n",
    "- Python has an increasing large ecosystem and community\n"
   ]
  },
  {
   "cell_type": "markdown",
   "metadata": {},
   "source": [
    "## 1.2 Python 2 vs. Python 3"
   ]
  },
  {
   "cell_type": "markdown",
   "metadata": {},
   "source": [
    "In this course, we have chosen to use Python 3 and have instructed students to download this version in Lecture 0. The 2 versions are very similar, but if you have used Python 2 in the past, there are some key differences to remember. A few of these differences include: \n",
    "\n",
    "1. Print statements have changed (i.e. `print \"Hello World\"` in Python 2 VS. `print(\"Hello World\")`) \n",
    "2. Integer division has changed (i.e. `3 / 2 = 1` in Python 2 vs. `3 /2 = 1.5` in Python 3)\n",
    "3. Iterators have changed (i.e. xrange(n) in Python 2 vs. range(n) in Python 3)\n",
    "\n",
    "See the following document for more information on the new features of Python 3: https://docs.python.org/3.0/whatsnew/3.0.html"
   ]
  },
  {
   "cell_type": "markdown",
   "metadata": {},
   "source": [
    "## 1.3 Jupyter Notebook"
   ]
  },
  {
   "cell_type": "markdown",
   "metadata": {},
   "source": [
    "Recall in Lecture 0 that Jupyter Notebooks is an Integrated Development Environment (IDE) to run Python code. Each lecture of this course will be written and conducted through Jupyter Notebooks so you will soon become very familiar with their format and functionality. You may also find these notebooks referred to as their previous name - \"IPython Notebooks.\" This name is now deprecated and you should therefore refer to them as Jupyter Notebooks. "
   ]
  },
  {
   "cell_type": "markdown",
   "metadata": {},
   "source": [
    "### 1.3.1 Jupyter Notebook documents\n",
    "\n",
    "__Overview:__\n",
    "- A Notebook document produced by Jupyter Notebooks contains both Python code and text elements (figures, paragraphs, links, etc.) \n",
    "- Each time you wish to create a new notebook, you must select New -> Python 3 in the Jupyter Notebook Dashboard shown in Image 7 of Lecture 0\n",
    "\n",
    "__Helpful Points:__\n",
    "1. Each Jupyter Notebook is saved as a .ipynb file (as per its old name) but can easily be exported to a Python file (.py), an HTML file (.html), a markdown file (.rmd) and other file types. To make this conversion, simply select File -> Download as in any Notebook file\n",
    "2. Notebook documents are autosaved by default every 120 seconds. You can always manually save your document by entering `Cmd+S` on Mac and `Shift+S` on Windows\n",
    "- You can override this default time by entering a \"magic command\" (more on this below) `%autosave 60` to save every 60 seconds for example"
   ]
  },
  {
   "cell_type": "markdown",
   "metadata": {},
   "source": [
    "### 1.3.2 Jupyter Notebook Kernel \n",
    "\n",
    "__Overview:__\n",
    "- A Notebook Kernel is a computational engine that executes code contained in Notebook documents\n",
    "- When a new Notebook document is created or an existing Notebook document is opened, the associated Kernel is automatically launched\n",
    "- Each time a cell is executed/run, the Kernel is responsible for performing the computation and producing the results\n",
    "- To shutdown your Kernel, you can either select Kernel -> Shutdown or type `Ctrl+C` in the Terminal or Command Prompt. Upon shutdown, you can simply close any Notebook documents you have open\n",
    "    - In the Jupyter Notebook Dashboard, select the \"Running\" tab to see all the files that are currently running. You can manually shutdown a Notebook document by clicking \"Shutdown\" beside the file name\n",
    "    - You can also shutdown a file in the Jupyter Notebook Dashboard by finding the file, checking the box beside the file and then selecting \"Shutdown\"\n",
    "\n",
    "__Helpful Points:__\n",
    "1. You will notice in your Dashboard that when you create a new file or open an existing file, the book icon to the left of the File Name turns from black to green. This color indicates the file is \"Running.\" For a file to be \"Running\", it simply means that a Kernel has been launched. \n",
    "2. The Kernel consumes significant CPU and RAM to execute complex code cells, therfore ensure that when you are finished running a program, you shut down the Kernel to release your computer's RAM"
   ]
  },
  {
   "cell_type": "markdown",
   "metadata": {},
   "source": [
    "### 1.3.3 Jupyter Notebook Cells \n",
    "\n",
    "__Overview:__ \n",
    "- A cell is where programs are created and executed\n",
    "- To insert a new cell for coding or markdown purposes, in the Notebook Menubar simply select Insert -> Insert Cell Above OR Insert Cell Below\n",
    "- There are two main types of cells you will use most often: The __Code__ cell and the __Markdown__ Cell. By default, each cell is pre-allocated as a Code cell but you can toggle easily between types of cells by the dropdown menu located on the right of the Notebook Toolbar\n",
    ">1. __Code Cell:__ The Code cell is where you will write and excute your Python code. The letters, numbers and symbols entered in this type of cell will be interpreted and executed by the Kernel as Python code\n",
    ">2. __Markdown Cell:__ The Markdown cell is where you will write text to describe figures, provide explanations and perform other tasks that require a textual response. The letters, numbers and symbols entered in this type of cell will be interpreted and executed by the Kernel as text (and more specifically, as [Markdown](https://en.wikipedia.org/wiki/Markdown))\n",
    "\n",
    "See examples of Code and Markdown cells below. The exact same text will be written twice (once as a Code cell and next as a Markdown cell)"
   ]
  },
  {
   "cell_type": "code",
   "execution_count": 1,
   "metadata": {},
   "outputs": [
    {
     "name": "stdout",
     "output_type": "stream",
     "text": [
      "1\n",
      "This is Lecture 1 for the Beginner Python and Math for Data Science course\n"
     ]
    }
   ],
   "source": [
    "# this is a Code cell (everything is interpreted and executed as Python code)\n",
    "a = 1\n",
    "print(a)\n",
    "print(\"This is Lecture 1 for the Beginner Python and Math for Data Science course\")"
   ]
  },
  {
   "cell_type": "markdown",
   "metadata": {},
   "source": [
    "# this is a Markdown cell (everything is interpreted and executed as Markdown language)\n",
    "a = 1\n",
    "print(\"This is Lecture 1 for the Basics of Python and Math for Data Science course\")\n",
    "print(a)"
   ]
  },
  {
   "cell_type": "markdown",
   "metadata": {},
   "source": [
    "__Helpful Points__:\n",
    "1. Notice that in the Code cell, there exists \"In [ ]:\" beside the cell. The number in between the square brackets represents the number of times you have executed code cells since the beginning of the current Notebook document's session. If you shutdown the Notebook document and re-launch the Kernel, the number will reset to 1 \n",
    "2. When a cell is run, the Kernel is said to be \"busy\". You can recognize a \"busy\" Kernel because an asterix (`*`) will be displayed within the square brackets and on the top of the Notebook document, you will see the status \"busy\"\n",
    "3. Markdown Cells are typically used as headers and for paragraph explanations in Notebook documents. Markdown cells allow Notebook documents to be clean and easy to follow for readers\n",
    "4. Markdown is a [lightweight markup language](https://en.wikipedia.org/wiki/Lightweight_markup_language) and has expansive functionality for both formatting text (i.e. boldface, colors, etc.) and also representing mathematical expressions using [LaTeX](https://www.latex-project.org/about/). \n",
    ">- See [here](https://medium.com/ibm-data-science-experience/markdown-for-jupyter-notebooks-cheatsheet-386c05aeebed) for documentation on formatting text with Markdown \n",
    ">- See [here](http://jupyter-notebook.readthedocs.io/en/stable/examples/Notebook/Typesetting%20Equations.html) for documentation on writing mathematical expressions "
   ]
  },
  {
   "cell_type": "markdown",
   "metadata": {},
   "source": [
    "### 1.3.4 Jupyter Notebook Modal Editor\n",
    "\n",
    "__Overview:__\n",
    "- Jupyter Notebook has a modal user interface which means that the keyboard buttons perform differently depending on which mode the Notebook document is in. There are two modes: __Edit Mode__ and __Command Mode__\n",
    ">1. __Edit Mode:__ This mode should be activated when you want to edit a cell by typing into the cell. You can activate Edit Mode by clicking on a cell's editor area or by pressing `Enter` while your mouse is hovered over the cell. \n",
    ">2. __Command Mode:__ This mode should be activated when you want to edit the Notebook document as a whole, but not type into individual cells. While in command mode, the keyboard is mapped to a set of shortcuts so you can peform notebook and cell actions efficiently. You can activate Command Mode by clicking outside a cell's editor area or by pressing `Esc` \n",
    "\n",
    "__Helpful Points:__\n",
    "1. You will notice that while in Edit Mode, the cell has a green border around the cell. Conversely, while in Command Mode, the cell has a grey border around the cell with a blue left margin. \n",
    "2. You will also notice that while in Edit Mode, there is a pencil icon on the top right of your screen beside the Python 3 icon. Conversely, while in Command Mode, this pencil icon is gone. \n",
    "3. Don't try to type into a cell while in Command Mode as unexpected and unwanted things will happen"
   ]
  },
  {
   "cell_type": "markdown",
   "metadata": {},
   "source": [
    "### 1.3.5 Jupyter Notebook Keyboard Shortcuts\n",
    "\n",
    "__Overview:__\n",
    "- The modal user interface of Jupyter Notevooks has been optimized for efficient keyboard usage. There are different sets of keyboard shortcuts for each mode. \n",
    "- For example, the most common keyboard shortcuts for __Edit Mode__ include: \n",
    "    - `cmd+]` for indenting\n",
    "    - `cmd+[` for de-indenting\n",
    "    - `cmd+/` for commenting\n",
    "    - `cmd+A` for selecting all\n",
    "    - `cmd+up_arrow` for going to cell start\n",
    "    - `cmd+down_arrow` for going to cell end \n",
    "    - `shitft+enter` for running a cell \n",
    "- For example, the most common keyboard shortcuts for __Command Mode__ include:\n",
    "    - `S` for saving the notebook\n",
    "    - `A` for creating a cell above\n",
    "    - `B` for creating a cell below\n",
    "    - `Y` for changing cell to Code\n",
    "    - `M` for changing cell to Markdown\n",
    "    - `up_arrow` for selecting cell above\n",
    "    - `down_arrow` for selecting cell below \n",
    "\n",
    "__Helpful Points:__\n",
    "1. For a complete list of Keyboard Shorcuts, in the Notebook Menubar select Help -> Keyboard Shortcuts "
   ]
  },
  {
   "cell_type": "markdown",
   "metadata": {},
   "source": [
    "### 1.3.6 Jupyter Notebook Help\n",
    "\n",
    "__Overview:__\n",
    "- There are many ways to seek help within Jupyter Notebooks:\n",
    ">1. __Official Documentation:__ See the [Python Standard Library](https://docs.python.org/3/library/index.html) and the official [Python Tutorial](https://docs.python.org/3/tutorial/index.html)\n",
    ">2. __Question Mark (?):__ You can always read the documentation of a specific function in Python by executing         `?<function_name>`. After executing this command, you will see the functions' \"docstrings\" (if available) - more on \"docstrings\" in Lecture 3. See below for an example:\n",
    ">3. __Help Command (help() ):__ The `help()` command works the same way as the question mark above. See below for examples\n",
    ">4. __`Shift+Tab`:__ After typing a function or name of an object, you can point your cursor to the name and then press `Shift+Tab` which will show you some documentation of that object\n",
    "\n",
    "__Helpful Points:__\n",
    "1. In any case, search online using keywords to find solutions to your problems. For example, \"print statement Python\" or \"assign variables Python\" \n",
    "2. Leverage the [Stack Overflow](https://stackoverflow.com/) community to save hours!"
   ]
  },
  {
   "cell_type": "code",
   "execution_count": null,
   "metadata": {},
   "outputs": [],
   "source": [
    "?print"
   ]
  },
  {
   "cell_type": "code",
   "execution_count": null,
   "metadata": {
    "scrolled": true
   },
   "outputs": [],
   "source": [
    "help(print)"
   ]
  },
  {
   "cell_type": "markdown",
   "metadata": {},
   "source": [
    "### 1.3.7 User Interface Tour\n",
    "\n",
    "To review all the above and other components of the Notebook document interface, you can run the User Interface tour provided by Jupyter Notebook. In the Notebook Menubar, simply select Help -> User Interface Tour "
   ]
  },
  {
   "cell_type": "markdown",
   "metadata": {},
   "source": [
    "### 1.3.8 IPython Magic Commands\n",
    "\n",
    "__Overview:__\n",
    "- Magic Commands (referred to as \"Magics\") are specific commands made available by the IPython Kernel that make programming some tasks very easy while in the Jupyter/IPython environemnt \n",
    "- These commands are denoted with a `%` key and are NOT standard Python commands\n",
    "- When we download Anaconda, we gain access to a long list of Magics that can be found [here](http://ipython.readthedocs.io/en/stable/interactive/magics.html#cell-magics)\n",
    "- Magics can be broken down into __Line Magics__ (operate on a per line basis and denoted by `%`) and __Cell Magics__ (operate on a per cell basis and denoted by `%%`)\n",
    "\n",
    "__Helpful Points:__\n",
    "1. Magics can not be used in an environment that is not run on an IPython Kernel (i.e. in a text editor or terminal writing Python code)\n",
    "2. You can always read the \"docstrings\" (documenation) for a Magic Command by selecting ?Magic_cmd \n",
    "3. There are a few common Magics that are used such as: \n",
    "    - `%env`: Get, set, or list environment variables\n",
    "    - `%debug`: Activate the interactive debugger\n",
    "    - `%pdb`: Control the automatic calling of the pdb interactive debugger\n",
    "    - `%pinfo`: Provide detailed information about an object\n",
    "    - `%pwd`: Return the current working directory path \n",
    "    - `%whos`: Provides information about each variable \n",
    "    - `%timeit`: Time execution of a Python statement or expression\n",
    "    \n",
    "We will look at a few examples of Magics below and the rest will be covered after we review some additional topics that would warrant the uses of Magics"
   ]
  },
  {
   "cell_type": "code",
   "execution_count": null,
   "metadata": {},
   "outputs": [],
   "source": [
    "%env"
   ]
  },
  {
   "cell_type": "code",
   "execution_count": null,
   "metadata": {},
   "outputs": [],
   "source": [
    "%pwd"
   ]
  },
  {
   "cell_type": "code",
   "execution_count": null,
   "metadata": {},
   "outputs": [],
   "source": [
    "a = 2\n",
    "%pinfo a"
   ]
  },
  {
   "cell_type": "code",
   "execution_count": null,
   "metadata": {},
   "outputs": [],
   "source": [
    "%whos"
   ]
  },
  {
   "cell_type": "markdown",
   "metadata": {},
   "source": [
    "# Part B:  Introductory Topics for Python Programming"
   ]
  },
  {
   "cell_type": "markdown",
   "metadata": {},
   "source": [
    "## 1.4 Comments"
   ]
  },
  {
   "cell_type": "markdown",
   "metadata": {},
   "source": [
    "__Overview:__\n",
    "- Before we begin writing our first program, it is necessary to highlight an important concept for programming - [Comments](https://en.wikipedia.org/wiki/Comment_(computer_programming)\n",
    "- Comments are the way programmers annotate their programs with the intention of making it easy for other humans (and themselves) to understand\n",
    "- When a computer program is run, comments should be ignored or passed over. Therefore, we need a way of telling the [compiler](https://en.wikipedia.org/wiki/Compiler) or [interpreter](https://en.wikipedia.org/wiki/Interpreter_(computing)) that we are writing a comment and NOT actual code \n",
    "- Every computer programming language has different syntax to denote comments, but in Python the `#` (the hash character or [number sign](https://en.wikipedia.org/wiki/Number_sign)) symbol is used\n",
    "\n",
    "__Helpul Points:__\n",
    "1. There are certain universal guides for commenting that you should follow. In general, comments should explain WHY not WHAT (with some exceptions). For example, here are some uses of commenting:\n",
    "> a. Explaining something to the reader that may not be obvious<br>\n",
    "> b. Clarifying your intention behind a line or block of code<br>\n",
    "> c. Setting a reminder to change or input something in the future<br> \n",
    "2. Additionally, there are guides of how NOT to comment. For example, explaining every variable assignment is considered unnecessary and overkill \n",
    "3. See [this](https://blog.codinghorror.com/code-tells-you-how-comments-tell-you-why/) blogpost for a more philosophical discussion around commenting \n",
    "4. In Python, comments can only extend one line (__Single-Line Comments__). However, in the case of a function (see Lecture 3), an explanation of the function (\"docstring\") is given as a quasi __Multi-Line Comment__, but technically it is just a multi-line string denoted with triple quotes (`\"\"\"`)\n",
    "\n",
    "__Practice:__\n",
    "See below for some examples of commenting in Python"
   ]
  },
  {
   "cell_type": "markdown",
   "metadata": {},
   "source": [
    "### Example 1 (Single-Line Comment):"
   ]
  },
  {
   "cell_type": "code",
   "execution_count": null,
   "metadata": {},
   "outputs": [],
   "source": [
    "# this is a single-line comment "
   ]
  },
  {
   "cell_type": "markdown",
   "metadata": {},
   "source": [
    "Notice how when running the cell above, there is no output since the line is ignored by the interpreter"
   ]
  },
  {
   "cell_type": "markdown",
   "metadata": {},
   "source": [
    "### Example 2 (Multi-Line String/Comment):"
   ]
  },
  {
   "cell_type": "code",
   "execution_count": null,
   "metadata": {},
   "outputs": [],
   "source": [
    "\"\"\"\n",
    "this is a multi-line \n",
    "string that is used in \n",
    "functions to explain \n",
    "the purpose of the function\n",
    "and is sometimes considered \n",
    "a multi-line comment\n",
    "\"\"\""
   ]
  },
  {
   "cell_type": "markdown",
   "metadata": {},
   "source": [
    "Notice how when running the cell above, there is an output since the line is NOT ignored by the interpreter "
   ]
  },
  {
   "cell_type": "markdown",
   "metadata": {},
   "source": [
    "### Example 3 (Proper and Improper use of Comments):"
   ]
  },
  {
   "cell_type": "markdown",
   "metadata": {},
   "source": [
    "Examples of proper commenting:"
   ]
  },
  {
   "cell_type": "code",
   "execution_count": null,
   "metadata": {},
   "outputs": [],
   "source": [
    "# round the response to the nearest integer because a decimal value will not make sense for the following reason...\n",
    "# an array was chosen here instead of a dataframe for the following reason...\n",
    "# method 1 was chosen instead of method 2 although both were attempted, but in the end of method 1 performed better for the following reasons...\n",
    "# reversing the sentence is necessary because we are reading from right to left "
   ]
  },
  {
   "cell_type": "markdown",
   "metadata": {},
   "source": [
    "Why do you think these are examples of proper commenting? "
   ]
  },
  {
   "cell_type": "markdown",
   "metadata": {},
   "source": [
    "Examples of improper commenting:"
   ]
  },
  {
   "cell_type": "code",
   "execution_count": null,
   "metadata": {},
   "outputs": [],
   "source": [
    "# a is set to the value of 1\n",
    "# the variable gordon is a string \n",
    "# the following loop iterates over 100 values\n",
    "# import this module because we will need the functions it contains"
   ]
  },
  {
   "cell_type": "markdown",
   "metadata": {},
   "source": [
    "Why do you think these are examples of improper commenting? "
   ]
  },
  {
   "cell_type": "markdown",
   "metadata": {},
   "source": [
    "### Example 4 (Ways of Commenting in Python): "
   ]
  },
  {
   "cell_type": "code",
   "execution_count": null,
   "metadata": {},
   "outputs": [],
   "source": [
    "# comment before the line like this\n",
    "a = 1\n",
    "\n",
    "a = 1 # comment at the end of the line like this \n",
    "\n",
    "a = 1\n",
    "# commenting after the line is possible although discouraged "
   ]
  },
  {
   "cell_type": "markdown",
   "metadata": {},
   "source": [
    "You can see that if the line begins with the hash symbol, it is considered a comment. "
   ]
  },
  {
   "cell_type": "markdown",
   "metadata": {},
   "source": [
    "### Example 5 (Hash Symbol Elsewhere):"
   ]
  },
  {
   "cell_type": "code",
   "execution_count": null,
   "metadata": {},
   "outputs": [],
   "source": [
    "a = \"this is called a string and the hash symbol (#) is now inrepreted as part of the string\"\n",
    "print(a)"
   ]
  },
  {
   "cell_type": "markdown",
   "metadata": {},
   "source": [
    "You can see that a hash symbol can also be intepreted as part of the string."
   ]
  },
  {
   "cell_type": "markdown",
   "metadata": {},
   "source": [
    "## 1.5 Variables in Python "
   ]
  },
  {
   "cell_type": "markdown",
   "metadata": {},
   "source": [
    "__Overview:__\n",
    "- A __[Variable](https://en.wikipedia.org/wiki/Variable_(computer_science)__ in programming is used to give a name to a value so that we can refer to it at other points in the program\n",
    "- Variables are most commonly used as part of Variable Assignments (see section 1.6 below)\n",
    "\n",
    "__Helpful Points:__\n",
    "1. You have the luxury of naming variables according to any name you wish\n",
    "2. However, there are some constraints/rules you must follow:\n",
    ">a. Variable names are case sensitive so the variable `a` is different than the variable `A`<br>\n",
    ">b. There are a list of \"reserved\" names in Python that you should not use to name variables. You can find a complete list of reserved words [here](https://docs.python.org/2.5/ref/keywords.html). You will notice a variable name is a Python keyword because as you type it, the text will turn <font color=\"green\">green</font> <br>\n",
    ">c. Variable names must start with a letter or an underscore but the remainder of the variable can consist of letters, numbers and underscores<br>\n",
    ">d. Multi-variable names can not be separated by a dot (`.`) since this denotes a method (more on this in Lecture 3)\n",
    "3. Additionally, there are some best practices you should follow:\n",
    ">a. Multi-variable names are usually separated by an underscore (`gordon_dri` is more readable than `gordondri` or `gordonDri`)<br>\n",
    ">b. Variable names should be descriptive and therefore random letters such as a, b, c (with the exception of i and j which are universally understood as rows and columns) should be avoided<br>\n",
    ">c. Avoid misleading letters such as the letter (`l`) since it looks remarkably similar to the number (`1`) and the capital letter (`O`) since it looks remarkably similar to the number (`0`)\n",
    "\n",
    "__Practice:__ Examples of variables in Python "
   ]
  },
  {
   "cell_type": "markdown",
   "metadata": {},
   "source": [
    "### Example 1 (Proper Variable Names):"
   ]
  },
  {
   "cell_type": "code",
   "execution_count": null,
   "metadata": {},
   "outputs": [],
   "source": [
    "# this is a proper variable name (although nothing is assigned to it so we receive an error)\n",
    "b"
   ]
  },
  {
   "cell_type": "code",
   "execution_count": null,
   "metadata": {},
   "outputs": [],
   "source": [
    "# this is another proper variable name (although nothing is assigned to it so we receive an error)\n",
    "_b"
   ]
  },
  {
   "cell_type": "code",
   "execution_count": null,
   "metadata": {},
   "outputs": [],
   "source": [
    "# this is another proper variable name (although nothing is assigned to it so we receive an error)\n",
    "_b123"
   ]
  },
  {
   "cell_type": "markdown",
   "metadata": {},
   "source": [
    "### Example 2 (Improper Variable Names):"
   ]
  },
  {
   "cell_type": "code",
   "execution_count": null,
   "metadata": {},
   "outputs": [],
   "source": [
    "# this is an improper variable name since it separates works by a dot \n",
    "gordon.dri"
   ]
  },
  {
   "cell_type": "code",
   "execution_count": null,
   "metadata": {},
   "outputs": [],
   "source": [
    "# this is another improper variable name since it is a reserved keyword in Python \n",
    "lambda"
   ]
  },
  {
   "cell_type": "code",
   "execution_count": null,
   "metadata": {},
   "outputs": [],
   "source": [
    "# this is another improper variable name since it does not begin with an underscore or letter\n",
    "1a2"
   ]
  },
  {
   "cell_type": "markdown",
   "metadata": {},
   "source": [
    "### 1.6 Variable Assignment"
   ]
  },
  {
   "cell_type": "markdown",
   "metadata": {},
   "source": [
    "__Overview:__\n",
    "- Variables are best understood through Variable Assignments which is the technical act of assigning a value to the variable \n",
    "- The assignment operator in Python is denoted by the equal sign (`=`) \n",
    "- The variable appears on the left followed by the assignment operator and then the value you wish to assign to the variable (Variable Assingment works left to right)\n",
    "\n",
    "__Helpful Points:__\n",
    "1. When creating new variables and assigning values to the variables, ensure you follow the rules and best practices laid out in Section 1.5 to avoid errors!\n",
    "2. Every variable you wish to work with must be assigned a value (even if the value is empty), otherwise you will receive an error\n",
    "3. To view the value of an assignment, simply type the variable name\n",
    "\n",
    "__Practice:__ Examples of Variables Assignments in Python "
   ]
  },
  {
   "cell_type": "markdown",
   "metadata": {},
   "source": [
    "### Part 1: Simple Examples"
   ]
  },
  {
   "cell_type": "markdown",
   "metadata": {},
   "source": [
    "### Example 1.1 (Non-Empty Variable Assignments with no Errors):"
   ]
  },
  {
   "cell_type": "code",
   "execution_count": null,
   "metadata": {},
   "outputs": [],
   "source": [
    "class_name = \"Beginner Python and Math for Data Science\"\n",
    "class_month_start = \"July\"\n",
    "\n",
    "print('class_name is equal to',class_name)\n",
    "print('class_month_start is equal to',class_month_start)"
   ]
  },
  {
   "cell_type": "markdown",
   "metadata": {},
   "source": [
    "We can interpret these variable assignments in the following way:\n",
    "- class_name IS \"Basics of Python and Math for Data Science\"\n",
    "- class_month_start IS \"July\""
   ]
  },
  {
   "cell_type": "code",
   "execution_count": null,
   "metadata": {},
   "outputs": [],
   "source": [
    "class_name"
   ]
  },
  {
   "cell_type": "code",
   "execution_count": null,
   "metadata": {},
   "outputs": [],
   "source": [
    "class_month_start"
   ]
  },
  {
   "cell_type": "code",
   "execution_count": null,
   "metadata": {},
   "outputs": [],
   "source": [
    "# change the values of the variables we created above \n",
    "class_name = \"Statistical Foundations of Data Science and Machine Learning\"\n",
    "\n",
    "print('class_name is equal to',class_name)\n",
    "print('class_month_start is STILL equal to',class_month_start)"
   ]
  },
  {
   "cell_type": "markdown",
   "metadata": {},
   "source": [
    "After a variable is assigned to a value, you can always override that value by re-assigning the variable to a NEW value. "
   ]
  },
  {
   "cell_type": "markdown",
   "metadata": {},
   "source": [
    "### Example 1.2 (Non-Empty Variable Assignments with Errors):"
   ]
  },
  {
   "cell_type": "code",
   "execution_count": null,
   "metadata": {},
   "outputs": [],
   "source": [
    "False = \"Beginner Python and Math for Data Science\""
   ]
  },
  {
   "cell_type": "markdown",
   "metadata": {},
   "source": [
    "Why do we get this error here?"
   ]
  },
  {
   "cell_type": "code",
   "execution_count": null,
   "metadata": {},
   "outputs": [],
   "source": [
    "0 = \"Gordon\""
   ]
  },
  {
   "cell_type": "markdown",
   "metadata": {},
   "source": [
    "Why do we get this error here?"
   ]
  },
  {
   "cell_type": "code",
   "execution_count": null,
   "metadata": {},
   "outputs": [],
   "source": [
    "\"\" = \"String\""
   ]
  },
  {
   "cell_type": "markdown",
   "metadata": {},
   "source": [
    "Why do we get this error here?"
   ]
  },
  {
   "cell_type": "markdown",
   "metadata": {},
   "source": [
    "### Example 1.3 (Empty Variable Assignments with no Errors):"
   ]
  },
  {
   "cell_type": "code",
   "execution_count": null,
   "metadata": {},
   "outputs": [],
   "source": [
    "gordon_age = \"\""
   ]
  },
  {
   "cell_type": "code",
   "execution_count": null,
   "metadata": {},
   "outputs": [],
   "source": [
    "gordon_age"
   ]
  },
  {
   "cell_type": "markdown",
   "metadata": {},
   "source": [
    "A variable MUST have a value assigned to it, but the value CAN be empty."
   ]
  },
  {
   "cell_type": "markdown",
   "metadata": {},
   "source": [
    "### Part 2: Advanced Examples"
   ]
  },
  {
   "cell_type": "markdown",
   "metadata": {},
   "source": [
    "### Example 2.1 (Chained Assignments): "
   ]
  },
  {
   "cell_type": "markdown",
   "metadata": {},
   "source": [
    "__[Chained Assignments](https://en.wikipedia.org/wiki/Assignment_(computer_science):__ This feature in Python allows one to assign the same value to multiple variables at once.\n",
    "- Chained Assignments are most commonly used to initialize multiple variables all at once (i.e. i = j = k = 1)"
   ]
  },
  {
   "cell_type": "code",
   "execution_count": null,
   "metadata": {},
   "outputs": [],
   "source": [
    "gordon = roberto = \"co-designer\""
   ]
  },
  {
   "cell_type": "code",
   "execution_count": null,
   "metadata": {},
   "outputs": [],
   "source": [
    "gordon"
   ]
  },
  {
   "cell_type": "code",
   "execution_count": null,
   "metadata": {},
   "outputs": [],
   "source": [
    "roberto"
   ]
  },
  {
   "cell_type": "markdown",
   "metadata": {},
   "source": [
    "### Example 2.2 (Simultaneous Assignments):"
   ]
  },
  {
   "cell_type": "markdown",
   "metadata": {},
   "source": [
    "__[Simultaneous Assignments](https://en.wikipedia.org/wiki/Assignment_(computer_science):__ This feature in Python allows one to assign multiple values to multiple variables at once \n",
    "- Simultaneous Assignments makes \"trading\" values between variables very efficient "
   ]
  },
  {
   "cell_type": "code",
   "execution_count": null,
   "metadata": {},
   "outputs": [],
   "source": [
    "a, b = 1, 2"
   ]
  },
  {
   "cell_type": "code",
   "execution_count": null,
   "metadata": {},
   "outputs": [],
   "source": [
    "a"
   ]
  },
  {
   "cell_type": "code",
   "execution_count": null,
   "metadata": {},
   "outputs": [],
   "source": [
    "b"
   ]
  },
  {
   "cell_type": "code",
   "execution_count": null,
   "metadata": {},
   "outputs": [],
   "source": [
    "# trading values between variables (without the use of simultaneous assignments)\n",
    "a = 1 \n",
    "b = 2\n",
    "temp = a\n",
    "a = b\n",
    "b = temp "
   ]
  },
  {
   "cell_type": "code",
   "execution_count": null,
   "metadata": {},
   "outputs": [],
   "source": [
    "a"
   ]
  },
  {
   "cell_type": "code",
   "execution_count": null,
   "metadata": {},
   "outputs": [],
   "source": [
    "b"
   ]
  },
  {
   "cell_type": "code",
   "execution_count": null,
   "metadata": {},
   "outputs": [],
   "source": [
    "# trading values between variables (with the use of simultaneous assignments)\n",
    "a = 1 \n",
    "b = 2\n",
    "a,b = b,a"
   ]
  },
  {
   "cell_type": "code",
   "execution_count": null,
   "metadata": {},
   "outputs": [],
   "source": [
    "a"
   ]
  },
  {
   "cell_type": "code",
   "execution_count": null,
   "metadata": {},
   "outputs": [],
   "source": [
    "b"
   ]
  },
  {
   "cell_type": "markdown",
   "metadata": {},
   "source": [
    "Note: there is a lot going in behind the scenes in this \"trading\" example that you will have to wait for lecture 2 to understand since it involves the concepts of packing and unpacking. "
   ]
  },
  {
   "cell_type": "markdown",
   "metadata": {},
   "source": [
    "### Example 2.3 (Compound Assignments):"
   ]
  },
  {
   "cell_type": "markdown",
   "metadata": {},
   "source": [
    "__[Compound Assignments](https://en.wikipedia.org/wiki/Assignment_(computer_science):__ This feature in Python allows one to perform an operation AND assignment in one step.\n",
    "- Compound Assignments are most commonly used in loops to perform increments (more on this in Lecture 3)\n",
    "- The most common Compound Assignments are `+=`, `-=`, `*=`, `/=`, `%=`\n",
    "- The Compound Assignment is read left to right (operation performed first and then the values is assigned using the assignment operator)"
   ]
  },
  {
   "cell_type": "code",
   "execution_count": null,
   "metadata": {},
   "outputs": [],
   "source": [
    "i = 0\n",
    "i += 1 # i = i + 1 \n",
    "i -= 1 # i = i - 1 \n",
    "i *= 1 # i = i * 1\n",
    "i /= 1 # i = i / 1\n",
    "i %= 1 # i = i % 1"
   ]
  },
  {
   "cell_type": "markdown",
   "metadata": {},
   "source": [
    "Take special note of the difference between `+=` and `=+`. The former is a compound assignment, whereas the later is a simple assignment and the addition sign implies the sign of the value that is being assigned to the variable:"
   ]
  },
  {
   "cell_type": "markdown",
   "metadata": {},
   "source": [
    "### Example 2.3.1 (Using compound assignment with `+=`):"
   ]
  },
  {
   "cell_type": "code",
   "execution_count": null,
   "metadata": {},
   "outputs": [],
   "source": [
    "i = 3"
   ]
  },
  {
   "cell_type": "code",
   "execution_count": null,
   "metadata": {},
   "outputs": [],
   "source": [
    "i += 1 # i = i + 1"
   ]
  },
  {
   "cell_type": "code",
   "execution_count": null,
   "metadata": {},
   "outputs": [],
   "source": [
    "i # i has been incremented by 1 "
   ]
  },
  {
   "cell_type": "markdown",
   "metadata": {},
   "source": [
    "### Example 2.3.2 (Using simple assignments with `=+`):"
   ]
  },
  {
   "cell_type": "code",
   "execution_count": null,
   "metadata": {},
   "outputs": [],
   "source": [
    "i = 3"
   ]
  },
  {
   "cell_type": "code",
   "execution_count": null,
   "metadata": {},
   "outputs": [],
   "source": [
    "i =+ 1 # i = +1"
   ]
  },
  {
   "cell_type": "code",
   "execution_count": null,
   "metadata": {
    "scrolled": true
   },
   "outputs": [],
   "source": [
    "i # i has been re-assigned to be 1"
   ]
  },
  {
   "cell_type": "markdown",
   "metadata": {},
   "source": [
    "### Problem 1:\n",
    "Create 4 variables called `a`, `b`, `c`, `d` and assign them values of 10, 20, 30, and 40 respectively\n",
    "\n",
    "- Show the outputs of these 4 variables\n",
    "- __BONUS__: try using simultaneous assignments"
   ]
  },
  {
   "cell_type": "code",
   "execution_count": null,
   "metadata": {},
   "outputs": [],
   "source": [
    "# Write your code here\n",
    "\n",
    "\n",
    "\n"
   ]
  },
  {
   "cell_type": "markdown",
   "metadata": {},
   "source": [
    "### Problem 2:\n",
    "Increment (add to) your variables called `a`, `b`, `c`, `d` by 5 using Compound Assignments\n",
    "\n",
    "- Show the outputs of these 4 variables"
   ]
  },
  {
   "cell_type": "code",
   "execution_count": null,
   "metadata": {},
   "outputs": [],
   "source": [
    "# Write your code here\n",
    "\n",
    "\n",
    "\n"
   ]
  },
  {
   "cell_type": "markdown",
   "metadata": {},
   "source": [
    "## 1.6 Data Types in Python "
   ]
  },
  {
   "cell_type": "markdown",
   "metadata": {},
   "source": [
    "__Overview:__\n",
    "- A __Data Type__ refers to the category in which the object you are creating belongs to \n",
    "- Every variable we create will belong to one of Python's __[Built-In (Standard) Data Types](https://docs.python.org/3/library/stdtypes.html#built-in-types)__\n",
    "- Depending on the way we create the variable, we will be specifying the Type to which we want that variable to belong to\n",
    "- Python has 4 main __Built-In Data Types:__ \n",
    "\n",
    ">1. __[Numeric Types](https://docs.python.org/3/library/stdtypes.html#numeric-types-int-float-complex)__\n",
    ">2. __[Sequence Types](https://docs.python.org/3/library/stdtypes.html#sequence-types-list-tuple-range)__\n",
    ">3. __[Set Types](https://docs.python.org/3/library/stdtypes.html#set-types-set-frozenset)__\n",
    ">4. __[Mapping Types](https://docs.python.org/3/library/stdtypes.html#mapping-types-dict)__\n",
    "\n",
    "__Helpful Points:__\n",
    "1. You can use the functions `type()` or `isinstance()` to view the type of any object\n",
    "2. These 4 Built-In Types will be explained in great detail in Lecture 2. However, in this lecture we will review the __Numeric Types__ (int, float, and complex) and one form of the __Sequence Types__ (Text Sequence Type - [String](https://docs.python.org/3/library/stdtypes.html#text-sequence-type-str)) "
   ]
  },
  {
   "cell_type": "markdown",
   "metadata": {},
   "source": [
    "## 1.7 Numeric Types in Python "
   ]
  },
  {
   "cell_type": "markdown",
   "metadata": {},
   "source": [
    "__Overview:__\n",
    "- There are 3 distinct numeric types in Python: integers (`int`), floating point numbers (`floats`) and complex numbers (`complex`)\n",
    "> 1. __Int__: `int` type refers to [Integers](https://en.wikipedia.org/wiki/Integer) which describe a number that can be written without a fractional component\n",
    "> 2. __Float__: `float` type refers to [Floating Point Numbers](https://en.wikipedia.org/wiki/Floating-point_arithmetic#Alternatives_to_floating-point_numbers) which describe a number that has a decimal component\n",
    "> 3. __Complex__: `complex` type refers to [Complex Numbers](https://en.wikipedia.org/wiki/Complex_number) which describes a number that can be expressed in the form of $a+bi$, where a and b are real numbers and i is imaginary number\n",
    "\n",
    "__Helpful Points:__\n",
    "1. When you assign an integer value to a variable, the variable automatically becomes an `int` type\n",
    "2. When you assign a decimal value to a variable, the variable automatically becomes a `float` type\n",
    "3. You can convert an `int` to a `float` type or a `float` type to an `int` type using the functions `int()` and `float()`, however this is not commonly used. Both are examples of __[Type Conversion](https://en.wikipedia.org/wiki/Type_conversion)__\n",
    "\n",
    "__Practice:__ Example of Numeric types in Python "
   ]
  },
  {
   "cell_type": "markdown",
   "metadata": {},
   "source": [
    "### Example 1 (Examples of int):"
   ]
  },
  {
   "cell_type": "code",
   "execution_count": null,
   "metadata": {},
   "outputs": [],
   "source": [
    "a = 1\n",
    "type(a)"
   ]
  },
  {
   "cell_type": "code",
   "execution_count": null,
   "metadata": {},
   "outputs": [],
   "source": [
    "isinstance(a, int)"
   ]
  },
  {
   "cell_type": "markdown",
   "metadata": {},
   "source": [
    "### Example 2 (Examples of float):"
   ]
  },
  {
   "cell_type": "code",
   "execution_count": null,
   "metadata": {},
   "outputs": [],
   "source": [
    "b = 1.0\n",
    "type(b)"
   ]
  },
  {
   "cell_type": "code",
   "execution_count": null,
   "metadata": {},
   "outputs": [],
   "source": [
    "isinstance(b, float)"
   ]
  },
  {
   "cell_type": "markdown",
   "metadata": {},
   "source": [
    "### Example 3 (Examples of complex):"
   ]
  },
  {
   "cell_type": "code",
   "execution_count": null,
   "metadata": {},
   "outputs": [],
   "source": [
    "c = 1j\n",
    "type(c)"
   ]
  },
  {
   "cell_type": "code",
   "execution_count": null,
   "metadata": {},
   "outputs": [],
   "source": [
    "isinstance(c, complex)"
   ]
  },
  {
   "cell_type": "markdown",
   "metadata": {},
   "source": [
    "### Example 4 (Explicit Type Conversion):"
   ]
  },
  {
   "cell_type": "code",
   "execution_count": null,
   "metadata": {},
   "outputs": [],
   "source": [
    "int(2.5)"
   ]
  },
  {
   "cell_type": "code",
   "execution_count": null,
   "metadata": {},
   "outputs": [],
   "source": [
    "int(3.9)"
   ]
  },
  {
   "cell_type": "markdown",
   "metadata": {},
   "source": [
    "The type conversion between `float` and `int` results in the number being rounded down"
   ]
  },
  {
   "cell_type": "code",
   "execution_count": null,
   "metadata": {},
   "outputs": [],
   "source": [
    "float(3)"
   ]
  },
  {
   "cell_type": "markdown",
   "metadata": {},
   "source": [
    "The type conversion between `int` and `float` results in an additional decimal place being added to the number"
   ]
  },
  {
   "cell_type": "markdown",
   "metadata": {},
   "source": [
    "## 1.8 Arithmetic in Python "
   ]
  },
  {
   "cell_type": "markdown",
   "metadata": {},
   "source": [
    "__Overview:__\n",
    "- Python allows the capability of performing multiple arithmetic operations such as:\n",
    "    - Addition (`+`)\n",
    "    - Subtraction (`-`)\n",
    "    - Multiplication (`*`)\n",
    "    - Division (`/`)\n",
    "    - Floor Divison (`//`)\n",
    "    - Remainder (`%`)\n",
    "    - Exponentiation (`**`)\n",
    "    \n",
    "__Helpful Points:__\n",
    "1. If you are performing an arithmetic operation using an `int` AND `float`, the result will become a type `float`\n",
    "2. The `^` symbol in Python is NOT the exponent, instead it refers to the [Bitwise Operation XOR](https://en.wikipedia.org/wiki/Bitwise_operation#XOR) (more on this below)\n",
    "3. Dividing by zero produces an error (`ZeroDivisionError: division by zero`)\n",
    "4. Base Python also has some built-in mathematical functions such as `max()`, `min()`, `sum()`, `round()`, etc.\n",
    "\n",
    "__Practice:__ Examples of arithmetic in Python "
   ]
  },
  {
   "cell_type": "markdown",
   "metadata": {},
   "source": [
    "### Example 1 (Simple Arithmetic):"
   ]
  },
  {
   "cell_type": "code",
   "execution_count": null,
   "metadata": {},
   "outputs": [],
   "source": [
    "# addition\n",
    "3 + 2"
   ]
  },
  {
   "cell_type": "code",
   "execution_count": null,
   "metadata": {},
   "outputs": [],
   "source": [
    "type(3 + 2)"
   ]
  },
  {
   "cell_type": "code",
   "execution_count": null,
   "metadata": {},
   "outputs": [],
   "source": [
    "# subtraction\n",
    "10 - 8"
   ]
  },
  {
   "cell_type": "code",
   "execution_count": null,
   "metadata": {},
   "outputs": [],
   "source": [
    "type(3 - 2)"
   ]
  },
  {
   "cell_type": "code",
   "execution_count": null,
   "metadata": {},
   "outputs": [],
   "source": [
    "# multiplication\n",
    "3 * 5"
   ]
  },
  {
   "cell_type": "code",
   "execution_count": null,
   "metadata": {},
   "outputs": [],
   "source": [
    "type(3 * 5)"
   ]
  },
  {
   "cell_type": "code",
   "execution_count": null,
   "metadata": {},
   "outputs": [],
   "source": [
    "# division\n",
    "10 / 3"
   ]
  },
  {
   "cell_type": "code",
   "execution_count": null,
   "metadata": {},
   "outputs": [],
   "source": [
    "type (10 / 3)"
   ]
  },
  {
   "cell_type": "code",
   "execution_count": null,
   "metadata": {},
   "outputs": [],
   "source": [
    "# floor division \n",
    "7 // 4"
   ]
  },
  {
   "cell_type": "code",
   "execution_count": null,
   "metadata": {},
   "outputs": [],
   "source": [
    "type(7 // 4)"
   ]
  },
  {
   "cell_type": "code",
   "execution_count": null,
   "metadata": {},
   "outputs": [],
   "source": [
    "# remainder\n",
    "7 % 4"
   ]
  },
  {
   "cell_type": "code",
   "execution_count": null,
   "metadata": {},
   "outputs": [],
   "source": [
    "type(7 % 4)"
   ]
  },
  {
   "cell_type": "code",
   "execution_count": null,
   "metadata": {},
   "outputs": [],
   "source": [
    "# exponentiation \n",
    "2 ** 3"
   ]
  },
  {
   "cell_type": "code",
   "execution_count": null,
   "metadata": {},
   "outputs": [],
   "source": [
    "type(2 ** 3)"
   ]
  },
  {
   "cell_type": "markdown",
   "metadata": {},
   "source": [
    "### Example 2 (Advanced Arithmetic):"
   ]
  },
  {
   "cell_type": "code",
   "execution_count": null,
   "metadata": {},
   "outputs": [],
   "source": [
    "2 + 4.0 / 3e2"
   ]
  },
  {
   "cell_type": "code",
   "execution_count": null,
   "metadata": {},
   "outputs": [],
   "source": [
    "-2 ** 2 + 1j"
   ]
  },
  {
   "cell_type": "markdown",
   "metadata": {},
   "source": [
    "### Example 3 (Dividing by 0):"
   ]
  },
  {
   "cell_type": "code",
   "execution_count": null,
   "metadata": {},
   "outputs": [],
   "source": [
    "2e3 / 0"
   ]
  },
  {
   "cell_type": "markdown",
   "metadata": {},
   "source": [
    "### Example 4 (Built-In Math Functions):"
   ]
  },
  {
   "cell_type": "code",
   "execution_count": null,
   "metadata": {},
   "outputs": [],
   "source": [
    "abs(-2)"
   ]
  },
  {
   "cell_type": "code",
   "execution_count": null,
   "metadata": {},
   "outputs": [],
   "source": [
    "max(2,3,4,1)"
   ]
  },
  {
   "cell_type": "code",
   "execution_count": null,
   "metadata": {},
   "outputs": [],
   "source": [
    "round(3.42341)"
   ]
  },
  {
   "cell_type": "markdown",
   "metadata": {},
   "source": [
    "### Example 5 (Arithmetic with float and int):"
   ]
  },
  {
   "cell_type": "code",
   "execution_count": null,
   "metadata": {},
   "outputs": [],
   "source": [
    "type(3.0 + 2)"
   ]
  },
  {
   "cell_type": "markdown",
   "metadata": {},
   "source": [
    "### Problem 3:\n",
    "Create a variable `e` that is the sum of `a`, `b`, `c`, and `d` and then show the output of the variable `e`\n",
    "- You do not need to recreate the variables `a`, `b`, `c`, and `d` since you already created them in Problem 1 and they are stored in your environment until you shutdown this Notebook document\n",
    "- Do not use any built-in Python functions"
   ]
  },
  {
   "cell_type": "code",
   "execution_count": null,
   "metadata": {},
   "outputs": [],
   "source": [
    "# Write your code here\n",
    "\n",
    "\n",
    "\n"
   ]
  },
  {
   "cell_type": "markdown",
   "metadata": {},
   "source": [
    "### Problem 4:\n",
    "\n",
    "Calculate the area of a circle which is given by the following formula: $A = \\pi * r^2$ and show the output of the area\n",
    "- Create a variable `pi` that will store the value 3.14 \n",
    "- Create a variable `r` that will store the value 3\n",
    "- Then create a variable `area` that will store the area of the circle\n",
    "- Show the output of the `area` variable\n",
    "- __BONUS__: try using simulataneous assignments"
   ]
  },
  {
   "cell_type": "code",
   "execution_count": null,
   "metadata": {},
   "outputs": [],
   "source": [
    "# Write your code here\n",
    "\n",
    "\n",
    "\n"
   ]
  },
  {
   "cell_type": "markdown",
   "metadata": {},
   "source": [
    "### Problem 5:\n",
    "\n",
    "Calculate the minimum of a absolute value of -10 and the square of -4\n",
    "- Create a variable `abs_val` that will store the absolute value of -10 \n",
    "- Create a variable `square_val` that will store the square of -4\n",
    "- Then create a variable `minimum` that will store the minimum value of the two variables above \n",
    "- Show the output of the `minimum` variable\n",
    "- __BONUS__: try using simulataneous assignments"
   ]
  },
  {
   "cell_type": "code",
   "execution_count": null,
   "metadata": {},
   "outputs": [],
   "source": [
    "# Write your code here\n",
    "\n",
    "\n",
    "\n"
   ]
  },
  {
   "cell_type": "markdown",
   "metadata": {},
   "source": [
    "## 1.9 Text Sequence Type (Str) in Python "
   ]
  },
  {
   "cell_type": "markdown",
   "metadata": {},
   "source": [
    "__Overview:__\n",
    "- A __String__ is a sequence of characters and is handled in Python as a `str` type\n",
    "- Textual data (words, sentences, paragraphs, etc.) are stored as a String \n",
    "- Strings can be written in 3 main ways:\n",
    "> 1. __Single quotes__: this allows embedded double quotes\n",
    "> 2. __Double quotes__: this allowes embedded single quotes\n",
    "> 3. __Triple quotes__ (with either single or double quotes)\n",
    "- More information on Strings will be discussed in Lecture 2\n",
    "\n",
    "__Helpful Points:__\n",
    "1. Recall above in the discussion of Comments that multi-line strings are possible with triple quotes\n",
    "2. __Type Conversion__ is possible between some strings and numeric types \n",
    "\n",
    "__Practice:__ Examples of strings in Python "
   ]
  },
  {
   "cell_type": "markdown",
   "metadata": {},
   "source": [
    "### Example 1 (Creating a String with Single Quotes):"
   ]
  },
  {
   "cell_type": "code",
   "execution_count": null,
   "metadata": {},
   "outputs": [],
   "source": [
    "course_name = 'Basics of Python and Math for Data Science'"
   ]
  },
  {
   "cell_type": "code",
   "execution_count": null,
   "metadata": {},
   "outputs": [],
   "source": [
    "course_name"
   ]
  },
  {
   "cell_type": "code",
   "execution_count": null,
   "metadata": {},
   "outputs": [],
   "source": [
    "type(course_name)"
   ]
  },
  {
   "cell_type": "markdown",
   "metadata": {},
   "source": [
    "### Example 2 (Creating a String with Double Quotes):"
   ]
  },
  {
   "cell_type": "code",
   "execution_count": null,
   "metadata": {},
   "outputs": [],
   "source": [
    "co_designer_1 = \"Gordon\"\n",
    "co_designer_2 = \"Roberto\""
   ]
  },
  {
   "cell_type": "code",
   "execution_count": null,
   "metadata": {},
   "outputs": [],
   "source": [
    "co_designer_1"
   ]
  },
  {
   "cell_type": "code",
   "execution_count": null,
   "metadata": {},
   "outputs": [],
   "source": [
    "type(co_designer_1)"
   ]
  },
  {
   "cell_type": "markdown",
   "metadata": {},
   "source": [
    "### Example 3 (Creating a String with Triple Quotes):"
   ]
  },
  {
   "cell_type": "code",
   "execution_count": null,
   "metadata": {},
   "outputs": [],
   "source": [
    "course_start_month = \"\"\"July\"\"\""
   ]
  },
  {
   "cell_type": "code",
   "execution_count": null,
   "metadata": {},
   "outputs": [],
   "source": [
    "course_start_month"
   ]
  },
  {
   "cell_type": "code",
   "execution_count": null,
   "metadata": {},
   "outputs": [],
   "source": [
    "type(course_start_month)"
   ]
  },
  {
   "cell_type": "markdown",
   "metadata": {},
   "source": [
    "### Example 4 (Creating a String with Single and Double Quotes):"
   ]
  },
  {
   "cell_type": "code",
   "execution_count": null,
   "metadata": {},
   "outputs": [],
   "source": [
    "'That's Cool'"
   ]
  },
  {
   "cell_type": "code",
   "execution_count": null,
   "metadata": {},
   "outputs": [],
   "source": [
    "\"That's Cool\""
   ]
  },
  {
   "cell_type": "code",
   "execution_count": null,
   "metadata": {},
   "outputs": [],
   "source": [
    "'He said: \"Hello\"'"
   ]
  },
  {
   "cell_type": "markdown",
   "metadata": {},
   "source": [
    "### Example 5 (Creating a String with Single, Double, and Triple Quotes):"
   ]
  },
  {
   "cell_type": "code",
   "execution_count": null,
   "metadata": {},
   "outputs": [],
   "source": [
    "'''She responded: \"It's a nice day\"'''"
   ]
  },
  {
   "cell_type": "markdown",
   "metadata": {},
   "source": [
    "### Example 6 (Type Conversion between Strings and Numeric Types):"
   ]
  },
  {
   "cell_type": "code",
   "execution_count": null,
   "metadata": {},
   "outputs": [],
   "source": [
    "# convert float to string\n",
    "x = 3.5\n",
    "str(x)"
   ]
  },
  {
   "cell_type": "code",
   "execution_count": null,
   "metadata": {},
   "outputs": [],
   "source": [
    "# convert int to string\n",
    "x = 10\n",
    "str(10)"
   ]
  },
  {
   "cell_type": "code",
   "execution_count": null,
   "metadata": {},
   "outputs": [],
   "source": [
    "# convert string to float\n",
    "x = \"3.5\"\n",
    "float(x)"
   ]
  },
  {
   "cell_type": "code",
   "execution_count": null,
   "metadata": {},
   "outputs": [],
   "source": [
    "# convert string to int\n",
    "x = \"10\"\n",
    "int(x)"
   ]
  },
  {
   "cell_type": "code",
   "execution_count": null,
   "metadata": {},
   "outputs": [],
   "source": [
    "# convert string to int\n",
    "x = \"Gordon\"\n",
    "int(x)"
   ]
  },
  {
   "cell_type": "markdown",
   "metadata": {},
   "source": [
    "### Example 7 (Using Magic Commands `%who` and `%whos`):"
   ]
  },
  {
   "cell_type": "code",
   "execution_count": null,
   "metadata": {},
   "outputs": [],
   "source": [
    "# displays all the variables that are currently saved in the environment\n",
    "%who"
   ]
  },
  {
   "cell_type": "code",
   "execution_count": null,
   "metadata": {},
   "outputs": [],
   "source": [
    "# displays all the variables that are integers\n",
    "%who int"
   ]
  },
  {
   "cell_type": "code",
   "execution_count": null,
   "metadata": {},
   "outputs": [],
   "source": [
    "# displays all the variables that are floats\n",
    "%who float"
   ]
  },
  {
   "cell_type": "code",
   "execution_count": null,
   "metadata": {},
   "outputs": [],
   "source": [
    "# displays all the variables that are complex\n",
    "%who complex"
   ]
  },
  {
   "cell_type": "code",
   "execution_count": null,
   "metadata": {},
   "outputs": [],
   "source": [
    "# displays all the variables that are strings\n",
    "%who str"
   ]
  },
  {
   "cell_type": "code",
   "execution_count": null,
   "metadata": {},
   "outputs": [],
   "source": [
    "# displays all the variables that are currently saved in the environment in a nice fashion\n",
    "%whos"
   ]
  },
  {
   "cell_type": "markdown",
   "metadata": {},
   "source": [
    "## 1.10 Boolean Logic in Python "
   ]
  },
  {
   "cell_type": "markdown",
   "metadata": {},
   "source": [
    "### 1.10.1 Boolean Values in Python "
   ]
  },
  {
   "cell_type": "markdown",
   "metadata": {},
   "source": [
    "__Overview:__\n",
    "- __[Boolean Values](https://docs.python.org/3/library/stdtypes.html#boolean-values):__ Boolean Values in Python are the two constant objects `False` and `True`\n",
    "- These two objects are case sensitive and therefore `FALSE`, `false`, `TRUE`, and `true` do not represent Boolean Values\n",
    "- Boolean Values are the two main objects to represent truth values (true and false) \n",
    "- Boolean Values can behave like integers when used in arithmetic operators or numeric contexts in general (`0` - `False` and `1` - `True`)\n",
    "\n",
    "__Helpful Points:__\n",
    "1. The 2 Boolean Values are considered to have type `bool` similar to `int`, `float`, `str`, and `complex`\n",
    "2. Similar to the `int()` and `str()` function, the `bool()` can be used to type convert an object into a Boolean Value\n",
    "\n",
    "__Practice:__ Examples of Boolean Values in Python "
   ]
  },
  {
   "cell_type": "markdown",
   "metadata": {},
   "source": [
    "### Example 1 (Creating Variables with Boolean Values):"
   ]
  },
  {
   "cell_type": "code",
   "execution_count": null,
   "metadata": {},
   "outputs": [],
   "source": [
    "a = True\n",
    "b = \"True\""
   ]
  },
  {
   "cell_type": "code",
   "execution_count": null,
   "metadata": {},
   "outputs": [],
   "source": [
    "type(a)"
   ]
  },
  {
   "cell_type": "code",
   "execution_count": null,
   "metadata": {},
   "outputs": [],
   "source": [
    "type(b)"
   ]
  },
  {
   "cell_type": "markdown",
   "metadata": {},
   "source": [
    "### Example 2 (Type Conversion with bool type):"
   ]
  },
  {
   "cell_type": "code",
   "execution_count": null,
   "metadata": {},
   "outputs": [],
   "source": [
    "c = bool(b)"
   ]
  },
  {
   "cell_type": "code",
   "execution_count": null,
   "metadata": {},
   "outputs": [],
   "source": [
    "type(c)"
   ]
  },
  {
   "cell_type": "code",
   "execution_count": null,
   "metadata": {},
   "outputs": [],
   "source": [
    "my_name = \"Garrett\"\n",
    "my_name_bool = bool(my_name)"
   ]
  },
  {
   "cell_type": "code",
   "execution_count": null,
   "metadata": {},
   "outputs": [],
   "source": [
    "my_name_bool"
   ]
  },
  {
   "cell_type": "code",
   "execution_count": null,
   "metadata": {},
   "outputs": [],
   "source": [
    "type(my_name_bool)"
   ]
  },
  {
   "cell_type": "markdown",
   "metadata": {},
   "source": [
    "We can see that the `bool()` function converts the variable to the `True` Boolean Value by default"
   ]
  },
  {
   "cell_type": "markdown",
   "metadata": {},
   "source": [
    "### 1.10.2 Value Comparisons in Python:"
   ]
  },
  {
   "cell_type": "markdown",
   "metadata": {},
   "source": [
    "__Overview:__\n",
    "- __[Value Comparisons](https://docs.python.org/3/reference/expressions.html#value-comparisons):__ Value Comparisons is the process of comparing the values of two objects using the following comparison operators:\n",
    "    - Strictly less than (`<`)\n",
    "    - Strictly greater than (`>`)\n",
    "    - Equal to (`==`)\n",
    "    - Greater than or Equal to (`>=`)\n",
    "    - Less than or Equal to (`<=`)\n",
    "    - Not Equal to (`!=`)\n",
    "- The result of the Value Comparison will be a Boolean Value (`True` or `False`)\n",
    "    \n",
    "__Helpful Points:__\n",
    "1. The objects that are being compared do not need to have the same type\n",
    "2. In some cases, if the objects do not have the same type, the interpreter will perform Type Conversion on one of the two values so they have the same type and in other cases, Value Comparison will be made with two values of different types\n",
    "\n",
    "__Practice:__ Examples of Value Comparisons in Python "
   ]
  },
  {
   "cell_type": "markdown",
   "metadata": {},
   "source": [
    "### Example 1 (Comparison Operators of the same Type):"
   ]
  },
  {
   "cell_type": "code",
   "execution_count": null,
   "metadata": {},
   "outputs": [],
   "source": [
    "# equal to operator\n",
    "print(3 == 3)\n",
    "print(3 == 2)"
   ]
  },
  {
   "cell_type": "code",
   "execution_count": null,
   "metadata": {},
   "outputs": [],
   "source": [
    "# not equal to operator\n",
    "print(3 != 3)\n",
    "print(3 != 2)"
   ]
  },
  {
   "cell_type": "code",
   "execution_count": null,
   "metadata": {},
   "outputs": [],
   "source": [
    "# greater than operator\n",
    "print(3 > 2)\n",
    "print(3 > 3)"
   ]
  },
  {
   "cell_type": "code",
   "execution_count": null,
   "metadata": {},
   "outputs": [],
   "source": [
    "# greater than or equal to operator\n",
    "print(3 >= 2)\n",
    "print(3 >= 3)"
   ]
  },
  {
   "cell_type": "markdown",
   "metadata": {},
   "source": [
    "### Example 2 (Comparison Operators of different Type):"
   ]
  },
  {
   "cell_type": "code",
   "execution_count": null,
   "metadata": {},
   "outputs": [],
   "source": [
    "# operator with int and float\n",
    "print(3 == 3.0)"
   ]
  },
  {
   "cell_type": "code",
   "execution_count": null,
   "metadata": {},
   "outputs": [],
   "source": [
    "# operator with bool and int\n",
    "print(True == 1)"
   ]
  },
  {
   "cell_type": "markdown",
   "metadata": {},
   "source": [
    "In this case, the `True` value is converted to a numeric type (integer value 1)"
   ]
  },
  {
   "cell_type": "code",
   "execution_count": null,
   "metadata": {},
   "outputs": [],
   "source": [
    "# operator with int and str\n",
    "print(5 == \"5\")"
   ]
  },
  {
   "cell_type": "markdown",
   "metadata": {},
   "source": [
    "### Example 3 (Comparison Operators wih Types):"
   ]
  },
  {
   "cell_type": "code",
   "execution_count": null,
   "metadata": {},
   "outputs": [],
   "source": [
    "print(type(3) == type(-7.2))"
   ]
  },
  {
   "cell_type": "markdown",
   "metadata": {},
   "source": [
    "### Problem 6\n",
    "\n",
    "John makes 10,000 in 80 hours and Ana makes 5,000 in 35 hours. Print `True` if Ana makes more than John on an hourly rate, otherwise print `False`. \n",
    "\n",
    "- Use the comparison operators in your answer \n",
    "- Use an explanatory print statement before you output your answer to tell the user what the meaning of the answer is "
   ]
  },
  {
   "cell_type": "code",
   "execution_count": null,
   "metadata": {},
   "outputs": [],
   "source": [
    "# Write your code here\n",
    "\n",
    "\n",
    "\n"
   ]
  },
  {
   "cell_type": "markdown",
   "metadata": {},
   "source": [
    "### Problem 7\n",
    "\n",
    "Bill drove From New York to Boston (215 miles) in 2 hours and 15 minutes. The speed limit is 65 mph. Print `True` if Bill could have been pulled over for speeding, otherwise print `False`. \n",
    "\n",
    "- Use the comparison operators in your answer \n",
    "- Use an explanatory print statement before you output your answer to tell the user what the meaning of the answer is "
   ]
  },
  {
   "cell_type": "code",
   "execution_count": null,
   "metadata": {},
   "outputs": [],
   "source": [
    "# Write your code here\n",
    "\n",
    "\n",
    "\n"
   ]
  },
  {
   "cell_type": "markdown",
   "metadata": {},
   "source": [
    "### 1.10.3 Membership Test Operations (for `str` types)"
   ]
  },
  {
   "cell_type": "markdown",
   "metadata": {},
   "source": [
    "Membership Test Operations can be used for all built-in sequence types and set types (see list of built-in types above) as well as dictionaries (type of mapping type). However, only membership test operations as it pertains to the text sequence type (`str`) will be explored here and the remaining applications will be covered in Lecture 2. "
   ]
  },
  {
   "cell_type": "markdown",
   "metadata": {},
   "source": [
    "__Overview:__\n",
    "- __[Membership Test Operations](https://docs.python.org/3/reference/expressions.html#membership-test-operations):__ Membership Test Operations is the process of checking if one variable is a \"member\" of the other variable \n",
    "- There are two operators used in membership tests:\n",
    "> 1. `in`: `x in s` evalutes to `True` if `x` is a member of `s`, and `False` otherwise\n",
    "> 2. `not in`: `x not in s` returns the negation of `x in s`\n",
    "- The result of a membership test is one of the two boolean values (`True` or `False`) similiar to value comparisons\n",
    "\n",
    "__Helpful Points:__\n",
    "1. For the `str` type, `x in y` is `True` if and only if `x` is a substring of `y` (i.e. the string `x` is contained within the string `y`)\n",
    "2. Empty strings are always considered to be a substring of any other string, so `\"\" in abc` will always return `True` (i.e. the string `\"\"` is contained within the string `abc`)\n",
    "\n",
    "__Practice:__ Examples of membership test operations in Python "
   ]
  },
  {
   "cell_type": "markdown",
   "metadata": {},
   "source": [
    "### Example 1 (Membership Test Operations with substrings - `in`):"
   ]
  },
  {
   "cell_type": "code",
   "execution_count": null,
   "metadata": {},
   "outputs": [],
   "source": [
    "designer_name = \"Gordon\"\n",
    "print(\"Gor\" in designer_name)"
   ]
  },
  {
   "cell_type": "code",
   "execution_count": null,
   "metadata": {},
   "outputs": [],
   "source": [
    "print(\"gor\" in designer_name)"
   ]
  },
  {
   "cell_type": "code",
   "execution_count": null,
   "metadata": {},
   "outputs": [],
   "source": [
    "print(\"\" in designer_name)"
   ]
  },
  {
   "cell_type": "markdown",
   "metadata": {},
   "source": [
    "### Example 2 (Membership Test Operations with substrings - `not in`):"
   ]
  },
  {
   "cell_type": "code",
   "execution_count": null,
   "metadata": {},
   "outputs": [],
   "source": [
    "print(\"ab\" not in designer_name)"
   ]
  },
  {
   "cell_type": "code",
   "execution_count": null,
   "metadata": {},
   "outputs": [],
   "source": [
    "print(\"\" not in designer_name)"
   ]
  },
  {
   "cell_type": "markdown",
   "metadata": {},
   "source": [
    "### 1.10.4 Identity Comparisons"
   ]
  },
  {
   "cell_type": "markdown",
   "metadata": {},
   "source": [
    "__Overview:__\n",
    "- __[Identity Comparisons](https://docs.python.org/3/reference/expressions.html#identity-comparisons):__ Identity Comparisons is the process of comparing two variables to see if they refer to the same object\n",
    "- There are two operators used in identity comparisons:\n",
    "> 1. `is`: `x is y` is `True` if and only if x and y are the same object\n",
    "> 2. `is not`: `x is not y` yields the inverse truth value \n",
    "\n",
    "__Helpful Points:__\n",
    "1. Identity Comparisons differ from Value Comparisons since they check to see if the two variables refer to the same object and NOT if the two variables have equal values\n",
    "2. The identity of an object is dictated by the unique integer value that is assigned to an object. You can use the `id()` function to obtain this identity. \n",
    "\n",
    "__Practice:__ Examples of identity comparisons in Python "
   ]
  },
  {
   "cell_type": "markdown",
   "metadata": {},
   "source": [
    "### Example 1 (Identity Comparisons - `is`):"
   ]
  },
  {
   "cell_type": "markdown",
   "metadata": {},
   "source": [
    "### Example 1.1:"
   ]
  },
  {
   "cell_type": "code",
   "execution_count": null,
   "metadata": {},
   "outputs": [],
   "source": [
    "a = 1\n",
    "b = 1.0"
   ]
  },
  {
   "cell_type": "code",
   "execution_count": null,
   "metadata": {},
   "outputs": [],
   "source": [
    "id(a)"
   ]
  },
  {
   "cell_type": "code",
   "execution_count": null,
   "metadata": {},
   "outputs": [],
   "source": [
    "id(b)"
   ]
  },
  {
   "cell_type": "markdown",
   "metadata": {},
   "source": [
    "The `id()` function indicates a unique integer number that is associated with this object. For our purposes, it is not crucial to understand what this integer value means - for simplicity we will see it provides some information about where the object is saved in memory. When using identity comparisons, it is this specific identity that is compared. If the two identities returned by the `id()` function are the same, then the two objects are the same and the identity comparison will return `True`. If the two identities returned by the `id()` function are different, then the two objects are different and the identity comparison will return `False`. "
   ]
  },
  {
   "cell_type": "code",
   "execution_count": null,
   "metadata": {},
   "outputs": [],
   "source": [
    "print(a is b)"
   ]
  },
  {
   "cell_type": "code",
   "execution_count": null,
   "metadata": {},
   "outputs": [],
   "source": [
    "print(a == b)"
   ]
  },
  {
   "cell_type": "markdown",
   "metadata": {},
   "source": [
    "Compare the result of the identity comparison using `is` and the value comparison using `==`. The first comparison checks if the variables `a` and `b` refer to the same object (which is `False` since the variable `a` refers to one place in memory and the variable `b` refers to another place in memory - they are DIFFERENT objects). The second comparison checks if the variables `a` and `b` have equal values (which is `True` since both refer to 1 implicitly)."
   ]
  },
  {
   "cell_type": "markdown",
   "metadata": {},
   "source": [
    "### Example 1.2:"
   ]
  },
  {
   "cell_type": "code",
   "execution_count": null,
   "metadata": {},
   "outputs": [],
   "source": [
    "a = 1\n",
    "b = a"
   ]
  },
  {
   "cell_type": "code",
   "execution_count": null,
   "metadata": {},
   "outputs": [],
   "source": [
    "id(a)"
   ]
  },
  {
   "cell_type": "code",
   "execution_count": null,
   "metadata": {},
   "outputs": [],
   "source": [
    "id(b)"
   ]
  },
  {
   "cell_type": "code",
   "execution_count": null,
   "metadata": {},
   "outputs": [],
   "source": [
    "print(a is b)"
   ]
  },
  {
   "cell_type": "markdown",
   "metadata": {},
   "source": [
    "Now, we set the variable `b` equal to the variable `a`. We are telling Python to create an object `b` that is based on the object `a`. Now, the variable `b` refer to the same object and therefore their identities are the same. They are \"basically\" pointing to the same place in memory. "
   ]
  },
  {
   "cell_type": "markdown",
   "metadata": {},
   "source": [
    "### Example 1.3:"
   ]
  },
  {
   "cell_type": "code",
   "execution_count": null,
   "metadata": {},
   "outputs": [],
   "source": [
    "list_1 = [1,2,3]\n",
    "list_2 = list_1"
   ]
  },
  {
   "cell_type": "code",
   "execution_count": null,
   "metadata": {},
   "outputs": [],
   "source": [
    "print(list_1)\n",
    "print(list_2)"
   ]
  },
  {
   "cell_type": "code",
   "execution_count": null,
   "metadata": {},
   "outputs": [],
   "source": [
    "id(list_1)"
   ]
  },
  {
   "cell_type": "code",
   "execution_count": null,
   "metadata": {},
   "outputs": [],
   "source": [
    "id(list_2)"
   ]
  },
  {
   "cell_type": "code",
   "execution_count": null,
   "metadata": {},
   "outputs": [],
   "source": [
    "print(list_1 is list_2)"
   ]
  },
  {
   "cell_type": "code",
   "execution_count": null,
   "metadata": {},
   "outputs": [],
   "source": [
    "list_1[0] = 5 # change the first element of list_1\n",
    "print(list_1)\n",
    "print(list_2) # list_2 is changed as well since it refers to the same object as list_1 (i.e. if list_1 changes, so does list_2)"
   ]
  },
  {
   "cell_type": "code",
   "execution_count": null,
   "metadata": {},
   "outputs": [],
   "source": [
    "id(list_1)"
   ]
  },
  {
   "cell_type": "code",
   "execution_count": null,
   "metadata": {},
   "outputs": [],
   "source": [
    "id(list_2)"
   ]
  },
  {
   "cell_type": "code",
   "execution_count": null,
   "metadata": {},
   "outputs": [],
   "source": [
    "print(list_1 is list_2)"
   ]
  },
  {
   "cell_type": "code",
   "execution_count": null,
   "metadata": {},
   "outputs": [],
   "source": [
    "print(list_1 == list_2)"
   ]
  },
  {
   "cell_type": "markdown",
   "metadata": {},
   "source": [
    "In this second example, we built two variables which refer to the same object based on the way they were assigned. These variables are known as \"lists\" which will be covered in Lecture 2. The other concept here which is being demonstrated is the idea of a \"view\" vs. \"shallow copy\". Since assigning `list_2` to the variable `list_1` is an example of a \"view\", the variable `list_2` changes when `list_1` changes. See more information in Lecture 2 about this. "
   ]
  },
  {
   "cell_type": "markdown",
   "metadata": {},
   "source": [
    "### Example 2 (Identity Comparisons - `is not`):"
   ]
  },
  {
   "cell_type": "code",
   "execution_count": null,
   "metadata": {},
   "outputs": [],
   "source": [
    "print(a is not b)"
   ]
  },
  {
   "cell_type": "code",
   "execution_count": null,
   "metadata": {},
   "outputs": [],
   "source": [
    "print(a != b)"
   ]
  },
  {
   "cell_type": "markdown",
   "metadata": {},
   "source": [
    "### 1.10.5 Boolean Operations:"
   ]
  },
  {
   "cell_type": "markdown",
   "metadata": {},
   "source": [
    "__Overview:__\n",
    "- __[Boolean Operations](https://docs.python.org/3/reference/expressions.html#boolean-operations):__ Boolean Operations refer to the operations that involve the Boolean Operators. There are 3 types of Boolean Operators as described below:\n",
    "> 1. `and` (`x and y` returns `True` if `x` and `y` are both `True`)\n",
    "> 2. `or` (`x or y` returns `True` if `x` or `y` is `True`)\n",
    "> 3. `not` (`x and not y` means the opposite of `y`)\n",
    "- The result of a Boolean Operation is one of the two Boolean Values (`True` or `False`)\n",
    "\n",
    "__Helpful Points:__\n",
    "1. Both `and` and `or` have [short-circuit](https://en.wikipedia.org/wiki/Short-circuit_evaluation) behavior. This allows the interpreter to only look at one of the two values to make a conclusion instead of both values (lazy or minimal evaluation)\n",
    "2. Short-Circuit behavior for `and`:\n",
    "> - `x and y` is evaluated as follows: `x` is evaluated first, then if `x` is `False`, its value is returned without looking at the value of `y`. However, if `x` is `True`, `y` is evaluated and `y` is returned\n",
    "3. Short-Circuit behavior for `or`:\n",
    "> - `x or y` is evaluated as follows: `x` is evaluated first, then if `x` is `True`, its values is returned without looking at the value of `y`. However, if `x` is `False`. `y` is evaluated and `y` is returned\n",
    "\n",
    "__Practice:__ Examples of Boolean Operations in Python "
   ]
  },
  {
   "cell_type": "markdown",
   "metadata": {},
   "source": [
    "### Example 1 (Boolean Operation - `and`):"
   ]
  },
  {
   "cell_type": "code",
   "execution_count": null,
   "metadata": {},
   "outputs": [],
   "source": [
    "x = True\n",
    "y = False\n",
    "x and y"
   ]
  },
  {
   "cell_type": "markdown",
   "metadata": {},
   "source": [
    "### Example 2 (Boolean Operation - `or`):"
   ]
  },
  {
   "cell_type": "code",
   "execution_count": null,
   "metadata": {},
   "outputs": [],
   "source": [
    "x or y"
   ]
  },
  {
   "cell_type": "markdown",
   "metadata": {},
   "source": [
    "### Example 3 (Boolean Operation - `not`):"
   ]
  },
  {
   "cell_type": "code",
   "execution_count": null,
   "metadata": {},
   "outputs": [],
   "source": [
    "x = not True\n",
    "x or y"
   ]
  },
  {
   "cell_type": "code",
   "execution_count": null,
   "metadata": {},
   "outputs": [],
   "source": [
    "x = True\n",
    "y = False\n",
    "\n",
    "print(x or y and not y)"
   ]
  },
  {
   "cell_type": "markdown",
   "metadata": {},
   "source": [
    "This statement returns `True` since the operator `or` is at a higher precedence than both `and` and `not`. See below for more detail on __Operator Precedence__. The expression is evaluated as follows: \n",
    "1. `x or y` returns `True`\n",
    "2. `True and not y` returns `True`<br>"
   ]
  },
  {
   "cell_type": "markdown",
   "metadata": {},
   "source": [
    "### Example 4 (Boolean Operation and Value Comparisons):"
   ]
  },
  {
   "cell_type": "code",
   "execution_count": null,
   "metadata": {},
   "outputs": [],
   "source": [
    "a = 2 \n",
    "b = 3\n",
    "\n",
    "print(a >= 1 and b < 4)"
   ]
  },
  {
   "cell_type": "code",
   "execution_count": null,
   "metadata": {},
   "outputs": [],
   "source": [
    "print(a >= 2 or b < 2)"
   ]
  },
  {
   "cell_type": "markdown",
   "metadata": {},
   "source": [
    "### Example 5 (Boolean Operation and Value + Identity Comparisons):"
   ]
  },
  {
   "cell_type": "code",
   "execution_count": null,
   "metadata": {},
   "outputs": [],
   "source": [
    "a = 1 \n",
    "b = 1.0\n",
    "\n",
    "print(a is b and not a == b)"
   ]
  },
  {
   "cell_type": "code",
   "execution_count": null,
   "metadata": {},
   "outputs": [],
   "source": [
    "print(a is b or a == b)"
   ]
  },
  {
   "cell_type": "markdown",
   "metadata": {},
   "source": [
    "### Example 6 (Boolean Operation with Arithmetic Operators):"
   ]
  },
  {
   "cell_type": "code",
   "execution_count": null,
   "metadata": {},
   "outputs": [],
   "source": [
    "x = 3**2+5\n",
    "print(x > 12 and x < 16)"
   ]
  },
  {
   "cell_type": "markdown",
   "metadata": {},
   "source": [
    "### 1.10.6 Binary Bitwise Operations (BONUS)"
   ]
  },
  {
   "cell_type": "markdown",
   "metadata": {},
   "source": [
    "__Overview:__\n",
    "- __[Bitwise Operation](https://en.wikipedia.org/wiki/Bitwise_operation):__ Bitwise Operation applies Boolean Operators to the individual bits of integers that are used in the operation. Bitwise Operation requires converting each numeric value in the expression to its equivalent bits representation. There are 3 types of Bitwise Operators as described below:\n",
    "> 1. `&` (Bitwise `AND` operation) -> returns 1 if both bits are 1, 0 otherwise \n",
    "> 2. `|` (Bitwise `OR` operation - inclusive) -> returns 1 if either bit is 1, 0 otherwise  \n",
    "> 3. `^` (Bitwise `XOR` operation - exclusive) -> returns 1 if the bits are different, 0 if they are the same \n",
    "\n",
    "__Helpful Points:__\n",
    "1. Bitwise Operation is different than Boolean Operation in a few key ways. Without going into too much detail for this Basic Python course, here are the practical differences you should know:\n",
    "> - Boolean Operators (`and` and `or`) are usually used on Boolean Values (see section 1.10.1) to produce a Boolean Value, whereas Bitwise Operators (`&` and `|`) are usually used on Integer Values (see section 1.7) to produce an Integer Value\n",
    "> - Boolean Operators use short-circuiting behavior explained above in section 1.10.5, whereas Bitwise Operators do not use short-circuting behavior. \n",
    "\n",
    "__Practice:__ Examples of Bitwise Operations in Python "
   ]
  },
  {
   "cell_type": "markdown",
   "metadata": {},
   "source": [
    "### Example 1 (Bitwise `AND` operator):"
   ]
  },
  {
   "cell_type": "code",
   "execution_count": null,
   "metadata": {},
   "outputs": [],
   "source": [
    "x = 4 \n",
    "y = 5 \n",
    "print(bin(x))\n",
    "print(bin(y))"
   ]
  },
  {
   "cell_type": "markdown",
   "metadata": {},
   "source": [
    "We see that in Bitwise Operations, we are comparing the bits 100 (decimal 4) to 101 (decimal 5)"
   ]
  },
  {
   "cell_type": "code",
   "execution_count": null,
   "metadata": {},
   "outputs": [],
   "source": [
    "x & y"
   ]
  },
  {
   "cell_type": "code",
   "execution_count": null,
   "metadata": {},
   "outputs": [],
   "source": [
    "print(bin(x & y))"
   ]
  },
  {
   "cell_type": "markdown",
   "metadata": {},
   "source": [
    "The last statement (`x & y`) performs the `AND` operator on each bit, index by index: 1 and 1 (1), 0 and 0 (0), 0 and 1 (0) -> 100 in bits (4 in decimal)"
   ]
  },
  {
   "cell_type": "code",
   "execution_count": null,
   "metadata": {},
   "outputs": [],
   "source": [
    "x and y "
   ]
  },
  {
   "cell_type": "markdown",
   "metadata": {},
   "source": [
    "To understand this output, we need to know two things:\n",
    "> 1. Any non-zero numeric value is considered `True` in Python, therefore both x and y are first converted to their equivalent Boolean Value.\n",
    "> 2. Recall the short-circuit behavior in Boolean Operations (see section 1.10.5). When `x and y` is evaluated, `x` is evaluated first, then if `x` is `False`, its value is returned without looking at the value of `y`. However, if `x` is `True`, `y` is evaluated and `y` is returned. \n",
    "    - In our case, x is `True` and therefore y (which is also `True`) is evaluated and returned  "
   ]
  },
  {
   "cell_type": "markdown",
   "metadata": {},
   "source": [
    "### Example 2 (Bitwise `OR` operator):"
   ]
  },
  {
   "cell_type": "code",
   "execution_count": null,
   "metadata": {},
   "outputs": [],
   "source": [
    "x | y "
   ]
  },
  {
   "cell_type": "code",
   "execution_count": null,
   "metadata": {},
   "outputs": [],
   "source": [
    "print(bin(x | y))"
   ]
  },
  {
   "cell_type": "markdown",
   "metadata": {},
   "source": [
    "The last statement (`x | y`) performs the inclusive or `OR` operator on each bit, index by index: 1 or 1 (1), 0 or 0 (0), 0 or 1 (1) -> 101 in bits (5 in decimal)"
   ]
  },
  {
   "cell_type": "code",
   "execution_count": null,
   "metadata": {},
   "outputs": [],
   "source": [
    "x or y "
   ]
  },
  {
   "cell_type": "markdown",
   "metadata": {},
   "source": [
    "To understand this output, we need to know two things:\n",
    "> 1. Any non-zero numeric value is considered `True` in Python, therefore both x and y are first converted to their equivalent Boolean Value.\n",
    "> 2. Recall the short-circuit behavior in Boolean Operations (see section 1.10.5). When `x or y` is evaluated, `x` is evaluated first, then if `x` is `True`, its values is returned without looking at the value of `y`. However, if `x` is `False`. `y` is evaluated and `y` is returned\n",
    "    - In our case, x is `True` and therefore its value is returned without looking at the value of `y`"
   ]
  },
  {
   "cell_type": "markdown",
   "metadata": {},
   "source": [
    "### Example 3 (Bitwise `XOR` operator):"
   ]
  },
  {
   "cell_type": "code",
   "execution_count": null,
   "metadata": {},
   "outputs": [],
   "source": [
    "x ^ y"
   ]
  },
  {
   "cell_type": "markdown",
   "metadata": {},
   "source": [
    "The last statement (`x ^ y`) performs the exclusive or (`XOR`) operator on each bit, index by index: 1 xor 1 (0), 0  xor 0 (0), 1 xor 0 (1) -> 001 in bits (1 in decimal)"
   ]
  },
  {
   "cell_type": "markdown",
   "metadata": {},
   "source": [
    "### Problem 8\n",
    "\n",
    "Perform the bitwise or opperation on 15 and 9. Then perform the boolean `and` operation on 15 and 9. \n",
    "\n",
    "- show your answer to the bitwise or operation as an integer and in binary\n",
    "- print a string expaining why we get the results we do for the boolean or function."
   ]
  },
  {
   "cell_type": "code",
   "execution_count": null,
   "metadata": {},
   "outputs": [],
   "source": [
    "# Write your code here\n",
    "\n",
    "\n",
    "\n"
   ]
  },
  {
   "cell_type": "markdown",
   "metadata": {},
   "source": [
    "### 1.10.7 Operator Precedence"
   ]
  },
  {
   "cell_type": "markdown",
   "metadata": {},
   "source": [
    "__Overview:__\n",
    "- __[Operator Precedence](https://docs.python.org/3/reference/expressions.html#operator-precedence):__ Operator Precedence establishes a hierarchy in Python that outlines the precedence that each operator is subject to \n",
    "- We have seen many different operators so far that can be used in Python (recall __arithmetic operators__ `+`, `-`, __value comparison operators__ `<`, `>`, __membership test operators__ `in`, `not in`, __identity test operators__ `is`, `is not`, __boolean operators__ `and`, `or` and __bitwise operators__ `&`, `|`)\n",
    "- In the order of most binding (highest precedence) to least binding (lowest precedence):\n",
    "> 1. `or` (Boolean `OR`)\n",
    "> 2. `and` (Boolean `AND`)\n",
    "> 3. `not` (Boolean `NOT`)\n",
    "> 4. `in`, `not in`, `is`, `is not`, `<`, `<=`, `>`, `>=`, `!=`, `==` (Comparisons, including membership tests and identity tests) \n",
    "> 5. `|` (Bitwise `OR`)\n",
    "> 6. `^` (Bitwise `XOR`)\n",
    "> 7. `&` (Bitwise `AND`)\n",
    "> 8. `+`, `-` (Addition and subtraction)\n",
    "> 9. `*`, `/`, `//`, `%` (Multiplication, dividion and remainder)\n",
    "> 10. `**` (Exponentiation) \n",
    "\n",
    "__Helpful Points:__\n",
    "1. Operator Precedence exists in Python in largely the same way as most programming languages\n",
    "\n",
    "__Practice:__ Examples of Operator Precedence in Python"
   ]
  },
  {
   "cell_type": "markdown",
   "metadata": {},
   "source": [
    "### Example 1 (Operator Precedence):"
   ]
  },
  {
   "cell_type": "code",
   "execution_count": null,
   "metadata": {},
   "outputs": [],
   "source": [
    "a = 1\n",
    "b = 3\n",
    "\n",
    "print(a > 2 and b == 3 or b > 2**2)"
   ]
  },
  {
   "cell_type": "markdown",
   "metadata": {},
   "source": [
    "This statement is evaluated in the following way based on the operator precedence list above: \n",
    "- `(a > 2 and b == 3)` or `(b > 2**2)` \n",
    "- `(a > 2 and b == 3)` is `False` since `a < 2` \n",
    "- `(b > 2**2)` is `False` since `b < 2**2`\n",
    "- `False or False` is `False` since the first term is `False`"
   ]
  },
  {
   "cell_type": "markdown",
   "metadata": {},
   "source": [
    "### 1.10.8 Chained Comparison"
   ]
  },
  {
   "cell_type": "markdown",
   "metadata": {},
   "source": [
    "__Overview:__\n",
    "- __[Chained Comparison](https://docs.python.org/3/reference/expressions.html#comparisons):__ Chained Comparison is possible in Python which allows multiple comparisons in one line, making the code cleaner and more efficient\n",
    "\n",
    "__Helpful Points:__\n",
    "- When evaluating Chained Comparisons, the Operator Precedence hierarchy outlined in section 1.10.7 is utilized\n",
    "- In general, Chained Comparisons are evaluated from left to right \n",
    "\n",
    "__Practice:__ Practice using Chained Comparisons in Python "
   ]
  },
  {
   "cell_type": "markdown",
   "metadata": {},
   "source": [
    "### Example 1 (Chained Comparison with Numerical Values and  Value Comparison Operators):"
   ]
  },
  {
   "cell_type": "code",
   "execution_count": null,
   "metadata": {},
   "outputs": [],
   "source": [
    "a = 3\n",
    "print(1 < a >= 2) "
   ]
  },
  {
   "cell_type": "markdown",
   "metadata": {},
   "source": [
    "This expression is evaluated in a similar fashion to a regular mathematical expression: \n",
    "- The expression is split into 2 constituent expressions `(1 < a)` and `(a >= 2)` \n",
    "- This expression turns out to be `True` and `True` \n",
    "- Since the Boolean Operator `and` is used here, the first term is evaluated as `True` so the second term is evaluated and returned "
   ]
  },
  {
   "cell_type": "markdown",
   "metadata": {},
   "source": [
    "### Example 2 (Chained Comparison with Boolean Values and Value Comparison Operators):"
   ]
  },
  {
   "cell_type": "code",
   "execution_count": null,
   "metadata": {},
   "outputs": [],
   "source": [
    "a = True\n",
    "print(True == 1.0 == 1)"
   ]
  },
  {
   "cell_type": "markdown",
   "metadata": {},
   "source": [
    "This expression is evaluated from left to right in the following fashion:\n",
    "- `True` == `1.0` is `True`\n",
    "- `True` == 1 is `True` since the boolean operator `True` is expressed in its numeric equivalent (1 == 1)"
   ]
  },
  {
   "cell_type": "markdown",
   "metadata": {},
   "source": [
    "### Problem 9:\n",
    "Peter has 12 bags, and each bag has 7 chocolates.  Amy has 5 bags, and each bag has 9 chocolates. Print `True` if either Peter or Amy have more than 75 chocolates. Otherwise, print `False`."
   ]
  },
  {
   "cell_type": "code",
   "execution_count": null,
   "metadata": {},
   "outputs": [],
   "source": [
    "# Write your code here \n",
    "\n",
    "\n",
    "\n"
   ]
  },
  {
   "cell_type": "markdown",
   "metadata": {},
   "source": [
    "### Problem 10:\n",
    "Peter has 3 bags, and each bag has 5 chocolates.  Amy has 5 bags, and each bag has 6 chocolates. Print `True` if Peter and Amyhave between 50 and 75 chocolates combined. Otherwise, print `False`."
   ]
  },
  {
   "cell_type": "code",
   "execution_count": null,
   "metadata": {},
   "outputs": [],
   "source": [
    "# Write your code here \n",
    "\n",
    "\n",
    "\n"
   ]
  },
  {
   "cell_type": "markdown",
   "metadata": {},
   "source": [
    "### ANSWERS TO LECTURE 1 PROBLEMS:"
   ]
  },
  {
   "cell_type": "markdown",
   "metadata": {},
   "source": [
    "### Problem 1:\n",
    "Create 4 variables called `a`, `b`, `c`, `d` and assign them values of 10, 20, 30, and 40 respectively\n",
    "\n",
    "- Show the outputs of these 4 variables\n",
    "- __BONUS__: try using simultaneous assignments"
   ]
  },
  {
   "cell_type": "code",
   "execution_count": null,
   "metadata": {},
   "outputs": [],
   "source": [
    "# Method 1\n",
    "a = 10\n",
    "b = 20 \n",
    "c = 30 \n",
    "d = 40"
   ]
  },
  {
   "cell_type": "code",
   "execution_count": null,
   "metadata": {},
   "outputs": [],
   "source": [
    "print(a,b,c,d)"
   ]
  },
  {
   "cell_type": "code",
   "execution_count": null,
   "metadata": {},
   "outputs": [],
   "source": [
    "# Method 2\n",
    "a, b, c, d = 10, 20, 30, 40"
   ]
  },
  {
   "cell_type": "code",
   "execution_count": null,
   "metadata": {
    "scrolled": true
   },
   "outputs": [],
   "source": [
    "print(\"a is\",a,\", b is\",b,\", c is\",c,\", d is\",d)"
   ]
  },
  {
   "cell_type": "markdown",
   "metadata": {},
   "source": [
    "### Problem 2:\n",
    "Increment (add to) your variables called `a`, `b`, `c`, `d` by 5 using Compound Assignments\n",
    "\n",
    "- Show the outputs of these 4 variables"
   ]
  },
  {
   "cell_type": "code",
   "execution_count": null,
   "metadata": {},
   "outputs": [],
   "source": [
    "a += 5\n",
    "b += 5\n",
    "c += 5\n",
    "d += 5"
   ]
  },
  {
   "cell_type": "code",
   "execution_count": null,
   "metadata": {},
   "outputs": [],
   "source": [
    "print(\"a is now\",a,\", b is now\",b,\", c is now\",c,\", d is now\",d)"
   ]
  },
  {
   "cell_type": "markdown",
   "metadata": {},
   "source": [
    "### Problem 3:\n",
    "Create a variable `e` that is the sum of `a`, `b`, `c`, and `d` and then show the output of the variable `e`\n",
    "- You do not need to recreate the variables `a`, `b`, `c`, and `d` since you already created them in Problem 1 and they are stored in your environment until you shutdown this Notebook document\n",
    "- Do not use any built-in Python functions"
   ]
  },
  {
   "cell_type": "code",
   "execution_count": null,
   "metadata": {},
   "outputs": [],
   "source": [
    "e = a + b + c + d\n",
    "print(\"the sum of a + b + c + d is\", e)"
   ]
  },
  {
   "cell_type": "markdown",
   "metadata": {},
   "source": [
    "### Problem 4:\n",
    "\n",
    "Calculate the area of a circle which is given by the following formula: $A = \\pi * r^2$ and show the output of the area\n",
    "- Create a variable `pi` that will store the value 3.14 \n",
    "- Create a variable `r` that will store the value 3\n",
    "- Then create a variable `area` that will store the area of the circle\n",
    "- __BONUS__: try using simulataneous assignments"
   ]
  },
  {
   "cell_type": "code",
   "execution_count": null,
   "metadata": {},
   "outputs": [],
   "source": [
    "# method 1\n",
    "pi = 3.14\n",
    "r = 3\n",
    "area = pi*r**2\n",
    "print(\"The area of a circle with radius equal to\", r, \"is\", area)"
   ]
  },
  {
   "cell_type": "code",
   "execution_count": null,
   "metadata": {},
   "outputs": [],
   "source": [
    "# method 2\n",
    "pi, r = 3.14, 3\n",
    "area = pi*r**2\n",
    "print(\"The area of a circle with radius equal to\", r, \"is\", area)"
   ]
  },
  {
   "cell_type": "markdown",
   "metadata": {},
   "source": [
    "### Problem 5:\n",
    "\n",
    "Calculate the minimum of a absolute value of -10 and the square of -4\n",
    "- Create a variable `abs_val` that will store the absolute value of -10 \n",
    "- Create a variable `square_val` that will store the square of -4\n",
    "- Then create a variable `minimum` that will store the minimum value of the two variables above \n",
    "- Show the output of the `minimum` variable\n",
    "- __BONUS__: try using simulataneous assignments"
   ]
  },
  {
   "cell_type": "code",
   "execution_count": null,
   "metadata": {},
   "outputs": [],
   "source": [
    "# method 1\n",
    "abs_val = abs(-10)\n",
    "square_val = (-4) ** 2\n",
    "minimum = min(abs_val, square_val)\n",
    "print(\"The minimum of the absolute value of -10 and the square of -4\", \"is\", minimum)"
   ]
  },
  {
   "cell_type": "code",
   "execution_count": null,
   "metadata": {},
   "outputs": [],
   "source": [
    "# method 2\n",
    "abs_val, square_val = abs(-10), (-4) ** 2\n",
    "minimum = min(abs_val, square_val)\n",
    "print(\"The minimum of the absolute value of -10 and the square of -4\", \"is\", minimum)"
   ]
  },
  {
   "cell_type": "markdown",
   "metadata": {},
   "source": [
    "### Problem 6 \n",
    "\n",
    "John makes \\$10,000 in 80 hours and Ana makes \\$5,000 in 35 hours. Print `True` if Ana makes more than John on an hourly rate, otherwise print `False`. \n",
    "\n",
    "- Use the comparison operators in your answer \n",
    "- Use an explanatory print statement before you output your answer to tell the user what the meaning of the answer is "
   ]
  },
  {
   "cell_type": "code",
   "execution_count": null,
   "metadata": {},
   "outputs": [],
   "source": [
    "john_hourly = 10000/80\n",
    "ana_hourly = 5000/35\n",
    "print(\"Is the following statement True or False: 'Does Ana make more than John on an hourly rate?'\", ana_hourly > john_hourly)"
   ]
  },
  {
   "cell_type": "markdown",
   "metadata": {},
   "source": [
    "### Problem 7\n",
    "\n",
    "Bill drove From New York to Boston (215 miles) in 2 hours and 15 minutes. The speed limit is 65 mph. Print `True` if Bill could have been pulled over for speeding, otherwise print `False`. \n",
    "\n",
    "- Use the comparison operators in your answer \n",
    "- Use an explanatory print statement before you output your answer to tell the user what the meaning of the answer is "
   ]
  },
  {
   "cell_type": "code",
   "execution_count": null,
   "metadata": {},
   "outputs": [],
   "source": [
    "bill_hourly = 215/2.25\n",
    "limit = 65\n",
    "print(\"Is the following statement True or False: 'Could Bill hae been pulled over for speeding?'\", bill_hourly > limit)"
   ]
  },
  {
   "cell_type": "markdown",
   "metadata": {},
   "source": [
    "### Problem 8\n",
    "\n",
    "Perform the bitwise or opperation on 15 and 9. Then perform the boolean `and` operation on 15 and 9. \n",
    "\n",
    "- show your answer to the bitwise or operation as an integer and in binary\n",
    "- print a string expaining why we get the results we do for the boolean or function."
   ]
  },
  {
   "cell_type": "code",
   "execution_count": null,
   "metadata": {},
   "outputs": [],
   "source": [
    "x, y = 15, 9\n",
    "print(\"The value of 15 in binary is\",  bin(15))\n",
    "print(\"The value of 9 in binaray is\", bin(9))\n",
    "print(\"The value of x|y is\", x|y)\n",
    "print(\"The value of x|y in bainary is\", bin(x|y))\n",
    "print(\"The value of 15 and 9 is\", x and y)\n",
    "print(\"the boolean and operation returns 9 because it evaluates x (15) as truen and continues to evaluate y (9) and returns its value\")"
   ]
  },
  {
   "cell_type": "markdown",
   "metadata": {},
   "source": [
    "### Problem 9:\n",
    "Peter has 12 bags, and each bag has 7 chocolates.  Amy has 5 bags, and each bag has 9 chocolates. Print `True` if either Peter or Amy have more than 75 chocolates. Otherwise, print `False`."
   ]
  },
  {
   "cell_type": "code",
   "execution_count": null,
   "metadata": {},
   "outputs": [],
   "source": [
    "Peter = 12*7\n",
    "Amy = 5*9\n",
    "print(Peter>75 or Amy>75)"
   ]
  },
  {
   "cell_type": "markdown",
   "metadata": {},
   "source": [
    "### Problem 10:\n",
    "Peter has 3 bags, and each bag has 5 chocolates.  Amy has 5 bags, and each bag has 6 chocolates. Print `True` if Peter and Amyhave between 50 and 75 chocolates combined. Otherwise, print `False`."
   ]
  },
  {
   "cell_type": "code",
   "execution_count": null,
   "metadata": {},
   "outputs": [],
   "source": [
    "Peter = 3*5\n",
    "Amy = 5*6\n",
    "combined = Peter + Amy\n",
    "print(50 < combined < 75)"
   ]
  },
  {
   "cell_type": "code",
   "execution_count": null,
   "metadata": {},
   "outputs": [],
   "source": []
  }
 ],
 "metadata": {
  "kernelspec": {
   "display_name": "Python 3",
   "language": "python",
   "name": "python3"
  },
  "language_info": {
   "codemirror_mode": {
    "name": "ipython",
    "version": 3
   },
   "file_extension": ".py",
   "mimetype": "text/x-python",
   "name": "python",
   "nbconvert_exporter": "python",
   "pygments_lexer": "ipython3",
   "version": "3.7.3"
  }
 },
 "nbformat": 4,
 "nbformat_minor": 2
}
