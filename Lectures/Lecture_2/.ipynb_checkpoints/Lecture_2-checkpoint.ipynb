{
 "cells": [
  {
   "cell_type": "markdown",
   "metadata": {},
   "source": [
    "# Beginner Python and Math for Data Science\n",
    "## Lecture 2\n",
    "### Python Built-In Data Types"
   ]
  },
  {
   "cell_type": "markdown",
   "metadata": {},
   "source": [
    "__Purpose:__\n",
    "The purpose of this lecture is to explore the Built-In Types in Python, specifically learning about Lists, Strings, Tuples, Range, Sets and Dictionaries. In each case, we will learn the definition and characteristics of each type, how to create variables as these types in Python, how to access data from these variables and how to manipulate these variables. \n",
    "\n",
    "__At the end of this lecture you will be able to:__\n",
    "1. Understand the similarities and differences between the common Built-In Types in Python and when to use one type over another type\n",
    "2. Create, access, and manipulate lists in Python\n",
    "3. Create, access, manipulate and format strings in Python \n",
    "4. Create and acess tuples in Python \n",
    "5. Create, access, manipulate and use range types in Python \n",
    "6. Create, access, and manipulate sets in Python \n",
    "7. Create, access, and manipulate dictionaries in Python "
   ]
  },
  {
   "cell_type": "markdown",
   "metadata": {},
   "source": [
    "## 2.1 General Overview of Python's Built-In Data Types"
   ]
  },
  {
   "cell_type": "markdown",
   "metadata": {},
   "source": [
    "### 2.1.1 What are Python's Built-In Data Types?"
   ]
  },
  {
   "cell_type": "markdown",
   "metadata": {},
   "source": [
    "__Overview:__\n",
    "- Recall that a __Data Type__ refers to the category in which the object you are creating belongs to \n",
    "- Recall that in Python there are 4 __[Built-In/Standard/Principal Data Types](https://docs.python.org/3/library/stdtypes.html#built-in-types)__ as described below\n",
    "- Each Built-In Data Type refers to a \"bucket\" or \"category\" that encompasses multiple sub-types \n",
    ">1. __[Numeric Types](https://docs.python.org/3/library/stdtypes.html#numeric-types-int-float-complex):__ Such as `int`, `float`, and `complex` \n",
    ">2. __[Sequence Types](https://docs.python.org/3/library/stdtypes.html#sequence-types-list-tuple-range):__ Such as `list`, `str`, `tuple` and `range`\n",
    ">3. __[Set Types](https://docs.python.org/3/library/stdtypes.html#set-types-set-frozenset):__ Such as `set`\n",
    ">4. __[Mapping Types](https://docs.python.org/3/library/stdtypes.html#mapping-types-dict):__ Such as `dict`\n",
    "\n",
    "__Helpful Points:__\n",
    "1. Recall you can use the functions `type()` or `isinstance()` to view the type of any object\n",
    "2. In Lecture 1, Numeric Types were covered in detail so we will begin Lecture 2 with the second Build-In Data Type - __Sequence Types__ (we briefly saw one Sequence Type in Lecture 1 - the Text Sequence Type (`str`), but as promised, we will explore this Data Type in more detail here) "
   ]
  },
  {
   "cell_type": "markdown",
   "metadata": {},
   "source": [
    "### 2.1.2 Comparison of Python's Built-In Data Types"
   ]
  },
  {
   "cell_type": "markdown",
   "metadata": {},
   "source": [
    "__Overview:__\n",
    "- In general, the Data Types in Python can be distinguished by one characteristic -  __[Mutability](https://en.wikipedia.org/wiki/Immutable_object):__ which refers to the ability of a user to change the object AFTER the object has been created \n",
    "- Some Data Types in Python are __Mutable__ (their contents CAN be changed after creation of the variable) and other Data Types in Python are __Immutable__ (their contents CAN NOT be changed after creation of the variable)\n",
    "- We will see the concept of mutability as it plays out for each data type\n",
    "- See below for a classification of Built-In Data Types based on Mutability:\n",
    "> 1. __Mutable Types__: `list`, `set`, `dict`\n",
    "> 2. __Immutable Types__: `int`, `float`, `complex`, `str`, `tuple`, `bool`, and `range`\n",
    "\n",
    "__Helpful Points:__\n",
    "1. In some cases, you will have the choice of which Data Type you choose to use for an object. This decision may have consequences so we will explore later the instances where it is advantageous to use one type over another"
   ]
  },
  {
   "cell_type": "markdown",
   "metadata": {},
   "source": [
    "## 2.2 Sequence Types in Python "
   ]
  },
  {
   "cell_type": "markdown",
   "metadata": {},
   "source": [
    "### 2.2.1 What is a Sequence Type?"
   ]
  },
  {
   "cell_type": "markdown",
   "metadata": {},
   "source": [
    "__Overview:__\n",
    "- __[Sequence Type](https://docs.python.org/3/library/stdtypes.html#sequence-types-list-tuple-range):__ The main Sequence Types in Python refer to `list`, `str`, `tuple` and `range`\n",
    "- Sequence Types in Python have the following characteristics:\n",
    "> - Sequence Types are ordered (each element from left to right is assigned a number in increasing order - this allows us to index (find) elements within the sequence)\n",
    "> - Sequence Types do not have to contain only unique elements\n",
    "> - Sequence Types can be mutable or immutable \n",
    "\n",
    "__Helpful Points:__\n",
    "1. We will explore each Sequence Type individually in the subsequent sections"
   ]
  },
  {
   "cell_type": "markdown",
   "metadata": {},
   "source": [
    "### 2.2.2 Sequence Type Operations"
   ]
  },
  {
   "cell_type": "markdown",
   "metadata": {},
   "source": [
    "__Overview:__\n",
    "- Depending on if the Sequence Type is mutable or immutable, it is subject to a different set of operations:\n",
    ">1. __Mutable Sequence Types:__ Mutable Sequence Types can be operated on using the __[Common Sequence Operations](https://docs.python.org/3/library/stdtypes.html#common-sequence-operations)__  AND the __[Mutable Sequence Type Operations](https://docs.python.org/3/library/stdtypes.html#mutable-sequence-types)__ \n",
    ">2. __Immutable Sequence Types:__ Immutable Sequence Types can be operated on using ONLY the __Common Sequence Operations__"
   ]
  },
  {
   "cell_type": "markdown",
   "metadata": {},
   "source": [
    "- The __Common Sequence Operations__ can be grouped together in the following categories:\n",
    "> 1. Indexing and Slicing  \n",
    "> 2. Membership Test Operations\n",
    "> 3. Concatenation and Repetition\n",
    "> 4. Miscalleneous Actions such as length, max, min, index, count, and sort"
   ]
  },
  {
   "cell_type": "markdown",
   "metadata": {},
   "source": [
    "- The __Mutable Sequence Type Operations__ can be grouped together in the following categories:\n",
    "> 1. Changing elements\n",
    "> 2. Adding elements\n",
    "> 3. Removing elements\n",
    "> 4. Other operations (reverse, copy)"
   ]
  },
  {
   "cell_type": "markdown",
   "metadata": {},
   "source": [
    "__Helpful Points:__\n",
    "1. While exploring each Sequence Type below, we will also practice using the appropriate set of Sequence Type Operations based on the type's mutability "
   ]
  },
  {
   "cell_type": "markdown",
   "metadata": {},
   "source": [
    "### 2.2.3 Overview of Sequence Type 1 - Lists"
   ]
  },
  {
   "cell_type": "markdown",
   "metadata": {},
   "source": [
    "__Overview:__\n",
    "- __[Lists](https://docs.python.org/3/library/stdtypes.html#lists):__ Lists are mutable sequences that are typically used to store collections of __homogenous__ (similar) items, but are capable of storing possibly different types (`bool`, `str`, `int`, etc.)\n",
    "\n",
    "__Helpful Points:__\n",
    "1. Lists are defined by square brackets `[` and `]`\n",
    "2. Each element in a list is separated by a comma"
   ]
  },
  {
   "cell_type": "markdown",
   "metadata": {},
   "source": [
    "### 2.2.4 Creating Lists "
   ]
  },
  {
   "cell_type": "markdown",
   "metadata": {},
   "source": [
    "__Overview:__\n",
    "- There are multiple ways to create a List in Python:\n",
    "> 1. Method 1: Using a pair of square brackets to denote the empty list\n",
    "> 2. Method 2: Using square brackets, separating items with commas\n",
    "> 3.  Method 3: Using the __[Type Constructor](https://en.wikipedia.org/wiki/Type_constructor)__ \n",
    "\n",
    "__Helpful Points:__\n",
    "1. It is also possible to create a list within a list also known as a __[Nested](https://en.wikipedia.org/wiki/Nesting_(computing)__ List\n",
    "\n",
    "__Practice:__ Examples of creating lists in Python"
   ]
  },
  {
   "cell_type": "markdown",
   "metadata": {},
   "source": [
    "### Example 1 (Create List with Method 1)"
   ]
  },
  {
   "cell_type": "markdown",
   "metadata": {},
   "source": [
    "# take another look here"
   ]
  },
  {
   "cell_type": "code",
   "execution_count": 14,
   "metadata": {},
   "outputs": [
    {
     "name": "stdout",
     "output_type": "stream",
     "text": [
      "[]\n"
     ]
    }
   ],
   "source": [
    "empty_list = []\n",
    "print(empty_list)"
   ]
  },
  {
   "cell_type": "code",
   "execution_count": 15,
   "metadata": {},
   "outputs": [
    {
     "data": {
      "text/plain": [
       "list"
      ]
     },
     "execution_count": 15,
     "metadata": {},
     "output_type": "execute_result"
    }
   ],
   "source": [
    "type(empty_list)"
   ]
  },
  {
   "cell_type": "code",
   "execution_count": 16,
   "metadata": {},
   "outputs": [
    {
     "data": {
      "text/plain": [
       "True"
      ]
     },
     "execution_count": 16,
     "metadata": {},
     "output_type": "execute_result"
    }
   ],
   "source": [
    "isinstance(empty_list, list)"
   ]
  },
  {
   "cell_type": "markdown",
   "metadata": {},
   "source": [
    "### Example 2 (Create List with Method 2)"
   ]
  },
  {
   "cell_type": "code",
   "execution_count": 17,
   "metadata": {},
   "outputs": [
    {
     "name": "stdout",
     "output_type": "stream",
     "text": [
      "[True, 1.0, 'Gordon']\n"
     ]
    }
   ],
   "source": [
    "non_empty_list = [True, 1.0, \"Gordon\"]\n",
    "print(non_empty_list)"
   ]
  },
  {
   "cell_type": "markdown",
   "metadata": {},
   "source": [
    "Notice that the list can contain objects of different types (here we have `bool`, `float`, and `str`)"
   ]
  },
  {
   "cell_type": "code",
   "execution_count": 18,
   "metadata": {},
   "outputs": [
    {
     "data": {
      "text/plain": [
       "list"
      ]
     },
     "execution_count": 18,
     "metadata": {},
     "output_type": "execute_result"
    }
   ],
   "source": [
    "type(non_empty_list)"
   ]
  },
  {
   "cell_type": "code",
   "execution_count": 19,
   "metadata": {},
   "outputs": [
    {
     "name": "stdout",
     "output_type": "stream",
     "text": [
      "[True, 1.0, 'Gordon']\n"
     ]
    }
   ],
   "source": [
    "print(non_empty_list)"
   ]
  },
  {
   "cell_type": "code",
   "execution_count": 20,
   "metadata": {},
   "outputs": [
    {
     "data": {
      "text/plain": [
       "True"
      ]
     },
     "execution_count": 20,
     "metadata": {},
     "output_type": "execute_result"
    }
   ],
   "source": [
    "isinstance(non_empty_list, list)"
   ]
  },
  {
   "cell_type": "markdown",
   "metadata": {},
   "source": [
    "### Example 3 (Create List with Method 3)"
   ]
  },
  {
   "cell_type": "code",
   "execution_count": 21,
   "metadata": {},
   "outputs": [
    {
     "name": "stdout",
     "output_type": "stream",
     "text": [
      "[]\n"
     ]
    }
   ],
   "source": [
    "empty_list_1 = list()\n",
    "print(empty_list_1)"
   ]
  },
  {
   "cell_type": "code",
   "execution_count": 22,
   "metadata": {},
   "outputs": [
    {
     "data": {
      "text/plain": [
       "list"
      ]
     },
     "execution_count": 22,
     "metadata": {},
     "output_type": "execute_result"
    }
   ],
   "source": [
    "type(empty_list_1)"
   ]
  },
  {
   "cell_type": "code",
   "execution_count": 23,
   "metadata": {},
   "outputs": [
    {
     "data": {
      "text/plain": [
       "True"
      ]
     },
     "execution_count": 23,
     "metadata": {},
     "output_type": "execute_result"
    }
   ],
   "source": [
    "isinstance(empty_list_1, list)"
   ]
  },
  {
   "cell_type": "markdown",
   "metadata": {},
   "source": [
    "### Example 4 (Create Nested List with Method 2)"
   ]
  },
  {
   "cell_type": "code",
   "execution_count": 24,
   "metadata": {},
   "outputs": [
    {
     "name": "stdout",
     "output_type": "stream",
     "text": [
      "[['Gordon', 1.0], True]\n",
      "2\n"
     ]
    }
   ],
   "source": [
    "list_1 = [\"Gordon\", 1.0]\n",
    "nested_list = [list_1, True]\n",
    "print(nested_list)\n",
    "print(len(nested_list))"
   ]
  },
  {
   "cell_type": "code",
   "execution_count": 25,
   "metadata": {},
   "outputs": [
    {
     "data": {
      "text/plain": [
       "list"
      ]
     },
     "execution_count": 25,
     "metadata": {},
     "output_type": "execute_result"
    }
   ],
   "source": [
    "type(nested_list)"
   ]
  },
  {
   "cell_type": "code",
   "execution_count": 26,
   "metadata": {},
   "outputs": [
    {
     "data": {
      "text/plain": [
       "True"
      ]
     },
     "execution_count": 26,
     "metadata": {},
     "output_type": "execute_result"
    }
   ],
   "source": [
    "isinstance(nested_list, list)"
   ]
  },
  {
   "cell_type": "markdown",
   "metadata": {},
   "source": [
    "### 2.2.5 Accessing Elements within Lists"
   ]
  },
  {
   "cell_type": "markdown",
   "metadata": {},
   "source": [
    "__Overview:__\n",
    "- Each item within a list (those separated by commas) are referred to as __elements__ and they can easily be accessed (for example, if you want to extract the second element of a list)\n",
    "- The reason why elements are so accessible is because each element is assigned a number beginning with 0 (since Python is __[Zero-Based](https://en.wikipedia.org/wiki/Zero-based_numbering)__)\n",
    "- The process of accessing elements within lists (or any sequence type and some other types) is known as __indexing__\n",
    "- Indexing is a type of __[Common Sequence Operations](https://docs.python.org/3/library/stdtypes.html#common-sequence-operations)__ as mentioned in section 2.2.2 (see the 5th through 7th row in the table)\n",
    "> 1. __Index Method 1__ (one element): Single-Indexing is done by `list_name[i]` where `i` refers to the index or element that you want to access<br>\n",
    "> \\- The type of the output of a one element index is whatever type that element is of (`int`, `str`, etc.)\n",
    "> 2. __Index Method 2__ (multiple elements): Multi-Indexing (__slicing__) is done by `list_name[i:j]` where `i` refers to the index or element that you want to start the slice at and `j` refers to the index that you want to end the slice at, but not including this element __([half-open interval to the right](https://en.wikipedia.org/wiki/Interval_(mathematics))__ otherwise written as `[i,j)`<br>\n",
    "> \\- The type of the output of a multiple element index is a `list`<br>\n",
    "> \\- The general form of a slice is `[start:stop:step]`<br>\n",
    "> \\- The `start`, `stop`, or `step` can be ommitted and Python will infer what to do (see examples)<br>\n",
    "> \\- The `step` defaults to 1 if not specified otherwise<br>\n",
    "> \\- The `step` can be positive or negative. If positive, the slicing moves left to right (forward). If negative, the slicing moves from right to left (backward)\n",
    "\n",
    "__Helpful Points:__\n",
    "1. It is possible to index both regular lists and nested lists, but the way you do it in both cases is a bit different so we will explore each scenario separately\n",
    "2. Lists can only be indexed by `int` and not any other type (i.e. `bool`)\n",
    "3. Python has some peculiar yet helpful characteristics with indexing out-of-range which are in the programmer's favor (see examples)\n",
    "\n",
    "__Practice:__ Examples of accessing elements within lists "
   ]
  },
  {
   "cell_type": "markdown",
   "metadata": {},
   "source": [
    "### Example 1 (Index Method 1 with Non-Nested Lists and Positive Index):"
   ]
  },
  {
   "cell_type": "code",
   "execution_count": 27,
   "metadata": {},
   "outputs": [],
   "source": [
    "my_list = [4, 5, \"G\", 1]\n",
    "# my_list_fwd_index = [0, 1, 2, 3]"
   ]
  },
  {
   "cell_type": "code",
   "execution_count": 28,
   "metadata": {},
   "outputs": [
    {
     "name": "stdout",
     "output_type": "stream",
     "text": [
      "4\n",
      "4\n"
     ]
    },
    {
     "data": {
      "text/plain": [
       "int"
      ]
     },
     "execution_count": 28,
     "metadata": {},
     "output_type": "execute_result"
    }
   ],
   "source": [
    "# oth element from the left (with and without saving list as a variable)\n",
    "print(my_list[0])\n",
    "print([4, 5, \"G\", 1][0])\n",
    "type(my_list[0])"
   ]
  },
  {
   "cell_type": "code",
   "execution_count": 29,
   "metadata": {},
   "outputs": [
    {
     "name": "stdout",
     "output_type": "stream",
     "text": [
      "5\n",
      "5\n"
     ]
    },
    {
     "data": {
      "text/plain": [
       "int"
      ]
     },
     "execution_count": 29,
     "metadata": {},
     "output_type": "execute_result"
    }
   ],
   "source": [
    "# 1st element from the left (with and without saving list as a variable)\n",
    "print(my_list[1])\n",
    "print([4, 5, \"G\", 1][1])\n",
    "type(my_list[1])"
   ]
  },
  {
   "cell_type": "code",
   "execution_count": 30,
   "metadata": {},
   "outputs": [
    {
     "name": "stdout",
     "output_type": "stream",
     "text": [
      "G\n",
      "G\n"
     ]
    },
    {
     "data": {
      "text/plain": [
       "str"
      ]
     },
     "execution_count": 30,
     "metadata": {},
     "output_type": "execute_result"
    }
   ],
   "source": [
    "# 2nd element from the left (with and without saving list as a variable)\n",
    "print(my_list[2])\n",
    "print([4, 5, \"G\", 1][2])\n",
    "type(my_list[2])"
   ]
  },
  {
   "cell_type": "code",
   "execution_count": 31,
   "metadata": {},
   "outputs": [
    {
     "name": "stdout",
     "output_type": "stream",
     "text": [
      "1\n",
      "1\n"
     ]
    },
    {
     "data": {
      "text/plain": [
       "int"
      ]
     },
     "execution_count": 31,
     "metadata": {},
     "output_type": "execute_result"
    }
   ],
   "source": [
    "# 3rd element from the left (with and without saving list as a variable)\n",
    "print(my_list[3])\n",
    "print([4, 5, \"G\", 1][3])\n",
    "type(my_list[3])"
   ]
  },
  {
   "cell_type": "markdown",
   "metadata": {},
   "source": [
    "Note that if a list is not saved as a variable and then indexed, the first set of square brackets refer to the left and right bound of the list and the next set of the square brackets refer to the \"one-element index.\""
   ]
  },
  {
   "cell_type": "markdown",
   "metadata": {},
   "source": [
    "### Example 2 (Index Method 2 with Non-Nested List, Positive Slice and Forward Direction):"
   ]
  },
  {
   "cell_type": "code",
   "execution_count": 32,
   "metadata": {},
   "outputs": [],
   "source": [
    "my_list_1 = [1, 4, 2, 5, 5, 1]"
   ]
  },
  {
   "cell_type": "code",
   "execution_count": 33,
   "metadata": {},
   "outputs": [
    {
     "name": "stdout",
     "output_type": "stream",
     "text": [
      "[4, 2, 5, 5]\n"
     ]
    },
    {
     "data": {
      "text/plain": [
       "list"
      ]
     },
     "execution_count": 33,
     "metadata": {},
     "output_type": "execute_result"
    }
   ],
   "source": [
    "# slice from 1st element to 4th element (5th element minus one) by step 1 \n",
    "print(my_list_1[1:5])\n",
    "type(my_list_1[1:5])"
   ]
  },
  {
   "cell_type": "code",
   "execution_count": 34,
   "metadata": {},
   "outputs": [
    {
     "name": "stdout",
     "output_type": "stream",
     "text": [
      "[5]\n"
     ]
    },
    {
     "data": {
      "text/plain": [
       "list"
      ]
     },
     "execution_count": 34,
     "metadata": {},
     "output_type": "execute_result"
    }
   ],
   "source": [
    "# slice from 3rd element to 3rd element (4th element minus one) by step 1 \n",
    "print(my_list_1[3:4])\n",
    "type(my_list_1[3:4])"
   ]
  },
  {
   "cell_type": "code",
   "execution_count": 35,
   "metadata": {},
   "outputs": [
    {
     "name": "stdout",
     "output_type": "stream",
     "text": [
      "[]\n"
     ]
    },
    {
     "data": {
      "text/plain": [
       "list"
      ]
     },
     "execution_count": 35,
     "metadata": {},
     "output_type": "execute_result"
    }
   ],
   "source": [
    "# slice from 3rd element to 2nd element (3rd element minus one) by step 1\n",
    "print(my_list_1[3:3])\n",
    "type(my_list_1[3:3])"
   ]
  },
  {
   "cell_type": "code",
   "execution_count": 36,
   "metadata": {},
   "outputs": [
    {
     "name": "stdout",
     "output_type": "stream",
     "text": [
      "[5, 2]\n"
     ]
    },
    {
     "data": {
      "text/plain": [
       "list"
      ]
     },
     "execution_count": 36,
     "metadata": {},
     "output_type": "execute_result"
    }
   ],
   "source": [
    "# trying something\n",
    "# slice from 3rd element to 2nd element (3rd element minus one) by step 1\n",
    "print(my_list_1[3:1:-1])\n",
    "type(my_list_1[3:1:-1])"
   ]
  },
  {
   "cell_type": "markdown",
   "metadata": {},
   "source": [
    "In the two cases above, the `step` argument of the slice was ommitted, therefore the slices were incremented by `1` as the default setting. We can override the default by inputting a number in the `step` argument. "
   ]
  },
  {
   "cell_type": "code",
   "execution_count": 37,
   "metadata": {},
   "outputs": [
    {
     "name": "stdout",
     "output_type": "stream",
     "text": [
      "[4, 5]\n"
     ]
    }
   ],
   "source": [
    "# slice from 1st element to 4th element (5th element minus one) by step 2 \n",
    "print(my_list_1[1:5:2])"
   ]
  },
  {
   "cell_type": "markdown",
   "metadata": {},
   "source": [
    "### Example 3 (Index Method 2 with Non-Nested List, Positive Slice, Forward Direction and Ommitted Argument(s) ):"
   ]
  },
  {
   "cell_type": "code",
   "execution_count": 38,
   "metadata": {},
   "outputs": [],
   "source": [
    "my_list_1 = [1, 4, 2, 5, 5, 1]"
   ]
  },
  {
   "cell_type": "code",
   "execution_count": 39,
   "metadata": {},
   "outputs": [
    {
     "name": "stdout",
     "output_type": "stream",
     "text": [
      "[4, 2, 5, 5, 1]\n"
     ]
    }
   ],
   "source": [
    "# ommitting stop and step arguments\n",
    "# return 1st element to last element \n",
    "print(my_list_1[1:])"
   ]
  },
  {
   "cell_type": "markdown",
   "metadata": {},
   "source": [
    "If the stop argument is ommitted, all the remaining elements will be returned from the start element "
   ]
  },
  {
   "cell_type": "code",
   "execution_count": 40,
   "metadata": {},
   "outputs": [
    {
     "name": "stdout",
     "output_type": "stream",
     "text": [
      "[1, 4, 2]\n"
     ]
    }
   ],
   "source": [
    "# ommitting start and step arguments\n",
    "# return 0th element to 2nd element (3rd element minus one)\n",
    "print(my_list_1[:3])"
   ]
  },
  {
   "cell_type": "markdown",
   "metadata": {},
   "source": [
    "If the start argument is ommitted, the slice begins at the 0th element and returns all elements to the stop element minus one"
   ]
  },
  {
   "cell_type": "code",
   "execution_count": 41,
   "metadata": {},
   "outputs": [
    {
     "name": "stdout",
     "output_type": "stream",
     "text": [
      "[1, 2, 5]\n"
     ]
    }
   ],
   "source": [
    "# ommitting start and stop arguments\n",
    "# return all elements at step 2\n",
    "print(my_list_1[::2])"
   ]
  },
  {
   "cell_type": "code",
   "execution_count": 42,
   "metadata": {},
   "outputs": [
    {
     "name": "stdout",
     "output_type": "stream",
     "text": [
      "[1, 5, 5, 2, 4, 1]\n"
     ]
    }
   ],
   "source": [
    "#trying something\n",
    "print(my_list_1[::-1])"
   ]
  },
  {
   "cell_type": "markdown",
   "metadata": {},
   "source": [
    "If the start and stop arguments are ommitted, the slice will return all elements based on the step argument"
   ]
  },
  {
   "cell_type": "markdown",
   "metadata": {},
   "source": [
    "### Example 4 (Index Method 1 with Non-Nested List and Negative Index):"
   ]
  },
  {
   "cell_type": "code",
   "execution_count": 43,
   "metadata": {},
   "outputs": [],
   "source": [
    "my_list = [4, 5, \"G\", 1]\n",
    "# my_list_bwd_index = [-4, -3, -2, -1]"
   ]
  },
  {
   "cell_type": "code",
   "execution_count": 44,
   "metadata": {},
   "outputs": [],
   "source": [
    "# comment from Garrett: negative index is positive index minus length"
   ]
  },
  {
   "cell_type": "code",
   "execution_count": 45,
   "metadata": {},
   "outputs": [],
   "source": [
    "#trying something\n",
    "my_list = [4, 5, \"G\", 1]\n",
    "# my_list_bwd_index = [-4, -3, -2, -1]\n",
    "# my_list_      index = 0  1    2   3"
   ]
  },
  {
   "cell_type": "code",
   "execution_count": 46,
   "metadata": {
    "scrolled": true
   },
   "outputs": [
    {
     "name": "stdout",
     "output_type": "stream",
     "text": [
      "1\n",
      "1\n"
     ]
    },
    {
     "data": {
      "text/plain": [
       "int"
      ]
     },
     "execution_count": 46,
     "metadata": {},
     "output_type": "execute_result"
    }
   ],
   "source": [
    "# 1st element from the right (with and without saving list as a variable)\n",
    "print(my_list[-1])\n",
    "print([4, 5, \"G\", 1][-1])\n",
    "type(my_list[-1])"
   ]
  },
  {
   "cell_type": "code",
   "execution_count": 47,
   "metadata": {},
   "outputs": [
    {
     "name": "stdout",
     "output_type": "stream",
     "text": [
      "1\n"
     ]
    }
   ],
   "source": [
    "# same as above \n",
    "print(my_list[3])"
   ]
  },
  {
   "cell_type": "code",
   "execution_count": 48,
   "metadata": {
    "scrolled": true
   },
   "outputs": [
    {
     "name": "stdout",
     "output_type": "stream",
     "text": [
      "G\n",
      "G\n"
     ]
    },
    {
     "data": {
      "text/plain": [
       "str"
      ]
     },
     "execution_count": 48,
     "metadata": {},
     "output_type": "execute_result"
    }
   ],
   "source": [
    "# 2nd element from the right (with and without saving list as a variable)\n",
    "print(my_list[-2])\n",
    "print([4, 5, \"G\", 1][-2])\n",
    "type(my_list[-2])"
   ]
  },
  {
   "cell_type": "code",
   "execution_count": 49,
   "metadata": {},
   "outputs": [
    {
     "name": "stdout",
     "output_type": "stream",
     "text": [
      "G\n"
     ]
    }
   ],
   "source": [
    "# same as above \n",
    "print(my_list[2])"
   ]
  },
  {
   "cell_type": "code",
   "execution_count": 50,
   "metadata": {},
   "outputs": [
    {
     "name": "stdout",
     "output_type": "stream",
     "text": [
      "5\n",
      "5\n"
     ]
    },
    {
     "data": {
      "text/plain": [
       "int"
      ]
     },
     "execution_count": 50,
     "metadata": {},
     "output_type": "execute_result"
    }
   ],
   "source": [
    "# 3rd element from the right (with and without saving list as a variable)\n",
    "print(my_list[-3])\n",
    "print([4, 5, \"G\", 1][-3])\n",
    "type(my_list[-3])"
   ]
  },
  {
   "cell_type": "code",
   "execution_count": 51,
   "metadata": {},
   "outputs": [
    {
     "name": "stdout",
     "output_type": "stream",
     "text": [
      "5\n"
     ]
    }
   ],
   "source": [
    "# same as above \n",
    "print(my_list[1])"
   ]
  },
  {
   "cell_type": "code",
   "execution_count": 52,
   "metadata": {},
   "outputs": [
    {
     "name": "stdout",
     "output_type": "stream",
     "text": [
      "4\n",
      "4\n"
     ]
    },
    {
     "data": {
      "text/plain": [
       "int"
      ]
     },
     "execution_count": 52,
     "metadata": {},
     "output_type": "execute_result"
    }
   ],
   "source": [
    "# 4th element from the right (with and without saving list as a variable)\n",
    "print(my_list[-4])\n",
    "print([4, 5, \"G\", 1][-4])\n",
    "type(my_list[-4])"
   ]
  },
  {
   "cell_type": "code",
   "execution_count": 53,
   "metadata": {},
   "outputs": [
    {
     "name": "stdout",
     "output_type": "stream",
     "text": [
      "4\n"
     ]
    }
   ],
   "source": [
    "# same as above\n",
    "print(my_list[0])"
   ]
  },
  {
   "cell_type": "markdown",
   "metadata": {},
   "source": [
    "### Example 5 (Index Method 2 with Non-Nested List, Negative Slice and Backward Direction):"
   ]
  },
  {
   "cell_type": "code",
   "execution_count": 54,
   "metadata": {},
   "outputs": [],
   "source": [
    "my_list_1 = [1, 4, 2, 5, 5, 1]"
   ]
  },
  {
   "cell_type": "code",
   "execution_count": 55,
   "metadata": {},
   "outputs": [
    {
     "name": "stdout",
     "output_type": "stream",
     "text": [
      "[5, 5, 2]\n"
     ]
    },
    {
     "data": {
      "text/plain": [
       "list"
      ]
     },
     "execution_count": 55,
     "metadata": {},
     "output_type": "execute_result"
    }
   ],
   "source": [
    "# slice from 4th element to 2nd element (1st element plus one) by step -1 \n",
    "print(my_list_1[4:1:-1])\n",
    "type(my_list_1[4:1:-1])\n",
    "# now inclusive on left side and exclusive on right side"
   ]
  },
  {
   "cell_type": "code",
   "execution_count": 56,
   "metadata": {},
   "outputs": [
    {
     "name": "stdout",
     "output_type": "stream",
     "text": [
      "[]\n"
     ]
    }
   ],
   "source": [
    "#trying something\n",
    "print(my_list_1[4:1])"
   ]
  },
  {
   "cell_type": "markdown",
   "metadata": {},
   "source": [
    "** Above, Why doesn't it at least return the 4-ith element? ** ** "
   ]
  },
  {
   "cell_type": "markdown",
   "metadata": {},
   "source": [
    "Notice that when the `step` argument is a negative number, Python allows the `start` argument to be larger than the `stop` argument since it understands that we are moving backwards (or from right to left) through the list. Not only does Python allow this behavior, it actually requires it. In the event the `step` argument is negative, the `start` argument must be greater than the `stop` argument or Python will return an empty list. \n",
    "\n",
    "We can re-write the above example, but ommitting the step argument (so it defaults to 1) and using start and stop arguments as their negative index numbers and compare the results. "
   ]
  },
  {
   "cell_type": "code",
   "execution_count": 57,
   "metadata": {},
   "outputs": [
    {
     "name": "stdout",
     "output_type": "stream",
     "text": [
      "[2, 5, 5]\n"
     ]
    },
    {
     "data": {
      "text/plain": [
       "list"
      ]
     },
     "execution_count": 57,
     "metadata": {},
     "output_type": "execute_result"
    }
   ],
   "source": [
    "# slice from 4th element to the right to the 2nd element to the right (1st element to the right plus one) by step 1\n",
    "print(my_list_1[-4:-1])\n",
    "type(my_list_1[-4:-1])"
   ]
  },
  {
   "cell_type": "markdown",
   "metadata": {},
   "source": [
    "Compare the order of this list to the one above. This list here is printed forward despite having negative slicing index and the list above is printed backward despite having positive slicing index. The reason for this \"tricky\" behavior lies in the sign of the `step` argument. A positive `step` argument will ALWAYS print your list in the forward direction, whereas a negative `step` argument will ALWAYS print your list in the backward direction. Don't get confused by the sign of the indices - these do NOT dictate the sign in which the list is printed, but only dictate which side of the list you begin counting at (i.e. left or right side). "
   ]
  },
  {
   "cell_type": "code",
   "execution_count": 58,
   "metadata": {},
   "outputs": [
    {
     "name": "stdout",
     "output_type": "stream",
     "text": [
      "[5]\n"
     ]
    },
    {
     "data": {
      "text/plain": [
       "list"
      ]
     },
     "execution_count": 58,
     "metadata": {},
     "output_type": "execute_result"
    }
   ],
   "source": [
    "# slice from 4th element to 4th element (3rd element plus one) by step -1 \n",
    "print(my_list_1[4:3:-1])\n",
    "type(my_list_1[4:3:-1])"
   ]
  },
  {
   "cell_type": "markdown",
   "metadata": {},
   "source": [
    "We can also change the decrement interval by changing the value in the `step` argument. "
   ]
  },
  {
   "cell_type": "code",
   "execution_count": 59,
   "metadata": {},
   "outputs": [
    {
     "name": "stdout",
     "output_type": "stream",
     "text": [
      "[1, 5]\n"
     ]
    }
   ],
   "source": [
    "# slice from 5th element to 3rd element (2nd element plus one) by step -2 \n",
    "print(my_list_1[5:2:-2])"
   ]
  },
  {
   "cell_type": "markdown",
   "metadata": {},
   "source": [
    "### Example 6 (Index Method 2 with Non-Nested List, Negative Slice, Backward Step and Ommitted Argument(s) ):"
   ]
  },
  {
   "cell_type": "code",
   "execution_count": 60,
   "metadata": {},
   "outputs": [],
   "source": [
    "my_list_1 = [1, 4, 2, 5, 5, 1]"
   ]
  },
  {
   "cell_type": "code",
   "execution_count": 61,
   "metadata": {},
   "outputs": [
    {
     "name": "stdout",
     "output_type": "stream",
     "text": [
      "[5, 1]\n"
     ]
    }
   ],
   "source": [
    "# ommitting stop and step arguments\n",
    "# return the 2nd element from the right to the end of the list \n",
    "print(my_list_1[-2:])"
   ]
  },
  {
   "cell_type": "markdown",
   "metadata": {},
   "source": [
    "Positive step means the list will be printed in a forward direction, negative index means we start counting from the right side moving left. "
   ]
  },
  {
   "cell_type": "code",
   "execution_count": 62,
   "metadata": {},
   "outputs": [
    {
     "name": "stdout",
     "output_type": "stream",
     "text": [
      "[1, 4, 2]\n"
     ]
    }
   ],
   "source": [
    "# ommitting start and step arguments\n",
    "# returns the 0th element to the fourth element from the right \n",
    "print(my_list_1[:-3])"
   ]
  },
  {
   "cell_type": "code",
   "execution_count": 63,
   "metadata": {},
   "outputs": [],
   "source": [
    "# I didn't understand a first, but now I do: it's start at the beginning, and go to index -3, \n",
    "# which coresponds to index + 3 (stoppint at index 3 and not including it)"
   ]
  },
  {
   "cell_type": "markdown",
   "metadata": {},
   "source": [
    "Positive step means the list will be printed in a forward direction, negative index means we start counting from the right side moving left. "
   ]
  },
  {
   "cell_type": "code",
   "execution_count": 64,
   "metadata": {},
   "outputs": [
    {
     "name": "stdout",
     "output_type": "stream",
     "text": [
      "[1, 5, 4]\n"
     ]
    }
   ],
   "source": [
    "# ommitting start and stop arguments\n",
    "# return all elements at step -2\n",
    "print(my_list_1[::-2])\n",
    "### it starts from the end then steps by two"
   ]
  },
  {
   "cell_type": "markdown",
   "metadata": {},
   "source": [
    "Negative step means the list will be printed in a backward direction, positive indices means we start counting from the left side moving right. "
   ]
  },
  {
   "cell_type": "code",
   "execution_count": 65,
   "metadata": {},
   "outputs": [
    {
     "name": "stdout",
     "output_type": "stream",
     "text": [
      "[1, 5, 4]\n"
     ]
    }
   ],
   "source": [
    "# same as above\n",
    "print(my_list_1[5:0:-2])"
   ]
  },
  {
   "cell_type": "code",
   "execution_count": 66,
   "metadata": {},
   "outputs": [
    {
     "name": "stdout",
     "output_type": "stream",
     "text": [
      "[1, 5, 4]\n"
     ]
    }
   ],
   "source": [
    "# same as above\n",
    "print(my_list_1[-1:-6:-2])"
   ]
  },
  {
   "cell_type": "markdown",
   "metadata": {},
   "source": [
    "### Example 7 (Index Method 1 with Nested List):"
   ]
  },
  {
   "cell_type": "code",
   "execution_count": 67,
   "metadata": {},
   "outputs": [
    {
     "name": "stdout",
     "output_type": "stream",
     "text": [
      "[['Gordon', 1.0], True]\n"
     ]
    }
   ],
   "source": [
    "list_1 = [\"Gordon\", 1.0]\n",
    "nested_list = [list_1, True]\n",
    "print(nested_list)\n"
   ]
  },
  {
   "cell_type": "code",
   "execution_count": 68,
   "metadata": {},
   "outputs": [
    {
     "data": {
      "text/plain": [
       "['Gordon', 1.0]"
      ]
     },
     "execution_count": 68,
     "metadata": {},
     "output_type": "execute_result"
    }
   ],
   "source": [
    "# access 0th element of the outer list\n",
    "nested_list[0]"
   ]
  },
  {
   "cell_type": "code",
   "execution_count": 70,
   "metadata": {},
   "outputs": [
    {
     "data": {
      "text/plain": [
       "1.0"
      ]
     },
     "execution_count": 70,
     "metadata": {},
     "output_type": "execute_result"
    }
   ],
   "source": [
    "# access 1st element of the inner list \n",
    "nested_list[0][1]"
   ]
  },
  {
   "cell_type": "markdown",
   "metadata": {},
   "source": [
    "### Example 8 (Index Method 2 with Nested List):"
   ]
  },
  {
   "cell_type": "code",
   "execution_count": 72,
   "metadata": {},
   "outputs": [
    {
     "data": {
      "text/plain": [
       "[['Gordon', 1.0]]"
      ]
     },
     "execution_count": 72,
     "metadata": {},
     "output_type": "execute_result"
    }
   ],
   "source": [
    "# slice from 0th element to 0th element (1st element minus one) with step 1\n",
    "nested_list[0:1]"
   ]
  },
  {
   "cell_type": "markdown",
   "metadata": {},
   "source": [
    "Recall that when we use Method 2 (slicing), the output is a `list`. Now in this case since the element we selected is also a list, our result is a list within a list. \n"
   ]
  },
  {
   "cell_type": "code",
   "execution_count": 73,
   "metadata": {},
   "outputs": [],
   "source": [
    "### ie we are taking a sublist of the list, even though it's a list with one entry ###"
   ]
  },
  {
   "cell_type": "markdown",
   "metadata": {},
   "source": [
    "### Example 9 (Indexing Out-of-Range - Error):"
   ]
  },
  {
   "cell_type": "code",
   "execution_count": 74,
   "metadata": {},
   "outputs": [],
   "source": [
    "my_list_1 = [1, 4, 2, 5, 5, 1]"
   ]
  },
  {
   "cell_type": "code",
   "execution_count": 75,
   "metadata": {},
   "outputs": [
    {
     "ename": "IndexError",
     "evalue": "list index out of range",
     "output_type": "error",
     "traceback": [
      "\u001b[1;31m---------------------------------------------------------------------------\u001b[0m",
      "\u001b[1;31mIndexError\u001b[0m                                Traceback (most recent call last)",
      "\u001b[1;32m<ipython-input-75-aa3c584add17>\u001b[0m in \u001b[0;36m<module>\u001b[1;34m\u001b[0m\n\u001b[0;32m      1\u001b[0m \u001b[1;31m# will yield an error\u001b[0m\u001b[1;33m\u001b[0m\u001b[1;33m\u001b[0m\u001b[1;33m\u001b[0m\u001b[0m\n\u001b[1;32m----> 2\u001b[1;33m \u001b[0mmy_list_1\u001b[0m\u001b[1;33m[\u001b[0m\u001b[1;36m10\u001b[0m\u001b[1;33m]\u001b[0m\u001b[1;33m\u001b[0m\u001b[1;33m\u001b[0m\u001b[0m\n\u001b[0m",
      "\u001b[1;31mIndexError\u001b[0m: list index out of range"
     ]
    }
   ],
   "source": [
    "# will yield an error\n",
    "my_list_1[10]"
   ]
  },
  {
   "cell_type": "markdown",
   "metadata": {},
   "source": [
    "An `IndexError` is raised here since the maximum element of the variable `my_list_1` is 5 and we asked for the 10th element here. "
   ]
  },
  {
   "cell_type": "markdown",
   "metadata": {},
   "source": [
    "### Example 10 (Indexing Out-of-Range - No Error):"
   ]
  },
  {
   "cell_type": "code",
   "execution_count": 76,
   "metadata": {},
   "outputs": [
    {
     "data": {
      "text/plain": [
       "[1, 4, 2, 5, 5, 1]"
      ]
     },
     "execution_count": 76,
     "metadata": {},
     "output_type": "execute_result"
    }
   ],
   "source": [
    "# will not yield an error\n",
    "my_list_1[:10]"
   ]
  },
  {
   "cell_type": "markdown",
   "metadata": {},
   "source": [
    "We can see that although the 10th element in the variable `my_list_1` does not exist, Python's interpreter does not raise an error. The reason being is that the interpreter understands that the `stop` argument in the slice is out-of-index and should be interpreted instead as the end of the list. "
   ]
  },
  {
   "cell_type": "code",
   "execution_count": 77,
   "metadata": {},
   "outputs": [
    {
     "data": {
      "text/plain": [
       "[]"
      ]
     },
     "execution_count": 77,
     "metadata": {},
     "output_type": "execute_result"
    }
   ],
   "source": [
    "# will not yield an error\n",
    "my_list_1[10:]"
   ]
  },
  {
   "cell_type": "markdown",
   "metadata": {},
   "source": [
    "We can see that although the 10th element in the variable `my_list_1` does not exist, Python's interpreter does not raise an error. The reason being is that the interpreter understands that the `start` argument in the slice is out-of-index and should be interpreted instead as an empty list. "
   ]
  },
  {
   "cell_type": "markdown",
   "metadata": {},
   "source": [
    "### Problem 1:\n",
    "\n",
    "Create a list and enter in the items `\"c\"`, `\"a\"`, `\"b\"`, `1`, `3`, `2` then reverse this list so it looks like `2`, `3`, ... Print your result.  \n",
    "\n",
    "- Use list slicing in your answer \n",
    "- Do not use any embedded functions in Python to reverse the list "
   ]
  },
  {
   "cell_type": "code",
   "execution_count": 78,
   "metadata": {},
   "outputs": [
    {
     "name": "stdout",
     "output_type": "stream",
     "text": [
      "[3, 2, 1, 'b', 'a', 'c']\n"
     ]
    }
   ],
   "source": [
    "# Write your code here\n",
    "list = [\"c\", \"a\", \"b\", 1, 2, 3]\n",
    "reverse = list[::-1]\n",
    "print(reverse)\n",
    "\n",
    "\n"
   ]
  },
  {
   "cell_type": "markdown",
   "metadata": {},
   "source": [
    "### Problem 2:\n",
    "\n",
    "Create a list and enter in the items `\"c\"`, `\"a\"`, `\"b\"`, `1`, `3`, `2` then use slicing to pull out the subset `[\"b\", 3]` ... Print your result.\n",
    "\n",
    "- Use list slicing in your answer "
   ]
  },
  {
   "cell_type": "code",
   "execution_count": 79,
   "metadata": {},
   "outputs": [
    {
     "name": "stdout",
     "output_type": "stream",
     "text": [
      "['b', 3]\n"
     ]
    }
   ],
   "source": [
    "# Write your code here\n",
    "#list defined above\n",
    "print(list[2:7:3])\n",
    "\n",
    "\n"
   ]
  },
  {
   "cell_type": "code",
   "execution_count": null,
   "metadata": {},
   "outputs": [],
   "source": [
    "### look into the particulars of list slicing syntax ### - I'm not sure what about this I didn't understand..."
   ]
  },
  {
   "cell_type": "markdown",
   "metadata": {},
   "source": [
    "### 2.2.6 More List Operations"
   ]
  },
  {
   "cell_type": "markdown",
   "metadata": {},
   "source": [
    "__Overview:__\n",
    "- Recall in section 2.2.2 the types of operations available for Sequence Types and specifically Mutable Sequence Types\n",
    "- Since the `list` type is mutable, we can perform both the Common Sequence Operations AND the Mutable Sequence Type Operations \n",
    "\n",
    "__Helpful Points:__\n",
    "1. Below, Part 1 will cover the Common Sequence Type Operations (membership test operations, list concatenation and repetition, and misc. actions)\n",
    "2. Below, Part 2 will cover the Mutable Type Sequence Operations (changing elements, adding elements, and removing elements)\n",
    "\n",
    "__Practice:__ Examples of List Operations in Python "
   ]
  },
  {
   "cell_type": "markdown",
   "metadata": {},
   "source": [
    "### Part 1: Common Sequence Type Operations "
   ]
  },
  {
   "cell_type": "markdown",
   "metadata": {},
   "source": [
    "### Example 1.1 (Membership Test Operations - `in` for lists):"
   ]
  },
  {
   "cell_type": "markdown",
   "metadata": {},
   "source": [
    "- Recall Section 1.10.3 in Lecture 1 - Membership Test Operations for `str` types\n",
    "- Here, Membership Test Operations are used in the same fashion and the meaning of the operators `in` and `not in` are the same as described in Lecture 1"
   ]
  },
  {
   "cell_type": "code",
   "execution_count": 80,
   "metadata": {},
   "outputs": [],
   "source": [
    "my_list = [\"G\", \"R\", 1, True]"
   ]
  },
  {
   "cell_type": "code",
   "execution_count": 81,
   "metadata": {},
   "outputs": [],
   "source": [
    "my_string = \"Gordon\""
   ]
  },
  {
   "cell_type": "code",
   "execution_count": 82,
   "metadata": {},
   "outputs": [
    {
     "data": {
      "text/plain": [
       "True"
      ]
     },
     "execution_count": 82,
     "metadata": {},
     "output_type": "execute_result"
    }
   ],
   "source": [
    "\"\" in my_string"
   ]
  },
  {
   "cell_type": "code",
   "execution_count": 83,
   "metadata": {},
   "outputs": [
    {
     "data": {
      "text/plain": [
       "True"
      ]
     },
     "execution_count": 83,
     "metadata": {},
     "output_type": "execute_result"
    }
   ],
   "source": [
    "1 in my_list"
   ]
  },
  {
   "cell_type": "code",
   "execution_count": 84,
   "metadata": {},
   "outputs": [
    {
     "data": {
      "text/plain": [
       "False"
      ]
     },
     "execution_count": 84,
     "metadata": {},
     "output_type": "execute_result"
    }
   ],
   "source": [
    "[] in my_list"
   ]
  },
  {
   "cell_type": "code",
   "execution_count": 85,
   "metadata": {},
   "outputs": [
    {
     "data": {
      "text/plain": [
       "False"
      ]
     },
     "execution_count": 85,
     "metadata": {},
     "output_type": "execute_result"
    }
   ],
   "source": [
    "\"\" in my_list"
   ]
  },
  {
   "cell_type": "markdown",
   "metadata": {},
   "source": [
    "We can see that the same behavior that was present for strings (empty strings are always considered to be a member of a string), is not also true with lists. An empty list is not always a member of a list and an empty string is not always a member of a list. \n",
    "** the empty string is in every string, but the empty list does not automatically contain the empty list **"
   ]
  },
  {
   "cell_type": "code",
   "execution_count": 86,
   "metadata": {},
   "outputs": [
    {
     "name": "stdout",
     "output_type": "stream",
     "text": [
      "[[], '', ['G', 'R', 1, True]]\n"
     ]
    }
   ],
   "source": [
    "my_list_1 = [[], \"\", my_list]\n",
    "print(my_list_1)"
   ]
  },
  {
   "cell_type": "code",
   "execution_count": 87,
   "metadata": {},
   "outputs": [
    {
     "data": {
      "text/plain": [
       "True"
      ]
     },
     "execution_count": 87,
     "metadata": {},
     "output_type": "execute_result"
    }
   ],
   "source": [
    "[] in my_list_1"
   ]
  },
  {
   "cell_type": "code",
   "execution_count": 88,
   "metadata": {},
   "outputs": [
    {
     "data": {
      "text/plain": [
       "True"
      ]
     },
     "execution_count": 88,
     "metadata": {},
     "output_type": "execute_result"
    }
   ],
   "source": [
    "\"\" in my_list_1"
   ]
  },
  {
   "cell_type": "markdown",
   "metadata": {},
   "source": [
    "After entering an empty list and empty string as elements into the list, both membership tests are now `True`"
   ]
  },
  {
   "cell_type": "code",
   "execution_count": 89,
   "metadata": {},
   "outputs": [
    {
     "data": {
      "text/plain": [
       "False"
      ]
     },
     "execution_count": 89,
     "metadata": {},
     "output_type": "execute_result"
    }
   ],
   "source": [
    "\"R\" in my_list_1"
   ]
  },
  {
   "cell_type": "code",
   "execution_count": 90,
   "metadata": {},
   "outputs": [
    {
     "data": {
      "text/plain": [
       "True"
      ]
     },
     "execution_count": 90,
     "metadata": {},
     "output_type": "execute_result"
    }
   ],
   "source": [
    "\"R\" in my_list_1[2]"
   ]
  },
  {
   "cell_type": "markdown",
   "metadata": {},
   "source": [
    "In the case of nested lists, unless you specify the element to which the nested list is in, the membership test will not output a `True` result when checking if a value is a member of the list. "
   ]
  },
  {
   "cell_type": "markdown",
   "metadata": {},
   "source": [
    "### Example 1.2 (Membership Test Operations - `not in` for lists):"
   ]
  },
  {
   "cell_type": "code",
   "execution_count": 91,
   "metadata": {},
   "outputs": [
    {
     "name": "stdout",
     "output_type": "stream",
     "text": [
      "['G', 'R', 1, True]\n"
     ]
    }
   ],
   "source": [
    "### added\n",
    "print(my_list)"
   ]
  },
  {
   "cell_type": "code",
   "execution_count": 92,
   "metadata": {},
   "outputs": [
    {
     "data": {
      "text/plain": [
       "True"
      ]
     },
     "execution_count": 92,
     "metadata": {},
     "output_type": "execute_result"
    }
   ],
   "source": [
    "\"a\" not in my_list # is the \"a\" not a member of my list "
   ]
  },
  {
   "cell_type": "code",
   "execution_count": 93,
   "metadata": {},
   "outputs": [
    {
     "data": {
      "text/plain": [
       "False"
      ]
     },
     "execution_count": 93,
     "metadata": {},
     "output_type": "execute_result"
    }
   ],
   "source": [
    "\"R\" not in my_list"
   ]
  },
  {
   "cell_type": "markdown",
   "metadata": {},
   "source": [
    "### Example 1.3 (Concatenation of Lists):"
   ]
  },
  {
   "cell_type": "markdown",
   "metadata": {},
   "source": [
    "- Note that when using the `+` sign in Python with Sequence Types, it does not refer to vectorized addition\n",
    "- In other words, `list_1` + `list_2` is NOT equal to a new list which is the addition of each term of list_1 and list_2\n",
    "- Instead, the $+$ sign __[concatenates](https://en.wikipedia.org/wiki/Concatenation)__ list_2 to list_1 to make a new list that includes both lists \n",
    "- See below for how the $+$ operator works on Python lists"
   ]
  },
  {
   "cell_type": "code",
   "execution_count": 94,
   "metadata": {},
   "outputs": [
    {
     "ename": "SyntaxError",
     "evalue": "can't assign to operator (<ipython-input-94-360733733376>, line 1)",
     "output_type": "error",
     "traceback": [
      "\u001b[1;36m  File \u001b[1;32m\"<ipython-input-94-360733733376>\"\u001b[1;36m, line \u001b[1;32m1\u001b[0m\n\u001b[1;33m    [1,2,3] * 3 = [3, 6, 9] # vectorized addition (vectorized operations) DOES NOT HAPPEN IN PYTHON\u001b[0m\n\u001b[1;37m                                                                                                    ^\u001b[0m\n\u001b[1;31mSyntaxError\u001b[0m\u001b[1;31m:\u001b[0m can't assign to operator\n"
     ]
    }
   ],
   "source": [
    "[1,2,3] * 3 = [3, 6, 9] # vectorized addition (vectorized operations) DOES NOT HAPPEN IN PYTHON "
   ]
  },
  {
   "cell_type": "code",
   "execution_count": 95,
   "metadata": {},
   "outputs": [
    {
     "name": "stdout",
     "output_type": "stream",
     "text": [
      "['Gordon', 1, 'a', 'Roberto', 2, 'b']\n"
     ]
    }
   ],
   "source": [
    "list_1 = [\"Gordon\", 1, \"a\"] # 3 elements \n",
    "list_2 = [\"Roberto\", 2, \"b\"] # 6 elements  ### actually 3 elements\n",
    "list_3 = list_1 + list_2 # 6 elements\n",
    "print(list_3)"
   ]
  },
  {
   "cell_type": "code",
   "execution_count": 96,
   "metadata": {},
   "outputs": [
    {
     "name": "stdout",
     "output_type": "stream",
     "text": [
      "['Gordon', 1, 'a', 'Roberto', 2]\n"
     ]
    }
   ],
   "source": [
    "list_1 = [\"Gordon\", 1, \"a\"]\n",
    "list_2 = [\"Roberto\", 2]\n",
    "list_3 = list_1 + list_2\n",
    "print(list_3)"
   ]
  },
  {
   "cell_type": "markdown",
   "metadata": {},
   "source": [
    "We can see that the lists do not need to be of equal length to be added."
   ]
  },
  {
   "cell_type": "markdown",
   "metadata": {},
   "source": [
    "### Example 1.4 (Repetition of Lists):"
   ]
  },
  {
   "cell_type": "markdown",
   "metadata": {},
   "source": [
    "- Note that when using the `*` sign in Python with Sequence Types, it does not refer to vectorized multiplication\n",
    "- In other words, list_1 `*` n is NOT equal to a new list which is the multiplication of each term of list_1 by n\n",
    "- Instead, the `*` sign repeats list_1 n times to make a new list\n",
    "- See below for how the `*` operator works on Python lists"
   ]
  },
  {
   "cell_type": "code",
   "execution_count": 97,
   "metadata": {},
   "outputs": [
    {
     "name": "stdout",
     "output_type": "stream",
     "text": [
      "['Gordon', 1, 'a', 'Gordon', 1, 'a', 'Gordon', 1, 'a']\n"
     ]
    }
   ],
   "source": [
    "list_1 = [\"Gordon\", 1, \"a\"]\n",
    "print(list_1 * 3)"
   ]
  },
  {
   "cell_type": "code",
   "execution_count": 98,
   "metadata": {},
   "outputs": [
    {
     "name": "stdout",
     "output_type": "stream",
     "text": [
      "['Gordon', 1, 'a', 'Gordon', 1, 'a', 'Gordon', 1, 'a']\n"
     ]
    }
   ],
   "source": [
    "print(list_1 + list_1 + list_1)"
   ]
  },
  {
   "cell_type": "markdown",
   "metadata": {},
   "source": [
    "### Example 1.5 (Misc. Actions on Lists):"
   ]
  },
  {
   "cell_type": "markdown",
   "metadata": {},
   "source": [
    "- Within the Common Sequence Types, there exist a set of useful functions that can be used as operations on lists (len, min, max, index, count, and sort))"
   ]
  },
  {
   "cell_type": "markdown",
   "metadata": {},
   "source": [
    "### Example 1.5.1 (Simple Actions - `len`, `min`, `max`, `index`, `count`)"
   ]
  },
  {
   "cell_type": "code",
   "execution_count": 108,
   "metadata": {},
   "outputs": [],
   "source": [
    "my_list = [1, 36.3, 5, 4, 36.3]"
   ]
  },
  {
   "cell_type": "code",
   "execution_count": 100,
   "metadata": {},
   "outputs": [
    {
     "data": {
      "text/plain": [
       "5"
      ]
     },
     "execution_count": 100,
     "metadata": {},
     "output_type": "execute_result"
    }
   ],
   "source": [
    "# find the length of the list (number of elements in the list)\n",
    "len(my_list)"
   ]
  },
  {
   "cell_type": "code",
   "execution_count": 101,
   "metadata": {},
   "outputs": [
    {
     "data": {
      "text/plain": [
       "1"
      ]
     },
     "execution_count": 101,
     "metadata": {},
     "output_type": "execute_result"
    }
   ],
   "source": [
    "# find the minimum value of the list (smallest element in the list)\n",
    "min(my_list)"
   ]
  },
  {
   "cell_type": "code",
   "execution_count": 102,
   "metadata": {},
   "outputs": [
    {
     "data": {
      "text/plain": [
       "36.3"
      ]
     },
     "execution_count": 102,
     "metadata": {},
     "output_type": "execute_result"
    }
   ],
   "source": [
    "# find the maximum value of the list (largest element in the list)\n",
    "max(my_list)"
   ]
  },
  {
   "cell_type": "code",
   "execution_count": 103,
   "metadata": {},
   "outputs": [
    {
     "data": {
      "text/plain": [
       "1"
      ]
     },
     "execution_count": 103,
     "metadata": {},
     "output_type": "execute_result"
    }
   ],
   "source": [
    "# find the index of the first occurrence of 36.3 in my_list\n",
    "my_list.index(36.3)"
   ]
  },
  {
   "cell_type": "code",
   "execution_count": 104,
   "metadata": {},
   "outputs": [
    {
     "name": "stdout",
     "output_type": "stream",
     "text": [
      "2\n"
     ]
    }
   ],
   "source": [
    "# find the total number of occurrences of 36.3 in my_list\n",
    "print(my_list.count(36.3))"
   ]
  },
  {
   "cell_type": "markdown",
   "metadata": {},
   "source": [
    "### Example 1.5.2 (Advanced Actions - `sort`)"
   ]
  },
  {
   "cell_type": "markdown",
   "metadata": {},
   "source": [
    "__Overview:__\n",
    "- Since lists are mutable, sorting lists in Python can be done 2 different ways:\n",
    "> 1. __Method 1:__ Using the `sorted()` function. This method does NOT modify the original list, but just returns a copy of the original list. \n",
    "> ** ** actually returns none **\n",
    "> 2. __Method 2:__ Using the `list.sort()` method. This method DOES modify the original list and returns the original list sorted. \n",
    "\n",
    "__Helpful Points:__\n",
    "1. Whether a function modified the original object or simply returns a copy of the object, but doesn't change the original object deals with a concept called the __[In-Place Algorithm](https://en.wikipedia.org/wiki/In-place_algorithm).__\n",
    "2. __In-Place:__ In-place means that the original object is modified (`list.sort()` method)\n",
    "3. __Not In-Place:__ Not In-place means that the original object is NOT modified (`sorted()` function)\n",
    "4. To determine if you want an in-place or \"not\" in-place method, ask yourself if you need the original list. If you don't need the original list, you will want to use `list.sort()`, if you do need the original list, you will want to use `sorted()`\n",
    "5. See [here](https://docs.python.org/3/howto/sorting.html) for more information on sorting in Python \n",
    "\n",
    "__Practice:__ Examples of sorting in Python "
   ]
  },
  {
   "cell_type": "code",
   "execution_count": 109,
   "metadata": {},
   "outputs": [
    {
     "name": "stdout",
     "output_type": "stream",
     "text": [
      "[1, 4, 5, 36.3, 36.3]\n",
      "[1, 36.3, 5, 4, 36.3]\n"
     ]
    }
   ],
   "source": [
    "# sort the list using method 1 (retaining the original variable, simply create a copy )\n",
    "print(sorted(my_list))\n",
    "print(my_list)"
   ]
  },
  {
   "cell_type": "markdown",
   "metadata": {},
   "source": [
    "We can see that the `sorted()` function simply returned a copy of the original list, but when we print the original list, it has not changed. This is an example of not in-place. "
   ]
  },
  {
   "cell_type": "code",
   "execution_count": 110,
   "metadata": {},
   "outputs": [
    {
     "name": "stdout",
     "output_type": "stream",
     "text": [
      "None\n",
      "[1, 4, 5, 36.3, 36.3]\n"
     ]
    }
   ],
   "source": [
    "# sort the list using method 2 (overwriting the original variable)\n",
    "print(my_list.sort())     # gives none because there is no new object to output\n",
    "print(my_list)"
   ]
  },
  {
   "cell_type": "markdown",
   "metadata": {},
   "source": [
    "We can see that the `list.sort()` method first returns `None` to avoid confusion since no copy was made and then when we print the original list, we see it has changed. This is an example of in-place. "
   ]
  },
  {
   "cell_type": "markdown",
   "metadata": {},
   "source": [
    "** comment: in general functions return a new object and methods act on an existing object and don't return anything new **"
   ]
  },
  {
   "cell_type": "markdown",
   "metadata": {},
   "source": [
    "### Part 2: Mutable Sequence Type Operations"
   ]
  },
  {
   "cell_type": "markdown",
   "metadata": {},
   "source": [
    "### Example 2.1 (Changing Elements of Lists):"
   ]
  },
  {
   "cell_type": "markdown",
   "metadata": {},
   "source": [
    "- Elements within a list can be changed using both index and slices"
   ]
  },
  {
   "cell_type": "markdown",
   "metadata": {},
   "source": [
    "### Example 2.1.1 (Changing Elements of Lists with Indexing):"
   ]
  },
  {
   "cell_type": "code",
   "execution_count": 111,
   "metadata": {},
   "outputs": [],
   "source": [
    "my_list = [1, 4, 36.3, \"G\", True]"
   ]
  },
  {
   "cell_type": "code",
   "execution_count": 112,
   "metadata": {},
   "outputs": [],
   "source": [
    "a = 1 # the variable is assigned a value of 1\n",
    "### just here as an example/reminder of variable assignment ###"
   ]
  },
  {
   "cell_type": "code",
   "execution_count": 113,
   "metadata": {},
   "outputs": [
    {
     "name": "stdout",
     "output_type": "stream",
     "text": [
      "4\n",
      "[1, 'Change', 36.3, 'G', True]\n"
     ]
    }
   ],
   "source": [
    "print(my_list[1])\n",
    "# change element by index\n",
    "my_list[1] = \"Change\" # the element at index 1 is assigned a value of \"Change\"\n",
    "print(my_list)"
   ]
  },
  {
   "cell_type": "markdown",
   "metadata": {},
   "source": [
    "### Example 2.1.2 (Changing Elements of Lists with Slices):"
   ]
  },
  {
   "cell_type": "code",
   "execution_count": 114,
   "metadata": {},
   "outputs": [
    {
     "name": "stdout",
     "output_type": "stream",
     "text": [
      "[1, 4, 'Change1', 'Change2', True]\n"
     ]
    }
   ],
   "source": [
    "my_list[2:4]\n",
    "# change element by slice with step 1 \n",
    "my_list = [1, 4, 36.3, \"G\", True]\n",
    "my_list[2:4]  = [\"Change1\", \"Change2\"] # my_list[2:4] grab element 2, 3 [2,4)\n",
    "print(my_list)"
   ]
  },
  {
   "cell_type": "code",
   "execution_count": 115,
   "metadata": {},
   "outputs": [
    {
     "name": "stdout",
     "output_type": "stream",
     "text": [
      "['Change1', 4, 'Change2', 'G', 'Change3']\n"
     ]
    }
   ],
   "source": [
    "# change element by slice with step 2\n",
    "my_list = [1, 4, 36.3, \"G\", True]\n",
    "my_list[0:5:2] = [\"Change1\", \"Change2\", \"Change3\"]\n",
    "print(my_list)"
   ]
  },
  {
   "cell_type": "code",
   "execution_count": 117,
   "metadata": {},
   "outputs": [],
   "source": [
    "### note from garrett: don't see this used all that often ###"
   ]
  },
  {
   "cell_type": "markdown",
   "metadata": {},
   "source": [
    "### Example 2.2 (Adding Elements to Lists):"
   ]
  },
  {
   "cell_type": "markdown",
   "metadata": {},
   "source": [
    "- Elements can be added to lists at the beginning, in the middle and at the end\n",
    "- To add elements to lists in any of these places, it is possible to use both the built-in functions from Python and manual operations"
   ]
  },
  {
   "cell_type": "markdown",
   "metadata": {},
   "source": [
    "### Example 2.2.1 (Adding Elements to the End of Lists):"
   ]
  },
  {
   "cell_type": "markdown",
   "metadata": {},
   "source": [
    "There are 2 main methods of adding elements to the end of lists each having their own equivalent manual method:"
   ]
  },
  {
   "cell_type": "markdown",
   "metadata": {},
   "source": [
    "### Method 1: `append`"
   ]
  },
  {
   "cell_type": "code",
   "execution_count": 118,
   "metadata": {},
   "outputs": [],
   "source": [
    "my_list = [1, 4, 36.3, \"G\", True]"
   ]
  },
  {
   "cell_type": "code",
   "execution_count": 119,
   "metadata": {},
   "outputs": [
    {
     "data": {
      "text/plain": [
       "5"
      ]
     },
     "execution_count": 119,
     "metadata": {},
     "output_type": "execute_result"
    }
   ],
   "source": [
    "# find the length of my_list\n",
    "len(my_list)"
   ]
  },
  {
   "cell_type": "code",
   "execution_count": 120,
   "metadata": {},
   "outputs": [
    {
     "name": "stdout",
     "output_type": "stream",
     "text": [
      "[1, 4, 36.3, 'G', True, 'New']\n"
     ]
    }
   ],
   "source": [
    "# add element with Python built-in method append\n",
    "my_list.append(\"New\") # append \"New\" to the end of the list (in-place)\n",
    "print(my_list)"
   ]
  },
  {
   "cell_type": "code",
   "execution_count": 121,
   "metadata": {},
   "outputs": [
    {
     "data": {
      "text/plain": [
       "6"
      ]
     },
     "execution_count": 121,
     "metadata": {},
     "output_type": "execute_result"
    }
   ],
   "source": [
    "len(my_list)"
   ]
  },
  {
   "cell_type": "markdown",
   "metadata": {},
   "source": [
    "You can see `dot notation` here which means that we are going \"inside\" the variable `my_list` and accessing a method that it has in its \"repertoire.\" Don't worry too much about this for now as we will go explore methods/functions more in depth in Lecture 3. "
   ]
  },
  {
   "cell_type": "markdown",
   "metadata": {},
   "source": [
    "### manual `append` method using slicing `[:]`"
   ]
  },
  {
   "cell_type": "code",
   "execution_count": 122,
   "metadata": {},
   "outputs": [
    {
     "name": "stdout",
     "output_type": "stream",
     "text": [
      "[1, 4, 36.3, 'G', True, 'New']\n"
     ]
    }
   ],
   "source": [
    "# manual equivalent of append in Python \n",
    "###  ******* don't need to know how to do this. it's just an under the hood example thing *********###\n",
    "my_list = [1, 4, 36.3, \"G\", True]\n",
    "my_list[len(my_list):len(my_list)] = [\"New\"]\n",
    "print(my_list)"
   ]
  },
  {
   "cell_type": "markdown",
   "metadata": {},
   "source": [
    "This manual operation works because we are telling Python to insert a new sequence of items at the 5th position (which is at the end of the list since the list has length 5)"
   ]
  },
  {
   "cell_type": "markdown",
   "metadata": {},
   "source": [
    "### Method 2: `extend`"
   ]
  },
  {
   "cell_type": "code",
   "execution_count": 126,
   "metadata": {},
   "outputs": [],
   "source": [
    "my_list = [1, 4, 36.3, \"G\", True]"
   ]
  },
  {
   "cell_type": "code",
   "execution_count": 129,
   "metadata": {},
   "outputs": [
    {
     "name": "stdout",
     "output_type": "stream",
     "text": [
      "[1, 4, 36.3, 'G', True, 'N', 'e', 'w', 'New']\n"
     ]
    }
   ],
   "source": [
    "# add element with Python built-in method extend \n",
    "my_list.extend([\"New\"]) # extend the list by adding \"New\" (in-place)\n",
    "### actually, we are adding the list that contains \"new\"\n",
    "print(my_list)"
   ]
  },
  {
   "cell_type": "markdown",
   "metadata": {},
   "source": [
    "Notice how the `extend` method requires the `\"New\"` character to be a list in order for the character to be added as an item and not as a sequence. Try removing the square brackets from the `\"New\"` character and observe the output. Now the result will add as a sequence and NOT as an item. This is different than the `append` method above where we added the `\"New\"` character as a `str` and the result added it as an item. "
   ]
  },
  {
   "cell_type": "markdown",
   "metadata": {},
   "source": [
    "### manual `extend` method using slicing `[:]`"
   ]
  },
  {
   "cell_type": "code",
   "execution_count": 130,
   "metadata": {
    "scrolled": true
   },
   "outputs": [
    {
     "name": "stdout",
     "output_type": "stream",
     "text": [
      "[1, 4, 36.3, 'G', True, 'New']\n"
     ]
    }
   ],
   "source": [
    "# (1) manual equivalent of extend in Python \n",
    "my_list = [1, 4, 36.3, \"G\", True]\n",
    "my_list[len(my_list):len(my_list)] = [\"New\"]\n",
    "print(my_list)"
   ]
  },
  {
   "cell_type": "markdown",
   "metadata": {},
   "source": [
    "This manual operation works because we are telling Python to insert a new sequence of items at the 5th position (which is at the end of the list since the list has length 5)"
   ]
  },
  {
   "cell_type": "markdown",
   "metadata": {},
   "source": [
    "### manual `extend` method using concatenation (`+`) and compound assignments"
   ]
  },
  {
   "cell_type": "code",
   "execution_count": 131,
   "metadata": {},
   "outputs": [
    {
     "name": "stdout",
     "output_type": "stream",
     "text": [
      "[1, 4, 36.3, 'G', True, 'New']\n"
     ]
    }
   ],
   "source": [
    "# (2) manual equivalent of append in Python \n",
    "my_list = [1, 4, 36.3, \"G\", True]\n",
    "new_list = [\"New\"]\n",
    "my_list += new_list # my_list = my_list + new_list\n",
    "print(my_list)"
   ]
  },
  {
   "cell_type": "markdown",
   "metadata": {},
   "source": [
    "### Difference between  `extend` and `append`"
   ]
  },
  {
   "cell_type": "code",
   "execution_count": 132,
   "metadata": {},
   "outputs": [
    {
     "name": "stdout",
     "output_type": "stream",
     "text": [
      "[1, 2, 3, [4, 5, 6]]\n",
      "4\n"
     ]
    }
   ],
   "source": [
    "my_list = [1,2,3]\n",
    "my_list_1 = [4,5,6]\n",
    "my_list.append(my_list_1)\n",
    "print(my_list)\n",
    "print(len(my_list))"
   ]
  },
  {
   "cell_type": "code",
   "execution_count": 133,
   "metadata": {},
   "outputs": [
    {
     "data": {
      "text/plain": [
       "[4, 5, 6]"
      ]
     },
     "execution_count": 133,
     "metadata": {},
     "output_type": "execute_result"
    }
   ],
   "source": [
    "my_list[3]"
   ]
  },
  {
   "cell_type": "code",
   "execution_count": 134,
   "metadata": {},
   "outputs": [
    {
     "name": "stdout",
     "output_type": "stream",
     "text": [
      "[1, 2, 3, 4, 5, 6]\n",
      "6\n"
     ]
    }
   ],
   "source": [
    "my_list = [1,2,3]\n",
    "my_list.extend(my_list_1)\n",
    "print(my_list)\n",
    "print(len(my_list))"
   ]
  },
  {
   "cell_type": "code",
   "execution_count": 135,
   "metadata": {},
   "outputs": [],
   "source": [
    "### important to keep track of data types to understand this ###"
   ]
  },
  {
   "cell_type": "markdown",
   "metadata": {},
   "source": [
    "We can see that the `append` method adds the new element as a nested list, whereas the `extend` method adds the new element as individual elements (i.e. as a sequence). Think about what use case may be suitable for each method. "
   ]
  },
  {
   "cell_type": "markdown",
   "metadata": {},
   "source": [
    "### Example 2.2.2 (Adding Elements to the Middle of Lists):"
   ]
  },
  {
   "cell_type": "markdown",
   "metadata": {},
   "source": [
    "### Method 1: `insert`"
   ]
  },
  {
   "cell_type": "code",
   "execution_count": 137,
   "metadata": {},
   "outputs": [
    {
     "name": "stdout",
     "output_type": "stream",
     "text": [
      "[1, 4, 'New', 36.3, 'G', True]\n"
     ]
    }
   ],
   "source": [
    "# add element in the middle of the list with Python built-in method insert\n",
    "my_list = [1, 4, 36.3, \"G\", True]\n",
    "my_list.insert(2, \"New\") # add \"New\" in the 2nd position (in-place)\n",
    "print(my_list)\n",
    "### the added things ends up at index 2. ###"
   ]
  },
  {
   "cell_type": "markdown",
   "metadata": {},
   "source": [
    "### manual `insert` method using slicing `[:]`"
   ]
  },
  {
   "cell_type": "code",
   "execution_count": 138,
   "metadata": {},
   "outputs": [
    {
     "name": "stdout",
     "output_type": "stream",
     "text": [
      "[1, 4, 'New', 36.3, 'G', True]\n"
     ]
    }
   ],
   "source": [
    "# manual equivalent of insert in Python \n",
    "my_list = [1, 4, 36.3, \"G\", True]\n",
    "my_list[2:2] = [\"New\"] # add \"New\" in the 2nd position \n",
    "print(my_list)\n",
    "### why doesn't this replace 36.3 with \"new\" ? ###"
   ]
  },
  {
   "cell_type": "markdown",
   "metadata": {},
   "source": [
    "This manual operation works because we are telling Python to insert a new sequence of items at the 2nd position (same as above)"
   ]
  },
  {
   "cell_type": "markdown",
   "metadata": {},
   "source": [
    "### Example 2.2.3 (Adding Elements to the Beginning of Lists):"
   ]
  },
  {
   "cell_type": "markdown",
   "metadata": {},
   "source": [
    "### Method 1: `insert`"
   ]
  },
  {
   "cell_type": "code",
   "execution_count": 139,
   "metadata": {},
   "outputs": [
    {
     "name": "stdout",
     "output_type": "stream",
     "text": [
      "['New', 1, 4, 36.3, 'G', True]\n"
     ]
    }
   ],
   "source": [
    "# add element to the front of the list with Python built-in method insert\n",
    "my_list = [1, 4, 36.3, \"G\", True]\n",
    "my_list.insert(0, \"New\") # add \"New\" in the 0th position (in-place)\n",
    "print(my_list)"
   ]
  },
  {
   "cell_type": "markdown",
   "metadata": {},
   "source": [
    "### manual `insert` method using slicing `[:]`"
   ]
  },
  {
   "cell_type": "code",
   "execution_count": 140,
   "metadata": {},
   "outputs": [
    {
     "name": "stdout",
     "output_type": "stream",
     "text": [
      "['New', 1, 4, 36.3, 'G', True]\n"
     ]
    }
   ],
   "source": [
    "# manual equivalent of insert in Python \n",
    "my_list = [1, 4, 36.3, \"G\", True]\n",
    "my_list[:0] = [\"New\"] # add \"New\" in the 0th position \n",
    "print(my_list)"
   ]
  },
  {
   "cell_type": "markdown",
   "metadata": {},
   "source": [
    "This manual operation works because we are telling Python to insert a new sequence of items at the 0th position (same as above)"
   ]
  },
  {
   "cell_type": "markdown",
   "metadata": {},
   "source": [
    "### Example 2.2.4 (Differences between Insert Method and Slicing Method):"
   ]
  },
  {
   "cell_type": "markdown",
   "metadata": {},
   "source": [
    "Be weary of the difference that is present when adding elements to a list using the `insert` method and the slice `[i:i]` method. The former method adds elements as an item and the later method adds elements as a sequence. See below for an illustration of this difference. "
   ]
  },
  {
   "cell_type": "code",
   "execution_count": 141,
   "metadata": {},
   "outputs": [],
   "source": [
    "my_list = [1, 4, 36.3, \"G\", True]\n",
    "add_list = [\"New1\", \"New2\", \"New3\"]"
   ]
  },
  {
   "cell_type": "code",
   "execution_count": 142,
   "metadata": {},
   "outputs": [
    {
     "name": "stdout",
     "output_type": "stream",
     "text": [
      "[1, 4, ['New1', 'New2', 'New3'], 36.3, 'G', True]\n",
      "6\n"
     ]
    }
   ],
   "source": [
    "# add using the insert method\n",
    "my_list.insert(2, add_list) # adds as item (in-place)\n",
    "print(my_list)\n",
    "print(len(my_list))"
   ]
  },
  {
   "cell_type": "code",
   "execution_count": 143,
   "metadata": {},
   "outputs": [],
   "source": [
    "my_list = [1, 4, 36.3, \"G\", True]\n",
    "add_list = [\"New1\", \"New2\", \"New3\"]"
   ]
  },
  {
   "cell_type": "code",
   "execution_count": 144,
   "metadata": {},
   "outputs": [
    {
     "name": "stdout",
     "output_type": "stream",
     "text": [
      "[1, 4, 'New1', 'New2', 'New3', 36.3, 'G', True]\n",
      "8\n"
     ]
    }
   ],
   "source": [
    "# add using the slice method\n",
    "my_list[2:2] = add_list # adds as sequence (in-place)\n",
    "print(my_list)\n",
    "print(len(my_list))"
   ]
  },
  {
   "cell_type": "code",
   "execution_count": 145,
   "metadata": {},
   "outputs": [],
   "source": [
    "###  check this out later ** (optional - doesn't really come up usually) ### how does it work ? maybe read documentation\n"
   ]
  },
  {
   "cell_type": "markdown",
   "metadata": {},
   "source": [
    "### Example 2.3 (Removing Elements from Lists):"
   ]
  },
  {
   "cell_type": "markdown",
   "metadata": {},
   "source": [
    "- Elements can be removed from lists many different ways using both Python built-in methods and manual methods using slicing. See below for examples"
   ]
  },
  {
   "cell_type": "markdown",
   "metadata": {},
   "source": [
    "### Example 2.3.1 (Removing SOME Elements from Lists):"
   ]
  },
  {
   "cell_type": "markdown",
   "metadata": {},
   "source": [
    "### Method 1: `del`"
   ]
  },
  {
   "cell_type": "code",
   "execution_count": 146,
   "metadata": {},
   "outputs": [],
   "source": [
    "my_list = [1, 4, 36.3, \"G\", True]"
   ]
  },
  {
   "cell_type": "code",
   "execution_count": 147,
   "metadata": {},
   "outputs": [
    {
     "name": "stdout",
     "output_type": "stream",
     "text": [
      "[1, 'G', True]\n"
     ]
    }
   ],
   "source": [
    "# remove element with Python built-in method del (with step 1)\n",
    "del my_list[1:3] # delete elements from positions 1,2      ### note (not?) inclusive of 3 ###\n",
    "print(my_list)"
   ]
  },
  {
   "cell_type": "code",
   "execution_count": 148,
   "metadata": {},
   "outputs": [
    {
     "name": "stdout",
     "output_type": "stream",
     "text": [
      "[4, 'G']\n"
     ]
    }
   ],
   "source": [
    "my_list = [1, 4, 36.3, \"G\", True]\n",
    "# remove element with Python built-in method del (with step 2)\n",
    "del my_list[::2]\n",
    "print(my_list)"
   ]
  },
  {
   "cell_type": "code",
   "execution_count": 149,
   "metadata": {},
   "outputs": [],
   "source": [
    "### Garrett:  it is weird that del is not a function - like print used to be ###"
   ]
  },
  {
   "cell_type": "markdown",
   "metadata": {},
   "source": [
    "### manual `del` method using slicing `[:]`"
   ]
  },
  {
   "cell_type": "code",
   "execution_count": 151,
   "metadata": {},
   "outputs": [
    {
     "name": "stdout",
     "output_type": "stream",
     "text": [
      "[1, 'G', True]\n"
     ]
    }
   ],
   "source": [
    "# manual equivalent of del in Python \n",
    "my_list = [1, 4, 36.3, \"G\", True]\n",
    "my_list[1:3] = [] #  delete elements from positions 1,2 with step 1   ### by replacing with empty list ###\n",
    "print(my_list)"
   ]
  },
  {
   "cell_type": "markdown",
   "metadata": {},
   "source": [
    "### Method 2: `remove`"
   ]
  },
  {
   "cell_type": "code",
   "execution_count": 153,
   "metadata": {},
   "outputs": [
    {
     "name": "stdout",
     "output_type": "stream",
     "text": [
      "[1, 4, 36.3, True]\n"
     ]
    }
   ],
   "source": [
    "# remove element with Python built-in method remove \n",
    "my_list = [1, 4, 36.3, \"G\", True]\n",
    "my_list.remove(\"G\") # delete the \"G\" element (in-place)   ### again, in-place means it alters the original .... list ...\n",
    "###                                                       ... whatever  ###\n",
    "print(my_list)"
   ]
  },
  {
   "cell_type": "markdown",
   "metadata": {},
   "source": [
    "Note that the `remove` method removes ONLY the FIRST item from the list that matches the input. "
   ]
  },
  {
   "cell_type": "markdown",
   "metadata": {},
   "source": [
    "### manual `remove` method using slicing [:] and `del`"
   ]
  },
  {
   "cell_type": "code",
   "execution_count": 154,
   "metadata": {},
   "outputs": [
    {
     "name": "stdout",
     "output_type": "stream",
     "text": [
      "False\n",
      "False\n",
      "False\n",
      "True\n"
     ]
    }
   ],
   "source": [
    "# manual equivalent to remove in Python \n",
    "my_list = [1, 4, 36.3, \"G\", True]\n",
    "print(my_list[0] == \"G\")\n",
    "print(my_list[1] == \"G\")\n",
    "print(my_list[2] == \"G\")\n",
    "print(my_list[3] == \"G\")"
   ]
  },
  {
   "cell_type": "code",
   "execution_count": 155,
   "metadata": {},
   "outputs": [
    {
     "name": "stdout",
     "output_type": "stream",
     "text": [
      "[1, 4, 36.3, True]\n"
     ]
    }
   ],
   "source": [
    "my_list[3:4] = []\n",
    "print(my_list)"
   ]
  },
  {
   "cell_type": "code",
   "execution_count": 158,
   "metadata": {},
   "outputs": [
    {
     "name": "stdout",
     "output_type": "stream",
     "text": [
      "[1, 4, 36.3, True]\n"
     ]
    }
   ],
   "source": [
    "my_list = [1, 4, 36.3, \"G\", True]\n",
    "del my_list[3:4]\n",
    "print(my_list)"
   ]
  },
  {
   "cell_type": "markdown",
   "metadata": {},
   "source": [
    "The `remove` method iterates through each element of the list until `my_list[i] == \"G\"` returns `True` (see above print statements). Then it will go ahead and remove the element from the list. "
   ]
  },
  {
   "cell_type": "markdown",
   "metadata": {},
   "source": [
    "### Method 3: `pop`"
   ]
  },
  {
   "cell_type": "code",
   "execution_count": 159,
   "metadata": {},
   "outputs": [
    {
     "name": "stdout",
     "output_type": "stream",
     "text": [
      "[1, 4, 36.3, True]\n"
     ]
    }
   ],
   "source": [
    "# remove element with Python built-in method pop\n",
    "my_list = [1, 4, 36.3, \"G\", True]\n",
    "my_list.pop(3) # retrieves the item at element 3 and also removes it (in-place)\n",
    "print(my_list)"
   ]
  },
  {
   "cell_type": "markdown",
   "metadata": {},
   "source": [
    "### manual `pop` method using slicing [:] and `del`"
   ]
  },
  {
   "cell_type": "markdown",
   "metadata": {},
   "source": [
    "Similar to the manual equivalents to the `remove` method above."
   ]
  },
  {
   "cell_type": "markdown",
   "metadata": {},
   "source": [
    "### Example 2.3.2 (Removing ALL Elements from Lists):"
   ]
  },
  {
   "cell_type": "code",
   "execution_count": 160,
   "metadata": {},
   "outputs": [],
   "source": [
    "### maybe look at these later ###"
   ]
  },
  {
   "cell_type": "markdown",
   "metadata": {},
   "source": [
    "### Method 1: `clear`"
   ]
  },
  {
   "cell_type": "code",
   "execution_count": 161,
   "metadata": {},
   "outputs": [],
   "source": [
    "my_list = [1, 4, 36.3, \"G\", True]"
   ]
  },
  {
   "cell_type": "code",
   "execution_count": 162,
   "metadata": {},
   "outputs": [
    {
     "name": "stdout",
     "output_type": "stream",
     "text": [
      "[]\n"
     ]
    }
   ],
   "source": [
    "# remove all elements with Python built-in method clear\n",
    "my_list = [1, 4, 36.3, \"G\", True]\n",
    "my_list.clear() # clears all items in the list (in-place)\n",
    "print(my_list)"
   ]
  },
  {
   "cell_type": "markdown",
   "metadata": {},
   "source": [
    "### Method 2: `del`"
   ]
  },
  {
   "cell_type": "code",
   "execution_count": 163,
   "metadata": {},
   "outputs": [
    {
     "name": "stdout",
     "output_type": "stream",
     "text": [
      "[]\n"
     ]
    }
   ],
   "source": [
    "# remove all elements with Python built-in method del\n",
    "my_list = [1, 4, 36.3, \"G\", True]\n",
    "del my_list[:]\n",
    "print(my_list)"
   ]
  },
  {
   "cell_type": "markdown",
   "metadata": {},
   "source": [
    "### manual `clear` and `del` method using slicing slicing `[:]`"
   ]
  },
  {
   "cell_type": "code",
   "execution_count": 164,
   "metadata": {},
   "outputs": [
    {
     "name": "stdout",
     "output_type": "stream",
     "text": [
      "[]\n"
     ]
    }
   ],
   "source": [
    "# manual equivalent to clear and del in Python \n",
    "my_list = [1, 4, 36.3, \"G\", True]\n",
    "my_list[:] = []\n",
    "print(my_list)"
   ]
  },
  {
   "cell_type": "markdown",
   "metadata": {},
   "source": [
    "### Problem 3:\n",
    "\n",
    "Create 2 lists: the first list with your first name and the second list with your last name. Combine the two lists to make a list that contains your entire name. Repeat your name as many times as letters in your full name. \n",
    "\n",
    "Try adding your last name to your first name using both list concatenation and built-in functions."
   ]
  },
  {
   "cell_type": "code",
   "execution_count": 3,
   "metadata": {},
   "outputs": [
    {
     "name": "stdout",
     "output_type": "stream",
     "text": [
      "['e', 'r', 'i', 'k', 'a', 'n', 'd', 'e', 'r', 's', 'o', 'n']\n",
      "['e', 'r', 'i', 'k', 'a', 'n', 'd', 'e', 'r', 's', 'o', 'n']\n",
      "['e', 'r', 'i', 'k', 'a', 'n', 'd', 'e', 'r', 's', 'o', 'n', 'e', 'r', 'i', 'k', 'a', 'n', 'd', 'e', 'r', 's', 'o', 'n', 'e', 'r', 'i', 'k', 'a', 'n', 'd', 'e', 'r', 's', 'o', 'n', 'e', 'r', 'i', 'k', 'a', 'n', 'd', 'e', 'r', 's', 'o', 'n', 'e', 'r', 'i', 'k', 'a', 'n', 'd', 'e', 'r', 's', 'o', 'n', 'e', 'r', 'i', 'k', 'a', 'n', 'd', 'e', 'r', 's', 'o', 'n', 'e', 'r', 'i', 'k', 'a', 'n', 'd', 'e', 'r', 's', 'o', 'n', 'e', 'r', 'i', 'k', 'a', 'n', 'd', 'e', 'r', 's', 'o', 'n']\n"
     ]
    }
   ],
   "source": [
    "# write your code here \n",
    "first_name = ['e', 'r', 'i', 'k']\n",
    "last_name = ['a', 'n', 'd', 'e', 'r', 's', 'o', 'n']\n",
    "name = first_name + last_name\n",
    "print(name)\n",
    "# how to use built in function?\n",
    "### was the above my comment? ###\n",
    "new_name = first_name\n",
    "new_name.extend(last_name[::])\n",
    "print(new_name)\n",
    "print(new_name * len(last_name))"
   ]
  },
  {
   "cell_type": "markdown",
   "metadata": {},
   "source": [
    "### Problem 4:\n",
    "\n",
    "Create 2 lists: the first list with your first name and the second list with your last name. Combine the two lists to make a list that contains your entire name. Add your middle name to this combined list between your first and last name. If you don't have a middle name add `[\"m\", \"i\", \"d\", \"d\", \"l\", \"e\"]`."
   ]
  },
  {
   "cell_type": "code",
   "execution_count": 14,
   "metadata": {},
   "outputs": [
    {
     "name": "stdout",
     "output_type": "stream",
     "text": [
      "['e', 'r', 'i', 'k', 'k', 'r', 'i', 's', 't', 'o', 'f', 'e', 'r', 'a', 'n', 'd', 'e', 'r', 's', 'o', 'n']\n"
     ]
    }
   ],
   "source": [
    "# write your code here \n",
    "first_name = ['e', 'r', 'i', 'k']\n",
    "last_name = ['a', 'n', 'd', 'e', 'r', 's', 'o', 'n']\n",
    "name = first_name + last_name\n",
    "### # name = name.insert(3, 'asdf')  \n",
    "### oops. tried to asign the result to the variable name, but this is an inplace thing ###\n",
    "middle_name = ['k', 'r', 'i', 's', 't', 'o', 'f', 'e', 'r']\n",
    "### oops, againd tried to set it equal to out put when this is an in-place situation \n",
    "### middle_name = middle_name.reverse()\n",
    "middle_name.reverse()\n",
    "for character in middle_name:\n",
    "    name.insert(4, character)\n",
    "print(name)\n",
    "# not sure what's wrong here... \n",
    "###  I don't know how to do this, except by adding every letter individually, [ did fup]\n",
    "\n"
   ]
  },
  {
   "cell_type": "markdown",
   "metadata": {},
   "source": [
    "### Example 2.4 (Other Operations on Lists):"
   ]
  },
  {
   "cell_type": "markdown",
   "metadata": {},
   "source": [
    "### Example 2.4.1 (Copying Lists):"
   ]
  },
  {
   "cell_type": "markdown",
   "metadata": {},
   "source": [
    "__Overview:__\n",
    "- To understand how lists are copied and what happens when a list is copied, we first have to explore the differences between a __view__, __shallow copy__, and __deep copy__\n",
    "- More information on __[Object Copying](https://en.wikipedia.org/wiki/Object_copying)__ \n",
    "\n",
    "__Helpful Points:__\n",
    "1. The best way to understand the differences is to simply see the 3 types in action \n",
    "2. The `=` operator always creates a view \n",
    "3. The `copy()` function always creates a shallow copy\n",
    "4. To create a deep copy, we have to use some external tools \n",
    "5. Note that different programming languages have different standards - for example, in R, every time you assign a variable, it is a deep copy \n",
    "\n",
    "__Practice:__ Examples of the three variants in Python "
   ]
  },
  {
   "cell_type": "markdown",
   "metadata": {},
   "source": [
    "### Example 2.4.1.1 (View):"
   ]
  },
  {
   "cell_type": "markdown",
   "metadata": {},
   "source": [
    "Any time you assign a variable to another variable using the `=` sign (__[Name Binding](https://en.wikipedia.org/wiki/Name_binding)__), we are not creating a separate object. Instead, the new variable is just an alias or reference to the original object."
   ]
  },
  {
   "cell_type": "code",
   "execution_count": 162,
   "metadata": {},
   "outputs": [
    {
     "name": "stdout",
     "output_type": "stream",
     "text": [
      "['New', 'b', 'c']\n",
      "['New', 'b', 'c']\n"
     ]
    }
   ],
   "source": [
    "my_list = [\"a\", \"b\", \"c\"]\n",
    "my_list_1 = my_list # created as a reference/alias to my_list\n",
    "my_list[0] = \"New\" # changes both my_list and anything that references it \n",
    "print(my_list)\n",
    "print(my_list_1)"
   ]
  },
  {
   "cell_type": "code",
   "execution_count": 163,
   "metadata": {},
   "outputs": [
    {
     "name": "stdout",
     "output_type": "stream",
     "text": [
      "1492330485576\n",
      "1492330485576\n"
     ]
    }
   ],
   "source": [
    "print(id(my_list))\n",
    "print(id(my_list_1))"
   ]
  },
  {
   "cell_type": "code",
   "execution_count": 164,
   "metadata": {},
   "outputs": [
    {
     "data": {
      "text/plain": [
       "True"
      ]
     },
     "execution_count": 164,
     "metadata": {},
     "output_type": "execute_result"
    }
   ],
   "source": [
    "my_list is my_list_1"
   ]
  },
  {
   "cell_type": "markdown",
   "metadata": {},
   "source": [
    "Therefore, we can see that when the variable `my_list_1` was created, it was not created as a separate, stand-alone object. Instead, it is simply an alias or reference to the `my_list` variable and you can see that the two variables share the same unique integer identity. The consequence is that if `my_list` changes, `my_list_1` ALSO changes since it references `my_list` (whatever happens to `my_list` ALSO happens to `my_list_1`)."
   ]
  },
  {
   "cell_type": "markdown",
   "metadata": {},
   "source": [
    "### Example 2.4.1.2 (Shallow Copy - Layer 1):"
   ]
  },
  {
   "cell_type": "markdown",
   "metadata": {},
   "source": [
    "If you don't want the behavior above where the new variable simply references the original variable and both are subject to each other's changes, then use a shallow copy to protect against this. \n",
    "\n",
    "Layer 1 refers to non-nested lists (or in general, __non-compound objects__ - objects that do contain other objects)"
   ]
  },
  {
   "cell_type": "markdown",
   "metadata": {},
   "source": [
    "### Method 1: Shallow Copy using `copy()` function (layer 1)"
   ]
  },
  {
   "cell_type": "code",
   "execution_count": 165,
   "metadata": {},
   "outputs": [
    {
     "name": "stdout",
     "output_type": "stream",
     "text": [
      "['New', 'b', 'c']\n",
      "['a', 'b', 'c']\n"
     ]
    }
   ],
   "source": [
    "my_list = [\"a\", \"b\", \"c\"]\n",
    "my_list_1 = my_list.copy() # shallow copy (method 1)\n",
    "my_list[0] = \"New\" # only changes my_list and NOT my_list_1\n",
    "print(my_list)\n",
    "print(my_list_1)"
   ]
  },
  {
   "cell_type": "code",
   "execution_count": 166,
   "metadata": {
    "scrolled": true
   },
   "outputs": [
    {
     "name": "stdout",
     "output_type": "stream",
     "text": [
      "1492322555912\n",
      "1492331284936\n"
     ]
    }
   ],
   "source": [
    "print(id(my_list))\n",
    "print(id(my_list_1))"
   ]
  },
  {
   "cell_type": "markdown",
   "metadata": {},
   "source": [
    "Each variable now has a different identity (each reference a unique object)"
   ]
  },
  {
   "cell_type": "markdown",
   "metadata": {},
   "source": [
    "### Method 2: Shallow Copy using slicing `[:]` (layer 1)"
   ]
  },
  {
   "cell_type": "code",
   "execution_count": 167,
   "metadata": {},
   "outputs": [
    {
     "name": "stdout",
     "output_type": "stream",
     "text": [
      "['New', 'b', 'c']\n",
      "['a', 'b', 'c']\n"
     ]
    }
   ],
   "source": [
    "my_list = [\"a\", \"b\", \"c\"]\n",
    "my_list_1 = my_list[:] # shallow copy (method 2)\n",
    "my_list[0] = \"New\" # only changes my_list and NOT my_list_1\n",
    "print(my_list)\n",
    "print(my_list_1)"
   ]
  },
  {
   "cell_type": "code",
   "execution_count": 168,
   "metadata": {
    "scrolled": true
   },
   "outputs": [
    {
     "name": "stdout",
     "output_type": "stream",
     "text": [
      "1492316536392\n",
      "1492332004936\n"
     ]
    }
   ],
   "source": [
    "print(id(my_list))\n",
    "print(id(my_list_1))"
   ]
  },
  {
   "cell_type": "markdown",
   "metadata": {},
   "source": [
    "Therefore, we can see that in both cases when the variable `my_list_1` was created, it was created as a separate, stand-alone object. It no longer references the `my_list` variable. The consequence is that if `my_list` changes, `my_list_1` DOES NOT changes since it DOES NOT reference `my_list` (whatever happens to `my_list` DOES NOT happen to `my_list_1`)."
   ]
  },
  {
   "cell_type": "markdown",
   "metadata": {},
   "source": [
    "### Example 2.4.1.3 (Shallow Copy - Layer 2):"
   ]
  },
  {
   "cell_type": "markdown",
   "metadata": {},
   "source": [
    "Layer 2 refers to nested lists (or in general, __compound objects__ - objects that contain other objects)"
   ]
  },
  {
   "cell_type": "markdown",
   "metadata": {},
   "source": [
    "### Method 1: Shallow Copy using `copy()` function (layer 2)"
   ]
  },
  {
   "cell_type": "code",
   "execution_count": 15,
   "metadata": {},
   "outputs": [
    {
     "name": "stdout",
     "output_type": "stream",
     "text": [
      "[['a', 'b', 'c'], 1, 2, 3]\n"
     ]
    }
   ],
   "source": [
    "my_list = [\"a\", \"b\", \"c\"]\n",
    "nested_list = [my_list, 1, 2, 3]\n",
    "print(nested_list)"
   ]
  },
  {
   "cell_type": "code",
   "execution_count": 16,
   "metadata": {},
   "outputs": [
    {
     "name": "stdout",
     "output_type": "stream",
     "text": [
      "[['New', 'b', 'c'], 1, 2, 3]\n",
      "[['New', 'b', 'c'], 1, 2, 3]\n"
     ]
    }
   ],
   "source": [
    "nested_list_1 = nested_list.copy() # shallow copy (method 1)\n",
    "nested_list[0][0] = \"New\" # changes both nested_list AND nested_list_1 \n",
    "print(nested_list)\n",
    "print(nested_list_1)"
   ]
  },
  {
   "cell_type": "code",
   "execution_count": 17,
   "metadata": {},
   "outputs": [],
   "source": [
    "### #fup study this later to figure out what is and isn't being copied. ###"
   ]
  },
  {
   "cell_type": "markdown",
   "metadata": {},
   "source": [
    "### Method 2: Shallow Copy using slicing `[:]` (layer 2)"
   ]
  },
  {
   "cell_type": "code",
   "execution_count": 171,
   "metadata": {},
   "outputs": [
    {
     "name": "stdout",
     "output_type": "stream",
     "text": [
      "[['a', 'b', 'c'], 1, 2, 3]\n"
     ]
    }
   ],
   "source": [
    "my_list = [\"a\", \"b\", \"c\"]\n",
    "nested_list = [my_list, 1, 2, 3]\n",
    "print(nested_list)"
   ]
  },
  {
   "cell_type": "code",
   "execution_count": 172,
   "metadata": {},
   "outputs": [
    {
     "name": "stdout",
     "output_type": "stream",
     "text": [
      "[['New', 'b', 'c'], 1, 2, 3]\n",
      "[['New', 'b', 'c'], 1, 2, 3]\n"
     ]
    }
   ],
   "source": [
    "nested_list_1 = nested_list[:] # shallow copy (method 2)\n",
    "nested_list[0][0] = \"New\" # changes both nested_list AND nested_list_1 \n",
    "print(nested_list)\n",
    "print(nested_list_1)"
   ]
  },
  {
   "cell_type": "markdown",
   "metadata": {},
   "source": [
    "Therefore, we can see that in both cases when the variable `nested_list_1` was created, it was not created as a separate, stand-alone object. Instead, it is simply an alias or reference to the `nested_list` variable. The consequence is that if `nested_list` changes, `nested_list_1` ALSO changes since it references `nested_list` (whatever happens to `nested_list` ALSO happens to `nested_list_1`)."
   ]
  },
  {
   "cell_type": "markdown",
   "metadata": {},
   "source": [
    "### Example 2.4.1.4 (Deep Copy - All Layers)"
   ]
  },
  {
   "cell_type": "markdown",
   "metadata": {},
   "source": [
    "If you don't want the behavior above where the new variable in nested lists simply references the original variable and both are subject to each other's changes, then use a deep copy to protect against this. \n",
    "\n",
    "To perform Deep Copies in Python, we have to consult an 'external resource' known as a __module__. We will cover modules in depth in Lecture 3, so don't worry about it for now. In this case, the module name is called `copy` and you can read more about it [here](https://docs.python.org/3/library/copy.html)"
   ]
  },
  {
   "cell_type": "code",
   "execution_count": 175,
   "metadata": {},
   "outputs": [],
   "source": [
    "# get all the resources from this external resource\n",
    "import copy"
   ]
  },
  {
   "cell_type": "code",
   "execution_count": 176,
   "metadata": {},
   "outputs": [
    {
     "name": "stdout",
     "output_type": "stream",
     "text": [
      "[['a', 'b', 'c'], 1, 2, 3]\n"
     ]
    }
   ],
   "source": [
    "my_list = [\"a\", \"b\", \"c\"]\n",
    "nested_list = [my_list, 1, 2, 3]\n",
    "print(nested_list)"
   ]
  },
  {
   "cell_type": "code",
   "execution_count": 177,
   "metadata": {},
   "outputs": [
    {
     "name": "stdout",
     "output_type": "stream",
     "text": [
      "[['New', 'b', 'c'], 1, 2, 3]\n",
      "[['a', 'b', 'c'], 1, 2, 3]\n"
     ]
    }
   ],
   "source": [
    "nested_list_1 = copy.deepcopy(nested_list) # deep copy \n",
    "nested_list[0][0] = \"New\" # only changes nested_list and NOT nested_list_1\n",
    "print(nested_list)\n",
    "print(nested_list_1)"
   ]
  },
  {
   "cell_type": "markdown",
   "metadata": {},
   "source": [
    "### Example 2.4.2 (Reversing Lists):"
   ]
  },
  {
   "cell_type": "markdown",
   "metadata": {},
   "source": [
    "We have already seen some manual ways of reversing lists using slicing. However, Python also offers a convenient `reverse()` function for mutable sequence types. See example below:"
   ]
  },
  {
   "cell_type": "code",
   "execution_count": 178,
   "metadata": {},
   "outputs": [],
   "source": [
    "my_list = [100, 101, 102]"
   ]
  },
  {
   "cell_type": "code",
   "execution_count": 179,
   "metadata": {},
   "outputs": [
    {
     "name": "stdout",
     "output_type": "stream",
     "text": [
      "[102, 101, 100]\n"
     ]
    }
   ],
   "source": [
    "my_list.reverse() # reverses the list (in-place)\n",
    "print(my_list)"
   ]
  },
  {
   "cell_type": "code",
   "execution_count": 180,
   "metadata": {},
   "outputs": [
    {
     "data": {
      "text/plain": [
       "[102, 101, 100]"
      ]
     },
     "execution_count": 180,
     "metadata": {},
     "output_type": "execute_result"
    }
   ],
   "source": [
    "my_list = [100, 101, 102]\n",
    "my_list[::-1] # manual implementation (not in-place)"
   ]
  },
  {
   "cell_type": "code",
   "execution_count": 181,
   "metadata": {},
   "outputs": [
    {
     "name": "stdout",
     "output_type": "stream",
     "text": [
      "[100, 101, 102]\n"
     ]
    }
   ],
   "source": [
    "print(my_list)"
   ]
  },
  {
   "cell_type": "markdown",
   "metadata": {},
   "source": [
    "### 2.2.7 Overview of Sequence Type 2 - Strings"
   ]
  },
  {
   "cell_type": "markdown",
   "metadata": {},
   "source": [
    "__Overview:__\n",
    "- __[Strings](https://docs.python.org/3/library/stdtypes.html#index-26)__ were first introduced in Lecture 1 as a way of storing textual data in Python \n",
    "- Unlike lists, strings are __immutable__ (their contents can not be modified in any way) \n",
    "\n",
    "__Helpful Points:__\n",
    "1. Recall that strings can have single, double, or triple quotes \n",
    "2. Recall that strings and other numeric types can participate in __type conversion__ (`int` to `str`, `float` to `str`, etc.)\n",
    "3. Similar to lists, a nested string is possible and would consist of one type of quotes within another types of quotes"
   ]
  },
  {
   "cell_type": "markdown",
   "metadata": {},
   "source": [
    "### 2.2.8 Creating Strings \n",
    "\n",
    "Refer to section 1.9 to see how strings are created "
   ]
  },
  {
   "cell_type": "markdown",
   "metadata": {},
   "source": [
    "### 2.2.9 Accessing Elements within Strings"
   ]
  },
  {
   "cell_type": "markdown",
   "metadata": {},
   "source": [
    "__Overview:__\n",
    "- Each item within a string are referred to as __elements__ and they can easily be accessed (for example, if you want to extract the second element of a string)\n",
    "- Similar to lists, each element is assigned a number beginning with 0 \n",
    "- Both methods of indexing (single-indexing and multi-indexing by slicing) as outlined in section 2.2.5 are also applicable for strings \n",
    "\n",
    "__Helpful Points:__ \n",
    "1. Similar to lists, strings can only be indexed by `int` and not any other type (i.e. `bool`)\n",
    "2. The peculiar but helpful features of indexing-out-of-range are also present with strings \n",
    "\n",
    "__Practice:__ Examples of accessing elements within strings "
   ]
  },
  {
   "cell_type": "markdown",
   "metadata": {},
   "source": [
    "### Example 1 (Index Method 1 with Positive Index):"
   ]
  },
  {
   "cell_type": "code",
   "execution_count": 183,
   "metadata": {},
   "outputs": [],
   "source": [
    "my_string = \"Gordon\"\n",
    "# my_string_fwd_index = [0,1,2,3,4,5]"
   ]
  },
  {
   "cell_type": "code",
   "execution_count": 184,
   "metadata": {},
   "outputs": [
    {
     "data": {
      "text/plain": [
       "'G'"
      ]
     },
     "execution_count": 184,
     "metadata": {},
     "output_type": "execute_result"
    }
   ],
   "source": [
    "my_string[0] # simply accessing an element via its index"
   ]
  },
  {
   "cell_type": "code",
   "execution_count": 185,
   "metadata": {},
   "outputs": [
    {
     "ename": "TypeError",
     "evalue": "'str' object does not support item assignment",
     "output_type": "error",
     "traceback": [
      "\u001b[1;31m---------------------------------------------------------------------------\u001b[0m",
      "\u001b[1;31mTypeError\u001b[0m                                 Traceback (most recent call last)",
      "\u001b[1;32m<ipython-input-185-53b634e8a838>\u001b[0m in \u001b[0;36m<module>\u001b[1;34m\u001b[0m\n\u001b[1;32m----> 1\u001b[1;33m \u001b[0mmy_string\u001b[0m\u001b[1;33m[\u001b[0m\u001b[1;36m0\u001b[0m\u001b[1;33m]\u001b[0m \u001b[1;33m=\u001b[0m \u001b[1;34m\"J\"\u001b[0m \u001b[1;31m# str data types are immutable  (chang9ng an element via its in index)\u001b[0m\u001b[1;33m\u001b[0m\u001b[1;33m\u001b[0m\u001b[0m\n\u001b[0m",
      "\u001b[1;31mTypeError\u001b[0m: 'str' object does not support item assignment"
     ]
    }
   ],
   "source": [
    "my_string[0] = \"J\" # str data types are immutable  (chang9ng an element via its in index)"
   ]
  },
  {
   "cell_type": "code",
   "execution_count": 186,
   "metadata": {},
   "outputs": [
    {
     "name": "stdout",
     "output_type": "stream",
     "text": [
      "G\n",
      "G\n"
     ]
    },
    {
     "data": {
      "text/plain": [
       "str"
      ]
     },
     "execution_count": 186,
     "metadata": {},
     "output_type": "execute_result"
    }
   ],
   "source": [
    "# oth element from the left (with and without saving string as a variable)\n",
    "print(my_string[0])\n",
    "print(\"Gordon\"[0])\n",
    "type(\"Gordon\"[0])"
   ]
  },
  {
   "cell_type": "markdown",
   "metadata": {},
   "source": [
    "### Example 2 (Index Method 2 with Positive Slice and Forward Direction):"
   ]
  },
  {
   "cell_type": "code",
   "execution_count": 187,
   "metadata": {},
   "outputs": [],
   "source": [
    "my_string_1 = \"Roberto\""
   ]
  },
  {
   "cell_type": "code",
   "execution_count": 188,
   "metadata": {},
   "outputs": [
    {
     "name": "stdout",
     "output_type": "stream",
     "text": [
      "ober\n"
     ]
    },
    {
     "data": {
      "text/plain": [
       "str"
      ]
     },
     "execution_count": 188,
     "metadata": {},
     "output_type": "execute_result"
    }
   ],
   "source": [
    "# slice from 1st element to 4th element (5th element minus one) by step 1 \n",
    "print(my_string_1[1:5])\n",
    "type(my_string_1[1:5])"
   ]
  },
  {
   "cell_type": "code",
   "execution_count": 189,
   "metadata": {},
   "outputs": [
    {
     "name": "stdout",
     "output_type": "stream",
     "text": [
      "oe\n"
     ]
    }
   ],
   "source": [
    "# slice from 1st element to 4th element (5th element minus one) by step 2 \n",
    "print(my_string_1[1:5:2])"
   ]
  },
  {
   "cell_type": "markdown",
   "metadata": {},
   "source": [
    "### Example 3 (Index Method 2 with Positive Slice, Forward Direction and Ommitted Argument(s) ):"
   ]
  },
  {
   "cell_type": "code",
   "execution_count": 190,
   "metadata": {},
   "outputs": [],
   "source": [
    "my_string_1 = \"Roberto\""
   ]
  },
  {
   "cell_type": "code",
   "execution_count": 191,
   "metadata": {},
   "outputs": [
    {
     "name": "stdout",
     "output_type": "stream",
     "text": [
      "oberto\n"
     ]
    }
   ],
   "source": [
    "# ommitting stop and step arguments\n",
    "# return 1st element to last element \n",
    "print(my_string_1[1:])"
   ]
  },
  {
   "cell_type": "code",
   "execution_count": 192,
   "metadata": {},
   "outputs": [
    {
     "name": "stdout",
     "output_type": "stream",
     "text": [
      "Rob\n"
     ]
    }
   ],
   "source": [
    "# ommitting start and step arguments\n",
    "# return 0th element to 2nd element (3rd element minus one)\n",
    "print(my_string_1[:3])"
   ]
  },
  {
   "cell_type": "markdown",
   "metadata": {},
   "source": [
    "Note: not all types of examples are shown here with strings since the process is identical to that of accessing elements within lists. If you want to refresh your memory, see section 2.2.5 and follow examples 1 - 6, but swap the list for a string. "
   ]
  },
  {
   "cell_type": "markdown",
   "metadata": {},
   "source": [
    "### Example 4 (Indexing Out-of-Range - No Error):"
   ]
  },
  {
   "cell_type": "code",
   "execution_count": 193,
   "metadata": {},
   "outputs": [
    {
     "data": {
      "text/plain": [
       "'Roberto'"
      ]
     },
     "execution_count": 193,
     "metadata": {},
     "output_type": "execute_result"
    }
   ],
   "source": [
    "# will not yield an error\n",
    "my_string_1[:10]"
   ]
  },
  {
   "cell_type": "code",
   "execution_count": 194,
   "metadata": {},
   "outputs": [
    {
     "data": {
      "text/plain": [
       "''"
      ]
     },
     "execution_count": 194,
     "metadata": {},
     "output_type": "execute_result"
    }
   ],
   "source": [
    "# will not yield an error\n",
    "my_string_1[10:]"
   ]
  },
  {
   "cell_type": "markdown",
   "metadata": {},
   "source": [
    "### 2.2.10 More String Operations "
   ]
  },
  {
   "cell_type": "markdown",
   "metadata": {},
   "source": [
    "__Overview:__\n",
    "- Recall in section 2.2.2 the types of operations available for Sequence Types \n",
    "- Since the `str` type is immutable, we can only perform the Common Sequence Operations and NOT the Mutable Sequence Type Operations (like we did for lists)\n",
    "\n",
    "__Helpful Points:__\n",
    "1. Below, Part 1 will cover the Common Sequence Type Operations (membership test operations, list concatenation and repetition, and misc. actions)\n",
    "2. Below, Part 2 will cover some helpful built-in Python functions for common string operations \n",
    "3. Below, Part 3 will cover some helpful built-in Python functions for common string formatting \n",
    "\n",
    "__Practice:__ Examples of String Operations in Python "
   ]
  },
  {
   "cell_type": "code",
   "execution_count": 18,
   "metadata": {},
   "outputs": [],
   "source": [
    "### #fup maybe review the common sequence operations and the mutable sequence operations"
   ]
  },
  {
   "cell_type": "markdown",
   "metadata": {},
   "source": [
    "### Part 1: Common Sequence Type Operations "
   ]
  },
  {
   "cell_type": "markdown",
   "metadata": {},
   "source": [
    "### Example 1.1 (Membership Test Operations - `in` for strings):"
   ]
  },
  {
   "cell_type": "markdown",
   "metadata": {},
   "source": [
    "See section 1.10.3 in Lecture 1"
   ]
  },
  {
   "cell_type": "markdown",
   "metadata": {},
   "source": [
    "### Example 1.2 (Concatenation of Strings):"
   ]
  },
  {
   "cell_type": "code",
   "execution_count": 195,
   "metadata": {},
   "outputs": [
    {
     "name": "stdout",
     "output_type": "stream",
     "text": [
      "Garrett is a co-instructor\n"
     ]
    }
   ],
   "source": [
    "string_1 = \"Garrett\"\n",
    "string_2 = \" is a co-instructor\"\n",
    "string_3 = string_1 + string_2 # not vectorized addition \n",
    "print(string_3)"
   ]
  },
  {
   "cell_type": "code",
   "execution_count": 196,
   "metadata": {},
   "outputs": [
    {
     "name": "stdout",
     "output_type": "stream",
     "text": [
      "Garrett is a co-instructor\n"
     ]
    }
   ],
   "source": [
    "string_1 += string_2 # string_1 = string_1 + string_2\n",
    "print(string_1)"
   ]
  },
  {
   "cell_type": "markdown",
   "metadata": {},
   "source": [
    "### Example 1.3 (Repetition of Strings):"
   ]
  },
  {
   "cell_type": "code",
   "execution_count": 197,
   "metadata": {},
   "outputs": [
    {
     "name": "stdout",
     "output_type": "stream",
     "text": [
      "GordonGordon\n"
     ]
    }
   ],
   "source": [
    "string_1 = \"Gordon\"\n",
    "print(string_1 * 2)"
   ]
  },
  {
   "cell_type": "markdown",
   "metadata": {},
   "source": [
    "### Example 1.4 (Misc. Actions on Strings):"
   ]
  },
  {
   "cell_type": "markdown",
   "metadata": {},
   "source": [
    "- Within the Common Sequence Types, there exist a set of useful functions that can be used as operations on lists (len, min, max, index, count, and sort))"
   ]
  },
  {
   "cell_type": "markdown",
   "metadata": {},
   "source": [
    "### Example 1.4.1 (Simple Actions - `len`, `min`, `max`, `index`, `count`):"
   ]
  },
  {
   "cell_type": "code",
   "execution_count": 198,
   "metadata": {},
   "outputs": [],
   "source": [
    "my_string = \"supercalifragilisticexpialidocious\""
   ]
  },
  {
   "cell_type": "code",
   "execution_count": 199,
   "metadata": {},
   "outputs": [
    {
     "data": {
      "text/plain": [
       "34"
      ]
     },
     "execution_count": 199,
     "metadata": {},
     "output_type": "execute_result"
    }
   ],
   "source": [
    "# find the length of the string (number of elements in the string)\n",
    "len(my_string)"
   ]
  },
  {
   "cell_type": "code",
   "execution_count": 200,
   "metadata": {},
   "outputs": [
    {
     "data": {
      "text/plain": [
       "'a'"
      ]
     },
     "execution_count": 200,
     "metadata": {},
     "output_type": "execute_result"
    }
   ],
   "source": [
    "# find the minimum value of the string (first in the alphabet)\n",
    "min(my_string)"
   ]
  },
  {
   "cell_type": "code",
   "execution_count": 201,
   "metadata": {},
   "outputs": [
    {
     "data": {
      "text/plain": [
       "'x'"
      ]
     },
     "execution_count": 201,
     "metadata": {},
     "output_type": "execute_result"
    }
   ],
   "source": [
    "# find the maximum value of the string (last in the alphabet)\n",
    "max(my_string)"
   ]
  },
  {
   "cell_type": "code",
   "execution_count": 202,
   "metadata": {},
   "outputs": [
    {
     "data": {
      "text/plain": [
       "6"
      ]
     },
     "execution_count": 202,
     "metadata": {},
     "output_type": "execute_result"
    }
   ],
   "source": [
    "# find the index of the first occurrence of a in my_string\n",
    "my_string.index(\"a\")"
   ]
  },
  {
   "cell_type": "code",
   "execution_count": 203,
   "metadata": {},
   "outputs": [
    {
     "data": {
      "text/plain": [
       "3"
      ]
     },
     "execution_count": 203,
     "metadata": {},
     "output_type": "execute_result"
    }
   ],
   "source": [
    "# find the total number of occurrences of a in my_string\n",
    "my_string.count(\"a\")"
   ]
  },
  {
   "cell_type": "markdown",
   "metadata": {},
   "source": [
    "### Example 1.4.2 (Advanced Actions - `sort`):"
   ]
  },
  {
   "cell_type": "markdown",
   "metadata": {},
   "source": [
    "Since strings are immutable, sorting strings in Python can only be done 1 way - with the generic `sorted()` function which simply returns a copy of the object and does not attempty to modify the original string. "
   ]
  },
  {
   "cell_type": "code",
   "execution_count": 204,
   "metadata": {},
   "outputs": [],
   "source": [
    "my_string = \"supercalifragilisticexpialidocious\""
   ]
  },
  {
   "cell_type": "code",
   "execution_count": 205,
   "metadata": {},
   "outputs": [
    {
     "name": "stdout",
     "output_type": "stream",
     "text": [
      "['a', 'a', 'a', 'c', 'c', 'c', 'd', 'e', 'e', 'f', 'g', 'i', 'i', 'i', 'i', 'i', 'i', 'i', 'l', 'l', 'l', 'o', 'o', 'p', 'p', 'r', 'r', 's', 's', 's', 't', 'u', 'u', 'x']\n",
      "supercalifragilisticexpialidocious\n"
     ]
    }
   ],
   "source": [
    "# sort the string in alphabetical order\n",
    "print(sorted(my_string))\n",
    "print(my_string) # prints original, unchanged variable (not in-place algorithm)"
   ]
  },
  {
   "cell_type": "markdown",
   "metadata": {},
   "source": [
    "We can see that the `sorted()` function simply returned a copy of the original string, but when we print the original string, it has not changed. This is an example of not in-place. "
   ]
  },
  {
   "cell_type": "markdown",
   "metadata": {},
   "source": [
    "### Part 2: Built-In Functions for Common String Operations"
   ]
  },
  {
   "cell_type": "markdown",
   "metadata": {},
   "source": [
    "Python provides an expansive list of built-in __[string methods](https://docs.python.org/3/library/stdtypes.html#string-methods)__ that are very helpful for operating on strings. You can review the entire list, but we will cover the most common methods below."
   ]
  },
  {
   "cell_type": "markdown",
   "metadata": {},
   "source": [
    "### Example 2.1 (Common String Method 1 )"
   ]
  },
  {
   "cell_type": "code",
   "execution_count": 20,
   "metadata": {},
   "outputs": [],
   "source": [
    "my_string = \"\"\"\n",
    "O Romeo, Romeo! wherefore art thou Romeo? Deny thy father and refuse thy name;\n",
    "Or, if thou wilt not, be but sworn my love, And I'll no longer be a Capulet. \n",
    "\"\"\""
   ]
  },
  {
   "cell_type": "code",
   "execution_count": 211,
   "metadata": {},
   "outputs": [
    {
     "name": "stdout",
     "output_type": "stream",
     "text": [
      "\n",
      "o romeo, romeo! wherefore art thou romeo? deny thy father and refuse thy name;\n",
      "or, if thou wilt not, be but sworn my love, and i'll no longer be a capulet. \n",
      "\n",
      "\n",
      "O Romeo, Romeo! wherefore art thou Romeo? Deny thy father and refuse thy name;\n",
      "Or, if thou wilt not, be but sworn my love, And I'll no longer be a Capulet. \n",
      "\n"
     ]
    }
   ],
   "source": [
    "print(my_string.lower()) # returns the lowercase version of the string (not in-place)\n",
    "print(my_string)  "
   ]
  },
  {
   "cell_type": "code",
   "execution_count": 212,
   "metadata": {},
   "outputs": [],
   "source": [
    "my_string = \"\"\"\n",
    "O Romeo, Romeo! wherefore art thou Romeo? Deny thy father and refuse thy name;\n",
    "Or, if thou wilt not, be but sworn my love, And I'll no longer be a Capulet. \n",
    "\"\"\""
   ]
  },
  {
   "cell_type": "code",
   "execution_count": 213,
   "metadata": {},
   "outputs": [
    {
     "name": "stdout",
     "output_type": "stream",
     "text": [
      "\n",
      "O ROMEO, ROMEO! WHEREFORE ART THOU ROMEO? DENY THY FATHER AND REFUSE THY NAME;\n",
      "OR, IF THOU WILT NOT, BE BUT SWORN MY LOVE, AND I'LL NO LONGER BE A CAPULET. \n",
      "\n",
      "\n",
      "O Romeo, Romeo! wherefore art thou Romeo? Deny thy father and refuse thy name;\n",
      "Or, if thou wilt not, be but sworn my love, And I'll no longer be a Capulet. \n",
      "\n"
     ]
    }
   ],
   "source": [
    "print(my_string.upper()) # returns the uppercase version of the string (not in-place)\n",
    "print(my_string)  "
   ]
  },
  {
   "cell_type": "markdown",
   "metadata": {},
   "source": [
    "### Example 2.2 (Common String Method 2 )"
   ]
  },
  {
   "cell_type": "code",
   "execution_count": 214,
   "metadata": {},
   "outputs": [],
   "source": [
    "my_string = \"\"\"\n",
    "O Romeo, Romeo! wherefore art thou Romeo? Deny thy father and refuse thy name;\n",
    "Or, if thou wilt not, be but sworn my love, And I'll no longer be a Capulet. \n",
    "\"\"\""
   ]
  },
  {
   "cell_type": "code",
   "execution_count": 215,
   "metadata": {},
   "outputs": [
    {
     "name": "stdout",
     "output_type": "stream",
     "text": [
      "False\n"
     ]
    }
   ],
   "source": [
    "print(my_string.isalpha()) # tests if all the string characters are in the alphabetic class "
   ]
  },
  {
   "cell_type": "markdown",
   "metadata": {},
   "source": [
    "### Example 2.3 (Common String Method 3)"
   ]
  },
  {
   "cell_type": "code",
   "execution_count": 216,
   "metadata": {},
   "outputs": [
    {
     "name": "stdout",
     "output_type": "stream",
     "text": [
      "3\n"
     ]
    }
   ],
   "source": [
    "print(my_string.find(\"Romeo\")) # searches for the string \"Romeo\" within my_string and returns the first index where it begins"
   ]
  },
  {
   "cell_type": "code",
   "execution_count": 1,
   "metadata": {},
   "outputs": [],
   "source": [
    "### note: it counts the return as a character in the string. That's why R is index 3, not 2."
   ]
  },
  {
   "cell_type": "code",
   "execution_count": 217,
   "metadata": {},
   "outputs": [
    {
     "data": {
      "text/plain": [
       "'R'"
      ]
     },
     "execution_count": 217,
     "metadata": {},
     "output_type": "execute_result"
    }
   ],
   "source": [
    "my_string[3]"
   ]
  },
  {
   "cell_type": "markdown",
   "metadata": {},
   "source": [
    "### Example 2.4 (Common String Method 4)"
   ]
  },
  {
   "cell_type": "code",
   "execution_count": 218,
   "metadata": {},
   "outputs": [
    {
     "name": "stdout",
     "output_type": "stream",
     "text": [
      "\n",
      "O Gordon, Gordon! wherefore art thou Gordon? Deny thy father and refuse thy name;\n",
      "Or, if thou wilt not, be but sworn my love, And I'll no longer be a Capulet. \n",
      "\n",
      "\n",
      "O Romeo, Romeo! wherefore art thou Romeo? Deny thy father and refuse thy name;\n",
      "Or, if thou wilt not, be but sworn my love, And I'll no longer be a Capulet. \n",
      "\n"
     ]
    }
   ],
   "source": [
    "print(my_string.replace(\"Romeo\", \"Gordon\")) # replaces all occurrences of \"Romeo\" with \"Gordon\" (NOT in-place)\n",
    "print(my_string)"
   ]
  },
  {
   "cell_type": "markdown",
   "metadata": {},
   "source": [
    "### Example 2.5 (Common String Method 5)"
   ]
  },
  {
   "cell_type": "code",
   "execution_count": 219,
   "metadata": {},
   "outputs": [
    {
     "name": "stdout",
     "output_type": "stream",
     "text": [
      "['O', 'Romeo,', 'Romeo!', 'wherefore', 'art', 'thou', 'Romeo?', 'Deny', 'thy', 'father', 'and', 'refuse', 'thy', 'name;', 'Or,', 'if', 'thou', 'wilt', 'not,', 'be', 'but', 'sworn', 'my', 'love,', 'And', \"I'll\", 'no', 'longer', 'be', 'a', 'Capulet.']\n"
     ]
    }
   ],
   "source": [
    "print(my_string.split()) # returns a list of substrings separated by the default delimiter (whitespace)"
   ]
  },
  {
   "cell_type": "code",
   "execution_count": 220,
   "metadata": {},
   "outputs": [
    {
     "name": "stdout",
     "output_type": "stream",
     "text": [
      "['\\nO Romeo, Romeo! wherefore art thou Romeo? Deny thy father and refuse thy name', \"\\nOr, if thou wilt not, be but sworn my love, And I'll no longer be a Capulet. \\n\"]\n"
     ]
    }
   ],
   "source": [
    "print(my_string.split(\";\")) # returns a list of substrings separated by semi-colon"
   ]
  },
  {
   "cell_type": "code",
   "execution_count": null,
   "metadata": {},
   "outputs": [],
   "source": [
    "### #fup why does it print the \\n here but not in other cases? ###"
   ]
  },
  {
   "cell_type": "markdown",
   "metadata": {},
   "source": [
    "### Example 2.6 (Common String Method 6)"
   ]
  },
  {
   "cell_type": "code",
   "execution_count": 24,
   "metadata": {},
   "outputs": [
    {
     "name": "stdout",
     "output_type": "stream",
     "text": [
      "['O', 'Romeo,', 'Romeo!', 'wherefore', 'art', 'thou', 'Romeo?', 'Deny', 'thy', 'father', 'and', 'refuse', 'thy', 'name;', 'Or,', 'if', 'thou', 'wilt', 'not,', 'be', 'but', 'sworn', 'my', 'love,', 'And', \"I'll\", 'no', 'longer', 'be', 'a', 'Capulet.']\n",
      "ORomeo,Romeo!whereforeartthouRomeo?Denythyfatherandrefusethyname;Or,ifthouwiltnot,bebutswornmylove,AndI'llnolongerbeaCapulet.\n"
     ]
    }
   ],
   "source": [
    "split_string = my_string.split()\n",
    "print(split_string)\n",
    "print(\"\".join(split_string)) # joins the split_string (list) to a string (empty string) without spaces "
   ]
  },
  {
   "cell_type": "code",
   "execution_count": 2,
   "metadata": {},
   "outputs": [],
   "source": [
    "###  ** Garett: join function is another one that is weird. Why isn't it a list method? ** ###"
   ]
  },
  {
   "cell_type": "markdown",
   "metadata": {},
   "source": [
    "### Part 3: Built-In Functions for Common String Formatting "
   ]
  },
  {
   "cell_type": "markdown",
   "metadata": {},
   "source": [
    "__Overview:__\n",
    "- Python provides many useful ways of formatting strings for \"fancier ouput\"\n",
    "- There are 2 main methods of which these belong to:\n",
    "> 1. Using the `str.format()` function. The official documentation of this function can be found [here](https://docs.python.org/3/library/stdtypes.html#str.format) and [here](https://docs.python.org/3/library/string.html#formatstrings). Although the most helpful information on how it can be implemented can be found [here](https://docs.python.org/3/tutorial/inputoutput.html#fancier-output-formatting)\n",
    "> 2. (New in Python 3.6) Using __[Formatted String Literals](https://docs.python.org/3/reference/lexical_analysis.html#f-strings)__ otherwise known as __f-strings__\n",
    "\n",
    "__Helpful Points:__\n",
    "1. Within each method above, there are multiple ways of executing the functions \n",
    "2. Each of these ways will be explained below in the examples\n",
    "3. See [this](https://pyformat.info/) post for a comprehensive look at the various types of string formatting using the `str.format` function\n",
    "\n",
    "__Practice:__ Examples of string formatting in Python "
   ]
  },
  {
   "cell_type": "markdown",
   "metadata": {},
   "source": [
    "### Example 3.1 (Using `str.format()` function):"
   ]
  },
  {
   "cell_type": "markdown",
   "metadata": {},
   "source": [
    "### Example 3.1.2 (Empty {} in `str.format()` function):"
   ]
  },
  {
   "cell_type": "code",
   "execution_count": 223,
   "metadata": {},
   "outputs": [],
   "source": [
    "co_designer_1 = \"gordon\"\n",
    "co_designer_2 = \"gordon\""
   ]
  },
  {
   "cell_type": "code",
   "execution_count": 224,
   "metadata": {},
   "outputs": [
    {
     "name": "stdout",
     "output_type": "stream",
     "text": [
      "We, gordon and gordon are happy to be your co-designers\n"
     ]
    }
   ],
   "source": [
    "print(\"We, {} and {} are happy to be your co-designers\".format(co_designer_1, co_designer_2))"
   ]
  },
  {
   "cell_type": "markdown",
   "metadata": {},
   "source": [
    "The \"curly\" brackets and characters within them (called format fields) are replaced with the objects passed into the `format()` method. "
   ]
  },
  {
   "cell_type": "markdown",
   "metadata": {},
   "source": [
    "### Example 3.1.3 (Positional Arguments in {} in `str.format()` function):"
   ]
  },
  {
   "cell_type": "code",
   "execution_count": 7,
   "metadata": {},
   "outputs": [
    {
     "name": "stdout",
     "output_type": "stream",
     "text": [
      "Gordon and Roberto\n",
      "Roberto and Gordon\n"
     ]
    }
   ],
   "source": [
    "print(\"{0} and {1}\".format(\"Gordon\", \"Roberto\"))\n",
    "print(\"{1} and {0}\".format(\"Gordon\", \"Roberto\"))"
   ]
  },
  {
   "cell_type": "markdown",
   "metadata": {},
   "source": [
    "A number in the brackets can be used to refer to the position of the object passed into the `format()` method. "
   ]
  },
  {
   "cell_type": "markdown",
   "metadata": {},
   "source": [
    "### Example 3.1.4 (Keyword Arguments in {} in str.format() function):"
   ]
  },
  {
   "cell_type": "code",
   "execution_count": 8,
   "metadata": {},
   "outputs": [
    {
     "name": "stdout",
     "output_type": "stream",
     "text": [
      "Gordon and Roberto both created this course\n"
     ]
    }
   ],
   "source": [
    "print(\"{designer_name_1} and {designer_name_2} both created this course\".format(designer_name_1=\"Gordon\", designer_name_2=\"Roberto\"))\n",
    "\n"
   ]
  },
  {
   "cell_type": "markdown",
   "metadata": {},
   "source": [
    "If keyword arguments are used in the `str.format()` method, their values are referred to by using the name of the argument. Note, we can also combine both keyword and positional arguments."
   ]
  },
  {
   "cell_type": "markdown",
   "metadata": {},
   "source": [
    "### Example 3.1.5 (Specifiers in {} in `str.format()` function):"
   ]
  },
  {
   "cell_type": "code",
   "execution_count": 9,
   "metadata": {},
   "outputs": [
    {
     "name": "stdout",
     "output_type": "stream",
     "text": [
      "The value of PI is approximately 3.142 to 3 decimal places\n"
     ]
    }
   ],
   "source": [
    "print(\"The value of PI is approximately {0:0.3f} to 3 decimal places\".format(3.14159265359))"
   ]
  },
  {
   "cell_type": "markdown",
   "metadata": {},
   "source": [
    "An optional `:` and format specifier (0.3f - 3 decimal places for a float) can follow the field name. Note, the other format specifiers include `i` (int), and `s` (string)."
   ]
  },
  {
   "cell_type": "code",
   "execution_count": 11,
   "metadata": {},
   "outputs": [
    {
     "name": "stdout",
     "output_type": "stream",
     "text": [
      "The value of PI is 3.141\n"
     ]
    }
   ],
   "source": [
    "print(\"The value of PI is {:.5}\".format(\"3.14159265359\"))\n",
    "### note that \"3.14156275359\" is a string - I think the .5 is something to do with going 5 steps in (exclusive) ? ###"
   ]
  },
  {
   "cell_type": "markdown",
   "metadata": {},
   "source": [
    "Note, we can also use this format to truncate long strings. The above example simply truncates the string that is passed into the format parantheses. It does not know anything about the integer values and thus does not do any rounding - it is treated as a series of characters. "
   ]
  },
  {
   "cell_type": "markdown",
   "metadata": {},
   "source": [
    "### Example 3.2 (Using Formatted String Literals):"
   ]
  },
  {
   "cell_type": "code",
   "execution_count": 12,
   "metadata": {},
   "outputs": [
    {
     "name": "stdout",
     "output_type": "stream",
     "text": [
      "The value of PI is approximately 3.142 to 3 decimal places\n"
     ]
    }
   ],
   "source": [
    "print(f\"The value of PI is approximately {3.14159265359:0.3f} to 3 decimal places\")"
   ]
  },
  {
   "cell_type": "markdown",
   "metadata": {},
   "source": [
    "See the table [here](https://docs.python.org/3/library/stdtypes.html#old-string-formatting) which will help you understand what values are appropriate to enter the `{}`"
   ]
  },
  {
   "cell_type": "markdown",
   "metadata": {},
   "source": [
    "### Problem 5\n",
    "\n",
    "Repeat the first part of problem 3 (combining first and last name), but using strings.\n",
    "\n",
    "Notes:\n",
    "- Create the 2 strings in lower case and then use a built-in string method to capitalize the words (see [this link](https://docs.python.org/3/library/stdtypes.html#string-methods) to find the proper function to use)\n",
    "- Use string formatting to output your results"
   ]
  },
  {
   "cell_type": "code",
   "execution_count": null,
   "metadata": {},
   "outputs": [],
   "source": [
    "### #fup left off here in studying the lecture notes 2019-07-27 ###"
   ]
  },
  {
   "cell_type": "code",
   "execution_count": 1,
   "metadata": {},
   "outputs": [
    {
     "name": "stdout",
     "output_type": "stream",
     "text": [
      "Erik Andreson\n"
     ]
    }
   ],
   "source": [
    "first = 'erik'\n",
    "last = 'andreson'\n",
    "first = first.capitalize()\n",
    "last = last.capitalize()\n",
    "full = first + ' ' + last\n",
    "\n",
    "print(full)\n",
    "\n",
    "\n"
   ]
  },
  {
   "cell_type": "markdown",
   "metadata": {},
   "source": [
    "### Problem 6\n",
    "\n",
    "Replace `\"Brussels Sprouts\"` with your favorite food in the string `\"My favorite food is Brussels Sprouts\"`.\n",
    "\n",
    "Notes:\n",
    "- Use the `replace` commond string method"
   ]
  },
  {
   "cell_type": "code",
   "execution_count": 7,
   "metadata": {},
   "outputs": [
    {
     "name": "stdout",
     "output_type": "stream",
     "text": [
      "My favorite food is Pizza\n"
     ]
    }
   ],
   "source": [
    "# write your code here\n",
    "string = \"My favorite food is Brussels Sprouts\"\n",
    "string = string.replace('Brussels Sprouts', 'Pizza')\n",
    "print(string)\n",
    "\n"
   ]
  },
  {
   "cell_type": "code",
   "execution_count": null,
   "metadata": {},
   "outputs": [],
   "source": [
    "### #fup left off study here on 2019-07-28\n",
    "### further note: Class lecture 2 ended here\n",
    "\n",
    "### further note: Class lecture day 3 started here"
   ]
  },
  {
   "cell_type": "markdown",
   "metadata": {},
   "source": [
    "### 2.2.11 Overview of Sequence Type 3 - Tuples"
   ]
  },
  {
   "cell_type": "markdown",
   "metadata": {},
   "source": [
    "__Overview:__\n",
    "- __[Tuples](https://docs.python.org/3/library/stdtypes.html#tuple):__ Tuples are immutable sequences typically used to store collections of hetereogeneous (dissimilar) data (compare with lists which are mutable and typically used to store collections of homogeneous data) \n",
    "\n",
    "__Helpful Points:__\n",
    "1. Tuples are defined by elements separated by commas and enclosed with parantheses (although parantheses are optional)\n",
    "2. Tuples are necessary when an immutable sequence of homogenous data is needed (i.e. in dictionaries and sets - see below for explanations of these data types)\n",
    "3. Tuples appear almost everywhere in Python (i.e. in function arguments - see Lecture 3 for more detail on functions and their arguments)\n",
    "4. Tuples provide a safeguard against accidental tampering of data "
   ]
  },
  {
   "cell_type": "markdown",
   "metadata": {},
   "source": [
    "### 2.2.12 Creating Tuples"
   ]
  },
  {
   "cell_type": "markdown",
   "metadata": {},
   "source": [
    "__Overview:__\n",
    "- There are multiple ways of creating tuples in Python:\n",
    "> 1. Method 1: Using a pair of parantheses to denote an empty tuple \n",
    "> 2. Method 2: Using parantheses, separating items with commas (or just separating items with commas - this is actually an example of __Packing__ which is a very useful characteristic of tuples and will be explained below)\n",
    "> 3. Method 3: Using the __Type Constructor__\n",
    "\n",
    "__Helpful Points:__\n",
    "1. Similar to lists, it is also possible to create a tuple within a tuple also known as __Nested Tuple__ \n",
    "2. Each type of tuple creation will be explored below\n",
    "\n",
    "__Practice:__ Examples of creating tuples in Python "
   ]
  },
  {
   "cell_type": "markdown",
   "metadata": {},
   "source": [
    "### Example 1 (Create Tuple with Method 1)"
   ]
  },
  {
   "cell_type": "code",
   "execution_count": 1,
   "metadata": {},
   "outputs": [
    {
     "name": "stdout",
     "output_type": "stream",
     "text": [
      "()\n"
     ]
    }
   ],
   "source": [
    "# create empty tuple \n",
    "empty_tuple = ()\n",
    "print(empty_tuple)"
   ]
  },
  {
   "cell_type": "code",
   "execution_count": 2,
   "metadata": {},
   "outputs": [
    {
     "data": {
      "text/plain": [
       "tuple"
      ]
     },
     "execution_count": 2,
     "metadata": {},
     "output_type": "execute_result"
    }
   ],
   "source": [
    "type(empty_tuple)"
   ]
  },
  {
   "cell_type": "markdown",
   "metadata": {},
   "source": [
    "### Example 2 (Create Tuple with Method 2)"
   ]
  },
  {
   "cell_type": "code",
   "execution_count": 3,
   "metadata": {},
   "outputs": [
    {
     "name": "stdout",
     "output_type": "stream",
     "text": [
      "(10,)\n"
     ]
    }
   ],
   "source": [
    "# create tuple with parantheses \n",
    "singleton_tuple = (10,) # [10] -> list with 1 element \n",
    "print(singleton_tuple)"
   ]
  },
  {
   "cell_type": "code",
   "execution_count": 4,
   "metadata": {},
   "outputs": [
    {
     "name": "stdout",
     "output_type": "stream",
     "text": [
      "(10,)\n"
     ]
    }
   ],
   "source": [
    "# create tuple without parantheses \n",
    "singleton_tuple_1 = 10, \n",
    "print(singleton_tuple_1)"
   ]
  },
  {
   "cell_type": "code",
   "execution_count": 5,
   "metadata": {},
   "outputs": [
    {
     "name": "stdout",
     "output_type": "stream",
     "text": [
      "(True, 1.0, 'Gordon')\n"
     ]
    }
   ],
   "source": [
    "# create tuple with parantheses \n",
    "new_tuple = (True, 1.0, \"Gordon\")\n",
    "print(new_tuple)"
   ]
  },
  {
   "cell_type": "code",
   "execution_count": 6,
   "metadata": {},
   "outputs": [
    {
     "name": "stdout",
     "output_type": "stream",
     "text": [
      "(True, 1.0, 'Gordon')\n"
     ]
    }
   ],
   "source": [
    "# create tuple without parantheses (this is actually packing - explained below)\n",
    "new_tuple_1 = True, 1.0, \"Gordon\"\n",
    "print(new_tuple_1)"
   ]
  },
  {
   "cell_type": "markdown",
   "metadata": {},
   "source": [
    "Note we can create the same tuple by removing the parantheses since these are optional. However, if there is only one item in the tuple (singleton), then we need the comma, otherwise the interpreter will interpret this as a number. "
   ]
  },
  {
   "cell_type": "markdown",
   "metadata": {},
   "source": [
    "### Example 3 (Create Tuple with Method 3)"
   ]
  },
  {
   "cell_type": "code",
   "execution_count": 7,
   "metadata": {},
   "outputs": [
    {
     "name": "stdout",
     "output_type": "stream",
     "text": [
      "()\n"
     ]
    }
   ],
   "source": [
    "# create empty tuple \n",
    "empty_tuple_1 = tuple()\n",
    "print(empty_tuple_1)"
   ]
  },
  {
   "cell_type": "markdown",
   "metadata": {},
   "source": [
    "### 2.2.13 Accessing Elements within Tuples"
   ]
  },
  {
   "cell_type": "markdown",
   "metadata": {},
   "source": [
    "__Overview:__\n",
    "- Each item within a tuple are referred to as __elements__ and they can easily be accessed (for example, if you want to extract the second element of a tuple\n",
    "- Similar to lists and strings, each element is assigned a number beginning with 0 \n",
    "- Both methods of indexing (single-indexing and multi-indexing by slicing) as outlined in section 2.2.5 are also applicable for tuples\n",
    "\n",
    "__Helpful Points:__\n",
    "1. Similar to lists and strings, tuples can only be indexed by `int` and not any other type (i.e. `bool`)\n",
    "2. The peculiar but helpful features of indexing-out-of-range are also present with tuples \n",
    "\n",
    "__Practice:__ Examples of accessing elements within tuples "
   ]
  },
  {
   "cell_type": "markdown",
   "metadata": {},
   "source": [
    "### Example 1 (Index Method 1):"
   ]
  },
  {
   "cell_type": "code",
   "execution_count": 8,
   "metadata": {},
   "outputs": [],
   "source": [
    "my_tuple = \"Gordon\", 1.0, True\n",
    "# my_tuple_fwd_index = (0, 1, 2)"
   ]
  },
  {
   "cell_type": "code",
   "execution_count": 9,
   "metadata": {},
   "outputs": [
    {
     "name": "stdout",
     "output_type": "stream",
     "text": [
      "Gordon\n",
      "Gordon\n"
     ]
    },
    {
     "data": {
      "text/plain": [
       "str"
      ]
     },
     "execution_count": 9,
     "metadata": {},
     "output_type": "execute_result"
    }
   ],
   "source": [
    "# oth element from the left (with and without saving tuple as a variable)\n",
    "print(my_tuple[0])\n",
    "print((\"Gordon\", 1.0, True)[0])\n",
    "type((\"Gordon\", 1.0, True)[0])"
   ]
  },
  {
   "cell_type": "markdown",
   "metadata": {},
   "source": [
    "### Example 2 (Index Method 2):"
   ]
  },
  {
   "cell_type": "code",
   "execution_count": 10,
   "metadata": {},
   "outputs": [
    {
     "name": "stdout",
     "output_type": "stream",
     "text": [
      "('Gordon', 1.0, True)\n"
     ]
    },
    {
     "data": {
      "text/plain": [
       "tuple"
      ]
     },
     "execution_count": 10,
     "metadata": {},
     "output_type": "execute_result"
    }
   ],
   "source": [
    "# slice from 0th element to 2nd element (3rd element minus one) by step 1 \n",
    "print(my_tuple[0:3])\n",
    "type(my_tuple[0:3])"
   ]
  },
  {
   "cell_type": "markdown",
   "metadata": {},
   "source": [
    "Note: not all types of examples are shown here with tuples since the process is identical to that of accessing elements within lists. If you want to refresh your memory, see section 2.2.5 and follow examples 1 - 6, but swap the list for a tuple. "
   ]
  },
  {
   "cell_type": "code",
   "execution_count": null,
   "metadata": {},
   "outputs": [],
   "source": [
    "### it's saying they're not showing every example here because it's like the examples we saw before\n",
    "\n",
    "### somewhere below, mutable should be immutable (tuples are immutable)"
   ]
  },
  {
   "cell_type": "markdown",
   "metadata": {},
   "source": [
    "### 2.2.14 More Tuple Operations"
   ]
  },
  {
   "cell_type": "markdown",
   "metadata": {},
   "source": [
    "__Overview:__\n",
    "- Recall in section 2.2.2 the types of operations available for Sequence Types \n",
    "- Since the `tuple` type is immutable, we can only perform the Common Sequence Operations and NOT the Mutable Sequence Type Operations (like we did for lists)"
   ]
  },
  {
   "cell_type": "markdown",
   "metadata": {},
   "source": [
    "Note_1: Tuple operations using the Common Sequence Operations are not shown here since the process is identical to that of operating with lists. If you want to refresh your memory, see section 2.2.6 Part 1 (examples 1.1 - 1.5), but swap the list for a tuple. \n",
    "\n",
    "Note_2: The only operation different for Tuples than Lists is the sorting capabilities. Recall that lists can be sorted using the `list.sort()` function (performed __in-place__ by modifying the original object) AND using the `sorted()` function (not performed in-place and creates a copy of the object). Since Tuples are immutable, they are subject ONLY to the `sorted()` function. "
   ]
  },
  {
   "cell_type": "markdown",
   "metadata": {},
   "source": [
    "### 2.2.15 Packing and Unpacking with Tuples"
   ]
  },
  {
   "cell_type": "markdown",
   "metadata": {},
   "source": [
    "__Overview:__\n",
    "- One of the most important differences between tuple and lists (other than mutability) is the ability of tuples to participate in __packing__ and __unpacking__ which is very useful and \"Pythonic\" \n",
    "> 1. __Packing:__ Packing is a simple syntax which allows you to create a tuple without parantheses and elements just separated by commas (recall we did this in method 2 of creating tuples above)\n",
    "> 2. __Unpacking:__ Unpacking allows you to split apart the values within a tuple into separate variables \n",
    "\n",
    "__Helpful Points:__\n",
    "1. Packing and Unpacking feature makes operations concise and efficient in Python \n",
    "2. You can use the `*` (asterix) notiation in tuples for arbitrary arguments (see examples below)\n",
    "3. You can use the `_` (underscore) notation in tuples as placeholders \n",
    "4. Recall simultaneous assignments in lecture 1 - section 1.6 - example 2.2. This was actually a case of packing and unpacking at work!\n",
    "\n",
    "__Practice:__ Examples of Packing and Unpacking with Tuples in Python "
   ]
  },
  {
   "cell_type": "code",
   "execution_count": null,
   "metadata": {},
   "outputs": [],
   "source": [
    "### huh?"
   ]
  },
  {
   "cell_type": "markdown",
   "metadata": {},
   "source": [
    "### Example 1 (Packing): "
   ]
  },
  {
   "cell_type": "code",
   "execution_count": 11,
   "metadata": {},
   "outputs": [
    {
     "name": "stdout",
     "output_type": "stream",
     "text": [
      "('G', 'o', 'r')\n"
     ]
    }
   ],
   "source": [
    "a = \"G\", \"o\", \"r\" # all 3 items are \"packed\" into the one variable a \n",
    "print(a)"
   ]
  },
  {
   "cell_type": "markdown",
   "metadata": {},
   "source": [
    "When packing, the output is a tuple."
   ]
  },
  {
   "cell_type": "markdown",
   "metadata": {},
   "source": [
    "### Example 2 (Unpacking):"
   ]
  },
  {
   "cell_type": "code",
   "execution_count": 12,
   "metadata": {},
   "outputs": [
    {
     "name": "stdout",
     "output_type": "stream",
     "text": [
      "G\n",
      "o\n",
      "r\n"
     ]
    }
   ],
   "source": [
    "first, second, third = a # the 3 items in the one variable a are \"unpacked\" and each assigned their own variable \n",
    "print(first)\n",
    "print(second)\n",
    "print(third)"
   ]
  },
  {
   "cell_type": "code",
   "execution_count": 13,
   "metadata": {},
   "outputs": [
    {
     "name": "stdout",
     "output_type": "stream",
     "text": [
      "G\n",
      "o\n",
      "r\n"
     ]
    }
   ],
   "source": [
    "# compare the above with a longer and uglier way\n",
    "first = a[0]\n",
    "second = a[1]\n",
    "third = a[2]\n",
    "print(first)\n",
    "print(second)\n",
    "print(third)"
   ]
  },
  {
   "cell_type": "markdown",
   "metadata": {},
   "source": [
    "### Example 3 (Packing and Unpacking - 1 step):"
   ]
  },
  {
   "cell_type": "code",
   "execution_count": null,
   "metadata": {},
   "outputs": [],
   "source": [
    "first, second, third = \"G\", \"o\", \"r\" # packing and unpacking in 1 step without the variable a"
   ]
  },
  {
   "cell_type": "markdown",
   "metadata": {},
   "source": [
    "The following sequence is happening here: First, the values \"G\", \"o\", \"r\" are packed into a tuple (\"G\", \"o\", \"r\"). These values are then assigned to the left hand side of the `=` sign. Lastly, the tuple is unpacked into the three variables `first`, `second`, and `third`. "
   ]
  },
  {
   "cell_type": "markdown",
   "metadata": {},
   "source": [
    "### Example 4 (Trading Values using Packing and Unpacking): "
   ]
  },
  {
   "cell_type": "code",
   "execution_count": 14,
   "metadata": {},
   "outputs": [
    {
     "name": "stdout",
     "output_type": "stream",
     "text": [
      "10\n",
      "100\n"
     ]
    }
   ],
   "source": [
    "# we saw how to trade values in lecture 1 - this was actually packing and unpacking \n",
    "gordon_money = 10\n",
    "roberto_money = 100\n",
    "roberto_money, gordon_money = gordon_money, roberto_money\n",
    "print(roberto_money)\n",
    "print(gordon_money)"
   ]
  },
  {
   "cell_type": "markdown",
   "metadata": {},
   "source": [
    "The following sequence is happening here: First, the variables `gordon_money` and `roberto_money` are packed into a tuple (gordon_money, roberto_money). These values are then assigned to the left hand side of the `=` sign. Lastly, the tuple is unpacked into 2 variables `roberto_money` and `gordon_money`. "
   ]
  },
  {
   "cell_type": "markdown",
   "metadata": {},
   "source": [
    "### Example 5 (Placeholder Variable Name):"
   ]
  },
  {
   "cell_type": "code",
   "execution_count": 15,
   "metadata": {},
   "outputs": [
    {
     "name": "stdout",
     "output_type": "stream",
     "text": [
      "G\n",
      "o\n",
      "r\n"
     ]
    }
   ],
   "source": [
    "first, _, third = a\n",
    "print(first)\n",
    "print(_)\n",
    "print(third)"
   ]
  },
  {
   "cell_type": "code",
   "execution_count": null,
   "metadata": {},
   "outputs": [],
   "source": [
    "### ? what if use _ twice in one unpacking?\n",
    "### garrett: it is fine. it does the assignments from left to right, so _ will keep the last value assigned"
   ]
  },
  {
   "cell_type": "markdown",
   "metadata": {},
   "source": [
    "### Example 6 (Arbitrary Arguments):"
   ]
  },
  {
   "cell_type": "code",
   "execution_count": 19,
   "metadata": {},
   "outputs": [
    {
     "name": "stdout",
     "output_type": "stream",
     "text": [
      "G\n",
      "o\n",
      "['r', 'd', 'o', 'n']\n"
     ]
    }
   ],
   "source": [
    "first, second, *last = \"G\", \"o\", \"r\", \"d\", \"o\", \"n\"\n",
    "print(first)\n",
    "print(second)\n",
    "print(last)"
   ]
  },
  {
   "cell_type": "code",
   "execution_count": null,
   "metadata": {},
   "outputs": [],
   "source": [
    "### *last allows the remaining members of the tuple to go into a tuple with the name last\n",
    "### need to have a place to put each item that gets unpacked\n",
    "### garret: this is a pretty unique function of python\n",
    "### garrett: this also works for lists, but usually used for tuples"
   ]
  },
  {
   "cell_type": "markdown",
   "metadata": {},
   "source": [
    "When we see how to create functions in Lecture 3, arbitrary argumens will be very important so keep this style in mind."
   ]
  },
  {
   "cell_type": "markdown",
   "metadata": {},
   "source": [
    "### Problem 7:\n",
    "\n",
    "The end result is to have 2 variables (`latitude` and `longitude`) which will store your current latitude and longitude. To create these variables, use packing and unpacking as shown above. If you don't know your current latitude and longitude, type in your address or nearest landmark or city in the searchbar of [this link](https://mynasadata.larc.nasa.gov/latitudelongitude-finder/)\n",
    "\n",
    "Notes\n",
    "- Use string formatting to output your result \n",
    "- Do not just create 2 separate variables \n",
    "- It is inefficient (i.e. not \"Pythonic\") to just index a list to arrive at your result"
   ]
  },
  {
   "cell_type": "code",
   "execution_count": 22,
   "metadata": {},
   "outputs": [
    {
     "name": "stdout",
     "output_type": "stream",
     "text": [
      "Our latitude is 41.8 and our longitude is 87.6\n"
     ]
    }
   ],
   "source": [
    "# Write your code here\n",
    "latitude, longitude = 41.8, 87.6\n",
    "print(f\"Our latitude is {latitude} and our longitude is {longitude}\")\n",
    "\n",
    "\n"
   ]
  },
  {
   "cell_type": "markdown",
   "metadata": {},
   "source": [
    "### 2.2.16 Overview of Sequence Type 4 - Range"
   ]
  },
  {
   "cell_type": "code",
   "execution_count": 24,
   "metadata": {},
   "outputs": [],
   "source": [
    "### range\n",
    "### ? can we start 10, end 1, step -1 ?    ----> Garrett: can't step by a negative amount  ### but later it seems we can?"
   ]
  },
  {
   "cell_type": "markdown",
   "metadata": {},
   "source": [
    "__Overview:__\n",
    "- __[Range](https://docs.python.org/3/library/stdtypes.html#range):__ Range type is an immutable sequence of numbers \n",
    "- The range type has 3 arguments (similar to a slice): `start`, `stop`, and `step`\n",
    "\n",
    "__Helpful Points:__\n",
    "1. Range types are most commonly used for looping a specific number of times in `for` loops (see lecture 3 for detailed explanation of loops)\n",
    "2. Range types are advantageous over a regular `list` or `tuple` since a `range` object will always take the same, small amount of memory in your computer, no matter the size of the range it represents (i.e. a range of 5 numbers will take the same amount of memory as a range of 5M numbers)\n",
    "3. The range object only stores the `start`, `stop`, and `step` values in memory and then calculates the individual items as needed "
   ]
  },
  {
   "cell_type": "markdown",
   "metadata": {},
   "source": [
    "### 2.2.17 Creating Ranges"
   ]
  },
  {
   "cell_type": "markdown",
   "metadata": {},
   "source": [
    "__Overview:__\n",
    "- A `range` object can be created only one way with the general format of `start`, `stop`, and `step`\n",
    "\n",
    "__Helpful Points:__\n",
    "1. Similar to slices, some of the arguments in the range may be ommitted (i.e. `start` defaults to 0, if not provided)\n",
    "2. We will see below that when printing a range, we are unable to see the actual numbers. To see the sequence of numbers, we have to convert the `range` type to a `list`\n",
    "\n",
    "__Practice:__ Examples of creating ranges in Python "
   ]
  },
  {
   "cell_type": "markdown",
   "metadata": {},
   "source": [
    "### Example 1 (Creating `range` with `stop` only):"
   ]
  },
  {
   "cell_type": "code",
   "execution_count": 25,
   "metadata": {},
   "outputs": [
    {
     "data": {
      "text/plain": [
       "range(0, 1000)"
      ]
     },
     "execution_count": 25,
     "metadata": {},
     "output_type": "execute_result"
    }
   ],
   "source": [
    "range(10)\n",
    "range(1000)"
   ]
  },
  {
   "cell_type": "code",
   "execution_count": 26,
   "metadata": {},
   "outputs": [
    {
     "data": {
      "text/plain": [
       "[0, 1, 2, 3, 4, 5, 6, 7, 8, 9]"
      ]
     },
     "execution_count": 26,
     "metadata": {},
     "output_type": "execute_result"
    }
   ],
   "source": [
    "list(range(10))"
   ]
  },
  {
   "cell_type": "code",
   "execution_count": 27,
   "metadata": {},
   "outputs": [
    {
     "name": "stdout",
     "output_type": "stream",
     "text": [
      "range(0, 10)\n"
     ]
    }
   ],
   "source": [
    "print(range(10)) # this really means range(0, 10, 1)"
   ]
  },
  {
   "cell_type": "code",
   "execution_count": 28,
   "metadata": {},
   "outputs": [
    {
     "name": "stdout",
     "output_type": "stream",
     "text": [
      "[0, 1, 2, 3, 4, 5, 6, 7, 8, 9]\n"
     ]
    }
   ],
   "source": [
    "print(list(range(10)))"
   ]
  },
  {
   "cell_type": "code",
   "execution_count": 29,
   "metadata": {},
   "outputs": [
    {
     "data": {
      "text/plain": [
       "[1, 2, 3, 4, 5, 6, 7, 8, 9]"
      ]
     },
     "execution_count": 29,
     "metadata": {},
     "output_type": "execute_result"
    }
   ],
   "source": [
    "list(range(1,10))"
   ]
  },
  {
   "cell_type": "code",
   "execution_count": 30,
   "metadata": {},
   "outputs": [
    {
     "name": "stdout",
     "output_type": "stream",
     "text": [
      "0\n",
      "1\n",
      "2\n",
      "3\n",
      "4\n",
      "5\n",
      "6\n",
      "7\n",
      "8\n",
      "9\n"
     ]
    }
   ],
   "source": [
    "# perform an action 10 times \n",
    "for i in range(10):\n",
    "    print(i)"
   ]
  },
  {
   "cell_type": "markdown",
   "metadata": {},
   "source": [
    "### Example 2 (Creating `range` with `start` and `stop` only):"
   ]
  },
  {
   "cell_type": "code",
   "execution_count": 31,
   "metadata": {},
   "outputs": [
    {
     "name": "stdout",
     "output_type": "stream",
     "text": [
      "range(1, 10)\n"
     ]
    }
   ],
   "source": [
    "print(range(1,10)) # this really means range(1, 10, 1)"
   ]
  },
  {
   "cell_type": "code",
   "execution_count": 32,
   "metadata": {},
   "outputs": [
    {
     "name": "stdout",
     "output_type": "stream",
     "text": [
      "[1, 2, 3, 4, 5, 6, 7, 8, 9]\n"
     ]
    }
   ],
   "source": [
    "print(list(range(1,10)))"
   ]
  },
  {
   "cell_type": "markdown",
   "metadata": {},
   "source": [
    "### Example 3 (Creating `range` with `start`, `stop`, and `step`):"
   ]
  },
  {
   "cell_type": "code",
   "execution_count": 33,
   "metadata": {},
   "outputs": [
    {
     "name": "stdout",
     "output_type": "stream",
     "text": [
      "range(0, 50, 5)\n"
     ]
    }
   ],
   "source": [
    "print(range(0, 50, 5))"
   ]
  },
  {
   "cell_type": "code",
   "execution_count": 34,
   "metadata": {},
   "outputs": [
    {
     "name": "stdout",
     "output_type": "stream",
     "text": [
      "[0, 5, 10, 15, 20, 25, 30, 35, 40, 45]\n"
     ]
    }
   ],
   "source": [
    "print(list(range(0, 50, 5)))"
   ]
  },
  {
   "cell_type": "markdown",
   "metadata": {},
   "source": [
    "### Example 4 (Creating `range` with negative `stop` and `step`):"
   ]
  },
  {
   "cell_type": "code",
   "execution_count": 1,
   "metadata": {},
   "outputs": [
    {
     "name": "stdout",
     "output_type": "stream",
     "text": [
      "[]\n"
     ]
    }
   ],
   "source": [
    "print(list(range(5, -5, 1)))"
   ]
  },
  {
   "cell_type": "code",
   "execution_count": 2,
   "metadata": {},
   "outputs": [
    {
     "name": "stdout",
     "output_type": "stream",
     "text": [
      "[5, 4, 3, 2, 1, 0, -1, -2, -3, -4]\n"
     ]
    }
   ],
   "source": [
    "print(list(range(5, -5, -1))) # if a negative step is used, the start must be greater than the stop "
   ]
  },
  {
   "cell_type": "markdown",
   "metadata": {},
   "source": [
    "### 2.2.18 Accessing Elements within Ranges"
   ]
  },
  {
   "cell_type": "markdown",
   "metadata": {},
   "source": [
    "__Overview:__\n",
    "- Each item within a range are referred to as __elements__ and they can easily be accessed (for example, if you want to extract the second element of a range)\n",
    "- Similar to lists, strings, and tuples, each element is assigned a number beginning with 0 \n",
    "- Both methods of indexing (single-indexing and multi-indexing by slicing) as outlined in section 2.2.5 are also applicable for range \n",
    "\n",
    "__Helpful Points:__\n",
    "1. Similar to lists, strings, and tuples, range can only be indexed by `int` and not any other type (i.e. `bool`)\n",
    "2. The peculiar but helpful features of indexing-out-of-range are also present with range \n",
    "\n",
    "__Practice:__ Examples of accessing elements within ranges "
   ]
  },
  {
   "cell_type": "markdown",
   "metadata": {},
   "source": [
    "### Example 1 (Index Method 1):"
   ]
  },
  {
   "cell_type": "code",
   "execution_count": 35,
   "metadata": {},
   "outputs": [
    {
     "name": "stdout",
     "output_type": "stream",
     "text": [
      "range(0, 10)\n",
      "[0, 1, 2, 3, 4, 5, 6, 7, 8, 9]\n"
     ]
    }
   ],
   "source": [
    "my_range = range(10)\n",
    "print(my_range)\n",
    "print(list(my_range))"
   ]
  },
  {
   "cell_type": "code",
   "execution_count": 36,
   "metadata": {},
   "outputs": [
    {
     "name": "stdout",
     "output_type": "stream",
     "text": [
      "3\n",
      "3\n"
     ]
    },
    {
     "data": {
      "text/plain": [
       "int"
      ]
     },
     "execution_count": 36,
     "metadata": {},
     "output_type": "execute_result"
    }
   ],
   "source": [
    "# 4th element from the left (with and without saving range as a variable)\n",
    "print(my_range[3])\n",
    "print(range(10)[3])\n",
    "type(range(10)[3])"
   ]
  },
  {
   "cell_type": "markdown",
   "metadata": {},
   "source": [
    "### Example 2 (Index Method 2):"
   ]
  },
  {
   "cell_type": "code",
   "execution_count": 37,
   "metadata": {},
   "outputs": [
    {
     "name": "stdout",
     "output_type": "stream",
     "text": [
      "range(1, 5)\n"
     ]
    },
    {
     "data": {
      "text/plain": [
       "range"
      ]
     },
     "execution_count": 37,
     "metadata": {},
     "output_type": "execute_result"
    }
   ],
   "source": [
    "# slice from 1st element to 4th element (5th element minus one) by step 1 \n",
    "print(my_range[1:5])\n",
    "type(my_range[1:5])"
   ]
  },
  {
   "cell_type": "markdown",
   "metadata": {},
   "source": [
    "Note: not all types of examples are shown here with ranges since the process is identical to that of accessing elements within the other sequence types. If you want to refresh your memory, see section 2.2.5 and follow examples 1 - 6, but swap the list for a range. "
   ]
  },
  {
   "cell_type": "markdown",
   "metadata": {},
   "source": [
    "### 2.2.19 More Range Operations"
   ]
  },
  {
   "cell_type": "markdown",
   "metadata": {},
   "source": [
    "__Overview:__\n",
    "- Recall in section 2.2.2 the types of operations available for Sequence Types \n",
    "- Since the `range` type is immutable, we can only perform the Common Sequence Operations and NOT the Mutable Sequence Type Operations (like we did for lists)\n",
    "- Ranges implement all the Common Sequence Operations EXCEPT concatenation and repetition (unlike lists, strings, and tuples - the other sequence types). The reason being is that range objects can only represent sequences that follow a strict pattern and when reptition/concatenation is performed, this pattern is compromised\n",
    "\n",
    "__Helpful Points:__\n",
    "1. Below, we will cover the Common Sequence Type Operations (membership test operations and misc. actions, but NOT repetition and concatenation)\n",
    "\n",
    "__Practice:__ Examples of String Operations in Python "
   ]
  },
  {
   "cell_type": "markdown",
   "metadata": {},
   "source": [
    "### Example 1.1 (Membership Test Operations):"
   ]
  },
  {
   "cell_type": "code",
   "execution_count": 38,
   "metadata": {},
   "outputs": [
    {
     "name": "stdout",
     "output_type": "stream",
     "text": [
      "range(0, 21, 3)\n"
     ]
    }
   ],
   "source": [
    "my_range = range(0, 21, 3)\n",
    "print(my_range)"
   ]
  },
  {
   "cell_type": "code",
   "execution_count": 39,
   "metadata": {},
   "outputs": [
    {
     "data": {
      "text/plain": [
       "True"
      ]
     },
     "execution_count": 39,
     "metadata": {},
     "output_type": "execute_result"
    }
   ],
   "source": [
    "6 in my_range"
   ]
  },
  {
   "cell_type": "code",
   "execution_count": 40,
   "metadata": {},
   "outputs": [
    {
     "data": {
      "text/plain": [
       "False"
      ]
     },
     "execution_count": 40,
     "metadata": {},
     "output_type": "execute_result"
    }
   ],
   "source": [
    "10 in my_range"
   ]
  },
  {
   "cell_type": "code",
   "execution_count": 41,
   "metadata": {
    "scrolled": true
   },
   "outputs": [
    {
     "data": {
      "text/plain": [
       "True"
      ]
     },
     "execution_count": 41,
     "metadata": {},
     "output_type": "execute_result"
    }
   ],
   "source": [
    "10 not in my_range"
   ]
  },
  {
   "cell_type": "markdown",
   "metadata": {},
   "source": [
    "### Example 1.2 (Value Comparisons with Ranges):"
   ]
  },
  {
   "cell_type": "markdown",
   "metadata": {},
   "source": [
    "It is possible to test range objects for equality with the operators `==` and `!=`, however the objects are compared based on their sequences and NOT based on their object identities. Note, that two range objects may be equal, but have different `start`, `stop`, and `step` attributes (see below for example). "
   ]
  },
  {
   "cell_type": "code",
   "execution_count": 42,
   "metadata": {},
   "outputs": [
    {
     "name": "stdout",
     "output_type": "stream",
     "text": [
      "[0, 2]\n",
      "[0, 2]\n"
     ]
    }
   ],
   "source": [
    "range_1 = range(0, 3, 2)\n",
    "print(list(range_1))\n",
    "range_2 = range(0, 4, 2)\n",
    "print(list(range_2))"
   ]
  },
  {
   "cell_type": "code",
   "execution_count": 43,
   "metadata": {
    "scrolled": true
   },
   "outputs": [
    {
     "name": "stdout",
     "output_type": "stream",
     "text": [
      "True\n"
     ]
    }
   ],
   "source": [
    "print(range_1 == range_2)"
   ]
  },
  {
   "cell_type": "code",
   "execution_count": 47,
   "metadata": {},
   "outputs": [
    {
     "name": "stdout",
     "output_type": "stream",
     "text": [
      "2217662605520\n",
      "2217663248208\n"
     ]
    }
   ],
   "source": [
    "### garrett: they have the same range despite being defined differently\n",
    "print(id(range_1))\n",
    "print(id(range_2))"
   ]
  },
  {
   "cell_type": "code",
   "execution_count": 48,
   "metadata": {},
   "outputs": [
    {
     "name": "stdout",
     "output_type": "stream",
     "text": [
      "2217662605520\n",
      "2217663248208\n"
     ]
    }
   ],
   "source": [
    "print(id(range_1))\n",
    "print(id(range_2))"
   ]
  },
  {
   "cell_type": "code",
   "execution_count": 49,
   "metadata": {},
   "outputs": [
    {
     "name": "stdout",
     "output_type": "stream",
     "text": [
      "False\n"
     ]
    }
   ],
   "source": [
    "print(range_1 is range_2)"
   ]
  },
  {
   "cell_type": "markdown",
   "metadata": {},
   "source": [
    "### Example 1.3 (Misc. Actions on Ranges):"
   ]
  },
  {
   "cell_type": "markdown",
   "metadata": {},
   "source": [
    "### Example 1.3.1 (Simple Actions - `len`, `min`, `max`, `index`, `count`):"
   ]
  },
  {
   "cell_type": "code",
   "execution_count": 50,
   "metadata": {},
   "outputs": [
    {
     "name": "stdout",
     "output_type": "stream",
     "text": [
      "range(-1000, 1000, 10)\n"
     ]
    }
   ],
   "source": [
    "my_range_1 = range(-1000, 1000, 10)\n",
    "print(my_range_1)"
   ]
  },
  {
   "cell_type": "code",
   "execution_count": 51,
   "metadata": {},
   "outputs": [
    {
     "data": {
      "text/plain": [
       "200"
      ]
     },
     "execution_count": 51,
     "metadata": {},
     "output_type": "execute_result"
    }
   ],
   "source": [
    "# find the length of the range (number of elements in the range)\n",
    "len(my_range_1)"
   ]
  },
  {
   "cell_type": "code",
   "execution_count": 52,
   "metadata": {},
   "outputs": [
    {
     "data": {
      "text/plain": [
       "-1000"
      ]
     },
     "execution_count": 52,
     "metadata": {},
     "output_type": "execute_result"
    }
   ],
   "source": [
    "# find the minimum value of the range (smallest number in the range)\n",
    "min(my_range_1)"
   ]
  },
  {
   "cell_type": "code",
   "execution_count": 53,
   "metadata": {},
   "outputs": [
    {
     "data": {
      "text/plain": [
       "990"
      ]
     },
     "execution_count": 53,
     "metadata": {},
     "output_type": "execute_result"
    }
   ],
   "source": [
    "# find the maximum value of the range (largest number in the range)\n",
    "max(my_range_1)"
   ]
  },
  {
   "cell_type": "code",
   "execution_count": 54,
   "metadata": {},
   "outputs": [
    {
     "data": {
      "text/plain": [
       "110"
      ]
     },
     "execution_count": 54,
     "metadata": {},
     "output_type": "execute_result"
    }
   ],
   "source": [
    "# find the index of the first occurrence of 100 in my_range_1\n",
    "my_range_1.index(100)"
   ]
  },
  {
   "cell_type": "code",
   "execution_count": 55,
   "metadata": {},
   "outputs": [
    {
     "data": {
      "text/plain": [
       "1"
      ]
     },
     "execution_count": 55,
     "metadata": {},
     "output_type": "execute_result"
    }
   ],
   "source": [
    "# find the total number of occurrences of 10 in my_string \n",
    "my_range_1.count(10)"
   ]
  },
  {
   "cell_type": "markdown",
   "metadata": {},
   "source": [
    "### Example 1.3.2 (Advanced Actions - `sort`):"
   ]
  },
  {
   "cell_type": "markdown",
   "metadata": {},
   "source": [
    "Since ranges are immutable, sorting ranges in Python can only be done 1 way - with the generic `sorted()` function which simply returns a copy of the object and does not attempty to modify the original range. "
   ]
  },
  {
   "cell_type": "code",
   "execution_count": 57,
   "metadata": {},
   "outputs": [
    {
     "name": "stdout",
     "output_type": "stream",
     "text": [
      "range(77, -77, -11)\n"
     ]
    }
   ],
   "source": [
    "my_range = range(77, -77, -11)\n",
    "print(my_range)"
   ]
  },
  {
   "cell_type": "code",
   "execution_count": 58,
   "metadata": {},
   "outputs": [],
   "source": [
    "### apparently can step by a negative number afterall"
   ]
  },
  {
   "cell_type": "code",
   "execution_count": 59,
   "metadata": {},
   "outputs": [
    {
     "name": "stdout",
     "output_type": "stream",
     "text": [
      "[-66, -55, -44, -33, -22, -11, 0, 11, 22, 33, 44, 55, 66, 77]\n",
      "range(77, -77, -11)\n"
     ]
    }
   ],
   "source": [
    "# sort the range\n",
    "print(sorted(my_range))\n",
    "print(my_range)"
   ]
  },
  {
   "cell_type": "markdown",
   "metadata": {},
   "source": [
    "We can see that the `sorted()` function simply returned a copy of the original range, but in `list` form, but when we print the original range, it has not changed. This is an example of not in-place. "
   ]
  },
  {
   "cell_type": "markdown",
   "metadata": {},
   "source": [
    "### Problem 8:\n",
    "\n",
    "Create a `range` that goes from `500` to `5000` by steps of `250`. Check if `7550` is in our range. \n",
    "\n",
    "Notes\n",
    "- Convert your range to a list and print it to see all elements of your range "
   ]
  },
  {
   "cell_type": "code",
   "execution_count": 67,
   "metadata": {},
   "outputs": [
    {
     "name": "stdout",
     "output_type": "stream",
     "text": [
      "False\n",
      "[500, 750, 1000, 1250, 1500, 1750, 2000, 2250, 2500, 2750, 3000, 3250, 3500, 3750, 4000, 4250, 4500, 4750, 5000]\n"
     ]
    }
   ],
   "source": [
    "# Write your code here\n",
    "my_range_1 = range(500, 5001, 250)   ### garrett: use 5001 to have 5000 be in the numbers the the range puts out\n",
    "print(7550 in my_range_1)\n",
    "print(list(my_range_1))\n",
    "\n"
   ]
  },
  {
   "cell_type": "markdown",
   "metadata": {},
   "source": [
    "## 2.3 Set Types in Python "
   ]
  },
  {
   "cell_type": "markdown",
   "metadata": {},
   "source": [
    "### 2.3.1 What is a Set Type?"
   ]
  },
  {
   "cell_type": "markdown",
   "metadata": {},
   "source": [
    "__Overview:__\n",
    "- __[Set Type](https://docs.python.org/3/library/stdtypes.html#set-types-set-frozenset):__ The two Set Types in Python refer to `set` and `frozenset`, although we will only cover the `set` type in this basic class\n",
    "- Set Types in Python have the following characteristics:\n",
    "> - Set Types are unordered (each element from left to right is NOT assigned a number - this disables our ability to index (find) elements within a set type)\n",
    "> - Set Types have to contain only unique elements\n",
    "> - Set Types can be mutable or immutable \n",
    "\n",
    "__Helpful Points:__ \n",
    "1. The term \"set\" in the Set Type is chosen because the type resembles the term [\"set\"](https://en.wikipedia.org/wiki/Set_(mathematics) in mathematics "
   ]
  },
  {
   "cell_type": "markdown",
   "metadata": {},
   "source": [
    "### 2.3.2 Set Type Operations"
   ]
  },
  {
   "cell_type": "markdown",
   "metadata": {},
   "source": [
    "__Overview:__\n",
    "- Since Set Types are unordered (they are not sequences), they are NOT subject to the Common Sequence Operations (with some exceptions) that we have used for strings, lists, tuples and ranges \n",
    "- However, there exists an equivalent list of operations that are possible for set types (both `set` and `frozenset`) which include some of the Common Sequence Operations\n",
    "- Depending on if the Set Type is mutable or immutable, it is subject to a different set of operations:\n",
    "> 1. __Mutable Set Type (`set`)__: Mutable Set Type can be operated on using the __common set operations__ AND the __mutable set type operations__\n",
    "> 2. __Immutable Set Type (`frozenset`)__: Immutable Set Type can be operated on using ONLY the __common set operations__"
   ]
  },
  {
   "cell_type": "markdown",
   "metadata": {},
   "source": [
    "- The __common set operations__ can be grouped together into the following categories:\n",
    "> 1. Membership Test Operations\n",
    "> 2. Value Comparisons \n",
    "> 3. Mathematical Operations (i.e. intersection, union, difference, symmetric difference, etc.) \n",
    "> 4. Other operations (removing duplicates from other types, len, copy)"
   ]
  },
  {
   "cell_type": "markdown",
   "metadata": {},
   "source": [
    "- The __mutable set type operations__ can be grouped together into the following categories:\n",
    ">1. Updating elements \n",
    ">2. Adding elements \n",
    ">3. Removing elements "
   ]
  },
  {
   "cell_type": "markdown",
   "metadata": {},
   "source": [
    "__Helpful Points:__\n",
    "1. We will only explore the set operations of `set` not `frozenset`"
   ]
  },
  {
   "cell_type": "markdown",
   "metadata": {},
   "source": [
    "### 2.3.3 Overview of Set Type 1 - `set`"
   ]
  },
  {
   "cell_type": "markdown",
   "metadata": {},
   "source": [
    "__Overview:__\n",
    "- __[set](https://docs.python.org/3/library/stdtypes.html#set):__ Sets are mutable objects that are used to store distinct elements\n",
    "\n",
    "__Helpful Points:__\n",
    "1. Sets are defined by curly brackets `{` and `}`\n",
    "2. Each element in a set is separated by a comma "
   ]
  },
  {
   "cell_type": "markdown",
   "metadata": {},
   "source": [
    "### 2.3.4 Creating Sets"
   ]
  },
  {
   "cell_type": "markdown",
   "metadata": {},
   "source": [
    "__Overview:__\n",
    "- There are two ways to create a set in Python:\n",
    "1. Method 1: Using a pair of curly brackets with at least one element inside the curly brackets \n",
    "2. Method 2: Using the __Type Constructor__\n",
    "\n",
    "__Helpful Points:__\n",
    "1. Similar to lists, tuples, and strings, it is also possible to create a set within a set also known as a __Nested Set__ \n",
    "2. Be careful when initializing a new set that you enter at least one element inside the curly brackets, otherwise the interpreter will understand the command as initializing a dictionary (explained below)\n",
    "\n",
    "__Practice:__ Examples of creating sets in Python "
   ]
  },
  {
   "cell_type": "markdown",
   "metadata": {},
   "source": [
    "### Example 1 (Create Set with Method 1)"
   ]
  },
  {
   "cell_type": "code",
   "execution_count": 72,
   "metadata": {},
   "outputs": [
    {
     "name": "stdout",
     "output_type": "stream",
     "text": [
      "{}\n"
     ]
    },
    {
     "data": {
      "text/plain": [
       "dict"
      ]
     },
     "execution_count": 72,
     "metadata": {},
     "output_type": "execute_result"
    }
   ],
   "source": [
    "set_1 = {}\n",
    "print(set_1)\n",
    "type(set_1)\n",
    "### Garrett: be careful to not instantiate a dictionary when you want a set"
   ]
  },
  {
   "cell_type": "markdown",
   "metadata": {},
   "source": [
    "Note if you don't include an element within the curly brackets, you are actually creating a `dict` type (dictionary)"
   ]
  },
  {
   "cell_type": "code",
   "execution_count": 69,
   "metadata": {},
   "outputs": [
    {
     "name": "stdout",
     "output_type": "stream",
     "text": [
      "{1, 2, 3, 4, 5}\n"
     ]
    },
    {
     "data": {
      "text/plain": [
       "set"
      ]
     },
     "execution_count": 69,
     "metadata": {},
     "output_type": "execute_result"
    }
   ],
   "source": [
    "set_2 = {1,2,3,4,5,5}\n",
    "print(set_2)\n",
    "type(set_2)"
   ]
  },
  {
   "cell_type": "markdown",
   "metadata": {},
   "source": [
    "### Example 2 (Create Set with Method 2)"
   ]
  },
  {
   "cell_type": "code",
   "execution_count": 70,
   "metadata": {},
   "outputs": [
    {
     "name": "stdout",
     "output_type": "stream",
     "text": [
      "set()\n"
     ]
    },
    {
     "data": {
      "text/plain": [
       "set"
      ]
     },
     "execution_count": 70,
     "metadata": {},
     "output_type": "execute_result"
    }
   ],
   "source": [
    "set_2 = set()\n",
    "print(set_2)\n",
    "type(set_2)"
   ]
  },
  {
   "cell_type": "markdown",
   "metadata": {},
   "source": [
    "### 2.3.5 Accessing Elements within Sets"
   ]
  },
  {
   "cell_type": "markdown",
   "metadata": {},
   "source": [
    "- Remember that Set Types are __unordered__ which means their elements do not have an implicit number attached to them and therefore can NOT be accessed\n",
    "- This means we can not perform any indexing or slicing on sets "
   ]
  },
  {
   "cell_type": "code",
   "execution_count": 74,
   "metadata": {},
   "outputs": [
    {
     "ename": "TypeError",
     "evalue": "'set' object is not subscriptable",
     "output_type": "error",
     "traceback": [
      "\u001b[1;31m---------------------------------------------------------------------------\u001b[0m",
      "\u001b[1;31mTypeError\u001b[0m                                 Traceback (most recent call last)",
      "\u001b[1;32m<ipython-input-74-e2a7c2f78963>\u001b[0m in \u001b[0;36m<module>\u001b[1;34m\u001b[0m\n\u001b[0;32m      1\u001b[0m \u001b[0mmy_set\u001b[0m \u001b[1;33m=\u001b[0m \u001b[1;33m{\u001b[0m\u001b[1;36m1\u001b[0m\u001b[1;33m,\u001b[0m\u001b[1;36m2\u001b[0m\u001b[1;33m,\u001b[0m\u001b[1;36m3\u001b[0m\u001b[1;33m}\u001b[0m\u001b[1;33m\u001b[0m\u001b[1;33m\u001b[0m\u001b[0m\n\u001b[1;32m----> 2\u001b[1;33m \u001b[0mmy_set\u001b[0m\u001b[1;33m[\u001b[0m\u001b[1;36m0\u001b[0m\u001b[1;33m]\u001b[0m\u001b[1;33m\u001b[0m\u001b[1;33m\u001b[0m\u001b[0m\n\u001b[0m",
      "\u001b[1;31mTypeError\u001b[0m: 'set' object is not subscriptable"
     ]
    }
   ],
   "source": [
    "my_set = {1,2,3}\n",
    "my_set[0]"
   ]
  },
  {
   "cell_type": "code",
   "execution_count": 75,
   "metadata": {},
   "outputs": [
    {
     "name": "stdout",
     "output_type": "stream",
     "text": [
      "{1, 2, 3}\n"
     ]
    }
   ],
   "source": [
    "print(my_set)\n",
    "### ? what determines the print order? does it matter? "
   ]
  },
  {
   "cell_type": "markdown",
   "metadata": {},
   "source": [
    "### 2.3.6 More Set Operations"
   ]
  },
  {
   "cell_type": "markdown",
   "metadata": {},
   "source": [
    "__Overview:__\n",
    "- Recall in section 2.3.3 the types of operations available for Set Types \n",
    "- Since the `set` type is mutable (unlike the `frozenset` type which is not covered in this course), we can perform both the common set operations and the mutable set type operations \n",
    "\n",
    "__Helpful Points:__\n",
    "1. Below, Part 1 will cover the common set operations\n",
    "2. Below, Part 2 will cover the mutable set type operations \n",
    "\n",
    "__Practice:__ Examples of Set Operations in Python "
   ]
  },
  {
   "cell_type": "markdown",
   "metadata": {},
   "source": [
    "### Part 1: Common Set Operations"
   ]
  },
  {
   "cell_type": "markdown",
   "metadata": {},
   "source": [
    "### Example 1.1 (Membership Tests):"
   ]
  },
  {
   "cell_type": "code",
   "execution_count": 76,
   "metadata": {},
   "outputs": [
    {
     "name": "stdout",
     "output_type": "stream",
     "text": [
      "{1, 'True', 5}\n"
     ]
    }
   ],
   "source": [
    "my_set = {1, 5, \"True\"}\n",
    "print(my_set)"
   ]
  },
  {
   "cell_type": "code",
   "execution_count": 77,
   "metadata": {},
   "outputs": [
    {
     "data": {
      "text/plain": [
       "False"
      ]
     },
     "execution_count": 77,
     "metadata": {},
     "output_type": "execute_result"
    }
   ],
   "source": [
    "\"G\" in my_set"
   ]
  },
  {
   "cell_type": "code",
   "execution_count": 78,
   "metadata": {},
   "outputs": [
    {
     "data": {
      "text/plain": [
       "False"
      ]
     },
     "execution_count": 78,
     "metadata": {},
     "output_type": "execute_result"
    }
   ],
   "source": [
    "5 not in my_set"
   ]
  },
  {
   "cell_type": "markdown",
   "metadata": {},
   "source": [
    "### Example 1.2 (Value Comparisons):"
   ]
  },
  {
   "cell_type": "markdown",
   "metadata": {},
   "source": [
    "### Example 1.2.1 (Subset):"
   ]
  },
  {
   "cell_type": "code",
   "execution_count": 79,
   "metadata": {},
   "outputs": [],
   "source": [
    "set_1 = {1, 2, 3, 4, 5}\n",
    "set_2 = {3, 4, 5, 6, 7}"
   ]
  },
  {
   "cell_type": "code",
   "execution_count": 80,
   "metadata": {},
   "outputs": [
    {
     "data": {
      "text/plain": [
       "False"
      ]
     },
     "execution_count": 80,
     "metadata": {},
     "output_type": "execute_result"
    }
   ],
   "source": [
    "set_1 <= set_2 # tests whether every element in set_1 is in set_2\n",
    "### Garrett: ie is set_1 a subset of set_2?"
   ]
  },
  {
   "cell_type": "code",
   "execution_count": 81,
   "metadata": {},
   "outputs": [
    {
     "data": {
      "text/plain": [
       "False"
      ]
     },
     "execution_count": 81,
     "metadata": {},
     "output_type": "execute_result"
    }
   ],
   "source": [
    "set_1.issubset(set_2)"
   ]
  },
  {
   "cell_type": "markdown",
   "metadata": {},
   "source": [
    "### Example 1.2.2 (Proper Subset):"
   ]
  },
  {
   "cell_type": "code",
   "execution_count": 82,
   "metadata": {},
   "outputs": [],
   "source": [
    "set_a = {1, 2, 3, 4, 5}\n",
    "set_b = {1, 2, 3, 4, 5}"
   ]
  },
  {
   "cell_type": "code",
   "execution_count": 83,
   "metadata": {},
   "outputs": [
    {
     "data": {
      "text/plain": [
       "True"
      ]
     },
     "execution_count": 83,
     "metadata": {},
     "output_type": "execute_result"
    }
   ],
   "source": [
    "set_a <= set_b # tests whether every element in set_a is in set_b"
   ]
  },
  {
   "cell_type": "code",
   "execution_count": 84,
   "metadata": {},
   "outputs": [
    {
     "data": {
      "text/plain": [
       "False"
      ]
     },
     "execution_count": 84,
     "metadata": {},
     "output_type": "execute_result"
    }
   ],
   "source": [
    "set_a < set_b # tests whether set_a <= set_b and set_a != set_b"
   ]
  },
  {
   "cell_type": "markdown",
   "metadata": {},
   "source": [
    "We can see that `set_a` is a subset of `set_b` but NOT a strict/proper subset of `set_b`"
   ]
  },
  {
   "cell_type": "markdown",
   "metadata": {},
   "source": [
    "### Example 1.2.3 (Superset):"
   ]
  },
  {
   "cell_type": "code",
   "execution_count": 85,
   "metadata": {},
   "outputs": [],
   "source": [
    "set_1 = {1, 2, 3, 4, 5}\n",
    "set_2 = {3, 4, 5, 6, 7}"
   ]
  },
  {
   "cell_type": "code",
   "execution_count": 86,
   "metadata": {},
   "outputs": [
    {
     "data": {
      "text/plain": [
       "False"
      ]
     },
     "execution_count": 86,
     "metadata": {},
     "output_type": "execute_result"
    }
   ],
   "source": [
    "set_1 >= set_2 # tests whether every element in set_2 is in set_1 "
   ]
  },
  {
   "cell_type": "code",
   "execution_count": 87,
   "metadata": {},
   "outputs": [
    {
     "data": {
      "text/plain": [
       "False"
      ]
     },
     "execution_count": 87,
     "metadata": {},
     "output_type": "execute_result"
    }
   ],
   "source": [
    "set_1.issuperset(set_2)"
   ]
  },
  {
   "cell_type": "markdown",
   "metadata": {},
   "source": [
    "### Example 1.2.4 (Proper Superset):"
   ]
  },
  {
   "cell_type": "code",
   "execution_count": 88,
   "metadata": {},
   "outputs": [],
   "source": [
    "set_a = {1, 2, 3, 4, 5}\n",
    "set_b = {1, 2, 3, 4, 5}"
   ]
  },
  {
   "cell_type": "code",
   "execution_count": 89,
   "metadata": {},
   "outputs": [
    {
     "data": {
      "text/plain": [
       "True"
      ]
     },
     "execution_count": 89,
     "metadata": {},
     "output_type": "execute_result"
    }
   ],
   "source": [
    "set_a >= set_b # tests whether every element in set_b is in set_a"
   ]
  },
  {
   "cell_type": "code",
   "execution_count": 90,
   "metadata": {},
   "outputs": [
    {
     "data": {
      "text/plain": [
       "False"
      ]
     },
     "execution_count": 90,
     "metadata": {},
     "output_type": "execute_result"
    }
   ],
   "source": [
    "set_a > set_b # tests whether set_a >= set_b and set_a != set_b"
   ]
  },
  {
   "cell_type": "markdown",
   "metadata": {},
   "source": [
    "We can see that `set_a` is a superset of `set_b` but NOT  strict/proper superset of `set_b`"
   ]
  },
  {
   "cell_type": "markdown",
   "metadata": {},
   "source": [
    "### Example 1.3 (Mathematical Operations) (BONUS):"
   ]
  },
  {
   "cell_type": "markdown",
   "metadata": {},
   "source": [
    "### Example 1.3.1 (Union)"
   ]
  },
  {
   "cell_type": "code",
   "execution_count": 91,
   "metadata": {},
   "outputs": [],
   "source": [
    "set_1 = {1, 2, 3, 4, 5}\n",
    "set_2 = {3, 4, 5, 6, 7}"
   ]
  },
  {
   "cell_type": "code",
   "execution_count": 92,
   "metadata": {},
   "outputs": [
    {
     "data": {
      "text/plain": [
       "{1, 2, 3, 4, 5, 6, 7}"
      ]
     },
     "execution_count": 92,
     "metadata": {},
     "output_type": "execute_result"
    }
   ],
   "source": [
    "set_1.union(set_2) # returns a new set with elements from set_1 and set_2 "
   ]
  },
  {
   "cell_type": "code",
   "execution_count": 93,
   "metadata": {},
   "outputs": [
    {
     "data": {
      "text/plain": [
       "{1, 2, 3, 4, 5, 6, 7}"
      ]
     },
     "execution_count": 93,
     "metadata": {},
     "output_type": "execute_result"
    }
   ],
   "source": [
    "set_1 | set_2 # bitwise OR       \n",
    "### (really, this means usion here, but it uses the same symbol as bitwise or)\n",
    "### (and works in an analogous way, I think)\n",
    "### garrett: not super important, but see extra material of lecture 1 (ie notebook 1)"
   ]
  },
  {
   "cell_type": "markdown",
   "metadata": {},
   "source": [
    "### Example 1.3.2 (Intersection):"
   ]
  },
  {
   "cell_type": "code",
   "execution_count": 94,
   "metadata": {
    "scrolled": true
   },
   "outputs": [
    {
     "data": {
      "text/plain": [
       "{3, 4, 5}"
      ]
     },
     "execution_count": 94,
     "metadata": {},
     "output_type": "execute_result"
    }
   ],
   "source": [
    "set_1.intersection(set_2) # returns a new set with elements common to set_1 and set_2 "
   ]
  },
  {
   "cell_type": "code",
   "execution_count": 95,
   "metadata": {},
   "outputs": [
    {
     "data": {
      "text/plain": [
       "{3, 4, 5}"
      ]
     },
     "execution_count": 95,
     "metadata": {},
     "output_type": "execute_result"
    }
   ],
   "source": [
    "set_1 & set_2 # bitwise AND "
   ]
  },
  {
   "cell_type": "markdown",
   "metadata": {},
   "source": [
    "### Example 1.3.3 (Difference):"
   ]
  },
  {
   "cell_type": "code",
   "execution_count": 96,
   "metadata": {},
   "outputs": [
    {
     "data": {
      "text/plain": [
       "{1, 2}"
      ]
     },
     "execution_count": 96,
     "metadata": {},
     "output_type": "execute_result"
    }
   ],
   "source": [
    "set_1.difference(set_2) # returns a new set with elements in set_1 that are not in set_2"
   ]
  },
  {
   "cell_type": "code",
   "execution_count": 97,
   "metadata": {},
   "outputs": [
    {
     "data": {
      "text/plain": [
       "{1, 2}"
      ]
     },
     "execution_count": 97,
     "metadata": {},
     "output_type": "execute_result"
    }
   ],
   "source": [
    "set_1 - set_2"
   ]
  },
  {
   "cell_type": "markdown",
   "metadata": {},
   "source": [
    "### Example 1.3.4 (Symmetric Difference):"
   ]
  },
  {
   "cell_type": "code",
   "execution_count": 98,
   "metadata": {},
   "outputs": [
    {
     "data": {
      "text/plain": [
       "{1, 2, 6, 7}"
      ]
     },
     "execution_count": 98,
     "metadata": {},
     "output_type": "execute_result"
    }
   ],
   "source": [
    "set_1.symmetric_difference(set_2) # returns a new set with elements in either set_1 or set_2, but not both "
   ]
  },
  {
   "cell_type": "code",
   "execution_count": 99,
   "metadata": {
    "scrolled": true
   },
   "outputs": [
    {
     "data": {
      "text/plain": [
       "{1, 2, 6, 7}"
      ]
     },
     "execution_count": 99,
     "metadata": {},
     "output_type": "execute_result"
    }
   ],
   "source": [
    "set_1 ^ set_2 # bitwise XOR \n",
    "### a set operation, but it works in a similar way to how this symbol does in bitwise or on integers"
   ]
  },
  {
   "cell_type": "markdown",
   "metadata": {},
   "source": [
    "### Example 1.3.5 (Disjoint):"
   ]
  },
  {
   "cell_type": "code",
   "execution_count": 101,
   "metadata": {},
   "outputs": [
    {
     "data": {
      "text/plain": [
       "False"
      ]
     },
     "execution_count": 101,
     "metadata": {},
     "output_type": "execute_result"
    }
   ],
   "source": [
    "set_1.isdisjoint(set_2) # returns true if set_1 has no elements in common with set_2 (intersection is the empty set)"
   ]
  },
  {
   "cell_type": "code",
   "execution_count": null,
   "metadata": {},
   "outputs": [],
   "source": [
    "### garrett: can't put set, dict, or list within a set"
   ]
  },
  {
   "cell_type": "markdown",
   "metadata": {},
   "source": [
    "### Example 1.4 (Other Operations):"
   ]
  },
  {
   "cell_type": "markdown",
   "metadata": {},
   "source": [
    "### Example 1.4.1 (Remove Duplicates):"
   ]
  },
  {
   "cell_type": "code",
   "execution_count": 102,
   "metadata": {},
   "outputs": [
    {
     "name": "stdout",
     "output_type": "stream",
     "text": [
      "['G', 'G', 'O', 'R', 'D', 'O', 'O', 'N']\n"
     ]
    }
   ],
   "source": [
    "dup_list = [\"G\", \"G\", \"O\", \"R\", \"D\", \"O\", \"O\", \"N\"]\n",
    "print(dup_list)"
   ]
  },
  {
   "cell_type": "code",
   "execution_count": 103,
   "metadata": {},
   "outputs": [
    {
     "data": {
      "text/plain": [
       "{'D', 'G', 'N', 'O', 'R'}"
      ]
     },
     "execution_count": 103,
     "metadata": {},
     "output_type": "execute_result"
    }
   ],
   "source": [
    "set(dup_list) # remove duplicates from a list in one line of code "
   ]
  },
  {
   "cell_type": "code",
   "execution_count": 105,
   "metadata": {},
   "outputs": [
    {
     "name": "stdout",
     "output_type": "stream",
     "text": [
      "{'R', 'N', 'O', 'D', 'G'}\n",
      "['R', 'N', 'O', 'D', 'G']\n"
     ]
    }
   ],
   "source": [
    "# remove duplicates from a list using set\n",
    "\n",
    "dup_list_1 = set(dup_list)\n",
    "dup_list_2 = list(dup_list_1)\n",
    "print(dup_list_1)\n",
    "print(dup_list_2)\n",
    "\n",
    "### ? any rhyme or reason to how it\n",
    "### garrett: nope, ... might depend on memory location or something - can vary on different sessions"
   ]
  },
  {
   "cell_type": "markdown",
   "metadata": {},
   "source": [
    "### Example 1.4.2 (Length):"
   ]
  },
  {
   "cell_type": "code",
   "execution_count": 106,
   "metadata": {},
   "outputs": [],
   "source": [
    "set_1 = {1, 2, 3, 4, 5}"
   ]
  },
  {
   "cell_type": "code",
   "execution_count": 107,
   "metadata": {},
   "outputs": [
    {
     "data": {
      "text/plain": [
       "5"
      ]
     },
     "execution_count": 107,
     "metadata": {},
     "output_type": "execute_result"
    }
   ],
   "source": [
    "len(set_1)"
   ]
  },
  {
   "cell_type": "markdown",
   "metadata": {},
   "source": [
    "### Example 1.4.3 (Copy):"
   ]
  },
  {
   "cell_type": "code",
   "execution_count": 108,
   "metadata": {},
   "outputs": [
    {
     "name": "stdout",
     "output_type": "stream",
     "text": [
      "{1, 2, 3, 4, 5}\n"
     ]
    }
   ],
   "source": [
    "set_1_copy = set_1.copy() # returns a new set with a shallow copy of set_1 \n",
    "print(set_1)"
   ]
  },
  {
   "cell_type": "markdown",
   "metadata": {},
   "source": [
    "### Part 2: Mutable Set Type Operations"
   ]
  },
  {
   "cell_type": "markdown",
   "metadata": {},
   "source": [
    "### Example 2.1 (Updating Elements):"
   ]
  },
  {
   "cell_type": "code",
   "execution_count": 109,
   "metadata": {},
   "outputs": [
    {
     "name": "stdout",
     "output_type": "stream",
     "text": [
      "[5, 2, 3]\n"
     ]
    }
   ],
   "source": [
    "my_list = [1,2,3]\n",
    "my_list[0] = 5\n",
    "print(my_list)"
   ]
  },
  {
   "cell_type": "code",
   "execution_count": 110,
   "metadata": {},
   "outputs": [
    {
     "ename": "TypeError",
     "evalue": "'set' object does not support item assignment",
     "output_type": "error",
     "traceback": [
      "\u001b[1;31m---------------------------------------------------------------------------\u001b[0m",
      "\u001b[1;31mTypeError\u001b[0m                                 Traceback (most recent call last)",
      "\u001b[1;32m<ipython-input-110-a88de4798e94>\u001b[0m in \u001b[0;36m<module>\u001b[1;34m\u001b[0m\n\u001b[0;32m      1\u001b[0m \u001b[0mset_1\u001b[0m \u001b[1;33m=\u001b[0m \u001b[1;33m{\u001b[0m\u001b[1;36m1\u001b[0m\u001b[1;33m,\u001b[0m \u001b[1;36m2\u001b[0m\u001b[1;33m,\u001b[0m \u001b[1;36m3\u001b[0m\u001b[1;33m,\u001b[0m \u001b[1;36m4\u001b[0m\u001b[1;33m,\u001b[0m \u001b[1;36m5\u001b[0m\u001b[1;33m}\u001b[0m\u001b[1;33m\u001b[0m\u001b[1;33m\u001b[0m\u001b[0m\n\u001b[1;32m----> 2\u001b[1;33m \u001b[0mset_1\u001b[0m\u001b[1;33m[\u001b[0m\u001b[1;36m0\u001b[0m\u001b[1;33m]\u001b[0m \u001b[1;33m=\u001b[0m \u001b[1;36m1\u001b[0m\u001b[1;33m\u001b[0m\u001b[1;33m\u001b[0m\u001b[0m\n\u001b[0m\u001b[0;32m      3\u001b[0m \u001b[0mset_2\u001b[0m \u001b[1;33m=\u001b[0m \u001b[1;33m{\u001b[0m\u001b[1;36m3\u001b[0m\u001b[1;33m,\u001b[0m \u001b[1;36m4\u001b[0m\u001b[1;33m,\u001b[0m \u001b[1;36m5\u001b[0m\u001b[1;33m,\u001b[0m \u001b[1;36m6\u001b[0m\u001b[1;33m,\u001b[0m \u001b[1;36m7\u001b[0m\u001b[1;33m}\u001b[0m\u001b[1;33m\u001b[0m\u001b[1;33m\u001b[0m\u001b[0m\n",
      "\u001b[1;31mTypeError\u001b[0m: 'set' object does not support item assignment"
     ]
    }
   ],
   "source": [
    "set_1 = {1, 2, 3, 4, 5}\n",
    "set_1[0] = 1\n",
    "set_2 = {3, 4, 5, 6, 7}"
   ]
  },
  {
   "cell_type": "code",
   "execution_count": 111,
   "metadata": {},
   "outputs": [
    {
     "name": "stdout",
     "output_type": "stream",
     "text": [
      "{1, 2, 3, 4, 5, 6, 7}\n"
     ]
    }
   ],
   "source": [
    "set_1.update(set_2) # update set_1, adding elements from set_2 \n",
    "print(set_1)"
   ]
  },
  {
   "cell_type": "markdown",
   "metadata": {},
   "source": [
    "We can also perform `intersection_update`, `difference_update`, and `symmetric_difference_update` - see the documentation"
   ]
  },
  {
   "cell_type": "code",
   "execution_count": 112,
   "metadata": {},
   "outputs": [],
   "source": [
    "### okay, if I need this I can look in the python documentation"
   ]
  },
  {
   "cell_type": "markdown",
   "metadata": {},
   "source": [
    "### Example 2.2 (Adding Elements):"
   ]
  },
  {
   "cell_type": "code",
   "execution_count": 113,
   "metadata": {},
   "outputs": [],
   "source": [
    "set_1 = {1, 2, 3, 4, 5}"
   ]
  },
  {
   "cell_type": "code",
   "execution_count": 114,
   "metadata": {},
   "outputs": [
    {
     "name": "stdout",
     "output_type": "stream",
     "text": [
      "{1, 2, 3, 4, 5, 6}\n"
     ]
    }
   ],
   "source": [
    "# add an element that is not already in the set \n",
    "set_1.add(6)\n",
    "print(set_1)"
   ]
  },
  {
   "cell_type": "code",
   "execution_count": 115,
   "metadata": {},
   "outputs": [
    {
     "name": "stdout",
     "output_type": "stream",
     "text": [
      "{1, 2, 3, 4, 5, 6}\n"
     ]
    }
   ],
   "source": [
    "# add an element that is already in the set\n",
    "set_1.add(5)\n",
    "print(set_1)"
   ]
  },
  {
   "cell_type": "markdown",
   "metadata": {},
   "source": [
    "### Example 2.3 (Removing Elements):"
   ]
  },
  {
   "cell_type": "code",
   "execution_count": 116,
   "metadata": {},
   "outputs": [
    {
     "name": "stdout",
     "output_type": "stream",
     "text": [
      "{2, 3, 4, 5, 6}\n"
     ]
    }
   ],
   "source": [
    "set_1.remove(1) \n",
    "print(set_1)"
   ]
  },
  {
   "cell_type": "code",
   "execution_count": 117,
   "metadata": {},
   "outputs": [
    {
     "ename": "KeyError",
     "evalue": "10",
     "output_type": "error",
     "traceback": [
      "\u001b[1;31m---------------------------------------------------------------------------\u001b[0m",
      "\u001b[1;31mKeyError\u001b[0m                                  Traceback (most recent call last)",
      "\u001b[1;32m<ipython-input-117-4439c1d97372>\u001b[0m in \u001b[0;36m<module>\u001b[1;34m\u001b[0m\n\u001b[1;32m----> 1\u001b[1;33m \u001b[0mset_1\u001b[0m\u001b[1;33m.\u001b[0m\u001b[0mremove\u001b[0m\u001b[1;33m(\u001b[0m\u001b[1;36m10\u001b[0m\u001b[1;33m)\u001b[0m \u001b[1;31m# raises an error if the element you are trying to add is not in the set\u001b[0m\u001b[1;33m\u001b[0m\u001b[1;33m\u001b[0m\u001b[0m\n\u001b[0m",
      "\u001b[1;31mKeyError\u001b[0m: 10"
     ]
    }
   ],
   "source": [
    "set_1.remove(10) # raises an error if the element you are trying to add is not in the set "
   ]
  },
  {
   "cell_type": "code",
   "execution_count": 118,
   "metadata": {},
   "outputs": [
    {
     "name": "stdout",
     "output_type": "stream",
     "text": [
      "{3, 4, 5, 6}\n"
     ]
    }
   ],
   "source": [
    "set_1.discard(2)\n",
    "print(set_1)"
   ]
  },
  {
   "cell_type": "code",
   "execution_count": 119,
   "metadata": {},
   "outputs": [
    {
     "name": "stdout",
     "output_type": "stream",
     "text": [
      "{3, 4, 5, 6}\n"
     ]
    }
   ],
   "source": [
    "set_1.discard(10) # does not raise an error if the element you are trying to add is not in the set \n",
    "print(set_1)"
   ]
  },
  {
   "cell_type": "code",
   "execution_count": 121,
   "metadata": {},
   "outputs": [
    {
     "name": "stdout",
     "output_type": "stream",
     "text": [
      "set()\n"
     ]
    }
   ],
   "source": [
    "set_1.clear() # removes all elements from the set \n",
    "print(set_1)"
   ]
  },
  {
   "cell_type": "markdown",
   "metadata": {},
   "source": [
    "### 2.4 Mapping Types in Python "
   ]
  },
  {
   "cell_type": "markdown",
   "metadata": {},
   "source": [
    "### 2.4.1 What is a Mapping Type?"
   ]
  },
  {
   "cell_type": "markdown",
   "metadata": {},
   "source": [
    "__Overview:__\n",
    "- __[Mapping Type](https://docs.python.org/3/library/stdtypes.html#mapping-types-dict):__ The only Mapping Type in Python is the dictionary (`dict` type)\n",
    "- Mapping Types map (connect) values to objects (this will become clear below) \n",
    "- Mapping Types in Python have the following characteristics:\n",
    "> - Mapping Types are unordered (each element from left to right is NOT assigned a number - this disables our ability to use integer indexing to index (find) elements within a mapping type)\n",
    "> - Mapping Types are mutable \n",
    "\n",
    "__Helpful Points:__ \n",
    "1. Mapping Type is used very commonly in Python so get used to the format and its characteristics\n",
    "2. Although Mapping Type is unordered, there are still ways of accessing/indexing elements (but these ways are different than the integer indexing that existed for the Sequence Type)"
   ]
  },
  {
   "cell_type": "markdown",
   "metadata": {},
   "source": [
    "### 2.4.2 Common Operations of the Mapping Type"
   ]
  },
  {
   "cell_type": "markdown",
   "metadata": {},
   "source": [
    "- Since Mapping Types are unordered (they are not sequences), they are NOT subject to the Common Sequence Operations (with some exceptions) that we have used for strings, lists, tuples and ranges\n",
    "- However, there exists an equivalent list of operations (__common mapping type operations__) that are possible for the mapping type (`dict`) which include some of the Common Sequence Operations\n",
    "- Since Mapping Type is mutable, it is also subject to a list of __mutable mapping type operations__"
   ]
  },
  {
   "cell_type": "markdown",
   "metadata": {},
   "source": [
    "- The __common mapping type operations__ can be grouped together into the following categories:\n",
    "> 1. Membership Test Operations\n",
    "> 2. Other operations (len, copy)"
   ]
  },
  {
   "cell_type": "markdown",
   "metadata": {},
   "source": [
    "- The __mutable mapping type operations__ can be grouped together into the following categories:\n",
    "> 1. Changing elements\n",
    "> 2. Adding elements\n",
    "> 3. Removing elements "
   ]
  },
  {
   "cell_type": "markdown",
   "metadata": {},
   "source": [
    "__Helpful Points:__ \n",
    "1. Since Mapping Types do not record element position or order of insertion, they do not suppoert sequence-like behavior"
   ]
  },
  {
   "cell_type": "markdown",
   "metadata": {},
   "source": [
    "### 2.4.3 Overview of Mapping Type 1 - `dict`"
   ]
  },
  {
   "cell_type": "markdown",
   "metadata": {},
   "source": [
    "__Overview:__\n",
    "- __`dict`__: Dictionaries are mutable objects that are used to store a collection of key-value pairs\n",
    "- key-value pairs will be discussed below, but you can think of this as the `key` being the descriptor and the `value` being what is being described. The `key` does not have to be an integer which will be very useful \n",
    "\n",
    "__Helpful Points:__\n",
    "1. Dictionaries are defined by curly brackets `{` and `}` (similar to sets) \n",
    "2. Each item (key-value pair) in a dictionary is separated by a comma \n",
    "3. Keys and values are separated by a colon (:) as such `key:value`\n",
    "4. Keys can be of different types, but they have to be __immutable__ (`int`, `float`, `str`, `tuple`)\n",
    "5. Dictionaries can be used to make programming in Python more efficient "
   ]
  },
  {
   "cell_type": "markdown",
   "metadata": {},
   "source": [
    "### 2.4.4 Creating Dictionaries "
   ]
  },
  {
   "cell_type": "markdown",
   "metadata": {},
   "source": [
    "__Overview:__\n",
    "- There are multiple ways to create a Dictionary in Python:\n",
    "> 1. Method 1: Using a pair of curly brackets to denote the empty dictionary (remember we couldn't use this in a set because it was reserved for dictionary use)\n",
    "> 2. Method 2: Using curly brackets, separating items (key-value pairs) with commas \n",
    "> 3. Method 3: Using the __Type Constructor__ with no contents to denote empty dictionary \n",
    "> 4. Method 4: Using the __Type Constructor__ with a list that contains tuples as items where each tuple is a key-value pair \n",
    "> 5. Method 5: Using the __Type Constructor__ with no enclosing and key-item pairs being assigned as variables \n",
    "> 6. Method 6: Using the __Type Constructor__ with curly brackets, separating items (key-value pairs) with commas \n",
    "\n",
    "__Helpful Points:__\n",
    "1. It is also possible to create a dictionary within a dictionary also known as a __Nested Dictionary__ \n",
    "\n",
    "__Practice:__ Examples of creating dictionaries in Python "
   ]
  },
  {
   "cell_type": "markdown",
   "metadata": {},
   "source": [
    "### Example 1 (Create Dictionary with Method 1)"
   ]
  },
  {
   "cell_type": "code",
   "execution_count": 124,
   "metadata": {},
   "outputs": [
    {
     "name": "stdout",
     "output_type": "stream",
     "text": [
      "{}\n"
     ]
    },
    {
     "data": {
      "text/plain": [
       "dict"
      ]
     },
     "execution_count": 124,
     "metadata": {},
     "output_type": "execute_result"
    }
   ],
   "source": [
    "empty_dict = {}\n",
    "print(empty_dict)\n",
    "type(empty_dict)"
   ]
  },
  {
   "cell_type": "markdown",
   "metadata": {},
   "source": [
    "### Example 2 (Create Dictionary with Method 2)"
   ]
  },
  {
   "cell_type": "code",
   "execution_count": 125,
   "metadata": {},
   "outputs": [
    {
     "name": "stdout",
     "output_type": "stream",
     "text": [
      "{'name': 'Gordon', 'course': 'BPM'}\n"
     ]
    }
   ],
   "source": [
    "non_empty_dict = {\"name\":\"Gordon\", \"course\":\"BPM\"}\n",
    "print(non_empty_dict)"
   ]
  },
  {
   "cell_type": "markdown",
   "metadata": {},
   "source": [
    "### Example 3 (Create Dictionary with Method 3)"
   ]
  },
  {
   "cell_type": "code",
   "execution_count": 126,
   "metadata": {},
   "outputs": [
    {
     "name": "stdout",
     "output_type": "stream",
     "text": [
      "{}\n"
     ]
    },
    {
     "data": {
      "text/plain": [
       "dict"
      ]
     },
     "execution_count": 126,
     "metadata": {},
     "output_type": "execute_result"
    }
   ],
   "source": [
    "empty_dict_1 = dict()\n",
    "print(empty_dict)\n",
    "type(empty_dict)"
   ]
  },
  {
   "cell_type": "markdown",
   "metadata": {},
   "source": [
    "### Example 4 (Create Dictionary with Method 4)"
   ]
  },
  {
   "cell_type": "code",
   "execution_count": 128,
   "metadata": {},
   "outputs": [
    {
     "name": "stdout",
     "output_type": "stream",
     "text": [
      "{'ten': 10, 'nine': 9, 'eight': 8}\n"
     ]
    }
   ],
   "source": [
    "dict_4 = dict([(\"ten\",10), (\"nine\",9), (\"eight\",8)])\n",
    "print(dict_4)"
   ]
  },
  {
   "cell_type": "code",
   "execution_count": 129,
   "metadata": {},
   "outputs": [],
   "source": [
    "### garrett: convert list of tuples to a dict"
   ]
  },
  {
   "cell_type": "markdown",
   "metadata": {},
   "source": [
    "### Example 5 (Create Dictionary with Method 5)"
   ]
  },
  {
   "cell_type": "code",
   "execution_count": 130,
   "metadata": {},
   "outputs": [
    {
     "name": "stdout",
     "output_type": "stream",
     "text": [
      "{'ten': 10, 'nine': 9, 'eight': 8}\n"
     ]
    }
   ],
   "source": [
    "dict_5 = dict(ten=10, nine=9, eight=8)\n",
    "print(dict_5)"
   ]
  },
  {
   "cell_type": "markdown",
   "metadata": {},
   "source": [
    "### Example 6 (Create Dictionary with Method 6)"
   ]
  },
  {
   "cell_type": "code",
   "execution_count": 132,
   "metadata": {},
   "outputs": [
    {
     "name": "stdout",
     "output_type": "stream",
     "text": [
      "{'ten': 10, 'nine': 9, 'eight': 8}\n"
     ]
    }
   ],
   "source": [
    "dict_6 = dict({\"ten\":10, \"nine\":9, \"eight\":8})\n",
    "print(dict_6)"
   ]
  },
  {
   "cell_type": "code",
   "execution_count": 133,
   "metadata": {},
   "outputs": [],
   "source": [
    "### Garrett: we will see later why it is interesting to make a dictionary from a dictionary"
   ]
  },
  {
   "cell_type": "markdown",
   "metadata": {},
   "source": [
    "The dictionaries created above all followed the same format: `key`:`value` and notice that `key` can be `str` type or `int` type (or any immutable type)."
   ]
  },
  {
   "cell_type": "markdown",
   "metadata": {},
   "source": [
    "### Example 7 (Create Dictionary with Lists)"
   ]
  },
  {
   "cell_type": "code",
   "execution_count": 134,
   "metadata": {},
   "outputs": [
    {
     "name": "stdout",
     "output_type": "stream",
     "text": [
      "{'course designer': ['Gordon', 'Roberto'], 'course name': 'BPM'}\n"
     ]
    }
   ],
   "source": [
    "dict_7 = {\"course designer\":[\"Gordon\", \"Roberto\"], \"course name\":\"BPM\"}\n",
    "print(dict_7)"
   ]
  },
  {
   "cell_type": "markdown",
   "metadata": {},
   "source": [
    "### Example 8 (Create Nested Dictionary)"
   ]
  },
  {
   "cell_type": "code",
   "execution_count": 135,
   "metadata": {},
   "outputs": [
    {
     "name": "stdout",
     "output_type": "stream",
     "text": [
      "{'course designer': ['Gordon', 'Roberto'], 'course info': {'course code': 101, 'course name': 'BPM'}}\n"
     ]
    }
   ],
   "source": [
    "dict_8 = {\"course designer\":[\"Gordon\", \"Roberto\"], \"course info\":{\"course code\":101, \"course name\":\"BPM\"}}\n",
    "print(dict_8)"
   ]
  },
  {
   "cell_type": "markdown",
   "metadata": {},
   "source": [
    "### 2.4.5 Accessing Elements within Dictionaries"
   ]
  },
  {
   "cell_type": "markdown",
   "metadata": {},
   "source": [
    "__Overview:__\n",
    "- Although Dictionaries are unordered and their elements can not be accessed using integer indexing, we are still able to retrieve keys, values and items using similar techniques\n",
    "\n",
    "__Helpful Points:__\n",
    "1. Key retrieval can be done both individually using indexing and in bulk using built-in functions\n",
    "2. Value retrieval can only be done in bulk using built-in functions\n",
    "3. Item retrieval can only be done in bulk using built-in functions \n",
    "\n",
    "__Practice:__ Examples of accessing elements within dictionaries"
   ]
  },
  {
   "cell_type": "markdown",
   "metadata": {},
   "source": [
    "### Example 1 (Accessing Keys - Individually)"
   ]
  },
  {
   "cell_type": "code",
   "execution_count": 136,
   "metadata": {},
   "outputs": [
    {
     "name": "stdout",
     "output_type": "stream",
     "text": [
      "{'co_designer_1': 'Gordon', 'co_designer_2': 'Roberto', 'course_number': 101}\n"
     ]
    }
   ],
   "source": [
    "my_dict = {\"co_designer_1\":\"Gordon\", \"co_designer_2\":\"Roberto\", \"course_number\":101}\n",
    "print(my_dict)"
   ]
  },
  {
   "cell_type": "code",
   "execution_count": 137,
   "metadata": {},
   "outputs": [
    {
     "data": {
      "text/plain": [
       "'Gordon'"
      ]
     },
     "execution_count": 137,
     "metadata": {},
     "output_type": "execute_result"
    }
   ],
   "source": [
    "my_dict[\"co_designer_1\"] # returns the item of my_dict with key \"co_designer_1\""
   ]
  },
  {
   "cell_type": "code",
   "execution_count": 138,
   "metadata": {},
   "outputs": [
    {
     "ename": "KeyError",
     "evalue": "'co_designer_3'",
     "output_type": "error",
     "traceback": [
      "\u001b[1;31m---------------------------------------------------------------------------\u001b[0m",
      "\u001b[1;31mKeyError\u001b[0m                                  Traceback (most recent call last)",
      "\u001b[1;32m<ipython-input-138-e74756f52cd6>\u001b[0m in \u001b[0;36m<module>\u001b[1;34m\u001b[0m\n\u001b[1;32m----> 1\u001b[1;33m \u001b[0mmy_dict\u001b[0m\u001b[1;33m[\u001b[0m\u001b[1;34m\"co_designer_3\"\u001b[0m\u001b[1;33m]\u001b[0m \u001b[1;31m# if the key is not the dictionary, raises an error\u001b[0m\u001b[1;33m\u001b[0m\u001b[1;33m\u001b[0m\u001b[0m\n\u001b[0m",
      "\u001b[1;31mKeyError\u001b[0m: 'co_designer_3'"
     ]
    }
   ],
   "source": [
    "my_dict[\"co_designer_3\"] # if the key is not the dictionary, raises an error "
   ]
  },
  {
   "cell_type": "code",
   "execution_count": 140,
   "metadata": {},
   "outputs": [
    {
     "data": {
      "text/plain": [
       "'No such key'"
      ]
     },
     "execution_count": 140,
     "metadata": {},
     "output_type": "execute_result"
    }
   ],
   "source": [
    "my_dict.get(\"co_designer_3\", \"No such key\") # avoid the possibility of error with the get function "
   ]
  },
  {
   "cell_type": "code",
   "execution_count": 141,
   "metadata": {},
   "outputs": [],
   "source": [
    "### apparently get function can return \"No such key\" instead of returning an error of the key doesn't exist"
   ]
  },
  {
   "cell_type": "code",
   "execution_count": 142,
   "metadata": {},
   "outputs": [
    {
     "name": "stdout",
     "output_type": "stream",
     "text": [
      "Gordon\n"
     ]
    }
   ],
   "source": [
    "# accessing keys when values are lists \n",
    "dict_7 = {\"course designer\":[\"Gordon\", \"Roberto\"], \"course name\":\"BPM\"}\n",
    "print(dict_7[\"course designer\"][0])"
   ]
  },
  {
   "cell_type": "code",
   "execution_count": 143,
   "metadata": {},
   "outputs": [
    {
     "name": "stdout",
     "output_type": "stream",
     "text": [
      "101\n"
     ]
    }
   ],
   "source": [
    "# accessing keys when values are dictionaries\n",
    "dict_8 = {\"course designer\":[\"Gordon\", \"Roberto\"], \"course info\":{\"course code\":101, \"course name\":\"BPM\"}}\n",
    "print(dict_8[\"course info\"][\"course code\"])"
   ]
  },
  {
   "cell_type": "markdown",
   "metadata": {},
   "source": [
    "### Example 2 (Accessing Keys - Bulk)"
   ]
  },
  {
   "cell_type": "code",
   "execution_count": 144,
   "metadata": {
    "scrolled": true
   },
   "outputs": [
    {
     "name": "stdout",
     "output_type": "stream",
     "text": [
      "dict_keys(['co_designer_1', 'co_designer_2', 'course_number'])\n",
      "['co_designer_1', 'co_designer_2', 'course_number']\n"
     ]
    }
   ],
   "source": [
    "print(my_dict.keys()) # returns a new view of the dictionary's items (refer to example 2.4.1 for a refresher on views)\n",
    "print(list(my_dict.keys()))"
   ]
  },
  {
   "cell_type": "markdown",
   "metadata": {},
   "source": [
    "### Example 3 (Accessing Values - Bulk)"
   ]
  },
  {
   "cell_type": "code",
   "execution_count": 145,
   "metadata": {},
   "outputs": [
    {
     "name": "stdout",
     "output_type": "stream",
     "text": [
      "dict_values(['Gordon', 'Roberto', 101])\n",
      "['Gordon', 'Roberto', 101]\n"
     ]
    }
   ],
   "source": [
    "print(my_dict.values()) # returns a new view of the dictionary's values \n",
    "print(list(my_dict.values()))"
   ]
  },
  {
   "cell_type": "markdown",
   "metadata": {},
   "source": [
    "### Example 4 (Accessing Items - Bulk)"
   ]
  },
  {
   "cell_type": "code",
   "execution_count": 146,
   "metadata": {},
   "outputs": [
    {
     "name": "stdout",
     "output_type": "stream",
     "text": [
      "dict_items([('co_designer_1', 'Gordon'), ('co_designer_2', 'Roberto'), ('course_number', 101)])\n",
      "[('co_designer_1', 'Gordon'), ('co_designer_2', 'Roberto'), ('course_number', 101)]\n"
     ]
    }
   ],
   "source": [
    "print(my_dict.items()) # returns a new view of the dictionary's items \n",
    "print(list(my_dict.items()))"
   ]
  },
  {
   "cell_type": "markdown",
   "metadata": {},
   "source": [
    "### 2.4.6 More Dictionary Operations "
   ]
  },
  {
   "cell_type": "markdown",
   "metadata": {},
   "source": [
    "__Overview:__\n",
    "- Since the `dict` type is mutable, we can perform both the common mapping operations and the mutable mapping type operations\n",
    "\n",
    "__Helpful Points:__\n",
    "1. Below, Part 1 will cover the common mapping operations (membership test operations and other operations)\n",
    "2. Below, Part 2 will cover the mutable mapping type operations (changing elements, adding elements, and removing elements)\n",
    "\n",
    "__Practice:__ Examples of Dictionary Operations in Python "
   ]
  },
  {
   "cell_type": "markdown",
   "metadata": {},
   "source": [
    "### Part 1: Common mapping operations "
   ]
  },
  {
   "cell_type": "markdown",
   "metadata": {},
   "source": [
    "### Example 1.1 (Membership Test Operations):"
   ]
  },
  {
   "cell_type": "code",
   "execution_count": 147,
   "metadata": {},
   "outputs": [],
   "source": [
    "my_dict = {\"co_designer_1\":\"Gordon\", \"co_designer_2\":\"Roberto\", \"course_number\":101}"
   ]
  },
  {
   "cell_type": "code",
   "execution_count": 148,
   "metadata": {},
   "outputs": [
    {
     "data": {
      "text/plain": [
       "True"
      ]
     },
     "execution_count": 148,
     "metadata": {},
     "output_type": "execute_result"
    }
   ],
   "source": [
    "\"co_designer_1\" in my_dict"
   ]
  },
  {
   "cell_type": "code",
   "execution_count": 149,
   "metadata": {},
   "outputs": [
    {
     "data": {
      "text/plain": [
       "True"
      ]
     },
     "execution_count": 149,
     "metadata": {},
     "output_type": "execute_result"
    }
   ],
   "source": [
    "\"co_deisgner_3\" not in my_dict"
   ]
  },
  {
   "cell_type": "markdown",
   "metadata": {},
   "source": [
    "Note membership test operations can only be done on the keys since individual values and items can not be accessed (see above)"
   ]
  },
  {
   "cell_type": "markdown",
   "metadata": {},
   "source": [
    "### Example 1.2 (Copy):"
   ]
  },
  {
   "cell_type": "code",
   "execution_count": 150,
   "metadata": {},
   "outputs": [
    {
     "name": "stdout",
     "output_type": "stream",
     "text": [
      "{'co_designer_1': 'Gordon', 'co_designer_2': 'Roberto', 'course_number': 101}\n"
     ]
    }
   ],
   "source": [
    "my_dict_copy = my_dict.copy() # return a shallow copy of the dictionary \n",
    "print(my_dict_copy)"
   ]
  },
  {
   "cell_type": "markdown",
   "metadata": {},
   "source": [
    "### Part 2: Mutable mapping type operations"
   ]
  },
  {
   "cell_type": "markdown",
   "metadata": {},
   "source": [
    "### Example 2.1 (Changing Elements):"
   ]
  },
  {
   "cell_type": "code",
   "execution_count": 151,
   "metadata": {},
   "outputs": [],
   "source": [
    "my_dict = {\"co_designer_1\":\"Gordon\", \"co_designer_2\":\"Roberto\", \"course_number\":101}"
   ]
  },
  {
   "cell_type": "code",
   "execution_count": 152,
   "metadata": {},
   "outputs": [
    {
     "name": "stdout",
     "output_type": "stream",
     "text": [
      "{'co_designer_1': 'Gordon Dri', 'co_designer_2': 'Roberto', 'course_number': 101}\n"
     ]
    }
   ],
   "source": [
    "my_dict[\"co_designer_1\"] = \"Gordon Dri\"\n",
    "print(my_dict)"
   ]
  },
  {
   "cell_type": "markdown",
   "metadata": {},
   "source": [
    "### Example 2.2 (Adding Elements):"
   ]
  },
  {
   "cell_type": "code",
   "execution_count": 153,
   "metadata": {},
   "outputs": [
    {
     "name": "stdout",
     "output_type": "stream",
     "text": [
      "{'co_designer_1': 'Gordon Dri', 'co_designer_2': 'Roberto', 'course_number': 101, 'course_month': 'May'}\n"
     ]
    }
   ],
   "source": [
    "my_dict[\"course_month\"] = \"May\" # adds new item if the key doesn't already exist \n",
    "print(my_dict)"
   ]
  },
  {
   "cell_type": "code",
   "execution_count": 155,
   "metadata": {},
   "outputs": [
    {
     "name": "stdout",
     "output_type": "stream",
     "text": [
      "{'co_designer_1': 'Gordon', 'co_designer_2': 'Roberto', 'course_number': 101, 'course_month': 'May', 'course_title': 'BPM'}\n"
     ]
    }
   ],
   "source": [
    "my_dict = {\"co_designer_1\":\"Gordon\", \"co_designer_2\":\"Roberto\", \"course_number\":101}\n",
    "my_dict_new = {\"course_month\": \"May\", \"course_title\": \"BPM\"}\n",
    "my_dict.update(my_dict_new) # update the dictionary with the key/value pairs from my_dict_new\n",
    "print(my_dict)\n",
    "\n",
    "### like update in set\n",
    "### #fup left off here in studying"
   ]
  },
  {
   "cell_type": "markdown",
   "metadata": {},
   "source": [
    "### Example 2.3 (Removing Elements):"
   ]
  },
  {
   "cell_type": "code",
   "execution_count": 156,
   "metadata": {},
   "outputs": [],
   "source": [
    "my_dict = {\"co_designer_1\":\"Gordon\", \"co_designer_2\":\"Roberto\", \"course_number\":101}"
   ]
  },
  {
   "cell_type": "code",
   "execution_count": 157,
   "metadata": {},
   "outputs": [
    {
     "name": "stdout",
     "output_type": "stream",
     "text": [
      "{'co_designer_2': 'Roberto', 'course_number': 101}\n"
     ]
    }
   ],
   "source": [
    "del my_dict[\"co_designer_1\"]\n",
    "print(my_dict)"
   ]
  },
  {
   "cell_type": "code",
   "execution_count": 158,
   "metadata": {},
   "outputs": [
    {
     "name": "stdout",
     "output_type": "stream",
     "text": [
      "{}\n"
     ]
    }
   ],
   "source": [
    "my_dict.clear()\n",
    "print(my_dict)"
   ]
  },
  {
   "cell_type": "markdown",
   "metadata": {},
   "source": [
    "### 2.4.7 Packing and Unpacking with Dictionaries (BONUS)"
   ]
  },
  {
   "cell_type": "markdown",
   "metadata": {},
   "source": [
    "__Overview:__\n",
    "- Recall in section 2.2.15, that tuples had the convenient feature of packing and unpacking. Well, dictionaries also share in this convenient feature \n",
    "\n",
    "__Helpful Points:__\n",
    "1. When we discuss functions and kewyword arguments in lecture 3, we will revisit this topic and you will appreciate the usefulness\n",
    "2. Unlike tuples where the `*` (asterix) notation was used to denote arbitrary arguments, dictionaries use the `**` (double asterix) notiation to denote arbitrary arguments\n",
    "\n",
    "__Practice:__ Examples of Packing and Unpacking with Dictionaries in Python "
   ]
  },
  {
   "cell_type": "markdown",
   "metadata": {},
   "source": [
    "### Example 1 (Packing and Unpacking - 1):"
   ]
  },
  {
   "cell_type": "code",
   "execution_count": 159,
   "metadata": {
    "scrolled": true
   },
   "outputs": [
    {
     "data": {
      "text/plain": [
       "{'1': 'one', '2': 'two', 'six': 6}"
      ]
     },
     "execution_count": 159,
     "metadata": {},
     "output_type": "execute_result"
    }
   ],
   "source": [
    "my_dict = {'1':'one', '2':'two'}\n",
    "dict(**my_dict, six=6) # use the double asterix to unpack the my_dict variable  "
   ]
  },
  {
   "cell_type": "markdown",
   "metadata": {},
   "source": [
    "### Example 2 (Packing and Unpacking - 2):"
   ]
  },
  {
   "cell_type": "code",
   "execution_count": null,
   "metadata": {},
   "outputs": [],
   "source": [
    "my_dict = {'1':'one', '2':'two'}\n",
    "dict(**my_dict, three=3, **{'4':'four'}) # use the double asterix to unpack the my_dict variable and nested dict "
   ]
  },
  {
   "cell_type": "markdown",
   "metadata": {},
   "source": [
    "### Example 3 (Packing and Unpacking - 3):"
   ]
  },
  {
   "cell_type": "code",
   "execution_count": null,
   "metadata": {},
   "outputs": [],
   "source": [
    "{**{1: 'one', 2:'two'}, 3:'three'} # use the double asterix to unpack the nested dict "
   ]
  },
  {
   "cell_type": "markdown",
   "metadata": {},
   "source": [
    "### Problem 9\n",
    "\n",
    "Create a dictionary 3 different ways that contain key-value pairs corresponding to your city of birth, country of birth and current city. Add an element to any of the 3 dictionaries which contains your current country."
   ]
  },
  {
   "cell_type": "code",
   "execution_count": 4,
   "metadata": {},
   "outputs": [
    {
     "ename": "SyntaxError",
     "evalue": "keyword can't be an expression (<ipython-input-4-f57ab719cd3e>, line 10)",
     "output_type": "error",
     "traceback": [
      "\u001b[1;36m  File \u001b[1;32m\"<ipython-input-4-f57ab719cd3e>\"\u001b[1;36m, line \u001b[1;32m10\u001b[0m\n\u001b[1;33m    erik_dict_3 = dict('birth_city' = 'Albany', 'birth_countre' = 'United States', 'current_city' = 'Chicago')\u001b[0m\n\u001b[1;37m                      ^\u001b[0m\n\u001b[1;31mSyntaxError\u001b[0m\u001b[1;31m:\u001b[0m keyword can't be an expression\n"
     ]
    }
   ],
   "source": [
    "# Write your code here\n",
    "### problem 9\n",
    "erik_dict_1 = {'birth_city': 'Albany', 'birth_country': 'United States', 'current_city': 'Chicago'}\n",
    "### #fup finish this later\n",
    "\n",
    "dict_4 = dict([(\"ten\",10), (\"nine\",9), (\"eight\",8)])\n",
    "erik_dict_2 = dict([('birth_city', 'Albany'), ('birth_country', 'United States'), ('current_city', 'Chicago')])\n",
    "\n",
    "dict_5 = dict(ten=10, nine=9, eight=8)\n",
    "erik_dict_3 = dict(birth_city = 'Albany', birth_countrey = 'United States', current_city = 'Chicago')\n",
    "\n"
   ]
  },
  {
   "cell_type": "code",
   "execution_count": null,
   "metadata": {},
   "outputs": [],
   "source": [
    "### end of the main stuff\n",
    "### start of answers to the problems"
   ]
  },
  {
   "cell_type": "markdown",
   "metadata": {},
   "source": [
    "### ANSWERS TO LECTURE 2 PROBLEMS:"
   ]
  },
  {
   "cell_type": "markdown",
   "metadata": {},
   "source": [
    "### Problem 1:\n",
    "\n",
    "Create a list and enter in the items `\"c\"`, `\"a\"`, `\"b\"`, `1`, `3`, `2` then reverse this list so it looks like `2`, `3`, ... Print your result.  \n",
    "\n",
    "- Use list slicing in your answer \n",
    "- Do not use any embedded functions in Python to reverse the list "
   ]
  },
  {
   "cell_type": "code",
   "execution_count": null,
   "metadata": {},
   "outputs": [],
   "source": [
    "my_list = [\"c\", \"a\", \"b\", 1, 3, 2]\n",
    "my_list_reversed = my_list[::-1]\n",
    "print(my_list_reversed)"
   ]
  },
  {
   "cell_type": "markdown",
   "metadata": {},
   "source": [
    "### Problem 2:\n",
    "\n",
    "Create a list and enter in the items `\"c\"`, `\"a\"`, `\"b\"`, `1`, `3`, `2` then use slicing to pull out the subset `[\"b\", 3]` ... Print your result.\n",
    "\n",
    "- Use list slicing in your answer  "
   ]
  },
  {
   "cell_type": "code",
   "execution_count": null,
   "metadata": {},
   "outputs": [],
   "source": [
    "my_list = [\"c\", \"a\", \"b\", 1, 3, 2]\n",
    "my_list_subset = my_list[2::2]\n",
    "print(my_list_subset)"
   ]
  },
  {
   "cell_type": "markdown",
   "metadata": {},
   "source": [
    "### Problem 3:\n",
    "\n",
    "Create 2 lists: the first list with your first name and the second list with your last name. Combine the two lists to make a list that contains your entire name. Repeat your name as many times as letters in your full name. \n",
    "\n",
    "Try adding your last name to your first name using both list concatenation and built-in functions."
   ]
  },
  {
   "cell_type": "code",
   "execution_count": null,
   "metadata": {},
   "outputs": [],
   "source": [
    "first_name = [\"G\", \"o\", \"r\", \"d\", \"o\", \"n\"]\n",
    "last_name = [\"D\", \"r\", \"i\"]"
   ]
  },
  {
   "cell_type": "code",
   "execution_count": null,
   "metadata": {},
   "outputs": [],
   "source": [
    "# method 1\n",
    "full_name_1 = first_name + last_name \n",
    "full_name_1"
   ]
  },
  {
   "cell_type": "code",
   "execution_count": null,
   "metadata": {},
   "outputs": [],
   "source": [
    "# method 2\n",
    "first_name[len(first_name):len(first_name)] = last_name\n",
    "first_name"
   ]
  },
  {
   "cell_type": "code",
   "execution_count": null,
   "metadata": {},
   "outputs": [],
   "source": [
    "# method 3\n",
    "first_name = [\"G\", \"o\", \"r\", \"d\", \"o\", \"n\"]\n",
    "first_name.extend(last_name)\n",
    "first_name"
   ]
  },
  {
   "cell_type": "code",
   "execution_count": null,
   "metadata": {
    "scrolled": true
   },
   "outputs": [],
   "source": [
    "print(full_name_1 * len(full_name_1)) # using method 1 "
   ]
  },
  {
   "cell_type": "markdown",
   "metadata": {},
   "source": [
    "### Problem 4:\n",
    "\n",
    "Create 2 lists: the first list with your first name and the second list with your last name. Combine the two lists to make a list that contains your entire name. Add your middle name to this combined list between your first and last name. If you don't have a middle name add `[\"m\", \"i\", \"d\", \"d\", \"l\", \"e\"]`."
   ]
  },
  {
   "cell_type": "code",
   "execution_count": null,
   "metadata": {},
   "outputs": [],
   "source": [
    "first_name = [\"G\", \"a\", \"r\", \"r\", \"e\", \"t\", \"t\"]\n",
    "last_name = [\"H\", \"o\", \"f\", \"f\", \"m\", \"a\", \"n\"]\n",
    "full_name = first_name + last_name \n",
    "\n",
    "middle = [\"L\", \"e\", \"e\"]\n",
    "full_name[len(first_name):len(first_name)] = middle\n",
    "full_name"
   ]
  },
  {
   "cell_type": "markdown",
   "metadata": {},
   "source": [
    "### Problem 5\n",
    "\n",
    "Repeat the first part of problem 2 (combining first and last name), but using strings.\n",
    "\n",
    "Notes:\n",
    "- Create the 2 strings in lower case and then use a built-in string method to capitalize the words (see [this link](https://docs.python.org/3/library/stdtypes.html#string-methods) to find the proper function to use)\n",
    "- Use string formatting to output your results"
   ]
  },
  {
   "cell_type": "code",
   "execution_count": null,
   "metadata": {},
   "outputs": [],
   "source": [
    "first_name = \"gordon\"\n",
    "last_name = \"dri\""
   ]
  },
  {
   "cell_type": "code",
   "execution_count": null,
   "metadata": {},
   "outputs": [],
   "source": [
    "first_name = first_name.capitalize()\n",
    "last_name = last_name.capitalize()"
   ]
  },
  {
   "cell_type": "code",
   "execution_count": null,
   "metadata": {},
   "outputs": [],
   "source": [
    "full_name = first_name + \" \" + last_name\n",
    "full_name"
   ]
  },
  {
   "cell_type": "code",
   "execution_count": null,
   "metadata": {},
   "outputs": [],
   "source": [
    "print(\"My full name is {}\".format(full_name))"
   ]
  },
  {
   "cell_type": "markdown",
   "metadata": {},
   "source": [
    "### Problem 6\n",
    "\n",
    "Replace `\"Brussels Sprouts\"` with your favorite food in the string `\"My favorite food is Brussels Sprouts\"`.\n",
    "\n",
    "Notes:\n",
    "- Use the `replace` commond string method"
   ]
  },
  {
   "cell_type": "code",
   "execution_count": null,
   "metadata": {},
   "outputs": [],
   "source": [
    "fav_food = \"My favorite food is Brussels Sprouts\"\n",
    "fav_food = fav_food.replace(\"Brussels Sprouts\", \"Pizza\")\n",
    "\n",
    "print(fav_food)"
   ]
  },
  {
   "cell_type": "markdown",
   "metadata": {},
   "source": [
    "### Problem 7:\n",
    "\n",
    "The end result is to have 2 variables (`latitude` and `longitude`) which will store your current latitude and longitude. To create these variables, use packing and unpacking as shown above. If you don't know your current latitude and longitude, type in your address or nearest landmark or city in the searchbar of [this link](https://mynasadata.larc.nasa.gov/latitudelongitude-finder/)\n",
    "\n",
    "Notes\n",
    "- Use string formatting to output your result \n",
    "- Do not just create 2 separate variables \n",
    "- It is inefficient (i.e. not \"Pythonic\") to just index a list to arrive at your result"
   ]
  },
  {
   "cell_type": "code",
   "execution_count": null,
   "metadata": {},
   "outputs": [],
   "source": [
    "my_coordinates = [41.889649, -87.622225]"
   ]
  },
  {
   "cell_type": "code",
   "execution_count": null,
   "metadata": {},
   "outputs": [],
   "source": [
    "# method 1 (inefficient and not Pythonic)\n",
    "latitude = my_coordinates[0]\n",
    "longitude = my_coordinates[1]"
   ]
  },
  {
   "cell_type": "code",
   "execution_count": null,
   "metadata": {},
   "outputs": [],
   "source": [
    "# method 1 (efficient and Pythonic)\n",
    "latitude, longitude = my_coordinates"
   ]
  },
  {
   "cell_type": "code",
   "execution_count": null,
   "metadata": {},
   "outputs": [],
   "source": [
    "print(\"My latitude is {} and my longitude is {}\".format(latitude, longitude))"
   ]
  },
  {
   "cell_type": "markdown",
   "metadata": {},
   "source": [
    "### Problem 8:\n",
    "\n",
    "Create a `range` that goes from `500` to `5000` by steps of `250`. Check if `7550` is in our range. \n",
    "\n",
    "Notes\n",
    "- Convert your range to a list and print it to see all elements of your range "
   ]
  },
  {
   "cell_type": "code",
   "execution_count": null,
   "metadata": {},
   "outputs": [],
   "source": [
    "my_range = range(500,5000,250)\n",
    "print(7750 in my_range)\n",
    "print(list(my_range))"
   ]
  },
  {
   "cell_type": "markdown",
   "metadata": {},
   "source": [
    "### Problem 9\n",
    "\n",
    "Create a dictionary 3 different ways that contain key-value pairs corresponding to your city of birth, country of birth and current city. Add an element to any of the 3 dictionaries which contains your current country."
   ]
  },
  {
   "cell_type": "code",
   "execution_count": null,
   "metadata": {},
   "outputs": [],
   "source": [
    "# method 1\n",
    "my_dict_1 = dict([(\"city_birth\", \"Toronto\"), (\"country_birth\", \"Canada\"), (\"current_city\", \"Chicago\")])\n",
    "print(my_dict_1)"
   ]
  },
  {
   "cell_type": "code",
   "execution_count": null,
   "metadata": {},
   "outputs": [],
   "source": [
    "# method 2\n",
    "my_dict_2 = {\"city_birth\":\"Toronto\", \"country_birth\":\"Canada\", \"current_city\":\"Chicago\"}\n",
    "print(my_dict_2)"
   ]
  },
  {
   "cell_type": "code",
   "execution_count": null,
   "metadata": {},
   "outputs": [],
   "source": [
    "# method 3\n",
    "my_dict_3 = dict(city_birth = \"Toronto\", country_birth = \"Canada\", current_city = \"Chicago\")\n",
    "print(my_dict_3)"
   ]
  },
  {
   "cell_type": "code",
   "execution_count": null,
   "metadata": {},
   "outputs": [],
   "source": [
    "# add an element to dictionary from method 1\n",
    "my_dict_1[\"current_country\"] = \"United States\"\n",
    "print(my_dict_1)"
   ]
  },
  {
   "cell_type": "code",
   "execution_count": null,
   "metadata": {},
   "outputs": [],
   "source": []
  }
 ],
 "metadata": {
  "kernelspec": {
   "display_name": "Python 3",
   "language": "python",
   "name": "python3"
  },
  "language_info": {
   "codemirror_mode": {
    "name": "ipython",
    "version": 3
   },
   "file_extension": ".py",
   "mimetype": "text/x-python",
   "name": "python",
   "nbconvert_exporter": "python",
   "pygments_lexer": "ipython3",
   "version": "3.7.3"
  }
 },
 "nbformat": 4,
 "nbformat_minor": 2
}
