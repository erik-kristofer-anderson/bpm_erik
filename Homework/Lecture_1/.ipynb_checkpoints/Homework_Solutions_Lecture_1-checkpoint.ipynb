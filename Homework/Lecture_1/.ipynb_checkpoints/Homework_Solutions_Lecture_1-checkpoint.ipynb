{
 "cells": [
  {
   "cell_type": "markdown",
   "metadata": {},
   "source": [
    "# Beginner Python and Math for Data Science\n",
    "\n",
    "## Lecture 1 - Homework Solutions\n",
    "\n",
    "### Python Variables, Assignments, Comparisons and Other Basics"
   ]
  },
  {
   "cell_type": "markdown",
   "metadata": {},
   "source": [
    "#### 1. Write a Python program to convert radian to degree.\n",
    "\n",
    "Note : The radian is the standard unit of angular measure, used in many areas of mathematics. An angle's measurement in radians is numerically equal to the length of a corresponding arc of a unit circle; one radian is just under 57.3 degrees (when the arc length is equal to the radius).\n",
    "\n",
    "Test your solution by using `180 radians`."
   ]
  },
  {
   "cell_type": "code",
   "execution_count": 2,
   "metadata": {},
   "outputs": [
    {
     "name": "stdout",
     "output_type": "stream",
     "text": [
      "10309.09090909091\n"
     ]
    }
   ],
   "source": [
    "# your solution here \n",
    "pi = 22/7\n",
    "radian = 180\n",
    "degree = radian*(180/pi)\n",
    "print(degree)"
   ]
  },
  {
   "cell_type": "markdown",
   "metadata": {},
   "source": [
    "#### 2. Write a Python program to calculate volume and surface area of a sphere. \n",
    "\n",
    "Note: A sphere is a perfectly round geometrical object in three-dimensional space that is the surface of a completely round ball.\n",
    "\n",
    "Test your solution by using a sphere with `radius = 18`"
   ]
  },
  {
   "cell_type": "code",
   "execution_count": 4,
   "metadata": {},
   "outputs": [
    {
     "name": "stdout",
     "output_type": "stream",
     "text": [
      "Surface Area is:  4073.142857142857\n",
      "Volume is:  24438.857142857138\n"
     ]
    }
   ],
   "source": [
    "# your solution here \n",
    "pi=22/7\n",
    "radius = 18.0\n",
    "sur_area = 4 * pi * radius **2\n",
    "volume = (4/3) * (pi * radius ** 3)\n",
    "print(\"Surface Area is: \", sur_area)\n",
    "print(\"Volume is: \", volume)"
   ]
  },
  {
   "cell_type": "markdown",
   "metadata": {},
   "source": [
    "#### 3. Write a Python program to solve $(x + y)(x + y)$. \n",
    "\n",
    "Test your solution if `x = 5` and `y = 1`"
   ]
  },
  {
   "cell_type": "code",
   "execution_count": 6,
   "metadata": {},
   "outputs": [
    {
     "name": "stdout",
     "output_type": "stream",
     "text": [
      "(x + y)^2 = 36\n"
     ]
    }
   ],
   "source": [
    "# your solution here \n",
    "x, y = 5, 1\n",
    "result = x * x + 2 * x * y + y * y\n",
    "print(\"(x + y)^2 =\", result)"
   ]
  },
  {
   "cell_type": "markdown",
   "metadata": {},
   "source": [
    "#### 4. Write a Python program to create all possible 2-letter strings by using 'a', 'e', 'i', 'o', 'u'. Order does not matter (i.e. `ae` and `ea` should be treated as the same thing)"
   ]
  },
  {
   "cell_type": "code",
   "execution_count": 7,
   "metadata": {},
   "outputs": [],
   "source": [
    "# your solution here \n",
    "one = 'ae'\n",
    "two = 'ai'\n",
    "three = 'ao'\n",
    "four = 'au'\n",
    "five = 'ei'\n",
    "six = 'eo'\n",
    "seven = 'eu'\n",
    "eight = 'io'\n",
    "nine = 'iu' \n",
    "ten = 'ou'"
   ]
  },
  {
   "cell_type": "markdown",
   "metadata": {},
   "source": [
    "#### 5. Write a Python program to test whether a number is within 100 of 1000 or 2000.\n",
    "\n",
    "Test your solution with the number `2200`, `900`, and `800`"
   ]
  },
  {
   "cell_type": "code",
   "execution_count": 12,
   "metadata": {},
   "outputs": [
    {
     "name": "stdout",
     "output_type": "stream",
     "text": [
      "False\n"
     ]
    }
   ],
   "source": [
    "check_2200 = (abs(1000 - 2200) <= 100) or (abs(2000 - 2200) <= 100)\n",
    "print(check_2200)"
   ]
  },
  {
   "cell_type": "code",
   "execution_count": 14,
   "metadata": {},
   "outputs": [
    {
     "name": "stdout",
     "output_type": "stream",
     "text": [
      "True\n"
     ]
    }
   ],
   "source": [
    "check_900 = (abs(1000 - 900) <= 100) or (abs(2000 - 900) <= 100)\n",
    "print(check_900)"
   ]
  },
  {
   "cell_type": "code",
   "execution_count": 15,
   "metadata": {},
   "outputs": [
    {
     "name": "stdout",
     "output_type": "stream",
     "text": [
      "False\n"
     ]
    }
   ],
   "source": [
    "check_800 = (abs(1000 - 800) <= 100) or (abs(2000 - 800) <= 100)\n",
    "print(check_800)"
   ]
  },
  {
   "cell_type": "code",
   "execution_count": null,
   "metadata": {},
   "outputs": [],
   "source": []
  }
 ],
 "metadata": {
  "kernelspec": {
   "display_name": "Python 3",
   "language": "python",
   "name": "python3"
  },
  "language_info": {
   "codemirror_mode": {
    "name": "ipython",
    "version": 3
   },
   "file_extension": ".py",
   "mimetype": "text/x-python",
   "name": "python",
   "nbconvert_exporter": "python",
   "pygments_lexer": "ipython3",
   "version": "3.7.3"
  },
  "toc": {
   "base_numbering": 1,
   "nav_menu": {},
   "number_sections": true,
   "sideBar": true,
   "skip_h1_title": false,
   "title_cell": "Table of Contents",
   "title_sidebar": "Contents",
   "toc_cell": false,
   "toc_position": {},
   "toc_section_display": true,
   "toc_window_display": false
  }
 },
 "nbformat": 4,
 "nbformat_minor": 2
}
