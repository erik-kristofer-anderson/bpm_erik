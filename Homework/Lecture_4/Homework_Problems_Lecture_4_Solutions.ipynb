{
 "cells": [
  {
   "cell_type": "markdown",
   "metadata": {},
   "source": [
    "# Beginner Python and Math for Data Science\n",
    "\n",
    "## Lecture 4 - Homework Solutions\n",
    "\n",
    "### Advanced Beginner Concepts of Python and Introduction to Numpy"
   ]
  },
  {
   "cell_type": "markdown",
   "metadata": {},
   "source": [
    "#### 1. Last homework, we wrote a function that takes in a list as input and returns a new list with only the even integers from that list. Write a version 2 of the function that does the same thing, but using a one-line list comprehension.\n",
    "\n",
    "Sample input: [1,4,5,11,12,15]  \n",
    "Expected output: [4,12]"
   ]
  },
  {
   "cell_type": "code",
   "execution_count": 5,
   "metadata": {},
   "outputs": [
    {
     "data": {
      "text/plain": [
       "[4, 12]"
      ]
     },
     "execution_count": 5,
     "metadata": {},
     "output_type": "execute_result"
    }
   ],
   "source": [
    "def even_int(inp_list):\n",
    "    out_list = []\n",
    "    for i in inp_list:\n",
    "        if i % 2 == 0:\n",
    "            out_list.append(i)\n",
    "    return out_list\n",
    "\n",
    "# Testcases\n",
    "even_int([1,4,5,11,12,15])"
   ]
  },
  {
   "cell_type": "code",
   "execution_count": 6,
   "metadata": {},
   "outputs": [
    {
     "data": {
      "text/plain": [
       "[4, 12]"
      ]
     },
     "execution_count": 6,
     "metadata": {},
     "output_type": "execute_result"
    }
   ],
   "source": [
    "def even_int2(inp_list):\n",
    "    return [x for x in inp_list if x%2 == 0]\n",
    "even_int2([1,4,5,11,12,15])"
   ]
  },
  {
   "cell_type": "markdown",
   "metadata": {},
   "source": [
    "#### 2. Write a function that takes a list as input and returns a product of all the elements in the list. Use Python's reduce function.\n",
    "\n",
    "Sample input: [1,2,3]  \n",
    "Expected output: 6"
   ]
  },
  {
   "cell_type": "code",
   "execution_count": 4,
   "metadata": {},
   "outputs": [
    {
     "data": {
      "text/plain": [
       "6"
      ]
     },
     "execution_count": 4,
     "metadata": {},
     "output_type": "execute_result"
    }
   ],
   "source": [
    "from functools import reduce\n",
    "\n",
    "def product(inp_list):\n",
    "    return reduce(lambda x,y: x*y, inp_list)\n",
    "\n",
    "# Testcases\n",
    "inp = [1,2,3]\n",
    "product(inp)"
   ]
  },
  {
   "cell_type": "markdown",
   "metadata": {},
   "source": [
    "#### 3. In the last homework, we wrote a Python program that accepts a string and calculate the number of digits and letters (if you haven't already, go try this problem first). Below is a slightly modified version that returns a tuple of letters and digits. Given a list of strings, apply this function to return a new list with the tuples of letters and digits.\n",
    "\n",
    "Sample Data : [\"Python 3.2\", \"abc92\", \"qwerty\"]  \n",
    "\n",
    "Expected Output :  \n",
    "[(6, 2), (3,2), (6,0)]  \n",
    "*_ because there are 6 letters and 2 digits in the Python 3.2, etc. _*  "
   ]
  },
  {
   "cell_type": "code",
   "execution_count": 11,
   "metadata": {},
   "outputs": [
    {
     "data": {
      "text/plain": [
       "[(6, 2), (3, 2), (6, 0)]"
      ]
     },
     "execution_count": 11,
     "metadata": {},
     "output_type": "execute_result"
    }
   ],
   "source": [
    "def letters_digits(s):\n",
    "    \"\"\"\n",
    "    Given a string, returns a tuple (number of letters, number of digits)\n",
    "    \"\"\"\n",
    "    d=l=0\n",
    "    for c in s:\n",
    "        if c.isdigit():\n",
    "            d=d+1\n",
    "        elif c.isalpha():\n",
    "            l=l+1\n",
    "    return (l, d)\n",
    "\n",
    "def letters_digits_list(s_list):\n",
    "    return list(map(letters_digits, s_list))\n",
    "\n",
    "letters_digits_list([\"Python 3.2\", \"abc92\", \"qwerty\"] )"
   ]
  },
  {
   "cell_type": "markdown",
   "metadata": {},
   "source": [
    "#### 4. Given a list of passwords and a function that checks the validity of a password, write a function that returns how many of the passwords in the list is valid.\n",
    "\n",
    "Validation :  \n",
    "At least 1 character from [$#@].  \n",
    "Minimum length 6 characters.  \n",
    "Maximum length 16 characters.  \n",
    "\n",
    "Sample: [\"valid$password\", \"#valid_password\", \"not_valid\"]  \n",
    "Expected: 2"
   ]
  },
  {
   "cell_type": "code",
   "execution_count": 12,
   "metadata": {},
   "outputs": [
    {
     "data": {
      "text/plain": [
       "2"
      ]
     },
     "execution_count": 12,
     "metadata": {},
     "output_type": "execute_result"
    }
   ],
   "source": [
    "def valid_password(p):\n",
    "    if (len(p) < 6) or (len(p) > 16):\n",
    "        return False\n",
    "    special = \"$#@\"\n",
    "    for char in p:\n",
    "        if char in special:\n",
    "            return True\n",
    "    return False\n",
    "\n",
    "def num_valid_passwords(pass_list):\n",
    "    return sum(map(valid_password, pass_list))\n",
    "\n",
    "num_valid_passwords([\"valid$password\", \"#valid_password\", \"not_valid\", \"not_validpassword\"]) # should return 2"
   ]
  },
  {
   "cell_type": "markdown",
   "metadata": {},
   "source": [
    "#### 5. Create a numpy array of zeros that has 5 rows and 2 columns. Then stack the given array vertically s.t. the given array is at the top row of the new array."
   ]
  },
  {
   "cell_type": "code",
   "execution_count": 28,
   "metadata": {},
   "outputs": [
    {
     "data": {
      "text/plain": [
       "array([[1., 2.],\n",
       "       [0., 0.],\n",
       "       [0., 0.],\n",
       "       [0., 0.],\n",
       "       [0., 0.],\n",
       "       [0., 0.]])"
      ]
     },
     "execution_count": 28,
     "metadata": {},
     "output_type": "execute_result"
    }
   ],
   "source": [
    "import numpy as np\n",
    "\n",
    "arr = np.array([1,2]) # stack this array s.t. this array is at the top. Resulting array should be of size (6,2)\n",
    "\n",
    "zeros = np.zeros((5,2))\n",
    "\n",
    "np.vstack([arr,zeros])"
   ]
  }
 ],
 "metadata": {
  "kernelspec": {
   "display_name": "Python 3",
   "language": "python",
   "name": "python3"
  },
  "language_info": {
   "codemirror_mode": {
    "name": "ipython",
    "version": 3
   },
   "file_extension": ".py",
   "mimetype": "text/x-python",
   "name": "python",
   "nbconvert_exporter": "python",
   "pygments_lexer": "ipython3",
   "version": "3.6.4"
  },
  "toc": {
   "base_numbering": 1,
   "nav_menu": {},
   "number_sections": true,
   "sideBar": true,
   "skip_h1_title": false,
   "title_cell": "Table of Contents",
   "title_sidebar": "Contents",
   "toc_cell": false,
   "toc_position": {},
   "toc_section_display": true,
   "toc_window_display": false
  }
 },
 "nbformat": 4,
 "nbformat_minor": 2
}
