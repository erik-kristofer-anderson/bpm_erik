{
 "cells": [
  {
   "cell_type": "markdown",
   "metadata": {},
   "source": [
    "# Beginner Python and Math for Data Science\n",
    "\n",
    "## Lecture 3 - Homework Solutions\n",
    "\n",
    "### If Statements, Loops, Functions"
   ]
  },
  {
   "cell_type": "code",
   "execution_count": 42,
   "metadata": {},
   "outputs": [],
   "source": [
    "# example of a function\n",
    "\n",
    "def function1(input1):\n",
    "    # do something\n",
    "    output = input1/2\n",
    "    return output"
   ]
  },
  {
   "cell_type": "markdown",
   "metadata": {},
   "source": [
    "#### 1. Write a function that takes in a list as input and returns a new list with only the even integers from that list.\n",
    "\n",
    "Sample input: [1,4,5,11,12,15]  \n",
    "Expected output: [4,12]"
   ]
  },
  {
   "cell_type": "code",
   "execution_count": 3,
   "metadata": {},
   "outputs": [
    {
     "data": {
      "text/plain": [
       "[4, 12]"
      ]
     },
     "execution_count": 3,
     "metadata": {},
     "output_type": "execute_result"
    }
   ],
   "source": [
    "# There are many possible solutions (i.e. using .pop(), list comprehensions, etc.)\n",
    "def even_int(inp_list):\n",
    "    out_list = []\n",
    "    for i in inp_list:\n",
    "        if i % 2 == 0:\n",
    "            out_list.append(i)\n",
    "    return out_list\n",
    "\n",
    "# Testcases\n",
    "even_int([1,4,5,11,12,15])"
   ]
  },
  {
   "cell_type": "markdown",
   "metadata": {},
   "source": [
    "#### 2. You are given a dictionary that has the count of the number of each fruit in a basket. Write a function that takes in the dictionary and outputs the total number of fruits in the basket.\n",
    "\n",
    "Sample input: fruits = {\"oranges\": 5, \"apples\": 2, \"blueberries\": 12}\n",
    "Expected output: 19"
   ]
  },
  {
   "cell_type": "code",
   "execution_count": 44,
   "metadata": {},
   "outputs": [
    {
     "data": {
      "text/plain": [
       "19"
      ]
     },
     "execution_count": 44,
     "metadata": {},
     "output_type": "execute_result"
    }
   ],
   "source": [
    "def count_fruits(fruits):\n",
    "    \"\"\"\n",
    "    Using a loop through keys\n",
    "    \"\"\"\n",
    "    total = 0\n",
    "    for key in fruits:\n",
    "        total += fruits[key]\n",
    "    return total\n",
    "\n",
    "# Testcases\n",
    "fruits = {\"oranges\": 5, \"apples\": 2, \"blueberries\": 12}\n",
    "count_fruits(fruits)"
   ]
  },
  {
   "cell_type": "code",
   "execution_count": 46,
   "metadata": {},
   "outputs": [
    {
     "data": {
      "text/plain": [
       "19"
      ]
     },
     "execution_count": 46,
     "metadata": {},
     "output_type": "execute_result"
    }
   ],
   "source": [
    "def count_fruits(fruits):\n",
    "    \"\"\"\n",
    "    Using the dictionary method .values()\n",
    "    \"\"\"\n",
    "    return sum(fruits.values())\n",
    "count_fruits(fruits)"
   ]
  },
  {
   "cell_type": "markdown",
   "metadata": {},
   "source": [
    "#### 3. Write a Python program that accepts a string and calculate the number of digits and letters. \n",
    "\n",
    "Sample Data : Python 3.2  \n",
    "\n",
    "Expected Output :  \n",
    "Letters 6  \n",
    "Digits 2  \n",
    "\n",
    "Hint: Make use of Python string's inherent isdigit() method and isalpha() method. For example, \"a\".isdigit() returns False, while \"a\".isalpha() returns True."
   ]
  },
  {
   "cell_type": "code",
   "execution_count": 50,
   "metadata": {},
   "outputs": [
    {
     "name": "stdout",
     "output_type": "stream",
     "text": [
      "Letters 6\n",
      "Digits 2\n"
     ]
    }
   ],
   "source": [
    "def letters_digits(s):\n",
    "    d=l=0\n",
    "    for c in s:\n",
    "        if c.isdigit():\n",
    "            d=d+1\n",
    "        elif c.isalpha():\n",
    "            l=l+1\n",
    "        else:\n",
    "            pass\n",
    "    print(\"Letters\", l)\n",
    "    print(\"Digits\", d)\n",
    "\n",
    "# Testcases\n",
    "letters_digits(\"Python 3.2\")"
   ]
  },
  {
   "cell_type": "markdown",
   "metadata": {},
   "source": [
    "#### 4. Write a Python program to check the validity of a password.\n",
    "\n",
    "Validation :  \n",
    "At least 1 character from [$#@].  \n",
    "Minimum length 6 characters.  \n",
    "Maximum length 16 characters.  "
   ]
  },
  {
   "cell_type": "code",
   "execution_count": 56,
   "metadata": {},
   "outputs": [
    {
     "name": "stdout",
     "output_type": "stream",
     "text": [
      "True\n",
      "False\n"
     ]
    }
   ],
   "source": [
    "def valid_password(p):\n",
    "    if (len(p) < 6) or (len(p) > 16):\n",
    "        return False\n",
    "    special = \"$#@\"\n",
    "    for char in p:\n",
    "        if char in special:\n",
    "            return True\n",
    "    return False\n",
    "\n",
    "# Testcases\n",
    "print(valid_password(\"135oijafea$f\")) # true, length between 6-16, contains special char\n",
    "print(valid_password(\"13oir31noaefapeofj\")) # False, does not contain special char"
   ]
  },
  {
   "cell_type": "markdown",
   "metadata": {},
   "source": [
    "#### 5. Write a function that takes in a number between 1 and 50 as input, and guesses the correct number in least number of tries. You should print the number of guesses it took to correctly find the number.\n",
    "\n",
    "You can import the random module to guess random numbers, or you can think of a more efficient way to guess the correct number in the least number of guesses."
   ]
  },
  {
   "cell_type": "code",
   "execution_count": 41,
   "metadata": {},
   "outputs": [
    {
     "name": "stdout",
     "output_type": "stream",
     "text": [
      "40\n",
      "38\n",
      "35\n",
      "15\n",
      "40\n",
      "24\n",
      "5\n",
      "32\n",
      "46\n",
      "9\n",
      "50\n",
      "number of guesses: 11\n"
     ]
    }
   ],
   "source": [
    "import random\n",
    "\n",
    "def guess_num(num):\n",
    "    \"\"\"\n",
    "    random guessing using random module\n",
    "    \"\"\"\n",
    "    counter = 0\n",
    "    while True:\n",
    "        counter += 1\n",
    "        guess = random.randint(1,num)\n",
    "        print(guess)\n",
    "        if guess == num:\n",
    "            print(\"number of guesses:\", counter)\n",
    "            return\n",
    "\n",
    "# Testcases\n",
    "guess_num(50)"
   ]
  },
  {
   "cell_type": "code",
   "execution_count": 39,
   "metadata": {},
   "outputs": [
    {
     "name": "stdout",
     "output_type": "stream",
     "text": [
      "38\n",
      "31\n",
      "28\n",
      "29\n",
      "30\n",
      "number of guesses: 6\n"
     ]
    }
   ],
   "source": [
    "def guess_num_v2(num):\n",
    "    \"\"\"\n",
    "    more efficient, binary search, where the search area determined \n",
    "    by the range [lowest, highest] is halved after each guess\n",
    "    \"\"\"\n",
    "    lowest = 1\n",
    "    highest = 50\n",
    "    counter = 0\n",
    "    guess = (highest+lowest)//2 # start in the middle\n",
    "    while True:\n",
    "        counter += 1\n",
    "        if guess < num:\n",
    "            lowest = guess + 1 # increase the lower boundary\n",
    "            guess = (lowest + highest)//2\n",
    "            print(guess)\n",
    "        elif guess > num:\n",
    "            highest = guess - 1 # decrease the higher boundary\n",
    "            guess = (lowest + highest)//2\n",
    "            print(guess)\n",
    "        else: # if not higher or lower, then guess = num\n",
    "            print(\"number of guesses:\", counter)\n",
    "            return\n",
    "guess_num_v2(30)"
   ]
  }
 ],
 "metadata": {
  "kernelspec": {
   "display_name": "Python 3",
   "language": "python",
   "name": "python3"
  },
  "language_info": {
   "codemirror_mode": {
    "name": "ipython",
    "version": 3
   },
   "file_extension": ".py",
   "mimetype": "text/x-python",
   "name": "python",
   "nbconvert_exporter": "python",
   "pygments_lexer": "ipython3",
   "version": "3.6.4"
  },
  "toc": {
   "base_numbering": 1,
   "nav_menu": {},
   "number_sections": true,
   "sideBar": true,
   "skip_h1_title": false,
   "title_cell": "Table of Contents",
   "title_sidebar": "Contents",
   "toc_cell": false,
   "toc_position": {},
   "toc_section_display": true,
   "toc_window_display": false
  }
 },
 "nbformat": 4,
 "nbformat_minor": 2
}
