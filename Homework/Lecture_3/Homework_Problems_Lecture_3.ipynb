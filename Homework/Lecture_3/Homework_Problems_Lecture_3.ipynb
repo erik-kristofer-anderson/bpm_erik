{
 "cells": [
  {
   "cell_type": "markdown",
   "metadata": {},
   "source": [
    "# Beginner Python and Math for Data Science\n",
    "\n",
    "## Lecture 3 - Homework\n",
    "\n",
    "### If Statements, Loops, Functions"
   ]
  },
  {
   "cell_type": "code",
   "execution_count": 1,
   "metadata": {},
   "outputs": [],
   "source": [
    "# example of a function\n",
    "\n",
    "def function1(input1):\n",
    "    # do something\n",
    "    output = input1/2\n",
    "    return output"
   ]
  },
  {
   "cell_type": "markdown",
   "metadata": {},
   "source": [
    "#### 1. Write a function that takes in a list as input and returns a new list with only the even integers from that list.\n",
    "\n",
    "Sample input: [1,4,5,11,12,15]  \n",
    "Expected output: [4,12]"
   ]
  },
  {
   "cell_type": "code",
   "execution_count": 4,
   "metadata": {},
   "outputs": [
    {
     "data": {
      "text/plain": [
       "[4, 12]"
      ]
     },
     "execution_count": 4,
     "metadata": {},
     "output_type": "execute_result"
    }
   ],
   "source": [
    "def even_int(inp_list):\n",
    "    new_list = []\n",
    "    for item in inp_list:\n",
    "        if item % 2 == 0:\n",
    "            new_list.append(item)\n",
    "        \n",
    "    return new_list\n",
    "\n",
    "# Testcases\n",
    "even_int([1,4,5,11,12,15])\n",
    "\n"
   ]
  },
  {
   "cell_type": "markdown",
   "metadata": {},
   "source": [
    "#### 2. You are given a dictionary that has the count of the number of each fruit in a basket. Write a function that takes in the dictionary and outputs the total number of fruits in the basket.\n",
    "\n",
    "Sample input: fruits = {\"oranges\": 5, \"apples\": 2, \"blueberries\": 12}\n",
    "Expected output: 19"
   ]
  },
  {
   "cell_type": "code",
   "execution_count": 8,
   "metadata": {},
   "outputs": [
    {
     "data": {
      "text/plain": [
       "19"
      ]
     },
     "execution_count": 8,
     "metadata": {},
     "output_type": "execute_result"
    }
   ],
   "source": [
    "# your solution here \n",
    "def count_fruits(fruits):\n",
    "\n",
    "    return sum(list(fruits.values()))\n",
    "\n",
    "# Testcases\n",
    "fruits = {\"oranges\": 5, \"apples\": 2, \"blueberries\": 12}\n",
    "count_fruits(fruits)"
   ]
  },
  {
   "cell_type": "markdown",
   "metadata": {},
   "source": [
    "#### 3. Write a Python program that accepts a string and calculate the number of digits and letters. \n",
    "\n",
    "Sample Data : Python 3.2  \n",
    "\n",
    "Expected Output :  \n",
    "Letters 6  \n",
    "Digits 2  \n",
    "\n",
    "Hint: Make use of Python string's inherent isdigit() method and isalpha() method. For example, \"a\".isdigit() returns False, while \"a\".isalpha() returns True."
   ]
  },
  {
   "cell_type": "code",
   "execution_count": 50,
   "metadata": {},
   "outputs": [
    {
     "name": "stdout",
     "output_type": "stream",
     "text": [
      "Letters 6\n",
      "Digits 2\n"
     ]
    }
   ],
   "source": [
    "# your solution here \n",
    "def letters_digits(s):\n",
    "    #your solution here\n",
    "\n",
    "# Testcases\n",
    "letters_digits(\"Python 3.2\")"
   ]
  },
  {
   "cell_type": "markdown",
   "metadata": {},
   "source": [
    "#### 4. Write a Python program to check the validity of a password.\n",
    "\n",
    "Validation :  \n",
    "At least 1 character from [$#@].  \n",
    "Minimum length 6 characters.  \n",
    "Maximum length 16 characters.  "
   ]
  },
  {
   "cell_type": "code",
   "execution_count": 56,
   "metadata": {},
   "outputs": [
    {
     "name": "stdout",
     "output_type": "stream",
     "text": [
      "True\n",
      "False\n"
     ]
    }
   ],
   "source": [
    "def valid_password(p):\n",
    "    #your solution here\n",
    "    return\n",
    "\n",
    "# Testcases\n",
    "print(valid_password(\"135oijafea$f\")) # should return True, length between 6-16, contains special char\n",
    "print(valid_password(\"13oir31noaefapeofj\")) # should return False, does not contain special char"
   ]
  },
  {
   "cell_type": "markdown",
   "metadata": {},
   "source": [
    "#### 5. Write a function that takes in a number between 1 and 50 as input, and guesses the correct number in least number of tries. You should print the number of guesses it took to correctly find the number.\n",
    "\n",
    "You can import the random module to guess random numbers, or you can think of a more efficient way to guess the correct number in the least number of guesses."
   ]
  },
  {
   "cell_type": "code",
   "execution_count": 2,
   "metadata": {},
   "outputs": [],
   "source": [
    "import random\n",
    "\n",
    "def guess_num(num):\n",
    "    #your solution here\n",
    "    return\n",
    "# Testcases\n",
    "guess_num(20)"
   ]
  }
 ],
 "metadata": {
  "kernelspec": {
   "display_name": "Python 3",
   "language": "python",
   "name": "python3"
  },
  "language_info": {
   "codemirror_mode": {
    "name": "ipython",
    "version": 3
   },
   "file_extension": ".py",
   "mimetype": "text/x-python",
   "name": "python",
   "nbconvert_exporter": "python",
   "pygments_lexer": "ipython3",
   "version": "3.7.3"
  },
  "toc": {
   "base_numbering": 1,
   "nav_menu": {},
   "number_sections": true,
   "sideBar": true,
   "skip_h1_title": false,
   "title_cell": "Table of Contents",
   "title_sidebar": "Contents",
   "toc_cell": false,
   "toc_position": {},
   "toc_section_display": true,
   "toc_window_display": false
  }
 },
 "nbformat": 4,
 "nbformat_minor": 2
}
