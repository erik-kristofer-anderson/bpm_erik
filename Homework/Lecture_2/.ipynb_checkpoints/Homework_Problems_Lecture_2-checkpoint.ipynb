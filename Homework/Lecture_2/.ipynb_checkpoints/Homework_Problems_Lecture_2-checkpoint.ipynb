{
 "cells": [
  {
   "cell_type": "markdown",
   "metadata": {},
   "source": [
    "# Beginner Python and Math for Data Science\n",
    "\n",
    "## Lecture 2 - Homework \n",
    "\n",
    "### Python's Built-in Data Types"
   ]
  },
  {
   "cell_type": "markdown",
   "metadata": {},
   "source": [
    "#### 1. Write a Python program to get a string made of the first 2 and the last 2 chars from a given a string (Assume string is longer than 2 chars). \n",
    "\n",
    "Sample String : 'burger'  \n",
    "Expected Result : 'buer'  \n",
    "Sample String : 'pi'  \n",
    "Expected Result : 'pipi'"
   ]
  },
  {
   "cell_type": "code",
   "execution_count": 4,
   "metadata": {},
   "outputs": [
    {
     "name": "stdout",
     "output_type": "stream",
     "text": [
      "buer\n"
     ]
    }
   ],
   "source": [
    "def first2_last2(str):\n",
    "    return str[0:2] + str[-2:]\n",
    "    \n",
    "\n",
    "print(first2_last2('burger'))"
   ]
  },
  {
   "cell_type": "markdown",
   "metadata": {},
   "source": [
    "#### 2. Write a Python function that checks whether a word is a palindrome without using any loops.  \n",
    "\n",
    "Note: A palindrome is a word that reads the same backward as forward.  \n",
    "Example: level  \n",
    "\n",
    "Hint: Remember that strings also behave like a list in Python, so you can perform list operations on strings."
   ]
  },
  {
   "cell_type": "code",
   "execution_count": 2,
   "metadata": {},
   "outputs": [],
   "source": [
    "# your solution here "
   ]
  },
  {
   "cell_type": "markdown",
   "metadata": {},
   "source": [
    "#### 3. Given a dictionary, write a Python program to create a list for all the keys, and another list for all the values of the dictionary.\n",
    "\n",
    "Example: my_dict = {\"a\":1, \"b\":2, \"c\":3}  \n",
    "Expected Result: l1 = [\"a\", \"b\", \"c\"], l2 = [1, 2, 3]"
   ]
  },
  {
   "cell_type": "code",
   "execution_count": null,
   "metadata": {},
   "outputs": [],
   "source": [
    "# your solution here "
   ]
  },
  {
   "cell_type": "markdown",
   "metadata": {},
   "source": [
    "#### 4. Given a list of numbers, write a program to compute the sum of the first and last numbers of the list."
   ]
  },
  {
   "cell_type": "code",
   "execution_count": 4,
   "metadata": {},
   "outputs": [],
   "source": [
    "# your solution here "
   ]
  },
  {
   "cell_type": "markdown",
   "metadata": {},
   "source": [
    "#### 5. Write a Python program to print out a set containing all the colors from color_list_1 which are not present in color_list_2.\n",
    "\n",
    "Test Data :  \n",
    "color_list_1 = set([\"White\", \"Black\", \"Red\"])   \n",
    "color_list_2 = set([\"Red\", \"Green\"])  \n",
    "Expected Output :  \n",
    "{'Black', 'White'}"
   ]
  },
  {
   "cell_type": "code",
   "execution_count": 2,
   "metadata": {},
   "outputs": [],
   "source": [
    "# your solution here "
   ]
  }
 ],
 "metadata": {
  "kernelspec": {
   "display_name": "Python 3",
   "language": "python",
   "name": "python3"
  },
  "language_info": {
   "codemirror_mode": {
    "name": "ipython",
    "version": 3
   },
   "file_extension": ".py",
   "mimetype": "text/x-python",
   "name": "python",
   "nbconvert_exporter": "python",
   "pygments_lexer": "ipython3",
   "version": "3.7.3"
  },
  "toc": {
   "base_numbering": 1,
   "nav_menu": {},
   "number_sections": true,
   "sideBar": true,
   "skip_h1_title": false,
   "title_cell": "Table of Contents",
   "title_sidebar": "Contents",
   "toc_cell": false,
   "toc_position": {},
   "toc_section_display": true,
   "toc_window_display": false
  }
 },
 "nbformat": 4,
 "nbformat_minor": 2
}
